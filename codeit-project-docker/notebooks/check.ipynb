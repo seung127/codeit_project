{
 "cells": [
  {
   "cell_type": "markdown",
   "id": "6e5ba3b1",
   "metadata": {},
   "source": [
    "# 세팅 확인"
   ]
  },
  {
   "cell_type": "code",
   "execution_count": 1,
   "id": "155b4b09",
   "metadata": {},
   "outputs": [],
   "source": [
    "# 필요 라이브러리 정리\n",
    "import pandas as pd"
   ]
  },
  {
   "cell_type": "code",
   "execution_count": 5,
   "id": "b12604bd",
   "metadata": {},
   "outputs": [
    {
     "name": "stdout",
     "output_type": "stream",
     "text": [
      "['my-advanced_data-bucket/hackle', 'my-advanced_data-bucket/votes', 'my-advanced_data-bucket/최종프로젝트_데이터(parquet).zip']\n"
     ]
    }
   ],
   "source": [
    "import os\n",
    "import gcsfs\n",
    "\n",
    "os.environ[\"GOOGLE_APPLICATION_CREDENTIALS\"] = \"config/key.json\"\n",
    "fs = gcsfs.GCSFileSystem()\n",
    "print(fs.ls(\"my-advanced_data-bucket\"))"
   ]
  },
  {
   "cell_type": "code",
   "execution_count": 8,
   "id": "f6fc7160",
   "metadata": {},
   "outputs": [
    {
     "name": "stdout",
     "output_type": "stream",
     "text": [
      "   id             reason          created_at  reported_user_id  user_id  \\\n",
      "0  28            타인을 사칭함 2023-05-06 04:44:57            874587   885082   \n",
      "1  37  친구를 비하하거나 조롱하는 어투 2023-05-06 05:41:19            881048   881298   \n",
      "2  46  친구를 비하하거나 조롱하는 어투 2023-05-06 06:26:59            887882   881945   \n",
      "3  64           허위 사실 언급 2023-05-06 07:07:46            888610   893684   \n",
      "4  65           허위 사실 언급 2023-05-06 07:07:52            888610   893684   \n",
      "\n",
      "   user_question_record_id  \n",
      "0                  3920588  \n",
      "1                  4018679  \n",
      "2                  4120914  \n",
      "3                  4143049  \n",
      "4                  4143049  \n"
     ]
    }
   ],
   "source": [
    "import pandas as pd\n",
    "\n",
    "df = pd.read_parquet(\n",
    "    \"gs://my-advanced_data-bucket/votes/accounts_timelinereport.parquet\",\n",
    "    storage_options={\"token\": \"/home/user/codeit_project/codeit-project-docker/config/key.json\"}\n",
    ")\n",
    "\n",
    "print(df.head())\n"
   ]
  },
  {
   "cell_type": "markdown",
   "id": "ffd01780",
   "metadata": {},
   "source": [
    "# 세팅 확인 완료"
   ]
  }
 ],
 "metadata": {
  "kernelspec": {
   "display_name": ".venv",
   "language": "python",
   "name": "python3"
  },
  "language_info": {
   "codemirror_mode": {
    "name": "ipython",
    "version": 3
   },
   "file_extension": ".py",
   "mimetype": "text/x-python",
   "name": "python",
   "nbconvert_exporter": "python",
   "pygments_lexer": "ipython3",
   "version": "3.12.3"
  }
 },
 "nbformat": 4,
 "nbformat_minor": 5
}
