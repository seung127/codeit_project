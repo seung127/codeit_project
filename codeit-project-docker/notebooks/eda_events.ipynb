{
 "cells": [
  {
   "cell_type": "code",
   "execution_count": null,
   "id": "b9f1e4a7",
   "metadata": {},
   "outputs": [],
   "source": [
    "# 필요한 라이브러리 불러오기\n",
    "import pandas as pd\n",
    "import numpy as np\n",
    "import matplotlib.pyplot as plt\n",
    "import koreanize_matplotlib\n",
    "import seaborn as sns\n",
    "import os\n",
    "\n",
    "# GCS 파일 경로에서 데이터 불러오기 위한 라이브러리\n",
    "from google.cloud import storage\n",
    "from google.oauth2 import service_account"
   ]
  },
  {
   "cell_type": "code",
   "execution_count": null,
   "id": "05ab6561",
   "metadata": {},
   "outputs": [],
   "source": [
    "# 인증\n",
    "key_path = \"../config/codeit_project_vm_key.json\"\n",
    "credentials = service_account.Credentials.from_service_account_file(key_path)\n",
    "\n",
    "# GCS 클라이언트 생성\n",
    "client = storage.Client(credentials=credentials)\n",
    "bucket = client.bucket(\"part4_project\")\n",
    "\n",
    "# 'hackle/' 경로에 있는 .parquet 파일 리스트 가져오기\n",
    "blobs = bucket.list_blobs(prefix=\"hackle/\")\n",
    "hackle_file_list = [f\"gs://part4_project/{blob.name}\" for blob in blobs if blob.name.endswith(\".parquet\")]\n",
    "\n",
    "# 결과 확인\n",
    "hackle_file_list"
   ]
  },
  {
   "cell_type": "code",
   "execution_count": null,
   "id": "884d11b7",
   "metadata": {},
   "outputs": [],
   "source": [
    "# 파일들을 각각 변수로 불러오기 -> 이거 하다가 터져버림!!! 하나씩 하자...\n",
    "for title in hackle_file_list:\n",
    "    # GCS 경로에서 파일명 추출\n",
    "    file_name = title.split('/')[-1].replace('.parquet', '')\n",
    "    \n",
    "    # Parquet 파일 읽기\n",
    "    df = pd.read_parquet(title, storage_options={\"token\": key_path})\n",
    "    \n",
    "    # 각각의 이름_df로 저장 (ex. device_properties_df)\n",
    "    globals()[f\"{file_name}_df\"] = df\n",
    "    \n",
    "    # 선택적으로 출력 확인\n",
    "    print(f\"{file_name}_df 불러오기 완료, shape: {df.shape}\")"
   ]
  },
  {
   "cell_type": "code",
   "execution_count": null,
   "id": "d7959ff7",
   "metadata": {},
   "outputs": [],
   "source": [
    "\n",
    "# 기본 정보 확인 함수 \n",
    "def show_df_info(df, df_name):\n",
    "    \"\"\"\n",
    "    DataFrame의 기본 정보와 통계 요약을 출력하는 함수\n",
    "    \"\"\"\n",
    "    print(f\"\\n{df_name} 형태:\")\n",
    "    display(df.shape)\n",
    "    print(f\"\\n{df_name} 첫 5행:\")\n",
    "    display(df.head())\n",
    "    print(f\"\\n{df_name} 정보:\")\n",
    "    df.info()\n",
    "    print(f\"\\n{df_name} 통계 요약:\")\n",
    "    display(df.describe())\n",
    "    print(f\"\\n{df_name} 통계 요약:\")\n",
    "    display(df.describe(include = 'O'))\n",
    "    print(f\"\\n{df_name} 결측치 확인:\")\n",
    "    display(df.isnull().sum())\n",
    "    # print(f\"\\n{df_name} 중복값 확인:\")\n",
    "    # print(df.iloc[:,1:].duplicated().sum())"
   ]
  }
 ],
 "metadata": {
  "kernelspec": {
   "display_name": "Python 3",
   "language": "python",
   "name": "python3"
  },
  "language_info": {
   "name": "python",
   "version": "3.12.3"
  }
 },
 "nbformat": 4,
 "nbformat_minor": 5
}
