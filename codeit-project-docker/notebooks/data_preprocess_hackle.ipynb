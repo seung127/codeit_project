{
 "cells": [
  {
   "cell_type": "code",
   "execution_count": 1,
   "id": "2404a80b",
   "metadata": {},
   "outputs": [],
   "source": [
    "import pandas as pd\n",
    "import os\n",
    "import numpy as np\n",
    "import matplotlib.pyplot as plt\n",
    "import seaborn as sns\n",
    "import datetime as dt\n",
    "from datetime import timedelta\n",
    "import matplotlib.font_manager as fm\n",
    "import matplotlib as mpl\n",
    "import ast\n",
    "import json\n",
    "pd.set_option('display.max_rows', None)\n",
    "pd.set_option('display.max_columns', None)\n",
    "pd.set_option('display.width', None)\n",
    "pd.set_option('display.expand_frame_repr', False)\n",
    "\n",
    "from collections import Counter\n",
    "from kiwipiepy import Kiwi\n"
   ]
  },
  {
   "cell_type": "code",
   "execution_count": 2,
   "id": "b2d7b2b2",
   "metadata": {},
   "outputs": [],
   "source": [
    "def read_parquet_from_gcs(file_names, gcs_prefix, key_path):\n",
    "    dfs = {}\n",
    "    for name in file_names:\n",
    "        path = f\"{gcs_prefix}/{name}.parquet\"\n",
    "        dfs[name] = pd.read_parquet(path, storage_options={\"token\": key_path})\n",
    "    return dfs\n",
    "\n",
    "\n",
    "file_list = [\n",
    "    \"device_properties\",\n",
    "    \"hackle_events\",\n",
    "    \"hackle_properties\",\n",
    "    \"user_properties\"\n",
    "]\n",
    "\n",
    "gcs_prefix = \"gs://codeit-project/hackle\"\n",
    "key_path = \"./config/key.json\"\n",
    "\n",
    "dfs = read_parquet_from_gcs(file_list, gcs_prefix, key_path)\n",
    "\n",
    "# device_properties\n",
    "device_properties = dfs[\"device_properties\"]\n",
    "# hackle_events\n",
    "hackle_events = dfs[\"hackle_events\"]\n",
    "# hackle_properties\n",
    "hackle_properties = dfs[\"hackle_properties\"]\n",
    "# user_properties\n",
    "user_properties = dfs[\"user_properties\"]    "
   ]
  }
 ],
 "metadata": {
  "kernelspec": {
   "display_name": "Python 3 (ipykernel)",
   "language": "python",
   "name": "python3"
  }
 },
 "nbformat": 4,
 "nbformat_minor": 5
}
