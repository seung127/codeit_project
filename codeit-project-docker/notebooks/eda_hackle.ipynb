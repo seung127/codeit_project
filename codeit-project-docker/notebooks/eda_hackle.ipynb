{
 "cells": [
  {
   "cell_type": "code",
   "execution_count": null,
   "id": "61e95d57",
   "metadata": {},
   "outputs": [],
   "source": [
    "#! pip install gcsfs"
   ]
  },
  {
   "cell_type": "code",
   "execution_count": null,
   "id": "2487dd43",
   "metadata": {},
   "outputs": [],
   "source": [
    "#! pip install koreanize_matplotlib"
   ]
  },
  {
   "cell_type": "code",
   "execution_count": null,
   "id": "fbd8daf0",
   "metadata": {},
   "outputs": [],
   "source": [
    "#!pip install seaborn"
   ]
  },
  {
   "cell_type": "code",
   "execution_count": 5,
   "id": "f0fab08f",
   "metadata": {},
   "outputs": [],
   "source": [
    "# 필요한 라이브러리 불러오기\n",
    "import pandas as pd\n",
    "import numpy as np\n",
    "import matplotlib.pyplot as plt\n",
    "import koreanize_matplotlib\n",
    "import seaborn as sns\n",
    "import os\n",
    "\n",
    "# GCS 파일 경로에서 데이터 불러오기 위한 라이브러리\n",
    "from google.cloud import storage\n",
    "from google.oauth2 import service_account"
   ]
  },
  {
   "cell_type": "code",
   "execution_count": 2,
   "id": "4702543f",
   "metadata": {},
   "outputs": [],
   "source": [
    "# Pandas 보기 옵션\n",
    "# pd.set_option('display.max_columns',100)\n",
    "# pd.set_option('display.max_rows',100)"
   ]
  },
  {
   "cell_type": "code",
   "execution_count": 14,
   "id": "c66f44c7",
   "metadata": {},
   "outputs": [],
   "source": [
    "# test\n",
    "# # GCP 키 경로\n",
    "# key_path = \"../config/codeit_project_vm_key.json\"\n",
    "# # GCS 파일 경로\n",
    "# gcs_path = \"gs://part4_project/hackle/hackle_events.parquet\"\n",
    "# # 데이터 불러오기\n",
    "# events_df = pd.read_parquet(gcs_path, storage_options={\"token\": None})\n",
    "\n",
    "# # 확인\n",
    "# display(events_df.head())\n",
    "# events_df.shape"
   ]
  },
  {
   "cell_type": "code",
   "execution_count": 10,
   "id": "dc64fc2f",
   "metadata": {},
   "outputs": [
    {
     "data": {
      "text/plain": [
       "['gs://part4_project/hackle/device_properties.parquet',\n",
       " 'gs://part4_project/hackle/hackle_events.parquet',\n",
       " 'gs://part4_project/hackle/hackle_properties.parquet',\n",
       " 'gs://part4_project/hackle/user_properties.parquet']"
      ]
     },
     "execution_count": 10,
     "metadata": {},
     "output_type": "execute_result"
    }
   ],
   "source": [
    "# 인증\n",
    "key_path = \"../config/codeit_project_vm_key.json\"\n",
    "credentials = service_account.Credentials.from_service_account_file(key_path)\n",
    "\n",
    "# GCS 클라이언트 생성\n",
    "client = storage.Client(credentials=credentials)\n",
    "bucket = client.bucket(\"part4_project\")\n",
    "\n",
    "# 'hackle/' 경로에 있는 .parquet 파일 리스트 가져오기\n",
    "blobs = bucket.list_blobs(prefix=\"hackle/\")\n",
    "hackle_file_list = [f\"gs://part4_project/{blob.name}\" for blob in blobs if blob.name.endswith(\".parquet\")]\n",
    "\n",
    "# 결과 확인\n",
    "hackle_file_list"
   ]
  },
  {
   "cell_type": "code",
   "execution_count": 13,
   "id": "6ffa45ab",
   "metadata": {},
   "outputs": [
    {
     "name": "stdout",
     "output_type": "stream",
     "text": [
      "device_properties_df 불러오기 완료, shape: (252380, 4)\n",
      "hackle_events_df 불러오기 완료, shape: (11441319, 11)\n",
      "hackle_properties_df 불러오기 완료, shape: (525350, 8)\n",
      "user_properties_df 불러오기 완료, shape: (230819, 5)\n"
     ]
    }
   ],
   "source": [
    "# 파일들을 각각 변수로 불러오기\n",
    "for title in hackle_file_list:\n",
    "    # GCS 경로에서 파일명 추출\n",
    "    file_name = title.split('/')[-1].replace('.parquet', '')\n",
    "    \n",
    "    # Parquet 파일 읽기\n",
    "    df = pd.read_parquet(title, storage_options={\"token\": key_path})\n",
    "    \n",
    "    # 각각의 이름_df로 저장 (ex. device_properties_df)\n",
    "    globals()[f\"{file_name}_df\"] = df\n",
    "    \n",
    "    # 선택적으로 출력 확인\n",
    "    print(f\"{file_name}_df 불러오기 완료, shape: {df.shape}\")\n"
   ]
  },
  {
   "cell_type": "code",
   "execution_count": 16,
   "id": "92622a18",
   "metadata": {},
   "outputs": [],
   "source": [
    "def show_df_info(df):\n",
    "    \"\"\"\n",
    "    DataFrame의 기본 정보와 통계 요약을 출력하는 함수\n",
    "    \"\"\"\n",
    "    print(\"\\n첫 5행:\")\n",
    "    print(df.head())\n",
    "    print(\"DataFrame 정보:\")\n",
    "    print(df.info())\n",
    "    print(\"\\nDataFrame 통계 요약:\")\n",
    "    print(df.describe())\n",
    "    print(\"\\nDataFrame 결측치 확인:\")\n",
    "    print(df.isnull().sum())\n",
    "    print(\"\\nDataFrame 중복값 확인:\")\n",
    "    print(df.iloc[:,1:].duplicated().sum())"
   ]
  },
  {
   "cell_type": "markdown",
   "id": "8e0bd466",
   "metadata": {},
   "source": [
    "# 1. hackle_properties"
   ]
  },
  {
   "cell_type": "code",
   "execution_count": 17,
   "id": "1387d723",
   "metadata": {},
   "outputs": [
    {
     "name": "stdout",
     "output_type": "stream",
     "text": [
      "\n",
      "첫 5행:\n",
      "   id                            session_id  user_id language   osname  \\\n",
      "0   1          4OzYh3seq3VKytpSn5pvQkZNQii1             ko-KR      iOS   \n",
      "1   2          8QXy31PQxbW9qLzq0Y1dhR8Ypm52  1046711    ko-KR      iOS   \n",
      "2   3  6bcea65d-9f40-46fc-888c-700fe707483f  1545130       ko  Android   \n",
      "3   4          XVYNT6zfhFWqIg9omwg2AHDjTLx2  1224793       ko  Android   \n",
      "4   5          XFB2SPiGfjbVhvJ3Q3DBsaT3m2B3  1329450    ko-US      iOS   \n",
      "\n",
      "  osversion versionname                             device_id  \n",
      "0      16.0       2.0.0  590E7C79-CBA0-44D8-8BE3-3C9BFABBBC74  \n",
      "1    16.5.1       2.0.3  D5417226-F71B-4A9E-A180-CD072F2AB279  \n",
      "2        13       2.0.5  6bcea65d-9f40-46fc-888c-700fe707483f  \n",
      "3        13       2.0.5  a05c1595-3e05-434b-8684-218b528bd725  \n",
      "4    16.5.1       2.0.5  EAC6C0B3-7CE8-40EA-8A91-9977C0BA5EF3  \n",
      "DataFrame 정보:\n",
      "<class 'pandas.core.frame.DataFrame'>\n",
      "RangeIndex: 525350 entries, 0 to 525349\n",
      "Data columns (total 8 columns):\n",
      " #   Column       Non-Null Count   Dtype \n",
      "---  ------       --------------   ----- \n",
      " 0   id           525350 non-null  int64 \n",
      " 1   session_id   525350 non-null  object\n",
      " 2   user_id      525350 non-null  object\n",
      " 3   language     525350 non-null  object\n",
      " 4   osname       525350 non-null  object\n",
      " 5   osversion    525350 non-null  object\n",
      " 6   versionname  525350 non-null  object\n",
      " 7   device_id    525350 non-null  object\n",
      "dtypes: int64(1), object(7)\n",
      "memory usage: 32.1+ MB\n",
      "None\n",
      "\n",
      "DataFrame 통계 요약:\n",
      "                  id\n",
      "count  525350.000000\n",
      "mean   262675.500000\n",
      "std    151655.626297\n",
      "min         1.000000\n",
      "25%    131338.250000\n",
      "50%    262675.500000\n",
      "75%    394012.750000\n",
      "max    525350.000000\n",
      "\n",
      "DataFrame 결측치 확인:\n",
      "id             0\n",
      "session_id     0\n",
      "user_id        0\n",
      "language       0\n",
      "osname         0\n",
      "osversion      0\n",
      "versionname    0\n",
      "device_id      0\n",
      "dtype: int64\n",
      "\n",
      "DataFrame 중복값 확인:\n",
      "0\n"
     ]
    }
   ],
   "source": [
    "show_df_info(hackle_properties_df)"
   ]
  },
  {
   "cell_type": "code",
   "execution_count": null,
   "id": "da7bf50b",
   "metadata": {},
   "outputs": [],
   "source": []
  },
  {
   "cell_type": "markdown",
   "id": "6ef58062",
   "metadata": {},
   "source": [
    "# 2. device_properties"
   ]
  },
  {
   "cell_type": "code",
   "execution_count": null,
   "id": "965d43b9",
   "metadata": {},
   "outputs": [],
   "source": []
  },
  {
   "cell_type": "code",
   "execution_count": null,
   "id": "b0a867bf",
   "metadata": {},
   "outputs": [],
   "source": []
  },
  {
   "cell_type": "markdown",
   "id": "6ee0d260",
   "metadata": {},
   "source": [
    "# 3. hackle_events"
   ]
  },
  {
   "cell_type": "code",
   "execution_count": null,
   "id": "90960014",
   "metadata": {},
   "outputs": [],
   "source": []
  },
  {
   "cell_type": "code",
   "execution_count": null,
   "id": "030fa981",
   "metadata": {},
   "outputs": [],
   "source": []
  },
  {
   "cell_type": "markdown",
   "id": "28af5c3e",
   "metadata": {},
   "source": [
    "# 4. user_properties"
   ]
  },
  {
   "cell_type": "code",
   "execution_count": null,
   "id": "49d82dc0",
   "metadata": {},
   "outputs": [],
   "source": []
  },
  {
   "cell_type": "code",
   "execution_count": null,
   "id": "177de45c",
   "metadata": {},
   "outputs": [],
   "source": []
  }
 ],
 "metadata": {
  "kernelspec": {
   "display_name": "Python 3",
   "language": "python",
   "name": "python3"
  },
  "language_info": {
   "codemirror_mode": {
    "name": "ipython",
    "version": 3
   },
   "file_extension": ".py",
   "mimetype": "text/x-python",
   "name": "python",
   "nbconvert_exporter": "python",
   "pygments_lexer": "ipython3",
   "version": "3.12.3"
  }
 },
 "nbformat": 4,
 "nbformat_minor": 5
}
