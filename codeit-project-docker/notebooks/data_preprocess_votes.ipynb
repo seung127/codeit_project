{
 "cells": [
  {
   "cell_type": "code",
   "execution_count": 1,
   "id": "0eac0d80-2c4d-46fc-b10c-091da2c7fdd6",
   "metadata": {},
   "outputs": [],
   "source": [
    "import pandas as pd\n",
    "import os\n",
    "import numpy as np\n",
    "import matplotlib.pyplot as plt\n",
    "import seaborn as sns\n",
    "import datetime as dt\n",
    "from datetime import timedelta\n",
    "import matplotlib.font_manager as fm\n",
    "import matplotlib as mpl\n",
    "import ast\n",
    "import json\n",
    "pd.set_option('display.max_rows', None)\n",
    "pd.set_option('display.max_columns', None)\n",
    "pd.set_option('display.width', None)\n",
    "pd.set_option('display.expand_frame_repr', False)\n",
    "\n",
    "from collections import Counter\n",
    "from kiwipiepy import Kiwi\n"
   ]
  },
  {
   "cell_type": "code",
   "execution_count": 2,
   "id": "005cbf56-1e23-4988-bb54-48dfb2581519",
   "metadata": {},
   "outputs": [],
   "source": [
    "def read_parquet_from_gcs(file_names, gcs_prefix, key_path):\n",
    "    dfs = {}\n",
    "    for name in file_names:\n",
    "        path = f\"{gcs_prefix}/{name}.parquet\"\n",
    "        dfs[name] = pd.read_parquet(path, storage_options={\"token\": key_path})\n",
    "    return dfs\n",
    "\n",
    "\n",
    "file_list = [\n",
    "    \"accounts_attendance\",\n",
    "    \"accounts_blockrecord\",\n",
    "    \"accounts_failpaymenthistory\",\n",
    "    \"accounts_friendrequest\",\n",
    "    \"accounts_group\",\n",
    "    \"accounts_nearbyschool\",\n",
    "    \"accounts_paymenthistory\",\n",
    "    \"accounts_user_contacts\",\n",
    "    \"accounts_pointhistory\",\n",
    "    \"accounts_school\",\n",
    "    \"accounts_timelinereport\",\n",
    "    \"accounts_user\",\n",
    "    \"accounts_userquestionrecord\",\n",
    "    \"accounts_userwithdraw\",\n",
    "    \"event_receipts\",\n",
    "    \"events\",\n",
    "    \"polls_question\",\n",
    "    \"polls_questionpiece\",\n",
    "    \"polls_questionreport\",\n",
    "    \"polls_questionset\",\n",
    "    \"polls_usercandidate\"\n",
    "]\n",
    "\n",
    "gcs_prefix = \"gs://codeit-project/votes\"\n",
    "key_path = \"./config/key.json\"\n",
    "\n",
    "dfs = read_parquet_from_gcs(file_list, gcs_prefix, key_path)\n",
    "\n",
    "# 출석 테이블\n",
    "accounts_attendance = dfs[\"accounts_attendance\"]\n",
    "\n",
    "# 차단 기록 테이블\n",
    "accounts_blockrecord = dfs[\"accounts_blockrecord\"]\n",
    "\n",
    "# 상품 구매 실패 기록 테이블\n",
    "accounts_failpaymenthistory = dfs[\"accounts_failpaymenthistory\"]\n",
    "\n",
    "# 친구 요청 테이블\n",
    "accounts_friendrequest = dfs[\"accounts_friendrequest\"]\n",
    "\n",
    "# 그룹 테이블\n",
    "accounts_group = dfs[\"accounts_group\"]\n",
    "\n",
    "# 근처 학교 테이블\n",
    "accounts_nearbyschool = dfs[\"accounts_nearbyschool\"]\n",
    "\n",
    "# 결제 기록 테이블\n",
    "accounts_paymenthistory = dfs[\"accounts_paymenthistory\"]\n",
    "\n",
    "# 사용자 연락처 테이블\n",
    "accounts_user_contacts = dfs[\"accounts_user_contacts\"]\n",
    "\n",
    "# 포인트 내역 테이블\n",
    "accounts_pointhistory = dfs[\"accounts_pointhistory\"]\n",
    "\n",
    "# 학교 정보 테이블\n",
    "accounts_school = dfs[\"accounts_school\"]\n",
    "\n",
    "# 타임라인 신고 기록 테이블\n",
    "accounts_timelinereport = dfs[\"accounts_timelinereport\"]\n",
    "\n",
    "# 사용자 기본 정보 테이블\n",
    "accounts_user = dfs[\"accounts_user\"]\n",
    "\n",
    "# 사용자 질문 응답 기록 테이블\n",
    "accounts_userquestionrecord = dfs[\"accounts_userquestionrecord\"]\n",
    "\n",
    "# 회원 탈퇴 기록 테이블\n",
    "accounts_userwithdraw = dfs[\"accounts_userwithdraw\"]\n",
    "\n",
    "# 이벤트 영수증 테이블\n",
    "event_receipts = dfs[\"event_receipts\"]\n",
    "\n",
    "# 이벤트 테이블\n",
    "events = dfs[\"events\"]\n",
    "\n",
    "# 질문 테이블\n",
    "polls_question = dfs[\"polls_question\"]\n",
    "\n",
    "# 질문 조각 테이블\n",
    "polls_questionpiece = dfs[\"polls_questionpiece\"]\n",
    "\n",
    "# 질문 신고 테이블\n",
    "polls_questionreport = dfs[\"polls_questionreport\"]\n",
    "\n",
    "# 질문 세트 테이블\n",
    "polls_questionset = dfs[\"polls_questionset\"]\n",
    "\n",
    "# 사용자 후보 응답 테이블\n",
    "polls_usercandidate = dfs[\"polls_usercandidate\"]"
   ]
  },
  {
   "cell_type": "code",
   "execution_count": 4,
   "id": "05630590-ea26-4915-8c3e-bcc5dc299774",
   "metadata": {},
   "outputs": [
    {
     "data": {
      "text/html": [
       "<div>\n",
       "<style scoped>\n",
       "    .dataframe tbody tr th:only-of-type {\n",
       "        vertical-align: middle;\n",
       "    }\n",
       "\n",
       "    .dataframe tbody tr th {\n",
       "        vertical-align: top;\n",
       "    }\n",
       "\n",
       "    .dataframe thead th {\n",
       "        text-align: right;\n",
       "    }\n",
       "</style>\n",
       "<table border=\"1\" class=\"dataframe\">\n",
       "  <thead>\n",
       "    <tr style=\"text-align: right;\">\n",
       "      <th></th>\n",
       "      <th>id</th>\n",
       "      <th>productId</th>\n",
       "      <th>phone_type</th>\n",
       "      <th>created_at</th>\n",
       "      <th>user_id</th>\n",
       "    </tr>\n",
       "  </thead>\n",
       "  <tbody>\n",
       "    <tr>\n",
       "      <th>0</th>\n",
       "      <td>6</td>\n",
       "      <td>heart.200</td>\n",
       "      <td>A</td>\n",
       "      <td>2023-05-14 05:49:22</td>\n",
       "      <td>1055891</td>\n",
       "    </tr>\n",
       "    <tr>\n",
       "      <th>1</th>\n",
       "      <td>7</td>\n",
       "      <td>heart.777</td>\n",
       "      <td>A</td>\n",
       "      <td>2023-05-14 08:17:21</td>\n",
       "      <td>1152151</td>\n",
       "    </tr>\n",
       "    <tr>\n",
       "      <th>2</th>\n",
       "      <td>8</td>\n",
       "      <td>heart.777</td>\n",
       "      <td>A</td>\n",
       "      <td>2023-05-14 10:11:46</td>\n",
       "      <td>986200</td>\n",
       "    </tr>\n",
       "    <tr>\n",
       "      <th>3</th>\n",
       "      <td>9</td>\n",
       "      <td>heart.1000</td>\n",
       "      <td>A</td>\n",
       "      <td>2023-05-14 11:53:09</td>\n",
       "      <td>1028261</td>\n",
       "    </tr>\n",
       "    <tr>\n",
       "      <th>4</th>\n",
       "      <td>10</td>\n",
       "      <td>heart.777</td>\n",
       "      <td>A</td>\n",
       "      <td>2023-05-14 12:30:47</td>\n",
       "      <td>1235730</td>\n",
       "    </tr>\n",
       "  </tbody>\n",
       "</table>\n",
       "</div>"
      ],
      "text/plain": [
       "   id   productId phone_type          created_at  user_id\n",
       "0   6   heart.200          A 2023-05-14 05:49:22  1055891\n",
       "1   7   heart.777          A 2023-05-14 08:17:21  1152151\n",
       "2   8   heart.777          A 2023-05-14 10:11:46   986200\n",
       "3   9  heart.1000          A 2023-05-14 11:53:09  1028261\n",
       "4  10   heart.777          A 2023-05-14 12:30:47  1235730"
      ]
     },
     "execution_count": 4,
     "metadata": {},
     "output_type": "execute_result"
    }
   ],
   "source": [
    "accounts_failpaymenthistory.head()"
   ]
  },
  {
   "cell_type": "code",
   "execution_count": 6,
   "id": "fd484208",
   "metadata": {},
   "outputs": [
    {
     "name": "stdout",
     "output_type": "stream",
     "text": [
      "<class 'pandas.core.frame.DataFrame'>\n",
      "RangeIndex: 163 entries, 0 to 162\n",
      "Data columns (total 5 columns):\n",
      " #   Column      Non-Null Count  Dtype         \n",
      "---  ------      --------------  -----         \n",
      " 0   id          163 non-null    int64         \n",
      " 1   productId   56 non-null     object        \n",
      " 2   phone_type  163 non-null    object        \n",
      " 3   created_at  163 non-null    datetime64[ns]\n",
      " 4   user_id     163 non-null    int64         \n",
      "dtypes: datetime64[ns](1), int64(2), object(2)\n",
      "memory usage: 6.5+ KB\n"
     ]
    }
   ],
   "source": [
    "accounts_failpaymenthistory.info()"
   ]
  },
  {
   "cell_type": "code",
   "execution_count": 8,
   "id": "59b00e3f",
   "metadata": {},
   "outputs": [
    {
     "data": {
      "text/plain": [
       "id              0\n",
       "productId     107\n",
       "phone_type      0\n",
       "created_at      0\n",
       "user_id         0\n",
       "dtype: int64"
      ]
     },
     "execution_count": 8,
     "metadata": {},
     "output_type": "execute_result"
    }
   ],
   "source": [
    "accounts_failpaymenthistory.isna().sum()"
   ]
  },
  {
   "cell_type": "code",
   "execution_count": null,
   "id": "3910c042",
   "metadata": {},
   "outputs": [
    {
     "data": {
      "text/plain": [
       "np.int64(0)"
      ]
     },
     "execution_count": 11,
     "metadata": {},
     "output_type": "execute_result"
    },
    {
     "ename": "",
     "evalue": "",
     "output_type": "error",
     "traceback": [
      "\u001b[1;31mThe Kernel crashed while executing code in the current cell or a previous cell. \n",
      "\u001b[1;31mPlease review the code in the cell(s) to identify a possible cause of the failure. \n",
      "\u001b[1;31mClick <a href='https://aka.ms/vscodeJupyterKernelCrash'>here</a> for more info. \n",
      "\u001b[1;31mView Jupyter <a href='command:jupyter.viewOutput'>log</a> for further details."
     ]
    }
   ],
   "source": [
    "# 중복행 탐색\n",
    "accounts_friendrequest.duplicated().sum()"
   ]
  }
 ],
 "metadata": {
  "kernelspec": {
   "display_name": "Python 3 (ipykernel)",
   "language": "python",
   "name": "python3"
  },
  "language_info": {
   "codemirror_mode": {
    "name": "ipython",
    "version": 3
   },
   "file_extension": ".py",
   "mimetype": "text/x-python",
   "name": "python",
   "nbconvert_exporter": "python",
   "pygments_lexer": "ipython3",
   "version": "3.11.12"
  }
 },
 "nbformat": 4,
 "nbformat_minor": 5
}
