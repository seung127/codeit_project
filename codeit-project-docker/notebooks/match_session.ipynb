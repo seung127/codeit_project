{
 "cells": [
  {
   "cell_type": "code",
   "execution_count": null,
   "id": "3976ebe8",
   "metadata": {},
   "outputs": [],
   "source": [
    "# 필요한 라이브러리 불러오기\n",
    "import pandas as pd\n",
    "import numpy as np\n",
    "import matplotlib.pyplot as plt\n",
    "import koreanize_matplotlib\n",
    "import seaborn as sns\n",
    "import os\n",
    "import time\n",
    "from ast import literal_eval  # 문자열로 저장된 딕셔너리를 진짜 딕셔너리로 변환\n",
    "import multiprocessing as mp # session_start / session_end 매칭 시 병렬처리\n",
    "import glob\n",
    "\n",
    "\n",
    "# # GCS 파일 경로에서 데이터 불러오기 위한 라이브러리\n",
    "# from google.cloud import storage\n",
    "# from google.oauth2 import service_account"
   ]
  },
  {
   "cell_type": "markdown",
   "id": "e49e4bf8",
   "metadata": {},
   "source": [
    "# 데이터 불러오기 및 확인    \n",
    "- device_df_filtered 7개로 쪼갠 df들"
   ]
  },
  {
   "cell_type": "code",
   "execution_count": 3,
   "id": "3552d8b5",
   "metadata": {},
   "outputs": [
    {
     "name": "stdout",
     "output_type": "stream",
     "text": [
      "group_1_df: (1303382, 3)\n",
      "group_2_df: (3234971, 3)\n",
      "group_3_df: (8484426, 3)\n",
      "group_4_df_1: (5122630, 3)\n",
      "group_4_df_2: (5127168, 3)\n",
      "group_5_df: (4797121, 3)\n",
      "group_6_df: (3081471, 3)\n",
      "group_7_df: (2155756, 3)\n",
      "총합 확인: 33306925\n"
     ]
    }
   ],
   "source": [
    "# 데이터 불러오기\n",
    "group_1_df = pd.read_parquet('/home/codeit_project_vm/codeit_project/codeit-project-docker/data/group_1_df.parquet')\n",
    "group_2_df = pd.read_parquet('/home/codeit_project_vm/codeit_project/codeit-project-docker/data/group_2_df.parquet')\n",
    "group_3_df = pd.read_parquet('/home/codeit_project_vm/codeit_project/codeit-project-docker/data/group_3_df.parquet')\n",
    "group_4_df_1 = pd.read_parquet('/home/codeit_project_vm/codeit_project/codeit-project-docker/data/group_4_df_1.parquet')\n",
    "group_4_df_2 = pd.read_parquet('/home/codeit_project_vm/codeit_project/codeit-project-docker/data/group_4_df_2.parquet')\n",
    "group_5_df = pd.read_parquet('/home/codeit_project_vm/codeit_project/codeit-project-docker/data/group_5_df.parquet')\n",
    "group_6_df = pd.read_parquet('/home/codeit_project_vm/codeit_project/codeit-project-docker/data/group_6_df.parquet')\n",
    "group_7_df = pd.read_parquet('/home/codeit_project_vm/codeit_project/codeit-project-docker/data/group_7_df.parquet')\n",
    "\n",
    "# 각 그룹별 형태 확인 \n",
    "print(f\"group_1_df: {group_1_df.shape}\")\n",
    "print(f\"group_2_df: {group_2_df.shape}\")\n",
    "print(f\"group_3_df: {group_3_df.shape}\")\n",
    "print(f\"group_4_df_1: {group_4_df_1.shape}\")\n",
    "print(f\"group_4_df_2: {group_4_df_2.shape}\")\n",
    "print(f\"group_5_df: {group_5_df.shape}\")\n",
    "print(f\"group_6_df: {group_6_df.shape}\")\n",
    "print(f\"group_7_df: {group_7_df.shape}\")\n",
    "\n",
    "print(f\"총합 확인: {group_1_df.shape[0] + group_2_df.shape[0] + group_3_df.shape[0] + \\\n",
    "    group_4_df_1.shape[0] + group_4_df_2.shape[0]+ group_5_df.shape[0] + group_6_df.shape[0] + group_7_df.shape[0]}\")\n"
   ]
  },
  {
   "cell_type": "code",
   "execution_count": 3,
   "id": "daf9f428",
   "metadata": {},
   "outputs": [
    {
     "name": "stdout",
     "output_type": "stream",
     "text": [
      "group_1_df: 390929\n",
      "group_2_df: 179144\n",
      "group_3_df: 190563\n",
      "group_4_df_1: 60542\n",
      "group_4_df_2: 60543\n",
      "group_5_df: 37864\n",
      "group_6_df: 18785\n",
      "group_7_df: 9418\n"
     ]
    }
   ],
   "source": [
    "# 그룹별 device_id 고유값 개수 확인\n",
    "print(f\"group_1_df: {group_1_df['device_id'].nunique()}\")\n",
    "print(f\"group_2_df: {group_2_df['device_id'].nunique()}\")\n",
    "print(f\"group_3_df: {group_3_df['device_id'].nunique()}\")\n",
    "print(f\"group_4_df_1: {group_4_df_1['device_id'].nunique()}\")\n",
    "print(f\"group_4_df_2: {group_4_df_2['device_id'].nunique()}\")\n",
    "print(f\"group_5_df: {group_5_df['device_id'].nunique()}\")\n",
    "print(f\"group_6_df: {group_6_df['device_id'].nunique()}\")\n",
    "print(f\"group_7_df: {group_7_df['device_id'].nunique()}\")"
   ]
  },
  {
   "cell_type": "code",
   "execution_count": 4,
   "id": "7a0beaf0",
   "metadata": {},
   "outputs": [],
   "source": [
    "\n",
    "# 기본 정보 확인 함수 \n",
    "def show_df_info(df, df_name):\n",
    "    \"\"\"\n",
    "    DataFrame의 기본 정보와 통계 요약을 출력하는 함수\n",
    "    \"\"\"\n",
    "    print(f\"\\n{df_name} 형태:\")\n",
    "    display(df.shape)\n",
    "    print(f\"\\n{df_name} 첫 5행:\")\n",
    "    display(df.head())\n",
    "    print(f\"\\n{df_name} 정보:\")\n",
    "    df.info()\n",
    "    print(f\"\\n{df_name} 통계 요약:\")\n",
    "    display(df.describe())\n",
    "    print(f\"\\n{df_name} 통계 요약:\")\n",
    "    display(df.describe(include = 'O'))\n",
    "    print(f\"\\n{df_name} 결측치 확인:\")\n",
    "    display(df.isnull().sum())\n",
    "    # print(f\"\\n{df_name} 중복값 확인:\")\n",
    "    # print(df.iloc[:,1:].duplicated().sum())"
   ]
  },
  {
   "cell_type": "markdown",
   "id": "c0cefb22",
   "metadata": {},
   "source": [
    "# 세션 매칭 함수 적용"
   ]
  },
  {
   "cell_type": "code",
   "execution_count": 5,
   "id": "272072dc",
   "metadata": {},
   "outputs": [],
   "source": [
    "## 재재 수정본\n",
    "\n",
    "# ▶︎ 1. 정확한 세션 매칭 함수: 가장 가까운 과거 start에 end 매칭\n",
    "def match_sessions_buffer_corrected(group_df):\n",
    "    \"\"\"\n",
    "    device_id별로 $session_start와 $session_end를 1:1로 정확히 매칭\n",
    "    - end 이벤트가 오면 그보다 이전에 발생한 start 중 \"가장 가까운\" start에 매칭\n",
    "    - 매칭되지 않은 start나 end는 NaT로 남김\n",
    "    \"\"\"\n",
    "    matched_sessions = []\n",
    "\n",
    "    for device_id, group in group_df.groupby('device_id'):\n",
    "        starts = []\n",
    "        used_indices = set()\n",
    "        group = group.sort_values(by='event_datetime').reset_index(drop=True)\n",
    "\n",
    "        for idx, row in group.iterrows():\n",
    "            if row['event_key'] == '$session_start':\n",
    "                starts.append({\n",
    "                    'index': idx,\n",
    "                    'start_time': row['event_datetime'],\n",
    "                    'end_time': pd.NaT,\n",
    "                    'matched': False\n",
    "                })\n",
    "\n",
    "        for idx, row in group.iterrows():\n",
    "            if row['event_key'] == '$session_end':\n",
    "                # 가능한 start 중 end보다 같거나 작고, 아직 매칭되지 않은 가장 최근 start 찾기\n",
    "                candidates = [s for s in starts if not s['matched'] and s['start_time'] <= row['event_datetime']]\n",
    "                if candidates:\n",
    "                    latest_start = max(candidates, key=lambda x: x['start_time'])\n",
    "                    latest_start['end_time'] = row['event_datetime']\n",
    "                    latest_start['matched'] = True\n",
    "                else:\n",
    "                    # 매칭 안 되는 end는 따로 기록\n",
    "                    matched_sessions.append({\n",
    "                        'device_id': device_id,\n",
    "                        'start_time': pd.NaT,\n",
    "                        'end_time': row['event_datetime'],\n",
    "                        'session_duration_sec': np.nan\n",
    "                    })\n",
    "\n",
    "        # 최종 세션 리스트로 구성\n",
    "        for s in starts:\n",
    "            matched_sessions.append({\n",
    "                'device_id': device_id,\n",
    "                'start_time': s['start_time'],\n",
    "                'end_time': s['end_time'],\n",
    "                'session_duration_sec': (\n",
    "                    (s['end_time'] - s['start_time']).total_seconds() if pd.notna(s['end_time']) else np.nan\n",
    "                )\n",
    "            })\n",
    "    return pd.DataFrame(matched_sessions)\n",
    "\n",
    "\n",
    "def split_by_device_id(df, n_splits):\n",
    "    \"\"\"\n",
    "    device_id 단위로 groupby 후 균등하게 분할하여 list로 반환\n",
    "    하나의 device에 속한 모든 이벤트가 같은 덩어리에 있도록 유지함\n",
    "    \"\"\"\n",
    "    grouped = list(df.groupby('device_id'))\n",
    "    split_size = int(np.ceil(len(grouped) / n_splits))\n",
    "    return [pd.concat([g for _, g in grouped[i:i + split_size]])\n",
    "            for i in range(0, len(grouped), split_size)]\n",
    "\n",
    "\n",
    "def match_sessions_parallel(df, n_cores=None):\n",
    "    \"\"\"\n",
    "    device_id 기준으로 분할된 DataFrame을 병렬 처리하여 세션 매칭\n",
    "    \"\"\"\n",
    "    if n_cores is None:\n",
    "        n_cores = mp.cpu_count()\n",
    "\n",
    "    # 정렬: 병렬 처리 전에 전체를 정렬해야 안정성 확보\n",
    "    df = df.sort_values(by=['device_id', 'event_datetime']).reset_index(drop=True)\n",
    "    \n",
    "    # device_id 기준으로 분할\n",
    "    df_splits = split_by_device_id(df, n_cores)\n",
    "\n",
    "    # 병렬 실행\n",
    "    with mp.Pool(n_cores) as pool:\n",
    "        results = pool.map(match_sessions_buffer_corrected, df_splits)\n",
    "\n",
    "    return pd.concat(results, ignore_index=True)\n"
   ]
  },
  {
   "cell_type": "code",
   "execution_count": null,
   "id": "e5c5701d",
   "metadata": {},
   "outputs": [],
   "source": [
    "# 작은거부터!! 그룹 7\n",
    "matched_group_7_df = match_sessions_parallel(group_7_df, n_cores=3) # 3m 56.9s"
   ]
  },
  {
   "cell_type": "code",
   "execution_count": 8,
   "id": "b0668216",
   "metadata": {},
   "outputs": [],
   "source": [
    "matched_group_7_df.to_parquet(f\"../data/matched_group_7_df.parquet\", engine=\"pyarrow\", compression=\"snappy\")"
   ]
  },
  {
   "cell_type": "code",
   "execution_count": null,
   "id": "f688b5f5",
   "metadata": {},
   "outputs": [],
   "source": [
    "# 그룹 6\n",
    "matched_group_6_df = match_sessions_parallel(group_6_df, n_cores=3) # 5분 16초"
   ]
  },
  {
   "cell_type": "code",
   "execution_count": 10,
   "id": "8bf08428",
   "metadata": {},
   "outputs": [],
   "source": [
    "matched_group_6_df.to_parquet(f\"../data/matched_group_6_df.parquet\", engine=\"pyarrow\", compression=\"snappy\")"
   ]
  },
  {
   "cell_type": "code",
   "execution_count": null,
   "id": "930d9c2b",
   "metadata": {},
   "outputs": [],
   "source": [
    "# 그룹 5\n",
    "matched_group_5_df = match_sessions_parallel(group_5_df, n_cores=3) # 10분 13초"
   ]
  },
  {
   "cell_type": "code",
   "execution_count": 12,
   "id": "b2a90b63",
   "metadata": {},
   "outputs": [],
   "source": [
    "matched_group_5_df.to_parquet(f\"../data/matched_group_5_df.parquet\", engine=\"pyarrow\", compression=\"snappy\")"
   ]
  },
  {
   "cell_type": "code",
   "execution_count": null,
   "id": "8d7116b4",
   "metadata": {},
   "outputs": [],
   "source": [
    "# 그룹 4_1\n",
    "matched_group_4_df_1 = match_sessions_parallel(group_4_df_1, n_cores=3) # 17분 12초"
   ]
  },
  {
   "cell_type": "code",
   "execution_count": 14,
   "metadata": {},
   "outputs": [],
   "source": [
    "matched_group_4_df_1.to_parquet(f\"../data/matched_group_4_df_1.parquet\", engine=\"pyarrow\", compression=\"snappy\")"
   ]
  },
  {
   "cell_type": "code",
   "execution_count": null,
   "id": "3733c455",
   "metadata": {},
   "outputs": [],
   "source": [
    "# 그룹 4_2\n",
    "matched_group_4_df_2 = match_sessions_parallel(group_4_df_2, n_cores=3)\n",
    "matched_group_4_df_2.to_parquet(f\"../data/matched_group_4_df_2.parquet\", engine=\"pyarrow\", compression=\"snappy\") # 17분 1초"
   ]
  },
  {
   "cell_type": "markdown",
   "id": "f9dfbe85",
   "metadata": {},
   "source": [
    "## group_1 ~ 3 다시 쪼개기!!! "
   ]
  },
  {
   "cell_type": "code",
   "execution_count": null,
   "id": "9f19ece5",
   "metadata": {},
   "outputs": [],
   "source": [
    "############ 그룹 1,2,3은 다시 쪼개기! ############"
   ]
  },
  {
   "cell_type": "code",
   "execution_count": 6,
   "id": "0758285f",
   "metadata": {},
   "outputs": [],
   "source": [
    "def split_group_by_device_id(df, n_parts):\n",
    "    \"\"\"\n",
    "    device_id 기준으로 DataFrame을 n_parts로 분할\n",
    "    각 device_id에 해당하는 모든 행이 같은 조각에 들어가도록 보장\n",
    "    \"\"\"\n",
    "    unique_ids = df['device_id'].unique()\n",
    "    split_ids = np.array_split(unique_ids, n_parts)\n",
    "\n",
    "    return [df[df['device_id'].isin(split_id)] for split_id in split_ids]\n"
   ]
  },
  {
   "cell_type": "code",
   "execution_count": 7,
   "id": "7fdb7d88",
   "metadata": {},
   "outputs": [
    {
     "name": "stdout",
     "output_type": "stream",
     "text": [
      "group_1_df_1: (433672, 3), device_id: 130310\n",
      "group_1_df_2: (433121, 3), device_id: 130310\n",
      "group_1_df_3: (436589, 3), device_id: 130309\n",
      "group_2_df_1: (1617482, 3), device_id: 89572\n",
      "group_2_df_2: (1617489, 3), device_id: 89572\n",
      "group_3_df_1: (2827046, 3), device_id: 63521\n",
      "group_3_df_2: (2828521, 3), device_id: 63521\n",
      "group_3_df_3: (2828859, 3), device_id: 63521\n"
     ]
    }
   ],
   "source": [
    "# group_1 쪼개기\n",
    "group_1_df_1, group_1_df_2, group_1_df_3 = split_group_by_device_id(group_1_df, n_parts=3)\n",
    "\n",
    "# group_2 쪼개기\n",
    "group_2_df_1, group_2_df_2 = split_group_by_device_id(group_2_df, n_parts=2)\n",
    "\n",
    "# group_3 쪼개기\n",
    "group_3_df_1, group_3_df_2, group_3_df_3 = split_group_by_device_id(group_3_df, n_parts=3)\n",
    "\n",
    "# 확인\n",
    "for i, g in enumerate([group_1_df_1, group_1_df_2, group_1_df_3], 1):\n",
    "    print(f\"group_1_df_{i}: {g.shape}, device_id: {g['device_id'].nunique()}\")\n",
    "\n",
    "for i, g in enumerate([group_2_df_1, group_2_df_2], 1):\n",
    "    print(f\"group_2_df_{i}: {g.shape}, device_id: {g['device_id'].nunique()}\")\n",
    "\n",
    "for i, g in enumerate([group_3_df_1, group_3_df_2, group_3_df_3], 1):\n",
    "    print(f\"group_3_df_{i}: {g.shape}, device_id: {g['device_id'].nunique()}\")\n"
   ]
  },
  {
   "cell_type": "markdown",
   "id": "c827e464",
   "metadata": {},
   "source": [
    "**최종 device_df 분할**    \n",
    "group_1_df_1: (433672, 3), device_id: 130310<br>\n",
    "group_1_df_2: (433121, 3), device_id: 130310<br>\n",
    "group_1_df_3: (436589, 3), device_id: 130309<br>\n",
    "group_2_df_1: (1617482, 3), device_id: 89572<br>\n",
    "group_2_df_2: (1617489, 3), device_id: 89572<br>\n",
    "group_3_df_1: (2827046, 3), device_id: 63521<br>\n",
    "group_3_df_2: (2828521, 3), device_id: 63521<br>\n",
    "group_3_df_3: (2828859, 3), device_id: 63521<br>\n",
    "group_4_df_1: (5122630, 3), device_id: 60542<br>\n",
    "group_4_df_2: (5127168, 3), device_id: 60543<br>\n",
    "group_5_df: (4797121, 3), device_id: 37864<br>\n",
    "group_6_df: (3081471, 3), device_id: 18785<br>\n",
    "group_7_df: (2155756, 3), device_id: 9418<br>\n",
    "총합 확인: 33306925"
   ]
  },
  {
   "cell_type": "code",
   "execution_count": null,
   "id": "7bdad48b",
   "metadata": {},
   "outputs": [],
   "source": [
    "# 그룹 3-1\n",
    "matched_group_3_df_1 = match_sessions_parallel(group_3_df_1, n_cores=3)\n",
    "matched_group_3_df_1.to_parquet(f\"../data/matched_group_3_df_1.parquet\", engine=\"pyarrow\", compression=\"snappy\") # 14분 35초"
   ]
  },
  {
   "cell_type": "code",
   "execution_count": null,
   "id": "b0797d42",
   "metadata": {},
   "outputs": [],
   "source": [
    "# 그룹 3-2\n",
    "matched_group_3_df_2 = match_sessions_parallel(group_3_df_2, n_cores=3)\n",
    "matched_group_3_df_2.to_parquet(f\"../data/matched_group_3_df_2.parquet\", engine=\"pyarrow\", compression=\"snappy\") # 14분 10초"
   ]
  },
  {
   "cell_type": "code",
   "execution_count": null,
   "id": "a554005b",
   "metadata": {},
   "outputs": [],
   "source": [
    "# 그룹 3-3\n",
    "matched_group_3_df_3 = match_sessions_parallel(group_3_df_3, n_cores=3)\n",
    "matched_group_3_df_3.to_parquet(f\"../data/matched_group_3_df_3.parquet\", engine=\"pyarrow\", compression=\"snappy\") # 14분 24초"
   ]
  },
  {
   "cell_type": "code",
   "execution_count": null,
   "id": "00f6c18b",
   "metadata": {},
   "outputs": [],
   "source": [
    "# 그룹 2-1\n",
    "matched_group_2_df_1 = match_sessions_parallel(group_2_df_1, n_cores=3)\n",
    "matched_group_2_df_1.to_parquet(f\"../data/matched_group_2_df_1.parquet\", engine=\"pyarrow\", compression=\"snappy\") # 23분 "
   ]
  },
  {
   "cell_type": "code",
   "execution_count": null,
   "id": "c650fed7",
   "metadata": {},
   "outputs": [],
   "source": [
    "# 그룹 2-2\n",
    "matched_group_2_df_2 = match_sessions_parallel(group_2_df_2, n_cores=3)\n",
    "matched_group_2_df_2.to_parquet(f\"../data/matched_group_2_df_2.parquet\", engine=\"pyarrow\", compression=\"snappy\") # 22분 36초"
   ]
  },
  {
   "cell_type": "code",
   "execution_count": null,
   "id": "3363c411",
   "metadata": {},
   "outputs": [],
   "source": [
    "# 그룹 1-1\n",
    "matched_group_1_df_1 = match_sessions_parallel(group_1_df_1, n_cores=3)\n",
    "matched_group_1_df_1.to_parquet(f\"../data/matched_group_1_df_1.parquet\", engine=\"pyarrow\", compression=\"snappy\") # 48분 19초"
   ]
  },
  {
   "cell_type": "code",
   "execution_count": null,
   "id": "de9a76ef",
   "metadata": {},
   "outputs": [],
   "source": [
    "# 그룹 1-2\n",
    "matched_group_1_df_2 = match_sessions_parallel(group_1_df_2, n_cores=3)\n",
    "matched_group_1_df_2.to_parquet(f\"../data/matched_group_1_df_2.parquet\", engine=\"pyarrow\", compression=\"snappy\") # 45분 54초"
   ]
  },
  {
   "cell_type": "code",
   "execution_count": null,
   "id": "a9ce424e",
   "metadata": {},
   "outputs": [],
   "source": [
    "# 그룹 1-3\n",
    "matched_group_1_df_3 = match_sessions_parallel(group_1_df_3, n_cores=3)\n",
    "matched_group_1_df_3.to_parquet(f\"../data/matched_group_1_df_3.parquet\", engine=\"pyarrow\", compression=\"snappy\") # 46분 26초"
   ]
  },
  {
   "cell_type": "code",
   "execution_count": 19,
   "id": "0779f503",
   "metadata": {},
   "outputs": [
    {
     "data": {
      "text/html": [
       "<div>\n",
       "<style scoped>\n",
       "    .dataframe tbody tr th:only-of-type {\n",
       "        vertical-align: middle;\n",
       "    }\n",
       "\n",
       "    .dataframe tbody tr th {\n",
       "        vertical-align: top;\n",
       "    }\n",
       "\n",
       "    .dataframe thead th {\n",
       "        text-align: right;\n",
       "    }\n",
       "</style>\n",
       "<table border=\"1\" class=\"dataframe\">\n",
       "  <thead>\n",
       "    <tr style=\"text-align: right;\">\n",
       "      <th></th>\n",
       "      <th>device_id</th>\n",
       "      <th>start_time</th>\n",
       "      <th>end_time</th>\n",
       "      <th>session_duration_sec</th>\n",
       "    </tr>\n",
       "  </thead>\n",
       "  <tbody>\n",
       "    <tr>\n",
       "      <th>0</th>\n",
       "      <td>aa6d0849-b138-41c8-92a8-f1d13585c9ec</td>\n",
       "      <td>2023-05-24 04:23:47</td>\n",
       "      <td>NaT</td>\n",
       "      <td>NaN</td>\n",
       "    </tr>\n",
       "    <tr>\n",
       "      <th>1</th>\n",
       "      <td>aa6d0849-b138-41c8-92a8-f1d13585c9ec</td>\n",
       "      <td>2023-05-24 04:29:11</td>\n",
       "      <td>NaT</td>\n",
       "      <td>NaN</td>\n",
       "    </tr>\n",
       "    <tr>\n",
       "      <th>2</th>\n",
       "      <td>aa6d7143-b240-4377-b3ec-e1d1731e7fb9</td>\n",
       "      <td>2023-05-13 08:38:41</td>\n",
       "      <td>NaT</td>\n",
       "      <td>NaN</td>\n",
       "    </tr>\n",
       "    <tr>\n",
       "      <th>3</th>\n",
       "      <td>aa6d9b87-0e49-45ed-8ec6-8c9a5ffade89</td>\n",
       "      <td>2023-07-10 00:25:38</td>\n",
       "      <td>NaT</td>\n",
       "      <td>NaN</td>\n",
       "    </tr>\n",
       "    <tr>\n",
       "      <th>4</th>\n",
       "      <td>aa6daf24-0059-4eaa-907e-f677de29dccb</td>\n",
       "      <td>2023-05-12 06:13:02</td>\n",
       "      <td>2023-05-12 06:13:40</td>\n",
       "      <td>38.0</td>\n",
       "    </tr>\n",
       "  </tbody>\n",
       "</table>\n",
       "</div>"
      ],
      "text/plain": [
       "                              device_id          start_time  \\\n",
       "0  aa6d0849-b138-41c8-92a8-f1d13585c9ec 2023-05-24 04:23:47   \n",
       "1  aa6d0849-b138-41c8-92a8-f1d13585c9ec 2023-05-24 04:29:11   \n",
       "2  aa6d7143-b240-4377-b3ec-e1d1731e7fb9 2023-05-13 08:38:41   \n",
       "3  aa6d9b87-0e49-45ed-8ec6-8c9a5ffade89 2023-07-10 00:25:38   \n",
       "4  aa6daf24-0059-4eaa-907e-f677de29dccb 2023-05-12 06:13:02   \n",
       "\n",
       "             end_time  session_duration_sec  \n",
       "0                 NaT                   NaN  \n",
       "1                 NaT                   NaN  \n",
       "2                 NaT                   NaN  \n",
       "3                 NaT                   NaN  \n",
       "4 2023-05-12 06:13:40                  38.0  "
      ]
     },
     "execution_count": 19,
     "metadata": {},
     "output_type": "execute_result"
    }
   ],
   "source": [
    "matched_group_1_df_3.head()"
   ]
  },
  {
   "cell_type": "code",
   "execution_count": null,
   "id": "4c082dcf",
   "metadata": {},
   "outputs": [],
   "source": [
    "# # group_1 ~ group_3까지 분할된 세션 매칭 진행 및 중간 저장 /// 왜 한꺼번에 하려고만 하면 무한 실행이냐...\n",
    "\n",
    "# group_dfs = [\n",
    "#     group_1_df_1, group_1_df_2, group_1_df_3,\n",
    "#     group_2_df_1, group_2_df_2,\n",
    "#     group_3_df_1, group_3_df_2, group_3_df_3\n",
    "# ]\n",
    "\n",
    "# results = []\n",
    "# save_dir = \"../data\"  # 저장 경로\n",
    "# os.makedirs(save_dir, exist_ok=True)\n",
    "\n",
    "# for i, group_df in enumerate(group_dfs, 1):\n",
    "#     print(f\"🚀 Processing group {i} with shape {group_df.shape}\")\n",
    "\n",
    "#     try:\n",
    "#         result = match_sessions_parallel(group_df, n_cores=3)\n",
    "\n",
    "#         # 결과 저장\n",
    "#         save_path = os.path.join(save_dir, f\"group_{i}_matched.parquet\")\n",
    "#         result.to_parquet(save_path, engine=\"pyarrow\", compression=\"snappy\")\n",
    "\n",
    "#         print(f\"✅ group_{i} 저장 완료: {result.shape}\")\n",
    "#         results.append(result)\n",
    "\n",
    "#     except Exception as e:\n",
    "#         print(f\"❌ group_{i} 처리 중 에러 발생: {e}\")\n"
   ]
  },
  {
   "cell_type": "markdown",
   "id": "eeb32d6a",
   "metadata": {},
   "source": [
    "# matched_group_df 다시 하나로 병합"
   ]
  },
  {
   "cell_type": "code",
   "execution_count": null,
   "id": "3c74c415",
   "metadata": {},
   "outputs": [
    {
     "name": "stdout",
     "output_type": "stream",
     "text": [
      "✅ 병합 및 저장 완료: (19984291, 4), 저장 위치 → ../data/matched_device_df.parquet\n"
     ]
    }
   ],
   "source": [
    "# matched df 모두 합치기\n",
    "\n",
    "# 데이터 디렉토리 지정\n",
    "data_dir = \"../data\"\n",
    "\n",
    "# matched_group_*.parquet 파일 경로 가져오기\n",
    "matched_files = glob.glob(os.path.join(data_dir, \"matched_group_*.parquet\"))\n",
    "\n",
    "# 파일이 있는지 확인\n",
    "if not matched_files:\n",
    "    raise FileNotFoundError(\"⚠️ matched_group_*.parquet 파일을 찾을 수 없습니다.\")\n",
    "\n",
    "# 병합\n",
    "dfs = []\n",
    "for f in matched_files:\n",
    "    try:\n",
    "        df = pd.read_parquet(f)\n",
    "        dfs.append(df)\n",
    "    except Exception as e:\n",
    "        print(f\"❌ 오류 발생: {f} → {e}\")\n",
    "\n",
    "matched_device_df = pd.concat(dfs, ignore_index=True)\n",
    "\n",
    "# 저장\n",
    "output_path = os.path.join(data_dir, \"matched_device_df.parquet\")\n",
    "matched_device_df.to_parquet(output_path, engine=\"pyarrow\", compression=\"snappy\")\n",
    "\n",
    "print(f\"✅ 병합 및 저장 완료: {matched_device_df.shape}, 저장 위치 → {output_path}\")\n"
   ]
  },
  {
   "cell_type": "code",
   "execution_count": 21,
   "id": "ae161d5e",
   "metadata": {},
   "outputs": [
    {
     "name": "stdout",
     "output_type": "stream",
     "text": [
      "(19984291, 4)\n"
     ]
    },
    {
     "data": {
      "text/html": [
       "<div>\n",
       "<style scoped>\n",
       "    .dataframe tbody tr th:only-of-type {\n",
       "        vertical-align: middle;\n",
       "    }\n",
       "\n",
       "    .dataframe tbody tr th {\n",
       "        vertical-align: top;\n",
       "    }\n",
       "\n",
       "    .dataframe thead th {\n",
       "        text-align: right;\n",
       "    }\n",
       "</style>\n",
       "<table border=\"1\" class=\"dataframe\">\n",
       "  <thead>\n",
       "    <tr style=\"text-align: right;\">\n",
       "      <th></th>\n",
       "      <th>device_id</th>\n",
       "      <th>start_time</th>\n",
       "      <th>end_time</th>\n",
       "      <th>session_duration_sec</th>\n",
       "    </tr>\n",
       "  </thead>\n",
       "  <tbody>\n",
       "    <tr>\n",
       "      <th>0</th>\n",
       "      <td>00018a1a-4204-4efe-8a7f-b4b591d7bb2d</td>\n",
       "      <td>2023-05-11 21:47:43</td>\n",
       "      <td>2023-05-11 21:48:05</td>\n",
       "      <td>22.0</td>\n",
       "    </tr>\n",
       "    <tr>\n",
       "      <th>1</th>\n",
       "      <td>00018a1a-4204-4efe-8a7f-b4b591d7bb2d</td>\n",
       "      <td>2023-05-11 21:48:06</td>\n",
       "      <td>2023-05-11 21:49:50</td>\n",
       "      <td>104.0</td>\n",
       "    </tr>\n",
       "    <tr>\n",
       "      <th>2</th>\n",
       "      <td>00018a1a-4204-4efe-8a7f-b4b591d7bb2d</td>\n",
       "      <td>2023-05-11 22:52:45</td>\n",
       "      <td>2023-05-12 00:49:43</td>\n",
       "      <td>7018.0</td>\n",
       "    </tr>\n",
       "    <tr>\n",
       "      <th>3</th>\n",
       "      <td>00018a1a-4204-4efe-8a7f-b4b591d7bb2d</td>\n",
       "      <td>2023-05-12 03:23:34</td>\n",
       "      <td>2023-05-12 03:24:09</td>\n",
       "      <td>35.0</td>\n",
       "    </tr>\n",
       "    <tr>\n",
       "      <th>4</th>\n",
       "      <td>00018a1a-4204-4efe-8a7f-b4b591d7bb2d</td>\n",
       "      <td>2023-05-12 03:26:37</td>\n",
       "      <td>2023-05-12 04:44:56</td>\n",
       "      <td>4699.0</td>\n",
       "    </tr>\n",
       "  </tbody>\n",
       "</table>\n",
       "</div>"
      ],
      "text/plain": [
       "                              device_id          start_time  \\\n",
       "0  00018a1a-4204-4efe-8a7f-b4b591d7bb2d 2023-05-11 21:47:43   \n",
       "1  00018a1a-4204-4efe-8a7f-b4b591d7bb2d 2023-05-11 21:48:06   \n",
       "2  00018a1a-4204-4efe-8a7f-b4b591d7bb2d 2023-05-11 22:52:45   \n",
       "3  00018a1a-4204-4efe-8a7f-b4b591d7bb2d 2023-05-12 03:23:34   \n",
       "4  00018a1a-4204-4efe-8a7f-b4b591d7bb2d 2023-05-12 03:26:37   \n",
       "\n",
       "             end_time  session_duration_sec  \n",
       "0 2023-05-11 21:48:05                  22.0  \n",
       "1 2023-05-11 21:49:50                 104.0  \n",
       "2 2023-05-12 00:49:43                7018.0  \n",
       "3 2023-05-12 03:24:09                  35.0  \n",
       "4 2023-05-12 04:44:56                4699.0  "
      ]
     },
     "execution_count": 21,
     "metadata": {},
     "output_type": "execute_result"
    }
   ],
   "source": [
    "# 병합된 matched_device_df 확인하기\n",
    "merged_df_test = pd.read_parquet(\"/home/codeit_project_vm/codeit_project/codeit-project-docker/data/matched_device_df.parquet\")\n",
    "\n",
    "print(merged_df_test.shape)\n",
    "merged_df_test.head()"
   ]
  },
  {
   "cell_type": "code",
   "execution_count": null,
   "id": "7bc0faf2",
   "metadata": {},
   "outputs": [
    {
     "data": {
      "text/plain": [
       "947788"
      ]
     },
     "execution_count": 22,
     "metadata": {},
     "output_type": "execute_result"
    }
   ],
   "source": [
    "merged_df_test['device_id'].nunique() # device_id 고유값 유실 없이 병합 완료!! "
   ]
  }
 ],
 "metadata": {
  "kernelspec": {
   "display_name": "Python 3",
   "language": "python",
   "name": "python3"
  },
  "language_info": {
   "codemirror_mode": {
    "name": "ipython",
    "version": 3
   },
   "file_extension": ".py",
   "mimetype": "text/x-python",
   "name": "python",
   "nbconvert_exporter": "python",
   "pygments_lexer": "ipython3",
   "version": "3.12.3"
  }
 },
 "nbformat": 4,
 "nbformat_minor": 5
}
