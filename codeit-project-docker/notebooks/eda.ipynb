{
 "cells": [
  {
   "cell_type": "code",
   "execution_count": 1,
   "id": "e75bb470",
   "metadata": {},
   "outputs": [
    {
     "name": "stdout",
     "output_type": "stream",
     "text": [
      "Requirement already satisfied: gcsfs in /usr/local/lib/python3.11/site-packages (2025.5.1)\n",
      "Requirement already satisfied: aiohttp!=4.0.0a0,!=4.0.0a1 in /usr/local/lib/python3.11/site-packages (from gcsfs) (3.12.0)\n",
      "Requirement already satisfied: decorator>4.1.2 in /usr/local/lib/python3.11/site-packages (from gcsfs) (5.2.1)\n",
      "Requirement already satisfied: fsspec==2025.5.1 in /usr/local/lib/python3.11/site-packages (from gcsfs) (2025.5.1)\n",
      "Requirement already satisfied: google-auth>=1.2 in /usr/local/lib/python3.11/site-packages (from gcsfs) (2.40.2)\n",
      "Requirement already satisfied: google-auth-oauthlib in /usr/local/lib/python3.11/site-packages (from gcsfs) (1.2.2)\n",
      "Requirement already satisfied: google-cloud-storage in /usr/local/lib/python3.11/site-packages (from gcsfs) (3.1.0)\n",
      "Requirement already satisfied: requests in /usr/local/lib/python3.11/site-packages (from gcsfs) (2.32.3)\n",
      "Requirement already satisfied: aiohappyeyeballs>=2.5.0 in /usr/local/lib/python3.11/site-packages (from aiohttp!=4.0.0a0,!=4.0.0a1->gcsfs) (2.6.1)\n",
      "Requirement already satisfied: aiosignal>=1.1.2 in /usr/local/lib/python3.11/site-packages (from aiohttp!=4.0.0a0,!=4.0.0a1->gcsfs) (1.3.2)\n",
      "Requirement already satisfied: attrs>=17.3.0 in /usr/local/lib/python3.11/site-packages (from aiohttp!=4.0.0a0,!=4.0.0a1->gcsfs) (25.3.0)\n",
      "Requirement already satisfied: frozenlist>=1.1.1 in /usr/local/lib/python3.11/site-packages (from aiohttp!=4.0.0a0,!=4.0.0a1->gcsfs) (1.6.0)\n",
      "Requirement already satisfied: multidict<7.0,>=4.5 in /usr/local/lib/python3.11/site-packages (from aiohttp!=4.0.0a0,!=4.0.0a1->gcsfs) (6.4.4)\n",
      "Requirement already satisfied: propcache>=0.2.0 in /usr/local/lib/python3.11/site-packages (from aiohttp!=4.0.0a0,!=4.0.0a1->gcsfs) (0.3.1)\n",
      "Requirement already satisfied: yarl<2.0,>=1.17.0 in /usr/local/lib/python3.11/site-packages (from aiohttp!=4.0.0a0,!=4.0.0a1->gcsfs) (1.20.0)\n",
      "Requirement already satisfied: cachetools<6.0,>=2.0.0 in /usr/local/lib/python3.11/site-packages (from google-auth>=1.2->gcsfs) (5.5.2)\n",
      "Requirement already satisfied: pyasn1-modules>=0.2.1 in /usr/local/lib/python3.11/site-packages (from google-auth>=1.2->gcsfs) (0.4.2)\n",
      "Requirement already satisfied: rsa<5,>=3.1.4 in /usr/local/lib/python3.11/site-packages (from google-auth>=1.2->gcsfs) (4.9.1)\n",
      "Requirement already satisfied: requests-oauthlib>=0.7.0 in /usr/local/lib/python3.11/site-packages (from google-auth-oauthlib->gcsfs) (2.0.0)\n",
      "Requirement already satisfied: google-api-core<3.0.0dev,>=2.15.0 in /usr/local/lib/python3.11/site-packages (from google-cloud-storage->gcsfs) (2.24.2)\n",
      "Requirement already satisfied: google-cloud-core<3.0dev,>=2.4.2 in /usr/local/lib/python3.11/site-packages (from google-cloud-storage->gcsfs) (2.4.3)\n",
      "Requirement already satisfied: google-resumable-media>=2.7.2 in /usr/local/lib/python3.11/site-packages (from google-cloud-storage->gcsfs) (2.7.2)\n",
      "Requirement already satisfied: google-crc32c<2.0dev,>=1.0 in /usr/local/lib/python3.11/site-packages (from google-cloud-storage->gcsfs) (1.7.1)\n",
      "Requirement already satisfied: charset-normalizer<4,>=2 in /usr/local/lib/python3.11/site-packages (from requests->gcsfs) (3.4.2)\n",
      "Requirement already satisfied: idna<4,>=2.5 in /usr/local/lib/python3.11/site-packages (from requests->gcsfs) (3.10)\n",
      "Requirement already satisfied: urllib3<3,>=1.21.1 in /usr/local/lib/python3.11/site-packages (from requests->gcsfs) (2.4.0)\n",
      "Requirement already satisfied: certifi>=2017.4.17 in /usr/local/lib/python3.11/site-packages (from requests->gcsfs) (2025.4.26)\n",
      "Requirement already satisfied: googleapis-common-protos<2.0.0,>=1.56.2 in /usr/local/lib/python3.11/site-packages (from google-api-core<3.0.0dev,>=2.15.0->google-cloud-storage->gcsfs) (1.70.0)\n",
      "Requirement already satisfied: protobuf!=3.20.0,!=3.20.1,!=4.21.0,!=4.21.1,!=4.21.2,!=4.21.3,!=4.21.4,!=4.21.5,<7.0.0,>=3.19.5 in /usr/local/lib/python3.11/site-packages (from google-api-core<3.0.0dev,>=2.15.0->google-cloud-storage->gcsfs) (5.29.4)\n",
      "Requirement already satisfied: proto-plus<2.0.0,>=1.22.3 in /usr/local/lib/python3.11/site-packages (from google-api-core<3.0.0dev,>=2.15.0->google-cloud-storage->gcsfs) (1.26.1)\n",
      "Requirement already satisfied: pyasn1<0.7.0,>=0.6.1 in /usr/local/lib/python3.11/site-packages (from pyasn1-modules>=0.2.1->google-auth>=1.2->gcsfs) (0.6.1)\n",
      "Requirement already satisfied: oauthlib>=3.0.0 in /usr/local/lib/python3.11/site-packages (from requests-oauthlib>=0.7.0->google-auth-oauthlib->gcsfs) (3.2.2)\n",
      "\u001b[33mWARNING: Running pip as the 'root' user can result in broken permissions and conflicting behaviour with the system package manager. It is recommended to use a virtual environment instead: https://pip.pypa.io/warnings/venv\u001b[0m\u001b[33m\n",
      "\u001b[0m\n",
      "\u001b[1m[\u001b[0m\u001b[34;49mnotice\u001b[0m\u001b[1;39;49m]\u001b[0m\u001b[39;49m A new release of pip is available: \u001b[0m\u001b[31;49m24.0\u001b[0m\u001b[39;49m -> \u001b[0m\u001b[32;49m25.1.1\u001b[0m\n",
      "\u001b[1m[\u001b[0m\u001b[34;49mnotice\u001b[0m\u001b[1;39;49m]\u001b[0m\u001b[39;49m To update, run: \u001b[0m\u001b[32;49mpip install --upgrade pip\u001b[0m\n"
     ]
    }
   ],
   "source": [
    "! pip install gcsfs"
   ]
  },
  {
   "cell_type": "code",
   "execution_count": 2,
   "id": "14599faa",
   "metadata": {},
   "outputs": [
    {
     "name": "stdout",
     "output_type": "stream",
     "text": [
      "Requirement already satisfied: koreanize_matplotlib in /usr/local/lib/python3.11/site-packages (0.1.1)\n",
      "Requirement already satisfied: matplotlib in /usr/local/lib/python3.11/site-packages (from koreanize_matplotlib) (3.10.3)\n",
      "Requirement already satisfied: contourpy>=1.0.1 in /usr/local/lib/python3.11/site-packages (from matplotlib->koreanize_matplotlib) (1.3.2)\n",
      "Requirement already satisfied: cycler>=0.10 in /usr/local/lib/python3.11/site-packages (from matplotlib->koreanize_matplotlib) (0.12.1)\n",
      "Requirement already satisfied: fonttools>=4.22.0 in /usr/local/lib/python3.11/site-packages (from matplotlib->koreanize_matplotlib) (4.58.0)\n",
      "Requirement already satisfied: kiwisolver>=1.3.1 in /usr/local/lib/python3.11/site-packages (from matplotlib->koreanize_matplotlib) (1.4.8)\n",
      "Requirement already satisfied: numpy>=1.23 in /usr/local/lib/python3.11/site-packages (from matplotlib->koreanize_matplotlib) (2.2.6)\n",
      "Requirement already satisfied: packaging>=20.0 in /usr/local/lib/python3.11/site-packages (from matplotlib->koreanize_matplotlib) (25.0)\n",
      "Requirement already satisfied: pillow>=8 in /usr/local/lib/python3.11/site-packages (from matplotlib->koreanize_matplotlib) (11.2.1)\n",
      "Requirement already satisfied: pyparsing>=2.3.1 in /usr/local/lib/python3.11/site-packages (from matplotlib->koreanize_matplotlib) (3.2.3)\n",
      "Requirement already satisfied: python-dateutil>=2.7 in /usr/local/lib/python3.11/site-packages (from matplotlib->koreanize_matplotlib) (2.9.0.post0)\n",
      "Requirement already satisfied: six>=1.5 in /usr/local/lib/python3.11/site-packages (from python-dateutil>=2.7->matplotlib->koreanize_matplotlib) (1.17.0)\n",
      "\u001b[33mWARNING: Running pip as the 'root' user can result in broken permissions and conflicting behaviour with the system package manager. It is recommended to use a virtual environment instead: https://pip.pypa.io/warnings/venv\u001b[0m\u001b[33m\n",
      "\u001b[0m\n",
      "\u001b[1m[\u001b[0m\u001b[34;49mnotice\u001b[0m\u001b[1;39;49m]\u001b[0m\u001b[39;49m A new release of pip is available: \u001b[0m\u001b[31;49m24.0\u001b[0m\u001b[39;49m -> \u001b[0m\u001b[32;49m25.1.1\u001b[0m\n",
      "\u001b[1m[\u001b[0m\u001b[34;49mnotice\u001b[0m\u001b[1;39;49m]\u001b[0m\u001b[39;49m To update, run: \u001b[0m\u001b[32;49mpip install --upgrade pip\u001b[0m\n"
     ]
    }
   ],
   "source": [
    "! pip install koreanize_matplotlib"
   ]
  },
  {
   "cell_type": "code",
   "execution_count": 3,
   "id": "d155c333",
   "metadata": {},
   "outputs": [
    {
     "name": "stdout",
     "output_type": "stream",
     "text": [
      "Requirement already satisfied: seaborn in /usr/local/lib/python3.11/site-packages (0.13.2)\n",
      "Requirement already satisfied: numpy!=1.24.0,>=1.20 in /usr/local/lib/python3.11/site-packages (from seaborn) (2.2.6)\n",
      "Requirement already satisfied: pandas>=1.2 in /usr/local/lib/python3.11/site-packages (from seaborn) (2.2.3)\n",
      "Requirement already satisfied: matplotlib!=3.6.1,>=3.4 in /usr/local/lib/python3.11/site-packages (from seaborn) (3.10.3)\n",
      "Requirement already satisfied: contourpy>=1.0.1 in /usr/local/lib/python3.11/site-packages (from matplotlib!=3.6.1,>=3.4->seaborn) (1.3.2)\n",
      "Requirement already satisfied: cycler>=0.10 in /usr/local/lib/python3.11/site-packages (from matplotlib!=3.6.1,>=3.4->seaborn) (0.12.1)\n",
      "Requirement already satisfied: fonttools>=4.22.0 in /usr/local/lib/python3.11/site-packages (from matplotlib!=3.6.1,>=3.4->seaborn) (4.58.0)\n",
      "Requirement already satisfied: kiwisolver>=1.3.1 in /usr/local/lib/python3.11/site-packages (from matplotlib!=3.6.1,>=3.4->seaborn) (1.4.8)\n",
      "Requirement already satisfied: packaging>=20.0 in /usr/local/lib/python3.11/site-packages (from matplotlib!=3.6.1,>=3.4->seaborn) (25.0)\n",
      "Requirement already satisfied: pillow>=8 in /usr/local/lib/python3.11/site-packages (from matplotlib!=3.6.1,>=3.4->seaborn) (11.2.1)\n",
      "Requirement already satisfied: pyparsing>=2.3.1 in /usr/local/lib/python3.11/site-packages (from matplotlib!=3.6.1,>=3.4->seaborn) (3.2.3)\n",
      "Requirement already satisfied: python-dateutil>=2.7 in /usr/local/lib/python3.11/site-packages (from matplotlib!=3.6.1,>=3.4->seaborn) (2.9.0.post0)\n",
      "Requirement already satisfied: pytz>=2020.1 in /usr/local/lib/python3.11/site-packages (from pandas>=1.2->seaborn) (2025.2)\n",
      "Requirement already satisfied: tzdata>=2022.7 in /usr/local/lib/python3.11/site-packages (from pandas>=1.2->seaborn) (2025.2)\n",
      "Requirement already satisfied: six>=1.5 in /usr/local/lib/python3.11/site-packages (from python-dateutil>=2.7->matplotlib!=3.6.1,>=3.4->seaborn) (1.17.0)\n",
      "\u001b[33mWARNING: Running pip as the 'root' user can result in broken permissions and conflicting behaviour with the system package manager. It is recommended to use a virtual environment instead: https://pip.pypa.io/warnings/venv\u001b[0m\u001b[33m\n",
      "\u001b[0m\n",
      "\u001b[1m[\u001b[0m\u001b[34;49mnotice\u001b[0m\u001b[1;39;49m]\u001b[0m\u001b[39;49m A new release of pip is available: \u001b[0m\u001b[31;49m24.0\u001b[0m\u001b[39;49m -> \u001b[0m\u001b[32;49m25.1.1\u001b[0m\n",
      "\u001b[1m[\u001b[0m\u001b[34;49mnotice\u001b[0m\u001b[1;39;49m]\u001b[0m\u001b[39;49m To update, run: \u001b[0m\u001b[32;49mpip install --upgrade pip\u001b[0m\n"
     ]
    }
   ],
   "source": [
    "!pip install seaborn"
   ]
  },
  {
   "cell_type": "code",
   "execution_count": 4,
   "id": "3d9dbdc2",
   "metadata": {},
   "outputs": [],
   "source": [
    "# 필요한 라이브러리 불러오기\n",
    "import pandas as pd\n",
    "import numpy as np\n",
    "import matplotlib.pyplot as plt\n",
    "import koreanize_matplotlib\n",
    "import seaborn as sns\n",
    "import os\n",
    "import ast # 문자열을 리스트로 변환(출석 테이블)\n",
    "\n",
    "# # GCS 파일 경로\n",
    "# gcs_path = \"gs://codeit-project/votes/accounts_timelinereport.parquet\"\n",
    "# # 예시: gs://codeit-project/hackle/hackle_events.parquet\n",
    "\n",
    "# # GCP 키 경로\n",
    "# key_path = \"../config/key.json\"\n",
    "\n",
    "# # 데이터 불러오기\n",
    "# df = pd.read_parquet(gcs_path, storage_options={\"token\": key_path})\n",
    "\n",
    "# # 확인\n",
    "# df.head()\n"
   ]
  },
  {
   "cell_type": "code",
   "execution_count": 5,
   "id": "c60cb615",
   "metadata": {},
   "outputs": [],
   "source": [
    "# GCP 키 경로\n",
    "key_path = \"../config/key.json\""
   ]
  },
  {
   "cell_type": "markdown",
   "id": "5724dc2e",
   "metadata": {},
   "source": [
    "# votes/accounts_attendance 출석 테이블 "
   ]
  },
  {
   "cell_type": "code",
   "execution_count": 7,
   "id": "077e16c7",
   "metadata": {},
   "outputs": [
    {
     "data": {
      "text/html": [
       "<div>\n",
       "<style scoped>\n",
       "    .dataframe tbody tr th:only-of-type {\n",
       "        vertical-align: middle;\n",
       "    }\n",
       "\n",
       "    .dataframe tbody tr th {\n",
       "        vertical-align: top;\n",
       "    }\n",
       "\n",
       "    .dataframe thead th {\n",
       "        text-align: right;\n",
       "    }\n",
       "</style>\n",
       "<table border=\"1\" class=\"dataframe\">\n",
       "  <thead>\n",
       "    <tr style=\"text-align: right;\">\n",
       "      <th></th>\n",
       "      <th>id</th>\n",
       "      <th>attendance_date_list</th>\n",
       "      <th>user_id</th>\n",
       "    </tr>\n",
       "  </thead>\n",
       "  <tbody>\n",
       "    <tr>\n",
       "      <th>0</th>\n",
       "      <td>1</td>\n",
       "      <td>[\"2023-05-27\", \"2023-05-28\", \"2023-05-29\", \"20...</td>\n",
       "      <td>1446852</td>\n",
       "    </tr>\n",
       "    <tr>\n",
       "      <th>1</th>\n",
       "      <td>2</td>\n",
       "      <td>[\"2023-05-27\", \"2023-05-29\", \"2023-05-30\", \"20...</td>\n",
       "      <td>1359398</td>\n",
       "    </tr>\n",
       "    <tr>\n",
       "      <th>2</th>\n",
       "      <td>3</td>\n",
       "      <td>[\"2023-05-27\", \"2023-05-29\", \"2023-05-30\", \"20...</td>\n",
       "      <td>1501542</td>\n",
       "    </tr>\n",
       "    <tr>\n",
       "      <th>3</th>\n",
       "      <td>4</td>\n",
       "      <td>[\"2023-05-27\", \"2023-05-28\", \"2023-05-29\", \"20...</td>\n",
       "      <td>1507767</td>\n",
       "    </tr>\n",
       "    <tr>\n",
       "      <th>4</th>\n",
       "      <td>5</td>\n",
       "      <td>[\"2023-05-27\", \"2023-05-28\", \"2023-05-29\", \"20...</td>\n",
       "      <td>1287453</td>\n",
       "    </tr>\n",
       "  </tbody>\n",
       "</table>\n",
       "</div>"
      ],
      "text/plain": [
       "   id                               attendance_date_list  user_id\n",
       "0   1  [\"2023-05-27\", \"2023-05-28\", \"2023-05-29\", \"20...  1446852\n",
       "1   2  [\"2023-05-27\", \"2023-05-29\", \"2023-05-30\", \"20...  1359398\n",
       "2   3  [\"2023-05-27\", \"2023-05-29\", \"2023-05-30\", \"20...  1501542\n",
       "3   4  [\"2023-05-27\", \"2023-05-28\", \"2023-05-29\", \"20...  1507767\n",
       "4   5  [\"2023-05-27\", \"2023-05-28\", \"2023-05-29\", \"20...  1287453"
      ]
     },
     "metadata": {},
     "output_type": "display_data"
    },
    {
     "data": {
      "text/plain": [
       "(349637, 3)"
      ]
     },
     "execution_count": 7,
     "metadata": {},
     "output_type": "execute_result"
    }
   ],
   "source": [
    "# GCS 파일 경로\n",
    "gcs_path = \"gs://codeit-project/votes/accounts_attendance.parquet\"\n",
    "# 데이터 불러오기\n",
    "accounts_attendance_df = pd.read_parquet(gcs_path, storage_options={\"token\": key_path})\n",
    "\n",
    "# 확인\n",
    "display(accounts_attendance_df.head())\n",
    "accounts_attendance_df.shape"
   ]
  },
  {
   "cell_type": "code",
   "execution_count": 8,
   "id": "4a403719",
   "metadata": {},
   "outputs": [
    {
     "data": {
      "text/html": [
       "<div>\n",
       "<style scoped>\n",
       "    .dataframe tbody tr th:only-of-type {\n",
       "        vertical-align: middle;\n",
       "    }\n",
       "\n",
       "    .dataframe tbody tr th {\n",
       "        vertical-align: top;\n",
       "    }\n",
       "\n",
       "    .dataframe thead th {\n",
       "        text-align: right;\n",
       "    }\n",
       "</style>\n",
       "<table border=\"1\" class=\"dataframe\">\n",
       "  <thead>\n",
       "    <tr style=\"text-align: right;\">\n",
       "      <th></th>\n",
       "      <th>id</th>\n",
       "      <th>attendance_date_list</th>\n",
       "      <th>user_id</th>\n",
       "      <th>attend_cnt</th>\n",
       "    </tr>\n",
       "  </thead>\n",
       "  <tbody>\n",
       "    <tr>\n",
       "      <th>0</th>\n",
       "      <td>1</td>\n",
       "      <td>[\"2023-05-27\", \"2023-05-28\", \"2023-05-29\", \"20...</td>\n",
       "      <td>1446852</td>\n",
       "      <td>182</td>\n",
       "    </tr>\n",
       "    <tr>\n",
       "      <th>1</th>\n",
       "      <td>2</td>\n",
       "      <td>[\"2023-05-27\", \"2023-05-29\", \"2023-05-30\", \"20...</td>\n",
       "      <td>1359398</td>\n",
       "      <td>462</td>\n",
       "    </tr>\n",
       "    <tr>\n",
       "      <th>2</th>\n",
       "      <td>3</td>\n",
       "      <td>[\"2023-05-27\", \"2023-05-29\", \"2023-05-30\", \"20...</td>\n",
       "      <td>1501542</td>\n",
       "      <td>126</td>\n",
       "    </tr>\n",
       "    <tr>\n",
       "      <th>3</th>\n",
       "      <td>4</td>\n",
       "      <td>[\"2023-05-27\", \"2023-05-28\", \"2023-05-29\", \"20...</td>\n",
       "      <td>1507767</td>\n",
       "      <td>420</td>\n",
       "    </tr>\n",
       "    <tr>\n",
       "      <th>4</th>\n",
       "      <td>5</td>\n",
       "      <td>[\"2023-05-27\", \"2023-05-28\", \"2023-05-29\", \"20...</td>\n",
       "      <td>1287453</td>\n",
       "      <td>434</td>\n",
       "    </tr>\n",
       "  </tbody>\n",
       "</table>\n",
       "</div>"
      ],
      "text/plain": [
       "   id                               attendance_date_list  user_id  attend_cnt\n",
       "0   1  [\"2023-05-27\", \"2023-05-28\", \"2023-05-29\", \"20...  1446852         182\n",
       "1   2  [\"2023-05-27\", \"2023-05-29\", \"2023-05-30\", \"20...  1359398         462\n",
       "2   3  [\"2023-05-27\", \"2023-05-29\", \"2023-05-30\", \"20...  1501542         126\n",
       "3   4  [\"2023-05-27\", \"2023-05-28\", \"2023-05-29\", \"20...  1507767         420\n",
       "4   5  [\"2023-05-27\", \"2023-05-28\", \"2023-05-29\", \"20...  1287453         434"
      ]
     },
     "execution_count": 8,
     "metadata": {},
     "output_type": "execute_result"
    }
   ],
   "source": [
    "# 유저별 출석 횟수, 첫 출석, 마지막 출석 구하기 \n",
    "check_df = accounts_attendance_df.copy()\n",
    "\n",
    "# # 문자열을 리스트로 변환\n",
    "# check_df['attendance_date_list'] = check_df['attendance_date_list'].apply(ast.literal_eval)\n",
    "\n",
    "# 출석 횟수 \n",
    "check_df['attend_cnt'] = check_df['attendance_date_list'].apply(len)\n",
    "\n",
    "# # 첫 출석일\n",
    "# check_df['first_date'] = check_df['attendance_date_list'].apply(lambda x: pd.to_datetime(x[0]) if x else None)\n",
    "\n",
    "# # 마지막 출석일\n",
    "# check_df['last_date'] = check_df['attendance_date_list'].apply(lambda x: pd.to_datetime(x[-1]) if x else None)\n",
    "\n",
    "# # 마지막 출석 - 첫 출석\n",
    "# # 출석 기간 (일 수)\n",
    "# check_df['attend_period_days'] = (check_df['last_date'] - check_df['first_date']).dt.days\n",
    "\n",
    "check_df.head()"
   ]
  },
  {
   "cell_type": "code",
   "execution_count": 9,
   "id": "6ad68719",
   "metadata": {},
   "outputs": [
    {
     "data": {
      "text/plain": [
       "count    349637.000000\n",
       "mean         89.105181\n",
       "std         128.136129\n",
       "min           2.000000\n",
       "25%          14.000000\n",
       "50%          42.000000\n",
       "75%         112.000000\n",
       "max        4340.000000\n",
       "Name: attend_cnt, dtype: float64"
      ]
     },
     "execution_count": 9,
     "metadata": {},
     "output_type": "execute_result"
    }
   ],
   "source": [
    "check_df['attend_cnt'].describe()"
   ]
  },
  {
   "cell_type": "markdown",
   "id": "7b106123",
   "metadata": {},
   "source": [
    "- 2일만 출석하고 나타나지 않은 경우 존재\n",
    "- 최대 4340일 출석(약 11.9년? 12년.. 이상치!!)"
   ]
  },
  {
   "cell_type": "code",
   "execution_count": null,
   "id": "202f3c06",
   "metadata": {},
   "outputs": [],
   "source": []
  },
  {
   "cell_type": "code",
   "execution_count": null,
   "metadata": {},
   "outputs": [],
   "source": []
  },
  {
   "cell_type": "markdown",
   "id": "1e05d314",
   "metadata": {},
   "source": [
    "# votes/accounts_blockrecord : 차단 기록 테이블"
   ]
  },
  {
   "cell_type": "code",
   "execution_count": 10,
   "id": "e7066739",
   "metadata": {},
   "outputs": [
    {
     "data": {
      "text/html": [
       "<div>\n",
       "<style scoped>\n",
       "    .dataframe tbody tr th:only-of-type {\n",
       "        vertical-align: middle;\n",
       "    }\n",
       "\n",
       "    .dataframe tbody tr th {\n",
       "        vertical-align: top;\n",
       "    }\n",
       "\n",
       "    .dataframe thead th {\n",
       "        text-align: right;\n",
       "    }\n",
       "</style>\n",
       "<table border=\"1\" class=\"dataframe\">\n",
       "  <thead>\n",
       "    <tr style=\"text-align: right;\">\n",
       "      <th></th>\n",
       "      <th>id</th>\n",
       "      <th>reason</th>\n",
       "      <th>created_at</th>\n",
       "      <th>block_user_id</th>\n",
       "      <th>user_id</th>\n",
       "    </tr>\n",
       "  </thead>\n",
       "  <tbody>\n",
       "    <tr>\n",
       "      <th>0</th>\n",
       "      <td>1</td>\n",
       "      <td>그냥...</td>\n",
       "      <td>2023-05-04 23:01:53</td>\n",
       "      <td>867483</td>\n",
       "      <td>878476</td>\n",
       "    </tr>\n",
       "    <tr>\n",
       "      <th>1</th>\n",
       "      <td>2</td>\n",
       "      <td>친구 사이가 어색해짐</td>\n",
       "      <td>2023-05-05 01:17:08</td>\n",
       "      <td>867190</td>\n",
       "      <td>867564</td>\n",
       "    </tr>\n",
       "    <tr>\n",
       "      <th>2</th>\n",
       "      <td>3</td>\n",
       "      <td>나랑 관련 없는 질문을 자꾸 보냄</td>\n",
       "      <td>2023-05-05 01:50:55</td>\n",
       "      <td>875110</td>\n",
       "      <td>875261</td>\n",
       "    </tr>\n",
       "    <tr>\n",
       "      <th>3</th>\n",
       "      <td>6</td>\n",
       "      <td>그냥...</td>\n",
       "      <td>2023-05-05 05:21:52</td>\n",
       "      <td>883696</td>\n",
       "      <td>883511</td>\n",
       "    </tr>\n",
       "    <tr>\n",
       "      <th>4</th>\n",
       "      <td>7</td>\n",
       "      <td>그냥...</td>\n",
       "      <td>2023-05-05 06:40:34</td>\n",
       "      <td>871349</td>\n",
       "      <td>870177</td>\n",
       "    </tr>\n",
       "  </tbody>\n",
       "</table>\n",
       "</div>"
      ],
      "text/plain": [
       "   id              reason          created_at  block_user_id  user_id\n",
       "0   1               그냥... 2023-05-04 23:01:53         867483   878476\n",
       "1   2         친구 사이가 어색해짐 2023-05-05 01:17:08         867190   867564\n",
       "2   3  나랑 관련 없는 질문을 자꾸 보냄 2023-05-05 01:50:55         875110   875261\n",
       "3   6               그냥... 2023-05-05 05:21:52         883696   883511\n",
       "4   7               그냥... 2023-05-05 06:40:34         871349   870177"
      ]
     },
     "metadata": {},
     "output_type": "display_data"
    },
    {
     "data": {
      "text/plain": [
       "(19482, 5)"
      ]
     },
     "execution_count": 10,
     "metadata": {},
     "output_type": "execute_result"
    }
   ],
   "source": [
    "# GCS 파일 경로\n",
    "gcs_path = \"gs://codeit-project/votes/accounts_blockrecord.parquet\"\n",
    "# 데이터 불러오기\n",
    "accounts_blockrecord_df = pd.read_parquet(gcs_path, storage_options={\"token\": key_path})\n",
    "\n",
    "# 확인\n",
    "display(accounts_blockrecord_df.head())\n",
    "accounts_blockrecord_df.shape"
   ]
  },
  {
   "cell_type": "code",
   "execution_count": 11,
   "id": "7930e303",
   "metadata": {},
   "outputs": [
    {
     "name": "stdout",
     "output_type": "stream",
     "text": [
      "<class 'pandas.core.frame.DataFrame'>\n",
      "RangeIndex: 19482 entries, 0 to 19481\n",
      "Data columns (total 5 columns):\n",
      " #   Column         Non-Null Count  Dtype         \n",
      "---  ------         --------------  -----         \n",
      " 0   id             19482 non-null  int64         \n",
      " 1   reason         19482 non-null  object        \n",
      " 2   created_at     19482 non-null  datetime64[ns]\n",
      " 3   block_user_id  19482 non-null  int64         \n",
      " 4   user_id        19482 non-null  int64         \n",
      "dtypes: datetime64[ns](1), int64(3), object(1)\n",
      "memory usage: 761.1+ KB\n"
     ]
    }
   ],
   "source": [
    "accounts_blockrecord_df.info() # 결측치 없음"
   ]
  },
  {
   "cell_type": "code",
   "execution_count": 12,
   "id": "48ad7ee7",
   "metadata": {},
   "outputs": [
    {
     "data": {
      "text/html": [
       "<div>\n",
       "<style scoped>\n",
       "    .dataframe tbody tr th:only-of-type {\n",
       "        vertical-align: middle;\n",
       "    }\n",
       "\n",
       "    .dataframe tbody tr th {\n",
       "        vertical-align: top;\n",
       "    }\n",
       "\n",
       "    .dataframe thead th {\n",
       "        text-align: right;\n",
       "    }\n",
       "</style>\n",
       "<table border=\"1\" class=\"dataframe\">\n",
       "  <thead>\n",
       "    <tr style=\"text-align: right;\">\n",
       "      <th></th>\n",
       "      <th>id</th>\n",
       "      <th>created_at</th>\n",
       "      <th>block_user_id</th>\n",
       "      <th>user_id</th>\n",
       "    </tr>\n",
       "  </thead>\n",
       "  <tbody>\n",
       "    <tr>\n",
       "      <th>count</th>\n",
       "      <td>19482.000000</td>\n",
       "      <td>19482</td>\n",
       "      <td>1.948200e+04</td>\n",
       "      <td>1.948200e+04</td>\n",
       "    </tr>\n",
       "    <tr>\n",
       "      <th>mean</th>\n",
       "      <td>12694.563495</td>\n",
       "      <td>2023-05-25 19:12:26.516579584</td>\n",
       "      <td>1.183576e+06</td>\n",
       "      <td>1.175780e+06</td>\n",
       "    </tr>\n",
       "    <tr>\n",
       "      <th>min</th>\n",
       "      <td>1.000000</td>\n",
       "      <td>2023-05-04 23:01:53</td>\n",
       "      <td>8.327400e+05</td>\n",
       "      <td>8.376150e+05</td>\n",
       "    </tr>\n",
       "    <tr>\n",
       "      <th>25%</th>\n",
       "      <td>6514.250000</td>\n",
       "      <td>2023-05-14 02:19:01</td>\n",
       "      <td>1.001336e+06</td>\n",
       "      <td>9.890410e+05</td>\n",
       "    </tr>\n",
       "    <tr>\n",
       "      <th>50%</th>\n",
       "      <td>12731.000000</td>\n",
       "      <td>2023-05-22 11:37:20</td>\n",
       "      <td>1.173390e+06</td>\n",
       "      <td>1.160726e+06</td>\n",
       "    </tr>\n",
       "    <tr>\n",
       "      <th>75%</th>\n",
       "      <td>18984.750000</td>\n",
       "      <td>2023-05-28 11:04:33</td>\n",
       "      <td>1.357468e+06</td>\n",
       "      <td>1.345758e+06</td>\n",
       "    </tr>\n",
       "    <tr>\n",
       "      <th>max</th>\n",
       "      <td>25361.000000</td>\n",
       "      <td>2024-05-06 13:03:37</td>\n",
       "      <td>1.582869e+06</td>\n",
       "      <td>1.583612e+06</td>\n",
       "    </tr>\n",
       "    <tr>\n",
       "      <th>std</th>\n",
       "      <td>7220.338199</td>\n",
       "      <td>NaN</td>\n",
       "      <td>2.049517e+05</td>\n",
       "      <td>2.043189e+05</td>\n",
       "    </tr>\n",
       "  </tbody>\n",
       "</table>\n",
       "</div>"
      ],
      "text/plain": [
       "                 id                     created_at  block_user_id  \\\n",
       "count  19482.000000                          19482   1.948200e+04   \n",
       "mean   12694.563495  2023-05-25 19:12:26.516579584   1.183576e+06   \n",
       "min        1.000000            2023-05-04 23:01:53   8.327400e+05   \n",
       "25%     6514.250000            2023-05-14 02:19:01   1.001336e+06   \n",
       "50%    12731.000000            2023-05-22 11:37:20   1.173390e+06   \n",
       "75%    18984.750000            2023-05-28 11:04:33   1.357468e+06   \n",
       "max    25361.000000            2024-05-06 13:03:37   1.582869e+06   \n",
       "std     7220.338199                            NaN   2.049517e+05   \n",
       "\n",
       "            user_id  \n",
       "count  1.948200e+04  \n",
       "mean   1.175780e+06  \n",
       "min    8.376150e+05  \n",
       "25%    9.890410e+05  \n",
       "50%    1.160726e+06  \n",
       "75%    1.345758e+06  \n",
       "max    1.583612e+06  \n",
       "std    2.043189e+05  "
      ]
     },
     "execution_count": 12,
     "metadata": {},
     "output_type": "execute_result"
    }
   ],
   "source": [
    "accounts_blockrecord_df.describe() "
   ]
  },
  {
   "cell_type": "markdown",
   "id": "9a522f08",
   "metadata": {},
   "source": [
    "- 2023-05-04 ~ 2024-05-06 데이터"
   ]
  },
  {
   "cell_type": "code",
   "execution_count": 13,
   "id": "839ba5b0",
   "metadata": {},
   "outputs": [
    {
     "data": {
      "text/plain": [
       "np.int64(0)"
      ]
     },
     "execution_count": 13,
     "metadata": {},
     "output_type": "execute_result"
    }
   ],
   "source": [
    "accounts_blockrecord_df.duplicated().sum() # 중복값 없음"
   ]
  },
  {
   "cell_type": "code",
   "execution_count": 14,
   "id": "af98538f",
   "metadata": {},
   "outputs": [
    {
     "data": {
      "text/plain": [
       "reason\n",
       "모르는 사람임               9640\n",
       "친구 사이가 어색해짐           5805\n",
       "사칭 계정                 2022\n",
       "나랑 관련 없는 질문을 자꾸 보냄    1083\n",
       "너무 많은 양의 질문을 보냄        919\n",
       "기타                       7\n",
       "그냥...                    6\n",
       "Name: count, dtype: int64"
      ]
     },
     "execution_count": 14,
     "metadata": {},
     "output_type": "execute_result"
    }
   ],
   "source": [
    "# 차단한 이유별 건수\n",
    "accounts_blockrecord_df['reason'].value_counts()"
   ]
  },
  {
   "cell_type": "markdown",
   "id": "6206fdb6",
   "metadata": {},
   "source": [
    "- \"모르는 사람임\" 이유 1위 -> 모르는 사람인데도 차단하기 이전에 친구가 된건가??\n",
    "- \"친구 사이가 어색해짐\" 이유 2위 -> 10대 청소년의 친구관계의 문제? "
   ]
  },
  {
   "cell_type": "code",
   "execution_count": 15,
   "id": "5631e105",
   "metadata": {},
   "outputs": [
    {
     "data": {
      "text/plain": [
       "year_month\n",
       "2023-05    16442\n",
       "2023-06     2262\n",
       "2023-07      410\n",
       "2023-08      159\n",
       "2023-09      103\n",
       "2023-10       11\n",
       "2023-11       16\n",
       "2023-12        9\n",
       "2024-01        9\n",
       "2024-02       12\n",
       "2024-03       35\n",
       "2024-04       12\n",
       "2024-05        2\n",
       "Freq: M, Name: count, dtype: int64"
      ]
     },
     "execution_count": 15,
     "metadata": {},
     "output_type": "execute_result"
    }
   ],
   "source": [
    "# 년-월별 차단 건수 체크 \n",
    "check_df = accounts_blockrecord_df.copy()\n",
    "check_df['year_month'] = check_df['created_at'].dt.to_period('M')\n",
    "check_df['year_month'].value_counts().sort_index()"
   ]
  },
  {
   "cell_type": "markdown",
   "id": "7a0798f9",
   "metadata": {},
   "source": [
    "- 갈수록 차단 건수가 줄어듦\n",
    "- 2023-05에 차단 건수 가장 많았음(16,442건)"
   ]
  },
  {
   "cell_type": "markdown",
   "id": "a7b1c937",
   "metadata": {},
   "source": [
    "# votes/accounts_failpaymenthistory : 상품 구매 실패 기록 테이블"
   ]
  },
  {
   "cell_type": "code",
   "execution_count": 48,
   "id": "dddde60e",
   "metadata": {},
   "outputs": [
    {
     "data": {
      "text/html": [
       "<div>\n",
       "<style scoped>\n",
       "    .dataframe tbody tr th:only-of-type {\n",
       "        vertical-align: middle;\n",
       "    }\n",
       "\n",
       "    .dataframe tbody tr th {\n",
       "        vertical-align: top;\n",
       "    }\n",
       "\n",
       "    .dataframe thead th {\n",
       "        text-align: right;\n",
       "    }\n",
       "</style>\n",
       "<table border=\"1\" class=\"dataframe\">\n",
       "  <thead>\n",
       "    <tr style=\"text-align: right;\">\n",
       "      <th></th>\n",
       "      <th>id</th>\n",
       "      <th>productId</th>\n",
       "      <th>phone_type</th>\n",
       "      <th>created_at</th>\n",
       "      <th>user_id</th>\n",
       "    </tr>\n",
       "  </thead>\n",
       "  <tbody>\n",
       "    <tr>\n",
       "      <th>0</th>\n",
       "      <td>6</td>\n",
       "      <td>heart.200</td>\n",
       "      <td>A</td>\n",
       "      <td>2023-05-14 05:49:22</td>\n",
       "      <td>1055891</td>\n",
       "    </tr>\n",
       "    <tr>\n",
       "      <th>1</th>\n",
       "      <td>7</td>\n",
       "      <td>heart.777</td>\n",
       "      <td>A</td>\n",
       "      <td>2023-05-14 08:17:21</td>\n",
       "      <td>1152151</td>\n",
       "    </tr>\n",
       "    <tr>\n",
       "      <th>2</th>\n",
       "      <td>8</td>\n",
       "      <td>heart.777</td>\n",
       "      <td>A</td>\n",
       "      <td>2023-05-14 10:11:46</td>\n",
       "      <td>986200</td>\n",
       "    </tr>\n",
       "    <tr>\n",
       "      <th>3</th>\n",
       "      <td>9</td>\n",
       "      <td>heart.1000</td>\n",
       "      <td>A</td>\n",
       "      <td>2023-05-14 11:53:09</td>\n",
       "      <td>1028261</td>\n",
       "    </tr>\n",
       "    <tr>\n",
       "      <th>4</th>\n",
       "      <td>10</td>\n",
       "      <td>heart.777</td>\n",
       "      <td>A</td>\n",
       "      <td>2023-05-14 12:30:47</td>\n",
       "      <td>1235730</td>\n",
       "    </tr>\n",
       "  </tbody>\n",
       "</table>\n",
       "</div>"
      ],
      "text/plain": [
       "   id   productId phone_type          created_at  user_id\n",
       "0   6   heart.200          A 2023-05-14 05:49:22  1055891\n",
       "1   7   heart.777          A 2023-05-14 08:17:21  1152151\n",
       "2   8   heart.777          A 2023-05-14 10:11:46   986200\n",
       "3   9  heart.1000          A 2023-05-14 11:53:09  1028261\n",
       "4  10   heart.777          A 2023-05-14 12:30:47  1235730"
      ]
     },
     "metadata": {},
     "output_type": "display_data"
    },
    {
     "data": {
      "text/plain": [
       "(163, 5)"
      ]
     },
     "execution_count": 48,
     "metadata": {},
     "output_type": "execute_result"
    }
   ],
   "source": [
    "# GCS 파일 경로\n",
    "gcs_path = \"gs://codeit-project/votes/accounts_failpaymenthistory.parquet\"\n",
    "# 데이터 불러오기\n",
    "accounts_failpaymenthistory_df = pd.read_parquet(gcs_path, storage_options={\"token\": key_path})\n",
    "\n",
    "# 확인\n",
    "display(accounts_failpaymenthistory_df.head())\n",
    "accounts_failpaymenthistory_df.shape"
   ]
  },
  {
   "cell_type": "code",
   "execution_count": null,
   "id": "8f301324",
   "metadata": {},
   "outputs": [
    {
     "name": "stdout",
     "output_type": "stream",
     "text": [
      "<class 'pandas.core.frame.DataFrame'>\n",
      "RangeIndex: 163 entries, 0 to 162\n",
      "Data columns (total 5 columns):\n",
      " #   Column      Non-Null Count  Dtype         \n",
      "---  ------      --------------  -----         \n",
      " 0   id          163 non-null    int64         \n",
      " 1   productId   56 non-null     object        \n",
      " 2   phone_type  163 non-null    object        \n",
      " 3   created_at  163 non-null    datetime64[ns]\n",
      " 4   user_id     163 non-null    int64         \n",
      "dtypes: datetime64[ns](1), int64(2), object(2)\n",
      "memory usage: 6.5+ KB\n"
     ]
    }
   ],
   "source": [
    "accounts_failpaymenthistory_df.info() # procudtId 결측치 존재"
   ]
  },
  {
   "cell_type": "code",
   "execution_count": 52,
   "id": "3e64529d",
   "metadata": {},
   "outputs": [
    {
     "data": {
      "text/html": [
       "<div>\n",
       "<style scoped>\n",
       "    .dataframe tbody tr th:only-of-type {\n",
       "        vertical-align: middle;\n",
       "    }\n",
       "\n",
       "    .dataframe tbody tr th {\n",
       "        vertical-align: top;\n",
       "    }\n",
       "\n",
       "    .dataframe thead th {\n",
       "        text-align: right;\n",
       "    }\n",
       "</style>\n",
       "<table border=\"1\" class=\"dataframe\">\n",
       "  <thead>\n",
       "    <tr style=\"text-align: right;\">\n",
       "      <th></th>\n",
       "      <th>id</th>\n",
       "      <th>created_at</th>\n",
       "      <th>user_id</th>\n",
       "    </tr>\n",
       "  </thead>\n",
       "  <tbody>\n",
       "    <tr>\n",
       "      <th>count</th>\n",
       "      <td>163.000000</td>\n",
       "      <td>163</td>\n",
       "      <td>1.630000e+02</td>\n",
       "    </tr>\n",
       "    <tr>\n",
       "      <th>mean</th>\n",
       "      <td>89.828221</td>\n",
       "      <td>2023-05-27 11:32:20.828220672</td>\n",
       "      <td>1.263685e+06</td>\n",
       "    </tr>\n",
       "    <tr>\n",
       "      <th>min</th>\n",
       "      <td>6.000000</td>\n",
       "      <td>2023-05-14 05:49:22</td>\n",
       "      <td>8.341120e+05</td>\n",
       "    </tr>\n",
       "    <tr>\n",
       "      <th>25%</th>\n",
       "      <td>48.500000</td>\n",
       "      <td>2023-05-18 11:34:05</td>\n",
       "      <td>1.152704e+06</td>\n",
       "    </tr>\n",
       "    <tr>\n",
       "      <th>50%</th>\n",
       "      <td>89.000000</td>\n",
       "      <td>2023-05-22 08:54:33</td>\n",
       "      <td>1.273301e+06</td>\n",
       "    </tr>\n",
       "    <tr>\n",
       "      <th>75%</th>\n",
       "      <td>131.500000</td>\n",
       "      <td>2023-05-29 12:58:21.500000</td>\n",
       "      <td>1.398432e+06</td>\n",
       "    </tr>\n",
       "    <tr>\n",
       "      <th>max</th>\n",
       "      <td>174.000000</td>\n",
       "      <td>2023-09-17 09:12:53</td>\n",
       "      <td>1.575434e+06</td>\n",
       "    </tr>\n",
       "    <tr>\n",
       "      <th>std</th>\n",
       "      <td>48.494316</td>\n",
       "      <td>NaN</td>\n",
       "      <td>1.824636e+05</td>\n",
       "    </tr>\n",
       "  </tbody>\n",
       "</table>\n",
       "</div>"
      ],
      "text/plain": [
       "               id                     created_at       user_id\n",
       "count  163.000000                            163  1.630000e+02\n",
       "mean    89.828221  2023-05-27 11:32:20.828220672  1.263685e+06\n",
       "min      6.000000            2023-05-14 05:49:22  8.341120e+05\n",
       "25%     48.500000            2023-05-18 11:34:05  1.152704e+06\n",
       "50%     89.000000            2023-05-22 08:54:33  1.273301e+06\n",
       "75%    131.500000     2023-05-29 12:58:21.500000  1.398432e+06\n",
       "max    174.000000            2023-09-17 09:12:53  1.575434e+06\n",
       "std     48.494316                            NaN  1.824636e+05"
      ]
     },
     "execution_count": 52,
     "metadata": {},
     "output_type": "execute_result"
    }
   ],
   "source": [
    "accounts_failpaymenthistory_df.describe()"
   ]
  },
  {
   "cell_type": "markdown",
   "id": "ba52d496",
   "metadata": {},
   "source": [
    "- 2023-05-27 ~ 2023-09-17 데이터"
   ]
  },
  {
   "cell_type": "code",
   "execution_count": null,
   "id": "135e6fab",
   "metadata": {},
   "outputs": [
    {
     "data": {
      "text/plain": [
       "array(['heart.200', 'heart.777', 'heart.1000', None], dtype=object)"
      ]
     },
     "execution_count": 50,
     "metadata": {},
     "output_type": "execute_result"
    }
   ],
   "source": [
    "accounts_failpaymenthistory_df['productId'].unique() # 상품  = 하트?  "
   ]
  },
  {
   "cell_type": "code",
   "execution_count": null,
   "id": "8fae6788",
   "metadata": {},
   "outputs": [
    {
     "data": {
      "text/plain": [
       "array(['A', 'I'], dtype=object)"
      ]
     },
     "execution_count": 51,
     "metadata": {},
     "output_type": "execute_result"
    }
   ],
   "source": [
    "accounts_failpaymenthistory_df['phone_type'].unique() # A : 안드로이드, I : ios 추정"
   ]
  },
  {
   "cell_type": "code",
   "execution_count": null,
   "id": "20944388",
   "metadata": {},
   "outputs": [
    {
     "data": {
      "text/plain": [
       "year_month\n",
       "2023-05    141\n",
       "2023-06     14\n",
       "2023-07      4\n",
       "2023-08      2\n",
       "2023-09      2\n",
       "Freq: M, Name: count, dtype: int64"
      ]
     },
     "execution_count": 53,
     "metadata": {},
     "output_type": "execute_result"
    }
   ],
   "source": [
    "# 년-월별 상품 구매 실패 건수 체크 \n",
    "check_df = accounts_failpaymenthistory_df.copy()\n",
    "check_df['year_month'] = check_df['created_at'].dt.to_period('M')\n",
    "check_df['year_month'].value_counts().sort_index()"
   ]
  },
  {
   "cell_type": "markdown",
   "id": "b8af2a99",
   "metadata": {},
   "source": [
    "- 2023-05에 가장 구매 실패 기록 많음"
   ]
  },
  {
   "cell_type": "markdown",
   "id": "13e66461",
   "metadata": {},
   "source": [
    "# votes/accounts_friendrequest 친구 요청 테이블"
   ]
  },
  {
   "cell_type": "code",
   "execution_count": 54,
   "id": "c034a024",
   "metadata": {},
   "outputs": [
    {
     "data": {
      "text/html": [
       "<div>\n",
       "<style scoped>\n",
       "    .dataframe tbody tr th:only-of-type {\n",
       "        vertical-align: middle;\n",
       "    }\n",
       "\n",
       "    .dataframe tbody tr th {\n",
       "        vertical-align: top;\n",
       "    }\n",
       "\n",
       "    .dataframe thead th {\n",
       "        text-align: right;\n",
       "    }\n",
       "</style>\n",
       "<table border=\"1\" class=\"dataframe\">\n",
       "  <thead>\n",
       "    <tr style=\"text-align: right;\">\n",
       "      <th></th>\n",
       "      <th>id</th>\n",
       "      <th>status</th>\n",
       "      <th>created_at</th>\n",
       "      <th>updated_at</th>\n",
       "      <th>receive_user_id</th>\n",
       "      <th>send_user_id</th>\n",
       "    </tr>\n",
       "  </thead>\n",
       "  <tbody>\n",
       "    <tr>\n",
       "      <th>0</th>\n",
       "      <td>7</td>\n",
       "      <td>P</td>\n",
       "      <td>2023-04-17 18:29:11</td>\n",
       "      <td>2023-04-17 18:29:11</td>\n",
       "      <td>831962</td>\n",
       "      <td>837521</td>\n",
       "    </tr>\n",
       "    <tr>\n",
       "      <th>1</th>\n",
       "      <td>10</td>\n",
       "      <td>A</td>\n",
       "      <td>2023-04-17 18:29:11</td>\n",
       "      <td>2023-04-22 06:02:53</td>\n",
       "      <td>832151</td>\n",
       "      <td>837521</td>\n",
       "    </tr>\n",
       "    <tr>\n",
       "      <th>2</th>\n",
       "      <td>11</td>\n",
       "      <td>A</td>\n",
       "      <td>2023-04-17 18:29:11</td>\n",
       "      <td>2023-04-18 19:28:41</td>\n",
       "      <td>832340</td>\n",
       "      <td>837521</td>\n",
       "    </tr>\n",
       "    <tr>\n",
       "      <th>3</th>\n",
       "      <td>13</td>\n",
       "      <td>A</td>\n",
       "      <td>2023-04-17 18:29:11</td>\n",
       "      <td>2023-04-19 11:05:04</td>\n",
       "      <td>833041</td>\n",
       "      <td>837521</td>\n",
       "    </tr>\n",
       "    <tr>\n",
       "      <th>4</th>\n",
       "      <td>20</td>\n",
       "      <td>P</td>\n",
       "      <td>2023-04-17 18:29:11</td>\n",
       "      <td>2023-04-17 18:29:11</td>\n",
       "      <td>834415</td>\n",
       "      <td>837521</td>\n",
       "    </tr>\n",
       "  </tbody>\n",
       "</table>\n",
       "</div>"
      ],
      "text/plain": [
       "   id status          created_at          updated_at  receive_user_id  \\\n",
       "0   7      P 2023-04-17 18:29:11 2023-04-17 18:29:11           831962   \n",
       "1  10      A 2023-04-17 18:29:11 2023-04-22 06:02:53           832151   \n",
       "2  11      A 2023-04-17 18:29:11 2023-04-18 19:28:41           832340   \n",
       "3  13      A 2023-04-17 18:29:11 2023-04-19 11:05:04           833041   \n",
       "4  20      P 2023-04-17 18:29:11 2023-04-17 18:29:11           834415   \n",
       "\n",
       "   send_user_id  \n",
       "0        837521  \n",
       "1        837521  \n",
       "2        837521  \n",
       "3        837521  \n",
       "4        837521  "
      ]
     },
     "metadata": {},
     "output_type": "display_data"
    },
    {
     "data": {
      "text/plain": [
       "(17147175, 6)"
      ]
     },
     "execution_count": 54,
     "metadata": {},
     "output_type": "execute_result"
    }
   ],
   "source": [
    "# GCS 파일 경로\n",
    "gcs_path = \"gs://codeit-project/votes/accounts_friendrequest.parquet\"\n",
    "# 데이터 불러오기\n",
    "accounts_friendrequest_df = pd.read_parquet(gcs_path, storage_options={\"token\": key_path})\n",
    "\n",
    "# 확인\n",
    "display(accounts_friendrequest_df.head())\n",
    "accounts_friendrequest_df.shape"
   ]
  },
  {
   "cell_type": "code",
   "execution_count": null,
   "id": "6c3c6707",
   "metadata": {},
   "outputs": [],
   "source": [
    "# 진행중"
   ]
  },
  {
   "cell_type": "code",
   "execution_count": null,
   "id": "a4c9946c",
   "metadata": {},
   "outputs": [],
   "source": []
  },
  {
   "cell_type": "code",
   "execution_count": null,
   "id": "5fc2372d",
   "metadata": {},
   "outputs": [],
   "source": []
  },
  {
   "cell_type": "markdown",
   "id": "5dd70804",
   "metadata": {},
   "source": [
    "# votes/accounts_timelinereport : 유저 신고기록 테이블"
   ]
  },
  {
   "cell_type": "code",
   "execution_count": 16,
   "id": "84bc4dfa",
   "metadata": {},
   "outputs": [
    {
     "data": {
      "text/html": [
       "<div>\n",
       "<style scoped>\n",
       "    .dataframe tbody tr th:only-of-type {\n",
       "        vertical-align: middle;\n",
       "    }\n",
       "\n",
       "    .dataframe tbody tr th {\n",
       "        vertical-align: top;\n",
       "    }\n",
       "\n",
       "    .dataframe thead th {\n",
       "        text-align: right;\n",
       "    }\n",
       "</style>\n",
       "<table border=\"1\" class=\"dataframe\">\n",
       "  <thead>\n",
       "    <tr style=\"text-align: right;\">\n",
       "      <th></th>\n",
       "      <th>id</th>\n",
       "      <th>reason</th>\n",
       "      <th>created_at</th>\n",
       "      <th>reported_user_id</th>\n",
       "      <th>user_id</th>\n",
       "      <th>user_question_record_id</th>\n",
       "    </tr>\n",
       "  </thead>\n",
       "  <tbody>\n",
       "    <tr>\n",
       "      <th>0</th>\n",
       "      <td>28</td>\n",
       "      <td>타인을 사칭함</td>\n",
       "      <td>2023-05-06 04:44:57</td>\n",
       "      <td>874587</td>\n",
       "      <td>885082</td>\n",
       "      <td>3920588</td>\n",
       "    </tr>\n",
       "    <tr>\n",
       "      <th>1</th>\n",
       "      <td>37</td>\n",
       "      <td>친구를 비하하거나 조롱하는 어투</td>\n",
       "      <td>2023-05-06 05:41:19</td>\n",
       "      <td>881048</td>\n",
       "      <td>881298</td>\n",
       "      <td>4018679</td>\n",
       "    </tr>\n",
       "    <tr>\n",
       "      <th>2</th>\n",
       "      <td>46</td>\n",
       "      <td>친구를 비하하거나 조롱하는 어투</td>\n",
       "      <td>2023-05-06 06:26:59</td>\n",
       "      <td>887882</td>\n",
       "      <td>881945</td>\n",
       "      <td>4120914</td>\n",
       "    </tr>\n",
       "    <tr>\n",
       "      <th>3</th>\n",
       "      <td>64</td>\n",
       "      <td>허위 사실 언급</td>\n",
       "      <td>2023-05-06 07:07:46</td>\n",
       "      <td>888610</td>\n",
       "      <td>893684</td>\n",
       "      <td>4143049</td>\n",
       "    </tr>\n",
       "    <tr>\n",
       "      <th>4</th>\n",
       "      <td>65</td>\n",
       "      <td>허위 사실 언급</td>\n",
       "      <td>2023-05-06 07:07:52</td>\n",
       "      <td>888610</td>\n",
       "      <td>893684</td>\n",
       "      <td>4143049</td>\n",
       "    </tr>\n",
       "  </tbody>\n",
       "</table>\n",
       "</div>"
      ],
      "text/plain": [
       "   id             reason          created_at  reported_user_id  user_id  \\\n",
       "0  28            타인을 사칭함 2023-05-06 04:44:57            874587   885082   \n",
       "1  37  친구를 비하하거나 조롱하는 어투 2023-05-06 05:41:19            881048   881298   \n",
       "2  46  친구를 비하하거나 조롱하는 어투 2023-05-06 06:26:59            887882   881945   \n",
       "3  64           허위 사실 언급 2023-05-06 07:07:46            888610   893684   \n",
       "4  65           허위 사실 언급 2023-05-06 07:07:52            888610   893684   \n",
       "\n",
       "   user_question_record_id  \n",
       "0                  3920588  \n",
       "1                  4018679  \n",
       "2                  4120914  \n",
       "3                  4143049  \n",
       "4                  4143049  "
      ]
     },
     "metadata": {},
     "output_type": "display_data"
    },
    {
     "data": {
      "text/plain": [
       "(208, 6)"
      ]
     },
     "execution_count": 16,
     "metadata": {},
     "output_type": "execute_result"
    }
   ],
   "source": [
    "# GCS 파일 경로\n",
    "gcs_path = \"gs://codeit-project/votes/accounts_timelinereport.parquet\"\n",
    "# 데이터 불러오기\n",
    "accounts_timelinereport_df = pd.read_parquet(gcs_path, storage_options={\"token\": key_path})\n",
    "\n",
    "# 확인\n",
    "display(accounts_timelinereport_df.head())\n",
    "accounts_timelinereport_df.shape"
   ]
  },
  {
   "cell_type": "code",
   "execution_count": 17,
   "id": "eef5f378",
   "metadata": {},
   "outputs": [
    {
     "name": "stdout",
     "output_type": "stream",
     "text": [
      "<class 'pandas.core.frame.DataFrame'>\n",
      "RangeIndex: 208 entries, 0 to 207\n",
      "Data columns (total 6 columns):\n",
      " #   Column                   Non-Null Count  Dtype         \n",
      "---  ------                   --------------  -----         \n",
      " 0   id                       208 non-null    int64         \n",
      " 1   reason                   208 non-null    object        \n",
      " 2   created_at               208 non-null    datetime64[ns]\n",
      " 3   reported_user_id         208 non-null    int64         \n",
      " 4   user_id                  208 non-null    int64         \n",
      " 5   user_question_record_id  208 non-null    int64         \n",
      "dtypes: datetime64[ns](1), int64(4), object(1)\n",
      "memory usage: 9.9+ KB\n"
     ]
    }
   ],
   "source": [
    "accounts_timelinereport_df.info() # 결측치 없음 "
   ]
  },
  {
   "cell_type": "code",
   "execution_count": 18,
   "id": "e6edb857",
   "metadata": {},
   "outputs": [
    {
     "data": {
      "text/html": [
       "<div>\n",
       "<style scoped>\n",
       "    .dataframe tbody tr th:only-of-type {\n",
       "        vertical-align: middle;\n",
       "    }\n",
       "\n",
       "    .dataframe tbody tr th {\n",
       "        vertical-align: top;\n",
       "    }\n",
       "\n",
       "    .dataframe thead th {\n",
       "        text-align: right;\n",
       "    }\n",
       "</style>\n",
       "<table border=\"1\" class=\"dataframe\">\n",
       "  <thead>\n",
       "    <tr style=\"text-align: right;\">\n",
       "      <th></th>\n",
       "      <th>id</th>\n",
       "      <th>created_at</th>\n",
       "      <th>reported_user_id</th>\n",
       "      <th>user_id</th>\n",
       "      <th>user_question_record_id</th>\n",
       "    </tr>\n",
       "  </thead>\n",
       "  <tbody>\n",
       "    <tr>\n",
       "      <th>count</th>\n",
       "      <td>208.000000</td>\n",
       "      <td>208</td>\n",
       "      <td>2.080000e+02</td>\n",
       "      <td>2.080000e+02</td>\n",
       "      <td>2.080000e+02</td>\n",
       "    </tr>\n",
       "    <tr>\n",
       "      <th>mean</th>\n",
       "      <td>9786.269231</td>\n",
       "      <td>2023-05-15 08:13:50.278846208</td>\n",
       "      <td>1.132497e+06</td>\n",
       "      <td>1.159946e+06</td>\n",
       "      <td>4.932558e+07</td>\n",
       "    </tr>\n",
       "    <tr>\n",
       "      <th>min</th>\n",
       "      <td>28.000000</td>\n",
       "      <td>2023-05-06 04:44:57</td>\n",
       "      <td>8.372350e+05</td>\n",
       "      <td>8.340890e+05</td>\n",
       "      <td>3.920588e+06</td>\n",
       "    </tr>\n",
       "    <tr>\n",
       "      <th>25%</th>\n",
       "      <td>6123.750000</td>\n",
       "      <td>2023-05-11 16:41:43.500000</td>\n",
       "      <td>9.664702e+05</td>\n",
       "      <td>9.671202e+05</td>\n",
       "      <td>2.461178e+07</td>\n",
       "    </tr>\n",
       "    <tr>\n",
       "      <th>50%</th>\n",
       "      <td>10095.000000</td>\n",
       "      <td>2023-05-15 01:23:29</td>\n",
       "      <td>1.144432e+06</td>\n",
       "      <td>1.184397e+06</td>\n",
       "      <td>4.740327e+07</td>\n",
       "    </tr>\n",
       "    <tr>\n",
       "      <th>75%</th>\n",
       "      <td>14182.250000</td>\n",
       "      <td>2023-05-18 18:01:18</td>\n",
       "      <td>1.225963e+06</td>\n",
       "      <td>1.291813e+06</td>\n",
       "      <td>7.179578e+07</td>\n",
       "    </tr>\n",
       "    <tr>\n",
       "      <th>max</th>\n",
       "      <td>23108.000000</td>\n",
       "      <td>2023-06-02 08:30:06</td>\n",
       "      <td>1.562736e+06</td>\n",
       "      <td>1.548002e+06</td>\n",
       "      <td>1.407659e+08</td>\n",
       "    </tr>\n",
       "    <tr>\n",
       "      <th>std</th>\n",
       "      <td>5713.767759</td>\n",
       "      <td>NaN</td>\n",
       "      <td>1.694121e+05</td>\n",
       "      <td>1.800959e+05</td>\n",
       "      <td>3.311281e+07</td>\n",
       "    </tr>\n",
       "  </tbody>\n",
       "</table>\n",
       "</div>"
      ],
      "text/plain": [
       "                 id                     created_at  reported_user_id  \\\n",
       "count    208.000000                            208      2.080000e+02   \n",
       "mean    9786.269231  2023-05-15 08:13:50.278846208      1.132497e+06   \n",
       "min       28.000000            2023-05-06 04:44:57      8.372350e+05   \n",
       "25%     6123.750000     2023-05-11 16:41:43.500000      9.664702e+05   \n",
       "50%    10095.000000            2023-05-15 01:23:29      1.144432e+06   \n",
       "75%    14182.250000            2023-05-18 18:01:18      1.225963e+06   \n",
       "max    23108.000000            2023-06-02 08:30:06      1.562736e+06   \n",
       "std     5713.767759                            NaN      1.694121e+05   \n",
       "\n",
       "            user_id  user_question_record_id  \n",
       "count  2.080000e+02             2.080000e+02  \n",
       "mean   1.159946e+06             4.932558e+07  \n",
       "min    8.340890e+05             3.920588e+06  \n",
       "25%    9.671202e+05             2.461178e+07  \n",
       "50%    1.184397e+06             4.740327e+07  \n",
       "75%    1.291813e+06             7.179578e+07  \n",
       "max    1.548002e+06             1.407659e+08  \n",
       "std    1.800959e+05             3.311281e+07  "
      ]
     },
     "execution_count": 18,
     "metadata": {},
     "output_type": "execute_result"
    }
   ],
   "source": [
    "accounts_timelinereport_df.describe()"
   ]
  },
  {
   "cell_type": "markdown",
   "id": "66161ec7",
   "metadata": {},
   "source": [
    "- 2023-05-15 ~ 2023-06-02 데이터 "
   ]
  },
  {
   "cell_type": "code",
   "execution_count": 19,
   "id": "0c410654",
   "metadata": {},
   "outputs": [
    {
     "data": {
      "text/plain": [
       "reported_user_id\n",
       "1138757    15\n",
       "1156031     8\n",
       "1187305     7\n",
       "939196      7\n",
       "885129      6\n",
       "           ..\n",
       "916592      1\n",
       "1479146     1\n",
       "840685      1\n",
       "1448785     1\n",
       "1562736     1\n",
       "Name: count, Length: 125, dtype: int64"
      ]
     },
     "execution_count": 19,
     "metadata": {},
     "output_type": "execute_result"
    }
   ],
   "source": [
    "# 유저별 신고된 개수\n",
    "accounts_timelinereport_df['reported_user_id'].value_counts().sort_values(ascending = False)"
   ]
  },
  {
   "cell_type": "code",
   "execution_count": 20,
   "id": "4e40bf7f",
   "metadata": {},
   "outputs": [
    {
     "name": "stdout",
     "output_type": "stream",
     "text": [
      "reason\n",
      "친구를 비하하거나 조롱하는 어투    15\n",
      "Name: count, dtype: int64\n",
      "------------------------\n",
      "reason\n",
      "선정적이거나 폭력적인 내용    7\n",
      "허위 사실 언급          1\n",
      "Name: count, dtype: int64\n",
      "------------------------\n",
      "reason\n",
      "친구를 비하하거나 조롱하는 어투    3\n",
      "선정적이거나 폭력적인 내용       2\n",
      "허위 사실 언급             1\n",
      "타인을 사칭함              1\n",
      "Name: count, dtype: int64\n",
      "------------------------\n",
      "reason\n",
      "허위 사실 언급    4\n",
      "타인을 사칭함     3\n",
      "Name: count, dtype: int64\n",
      "------------------------\n",
      "reason\n",
      "허위 사실 언급             3\n",
      "친구를 비하하거나 조롱하는 어투    1\n",
      "타인을 사칭함              1\n",
      "선정적이거나 폭력적인 내용       1\n",
      "Name: count, dtype: int64\n"
     ]
    }
   ],
   "source": [
    "# 많이 신고된 유저 경우 탐색  top3\n",
    "print(accounts_timelinereport_df[accounts_timelinereport_df['reported_user_id'] == 1138757]['reason'].value_counts())\n",
    "print(\"------------------------\")\n",
    "print(accounts_timelinereport_df[accounts_timelinereport_df['reported_user_id'] == 1156031]['reason'].value_counts())\n",
    "print(\"------------------------\")\n",
    "print(accounts_timelinereport_df[accounts_timelinereport_df['reported_user_id'] == 1187305]['reason'].value_counts())\n",
    "print(\"------------------------\")\n",
    "print(accounts_timelinereport_df[accounts_timelinereport_df['reported_user_id'] == 939196]['reason'].value_counts())\n",
    "print(\"------------------------\")\n",
    "print(accounts_timelinereport_df[accounts_timelinereport_df['reported_user_id'] == 885129]['reason'].value_counts())"
   ]
  },
  {
   "cell_type": "code",
   "execution_count": 21,
   "id": "80b73f2e",
   "metadata": {},
   "outputs": [
    {
     "data": {
      "text/plain": [
       "reason\n",
       "허위 사실 언급             80\n",
       "친구를 비하하거나 조롱하는 어투    64\n",
       "선정적이거나 폭력적인 내용       39\n",
       "타인을 사칭함              15\n",
       "광고                   10\n",
       "Name: count, dtype: int64"
      ]
     },
     "execution_count": 21,
     "metadata": {},
     "output_type": "execute_result"
    }
   ],
   "source": [
    "# 신고된 이유 별 개수\n",
    "accounts_timelinereport_df['reason'].value_counts().sort_values(ascending = False)"
   ]
  },
  {
   "cell_type": "code",
   "execution_count": 22,
   "id": "fdcf105d",
   "metadata": {},
   "outputs": [
    {
     "data": {
      "text/plain": [
       "year_month\n",
       "2023-05    206\n",
       "2023-06      2\n",
       "Freq: M, Name: count, dtype: int64"
      ]
     },
     "execution_count": 22,
     "metadata": {},
     "output_type": "execute_result"
    }
   ],
   "source": [
    "# 년-월별 차단 건수 체크 \n",
    "## 당연함!!! 23년 5월 데이터가 대부분임 애초에...;; \n",
    "check_df = accounts_timelinereport_df.copy()\n",
    "check_df['year_month'] = check_df['created_at'].dt.to_period('M')\n",
    "check_df['year_month'].value_counts().sort_index()"
   ]
  },
  {
   "cell_type": "code",
   "execution_count": null,
   "id": "0d34b4db",
   "metadata": {},
   "outputs": [],
   "source": []
  },
  {
   "cell_type": "markdown",
   "id": "dc4a538c",
   "metadata": {},
   "source": [
    "# votes/accounts_user : 유저 테이블"
   ]
  },
  {
   "cell_type": "markdown",
   "id": "fec78b8a",
   "metadata": {},
   "source": [
    "| columns            | explain                                     |\n",
    "|--------------------|---------------------------------------------|\n",
    "| is_superuser       | superuser인지 여부                          |\n",
    "| is_staff           | staff인지 여부                              |\n",
    "| firebase_uid       | 과거 firebase 세션관리 할때 사용하는 식별자 |\n",
    "| gender             | 성별                                        |\n",
    "| point              | 포인트                                      |\n",
    "| friend_id_list     | 친구 id 데이터                              |\n",
    "| is_push_on         | 푸시 on/off                                 |\n",
    "| block_user_id_list | 차단한 유저 id 데이터                       |\n",
    "| hide_user_id_list  | 숨김 처리한 유저 id 데이터                  |\n",
    "| ban_status         | 차단 혹은 탈퇴한 유저인지 타입              |\n",
    "| report_count       | 신고 당한 횟수                              |\n",
    "| alarm_count        | 알람 갯수                                   |\n",
    "| pending_chat       | 안 읽은 채팅 갯수                           |\n",
    "| pending_votes      | 확인 안한 투표 갯수                         |\n",
    "| group_id           | 학급 id                                     |\n",
    "| created_at         | 만든 시간                                   |"
   ]
  },
  {
   "cell_type": "code",
   "execution_count": 23,
   "id": "fe690e28",
   "metadata": {},
   "outputs": [
    {
     "data": {
      "text/html": [
       "<div>\n",
       "<style scoped>\n",
       "    .dataframe tbody tr th:only-of-type {\n",
       "        vertical-align: middle;\n",
       "    }\n",
       "\n",
       "    .dataframe tbody tr th {\n",
       "        vertical-align: top;\n",
       "    }\n",
       "\n",
       "    .dataframe thead th {\n",
       "        text-align: right;\n",
       "    }\n",
       "</style>\n",
       "<table border=\"1\" class=\"dataframe\">\n",
       "  <thead>\n",
       "    <tr style=\"text-align: right;\">\n",
       "      <th></th>\n",
       "      <th>id</th>\n",
       "      <th>is_superuser</th>\n",
       "      <th>is_staff</th>\n",
       "      <th>gender</th>\n",
       "      <th>point</th>\n",
       "      <th>friend_id_list</th>\n",
       "      <th>is_push_on</th>\n",
       "      <th>created_at</th>\n",
       "      <th>block_user_id_list</th>\n",
       "      <th>hide_user_id_list</th>\n",
       "      <th>ban_status</th>\n",
       "      <th>report_count</th>\n",
       "      <th>alarm_count</th>\n",
       "      <th>pending_chat</th>\n",
       "      <th>pending_votes</th>\n",
       "      <th>group_id</th>\n",
       "    </tr>\n",
       "  </thead>\n",
       "  <tbody>\n",
       "    <tr>\n",
       "      <th>0</th>\n",
       "      <td>831956</td>\n",
       "      <td>1</td>\n",
       "      <td>1</td>\n",
       "      <td>None</td>\n",
       "      <td>600</td>\n",
       "      <td>[1292473, 913158, 1488461, 1064695, 1043565, 1...</td>\n",
       "      <td>0</td>\n",
       "      <td>2023-03-29 03:44:14.047130</td>\n",
       "      <td>[]</td>\n",
       "      <td>[]</td>\n",
       "      <td>N</td>\n",
       "      <td>0</td>\n",
       "      <td>0</td>\n",
       "      <td>0</td>\n",
       "      <td>0</td>\n",
       "      <td>NaN</td>\n",
       "    </tr>\n",
       "    <tr>\n",
       "      <th>1</th>\n",
       "      <td>831962</td>\n",
       "      <td>0</td>\n",
       "      <td>0</td>\n",
       "      <td>F</td>\n",
       "      <td>2248</td>\n",
       "      <td>[833025, 832642, 982531, 879496, 838541, 83752...</td>\n",
       "      <td>1</td>\n",
       "      <td>2023-03-29 05:18:56.162368</td>\n",
       "      <td>[]</td>\n",
       "      <td>[]</td>\n",
       "      <td>N</td>\n",
       "      <td>253</td>\n",
       "      <td>40878</td>\n",
       "      <td>5499</td>\n",
       "      <td>110</td>\n",
       "      <td>12.0</td>\n",
       "    </tr>\n",
       "    <tr>\n",
       "      <th>2</th>\n",
       "      <td>832151</td>\n",
       "      <td>0</td>\n",
       "      <td>0</td>\n",
       "      <td>M</td>\n",
       "      <td>1519</td>\n",
       "      <td>[838785, 982531, 882567, 879496, 838541, 83649...</td>\n",
       "      <td>0</td>\n",
       "      <td>2023-03-29 12:56:34.989468</td>\n",
       "      <td>[]</td>\n",
       "      <td>[]</td>\n",
       "      <td>N</td>\n",
       "      <td>0</td>\n",
       "      <td>37</td>\n",
       "      <td>0</td>\n",
       "      <td>47</td>\n",
       "      <td>1.0</td>\n",
       "    </tr>\n",
       "    <tr>\n",
       "      <th>3</th>\n",
       "      <td>832340</td>\n",
       "      <td>0</td>\n",
       "      <td>0</td>\n",
       "      <td>F</td>\n",
       "      <td>57</td>\n",
       "      <td>[841345, 982531, 838785, 963714, 882567, 83252...</td>\n",
       "      <td>1</td>\n",
       "      <td>2023-03-29 12:56:35.020790</td>\n",
       "      <td>[]</td>\n",
       "      <td>[]</td>\n",
       "      <td>N</td>\n",
       "      <td>0</td>\n",
       "      <td>19</td>\n",
       "      <td>0</td>\n",
       "      <td>21</td>\n",
       "      <td>1.0</td>\n",
       "    </tr>\n",
       "    <tr>\n",
       "      <th>4</th>\n",
       "      <td>832520</td>\n",
       "      <td>0</td>\n",
       "      <td>0</td>\n",
       "      <td>M</td>\n",
       "      <td>1039</td>\n",
       "      <td>[874050, 849763, 874212, 844297, 838541, 84004...</td>\n",
       "      <td>0</td>\n",
       "      <td>2023-03-29 12:56:35.049311</td>\n",
       "      <td>[]</td>\n",
       "      <td>[]</td>\n",
       "      <td>N</td>\n",
       "      <td>0</td>\n",
       "      <td>29</td>\n",
       "      <td>0</td>\n",
       "      <td>15</td>\n",
       "      <td>12.0</td>\n",
       "    </tr>\n",
       "  </tbody>\n",
       "</table>\n",
       "</div>"
      ],
      "text/plain": [
       "       id  is_superuser  is_staff gender  point  \\\n",
       "0  831956             1         1   None    600   \n",
       "1  831962             0         0      F   2248   \n",
       "2  832151             0         0      M   1519   \n",
       "3  832340             0         0      F     57   \n",
       "4  832520             0         0      M   1039   \n",
       "\n",
       "                                      friend_id_list  is_push_on  \\\n",
       "0  [1292473, 913158, 1488461, 1064695, 1043565, 1...           0   \n",
       "1  [833025, 832642, 982531, 879496, 838541, 83752...           1   \n",
       "2  [838785, 982531, 882567, 879496, 838541, 83649...           0   \n",
       "3  [841345, 982531, 838785, 963714, 882567, 83252...           1   \n",
       "4  [874050, 849763, 874212, 844297, 838541, 84004...           0   \n",
       "\n",
       "                  created_at block_user_id_list hide_user_id_list ban_status  \\\n",
       "0 2023-03-29 03:44:14.047130                 []                []          N   \n",
       "1 2023-03-29 05:18:56.162368                 []                []          N   \n",
       "2 2023-03-29 12:56:34.989468                 []                []          N   \n",
       "3 2023-03-29 12:56:35.020790                 []                []          N   \n",
       "4 2023-03-29 12:56:35.049311                 []                []          N   \n",
       "\n",
       "   report_count  alarm_count  pending_chat  pending_votes  group_id  \n",
       "0             0            0             0              0       NaN  \n",
       "1           253        40878          5499            110      12.0  \n",
       "2             0           37             0             47       1.0  \n",
       "3             0           19             0             21       1.0  \n",
       "4             0           29             0             15      12.0  "
      ]
     },
     "metadata": {},
     "output_type": "display_data"
    },
    {
     "data": {
      "text/plain": [
       "(677085, 16)"
      ]
     },
     "execution_count": 23,
     "metadata": {},
     "output_type": "execute_result"
    }
   ],
   "source": [
    "# GCS 파일 경로\n",
    "gcs_path = \"gs://codeit-project/votes/accounts_user.parquet\"\n",
    "# 데이터 불러오기\n",
    "accounts_user_df = pd.read_parquet(gcs_path, storage_options={\"token\": key_path})\n",
    "\n",
    "# 확인\n",
    "display(accounts_user_df.head())\n",
    "accounts_user_df.shape"
   ]
  },
  {
   "cell_type": "code",
   "execution_count": 24,
   "id": "bacccded",
   "metadata": {},
   "outputs": [
    {
     "name": "stdout",
     "output_type": "stream",
     "text": [
      "<class 'pandas.core.frame.DataFrame'>\n",
      "RangeIndex: 677085 entries, 0 to 677084\n",
      "Data columns (total 16 columns):\n",
      " #   Column              Non-Null Count   Dtype         \n",
      "---  ------              --------------   -----         \n",
      " 0   id                  677085 non-null  int64         \n",
      " 1   is_superuser        677085 non-null  int64         \n",
      " 2   is_staff            677085 non-null  int64         \n",
      " 3   gender              677083 non-null  object        \n",
      " 4   point               677085 non-null  int64         \n",
      " 5   friend_id_list      677085 non-null  object        \n",
      " 6   is_push_on          677085 non-null  int64         \n",
      " 7   created_at          677085 non-null  datetime64[ns]\n",
      " 8   block_user_id_list  677085 non-null  object        \n",
      " 9   hide_user_id_list   677085 non-null  object        \n",
      " 10  ban_status          677085 non-null  object        \n",
      " 11  report_count        677085 non-null  int64         \n",
      " 12  alarm_count         677085 non-null  int64         \n",
      " 13  pending_chat        677085 non-null  int64         \n",
      " 14  pending_votes       677085 non-null  int64         \n",
      " 15  group_id            677082 non-null  float64       \n",
      "dtypes: datetime64[ns](1), float64(1), int64(9), object(5)\n",
      "memory usage: 82.7+ MB\n"
     ]
    }
   ],
   "source": [
    "accounts_user_df.info() # 결측치 없음"
   ]
  },
  {
   "cell_type": "code",
   "execution_count": 25,
   "id": "11b78c02",
   "metadata": {},
   "outputs": [
    {
     "data": {
      "text/html": [
       "<div>\n",
       "<style scoped>\n",
       "    .dataframe tbody tr th:only-of-type {\n",
       "        vertical-align: middle;\n",
       "    }\n",
       "\n",
       "    .dataframe tbody tr th {\n",
       "        vertical-align: top;\n",
       "    }\n",
       "\n",
       "    .dataframe thead th {\n",
       "        text-align: right;\n",
       "    }\n",
       "</style>\n",
       "<table border=\"1\" class=\"dataframe\">\n",
       "  <thead>\n",
       "    <tr style=\"text-align: right;\">\n",
       "      <th></th>\n",
       "      <th>id</th>\n",
       "      <th>is_superuser</th>\n",
       "      <th>is_staff</th>\n",
       "      <th>point</th>\n",
       "      <th>is_push_on</th>\n",
       "      <th>created_at</th>\n",
       "      <th>report_count</th>\n",
       "      <th>alarm_count</th>\n",
       "      <th>pending_chat</th>\n",
       "      <th>pending_votes</th>\n",
       "      <th>group_id</th>\n",
       "    </tr>\n",
       "  </thead>\n",
       "  <tbody>\n",
       "    <tr>\n",
       "      <th>count</th>\n",
       "      <td>6.770850e+05</td>\n",
       "      <td>677085.000000</td>\n",
       "      <td>677085.000000</td>\n",
       "      <td>6.770850e+05</td>\n",
       "      <td>677085.000000</td>\n",
       "      <td>677085</td>\n",
       "      <td>677085.000000</td>\n",
       "      <td>677085.000000</td>\n",
       "      <td>677085.000000</td>\n",
       "      <td>677085.000000</td>\n",
       "      <td>677082.000000</td>\n",
       "    </tr>\n",
       "    <tr>\n",
       "      <th>mean</th>\n",
       "      <td>1.212969e+06</td>\n",
       "      <td>0.000003</td>\n",
       "      <td>0.000004</td>\n",
       "      <td>3.039145e+03</td>\n",
       "      <td>0.843098</td>\n",
       "      <td>2023-05-15 22:46:01.709213440</td>\n",
       "      <td>0.037291</td>\n",
       "      <td>0.946646</td>\n",
       "      <td>0.098469</td>\n",
       "      <td>84.630518</td>\n",
       "      <td>37022.980168</td>\n",
       "    </tr>\n",
       "    <tr>\n",
       "      <th>min</th>\n",
       "      <td>8.319560e+05</td>\n",
       "      <td>0.000000</td>\n",
       "      <td>0.000000</td>\n",
       "      <td>0.000000e+00</td>\n",
       "      <td>0.000000</td>\n",
       "      <td>2023-03-29 03:44:14.047130</td>\n",
       "      <td>0.000000</td>\n",
       "      <td>0.000000</td>\n",
       "      <td>-1.000000</td>\n",
       "      <td>0.000000</td>\n",
       "      <td>1.000000</td>\n",
       "    </tr>\n",
       "    <tr>\n",
       "      <th>25%</th>\n",
       "      <td>1.028075e+06</td>\n",
       "      <td>0.000000</td>\n",
       "      <td>0.000000</td>\n",
       "      <td>4.000000e+02</td>\n",
       "      <td>1.000000</td>\n",
       "      <td>2023-05-09 01:35:23.126586880</td>\n",
       "      <td>0.000000</td>\n",
       "      <td>0.000000</td>\n",
       "      <td>0.000000</td>\n",
       "      <td>2.000000</td>\n",
       "      <td>18488.000000</td>\n",
       "    </tr>\n",
       "    <tr>\n",
       "      <th>50%</th>\n",
       "      <td>1.211729e+06</td>\n",
       "      <td>0.000000</td>\n",
       "      <td>0.000000</td>\n",
       "      <td>9.650000e+02</td>\n",
       "      <td>1.000000</td>\n",
       "      <td>2023-05-13 10:50:57.476214016</td>\n",
       "      <td>0.000000</td>\n",
       "      <td>1.000000</td>\n",
       "      <td>0.000000</td>\n",
       "      <td>29.000000</td>\n",
       "      <td>35614.000000</td>\n",
       "    </tr>\n",
       "    <tr>\n",
       "      <th>75%</th>\n",
       "      <td>1.397906e+06</td>\n",
       "      <td>0.000000</td>\n",
       "      <td>0.000000</td>\n",
       "      <td>2.183000e+03</td>\n",
       "      <td>1.000000</td>\n",
       "      <td>2023-05-20 07:49:47.800349952</td>\n",
       "      <td>0.000000</td>\n",
       "      <td>1.000000</td>\n",
       "      <td>0.000000</td>\n",
       "      <td>122.000000</td>\n",
       "      <td>54534.000000</td>\n",
       "    </tr>\n",
       "    <tr>\n",
       "      <th>max</th>\n",
       "      <td>1.583733e+06</td>\n",
       "      <td>1.000000</td>\n",
       "      <td>1.000000</td>\n",
       "      <td>8.850000e+08</td>\n",
       "      <td>1.000000</td>\n",
       "      <td>2024-05-09 08:31:17.710824</td>\n",
       "      <td>253.000000</td>\n",
       "      <td>40878.000000</td>\n",
       "      <td>5712.000000</td>\n",
       "      <td>3352.000000</td>\n",
       "      <td>84546.000000</td>\n",
       "    </tr>\n",
       "    <tr>\n",
       "      <th>std</th>\n",
       "      <td>2.138971e+05</td>\n",
       "      <td>0.001719</td>\n",
       "      <td>0.002105</td>\n",
       "      <td>1.076020e+06</td>\n",
       "      <td>0.363709</td>\n",
       "      <td>NaN</td>\n",
       "      <td>0.588105</td>\n",
       "      <td>56.114858</td>\n",
       "      <td>11.087769</td>\n",
       "      <td>123.262688</td>\n",
       "      <td>21997.765398</td>\n",
       "    </tr>\n",
       "  </tbody>\n",
       "</table>\n",
       "</div>"
      ],
      "text/plain": [
       "                 id   is_superuser       is_staff         point  \\\n",
       "count  6.770850e+05  677085.000000  677085.000000  6.770850e+05   \n",
       "mean   1.212969e+06       0.000003       0.000004  3.039145e+03   \n",
       "min    8.319560e+05       0.000000       0.000000  0.000000e+00   \n",
       "25%    1.028075e+06       0.000000       0.000000  4.000000e+02   \n",
       "50%    1.211729e+06       0.000000       0.000000  9.650000e+02   \n",
       "75%    1.397906e+06       0.000000       0.000000  2.183000e+03   \n",
       "max    1.583733e+06       1.000000       1.000000  8.850000e+08   \n",
       "std    2.138971e+05       0.001719       0.002105  1.076020e+06   \n",
       "\n",
       "          is_push_on                     created_at   report_count  \\\n",
       "count  677085.000000                         677085  677085.000000   \n",
       "mean        0.843098  2023-05-15 22:46:01.709213440       0.037291   \n",
       "min         0.000000     2023-03-29 03:44:14.047130       0.000000   \n",
       "25%         1.000000  2023-05-09 01:35:23.126586880       0.000000   \n",
       "50%         1.000000  2023-05-13 10:50:57.476214016       0.000000   \n",
       "75%         1.000000  2023-05-20 07:49:47.800349952       0.000000   \n",
       "max         1.000000     2024-05-09 08:31:17.710824     253.000000   \n",
       "std         0.363709                            NaN       0.588105   \n",
       "\n",
       "         alarm_count   pending_chat  pending_votes       group_id  \n",
       "count  677085.000000  677085.000000  677085.000000  677082.000000  \n",
       "mean        0.946646       0.098469      84.630518   37022.980168  \n",
       "min         0.000000      -1.000000       0.000000       1.000000  \n",
       "25%         0.000000       0.000000       2.000000   18488.000000  \n",
       "50%         1.000000       0.000000      29.000000   35614.000000  \n",
       "75%         1.000000       0.000000     122.000000   54534.000000  \n",
       "max     40878.000000    5712.000000    3352.000000   84546.000000  \n",
       "std        56.114858      11.087769     123.262688   21997.765398  "
      ]
     },
     "execution_count": 25,
     "metadata": {},
     "output_type": "execute_result"
    }
   ],
   "source": [
    "accounts_user_df.describe()"
   ]
  },
  {
   "cell_type": "markdown",
   "id": "4f10a3d5",
   "metadata": {},
   "source": [
    "- point : 평균 3039 포인트 보유, 최고 885000~~ 보유 \n",
    "- is_push_on : 푸시메시지 on 인 경우가 더 많음\n",
    "- created_at : 2023-05-15 ~ 2024-05-09 데이터\n",
    "- report_count : 신고당한 횟수 대부분 0 이지만, 최고 253 존재\n",
    "- alarm_count : 알람 갯수 대부분 0 ~ 1 이지만, 최고 40878\n",
    "- pending_chat : 안 읽은 채팅 갯수 대부분 없지만 최고 5712\n",
    "- pending_votes :  확인 안한 투표 갯수 0 ~ 122 사이에 75% 존재, 최고 3352 \n"
   ]
  },
  {
   "cell_type": "code",
   "execution_count": 26,
   "id": "d772fecf",
   "metadata": {},
   "outputs": [
    {
     "data": {
      "text/html": [
       "<div>\n",
       "<style scoped>\n",
       "    .dataframe tbody tr th:only-of-type {\n",
       "        vertical-align: middle;\n",
       "    }\n",
       "\n",
       "    .dataframe tbody tr th {\n",
       "        vertical-align: top;\n",
       "    }\n",
       "\n",
       "    .dataframe thead th {\n",
       "        text-align: right;\n",
       "    }\n",
       "</style>\n",
       "<table border=\"1\" class=\"dataframe\">\n",
       "  <thead>\n",
       "    <tr style=\"text-align: right;\">\n",
       "      <th></th>\n",
       "      <th>gender</th>\n",
       "      <th>friend_id_list</th>\n",
       "      <th>block_user_id_list</th>\n",
       "      <th>hide_user_id_list</th>\n",
       "      <th>ban_status</th>\n",
       "    </tr>\n",
       "  </thead>\n",
       "  <tbody>\n",
       "    <tr>\n",
       "      <th>count</th>\n",
       "      <td>677083</td>\n",
       "      <td>677085</td>\n",
       "      <td>677085</td>\n",
       "      <td>677085</td>\n",
       "      <td>677085</td>\n",
       "    </tr>\n",
       "    <tr>\n",
       "      <th>unique</th>\n",
       "      <td>2</td>\n",
       "      <td>674117</td>\n",
       "      <td>11685</td>\n",
       "      <td>74995</td>\n",
       "      <td>4</td>\n",
       "    </tr>\n",
       "    <tr>\n",
       "      <th>top</th>\n",
       "      <td>F</td>\n",
       "      <td>[]</td>\n",
       "      <td>[]</td>\n",
       "      <td>[]</td>\n",
       "      <td>N</td>\n",
       "    </tr>\n",
       "    <tr>\n",
       "      <th>freq</th>\n",
       "      <td>396665</td>\n",
       "      <td>2874</td>\n",
       "      <td>664042</td>\n",
       "      <td>598352</td>\n",
       "      <td>668432</td>\n",
       "    </tr>\n",
       "  </tbody>\n",
       "</table>\n",
       "</div>"
      ],
      "text/plain": [
       "        gender friend_id_list block_user_id_list hide_user_id_list ban_status\n",
       "count   677083         677085             677085            677085     677085\n",
       "unique       2         674117              11685             74995          4\n",
       "top          F             []                 []                []          N\n",
       "freq    396665           2874             664042            598352     668432"
      ]
     },
     "execution_count": 26,
     "metadata": {},
     "output_type": "execute_result"
    }
   ],
   "source": [
    "accounts_user_df.describe(include = 'O')"
   ]
  },
  {
   "cell_type": "code",
   "execution_count": 27,
   "id": "ca8cb2ea",
   "metadata": {},
   "outputs": [
    {
     "data": {
      "text/plain": [
       "array(['N', 'NB', 'W', 'RB'], dtype=object)"
      ]
     },
     "execution_count": 27,
     "metadata": {},
     "output_type": "execute_result"
    }
   ],
   "source": [
    "accounts_user_df['ban_status'].unique()"
   ]
  },
  {
   "cell_type": "markdown",
   "id": "ee776cd4",
   "metadata": {},
   "source": [
    "- gender : F 여학생이 더 많음\n",
    "- ban_status : 차단 혹은 탈퇴한 유저인지 타입 4개로 구분 (N, NB, W, RB) -> 무슨 뜻?"
   ]
  },
  {
   "cell_type": "code",
   "execution_count": 28,
   "id": "cdcf9d76",
   "metadata": {},
   "outputs": [
    {
     "data": {
      "text/plain": [
       "group_id\n",
       "67097.0    80\n",
       "6431.0     79\n",
       "13705.0    73\n",
       "53560.0    69\n",
       "36957.0    61\n",
       "           ..\n",
       "84542.0     1\n",
       "84541.0     1\n",
       "84539.0     1\n",
       "84538.0     1\n",
       "84537.0     1\n",
       "Name: count, Length: 80912, dtype: int64"
      ]
     },
     "execution_count": 28,
     "metadata": {},
     "output_type": "execute_result"
    }
   ],
   "source": [
    "# 학급별 유저수 \n",
    "accounts_user_df['group_id'].value_counts()"
   ]
  },
  {
   "cell_type": "code",
   "execution_count": 29,
   "id": "b4fc3ee7",
   "metadata": {},
   "outputs": [
    {
     "data": {
      "image/png": "[encoded data removed]",
      "text/plain": [
       "<Figure size 640x480 with 1 Axes>"
      ]
     },
     "metadata": {},
     "output_type": "display_data"
    }
   ],
   "source": [
    "# 유저별 포인트  boxplot \n",
    "accounts_user_df['point'].plot(kind = 'box')\n",
    "plt.show()"
   ]
  },
  {
   "cell_type": "code",
   "execution_count": 30,
   "id": "aabad086",
   "metadata": {},
   "outputs": [
    {
     "data": {
      "text/html": [
       "<div>\n",
       "<style scoped>\n",
       "    .dataframe tbody tr th:only-of-type {\n",
       "        vertical-align: middle;\n",
       "    }\n",
       "\n",
       "    .dataframe tbody tr th {\n",
       "        vertical-align: top;\n",
       "    }\n",
       "\n",
       "    .dataframe thead th {\n",
       "        text-align: right;\n",
       "    }\n",
       "</style>\n",
       "<table border=\"1\" class=\"dataframe\">\n",
       "  <thead>\n",
       "    <tr style=\"text-align: right;\">\n",
       "      <th></th>\n",
       "      <th>id</th>\n",
       "      <th>is_superuser</th>\n",
       "      <th>is_staff</th>\n",
       "      <th>gender</th>\n",
       "      <th>point</th>\n",
       "      <th>friend_id_list</th>\n",
       "      <th>is_push_on</th>\n",
       "      <th>created_at</th>\n",
       "      <th>block_user_id_list</th>\n",
       "      <th>hide_user_id_list</th>\n",
       "      <th>ban_status</th>\n",
       "      <th>report_count</th>\n",
       "      <th>alarm_count</th>\n",
       "      <th>pending_chat</th>\n",
       "      <th>pending_votes</th>\n",
       "      <th>group_id</th>\n",
       "    </tr>\n",
       "  </thead>\n",
       "  <tbody>\n",
       "    <tr>\n",
       "      <th>12</th>\n",
       "      <td>833041</td>\n",
       "      <td>0</td>\n",
       "      <td>0</td>\n",
       "      <td>F</td>\n",
       "      <td>885000006</td>\n",
       "      <td>[841345, 982531, 838785, 882567, 832520, 87949...</td>\n",
       "      <td>1</td>\n",
       "      <td>2023-03-31 14:32:36.425315</td>\n",
       "      <td>[]</td>\n",
       "      <td>[]</td>\n",
       "      <td>N</td>\n",
       "      <td>1</td>\n",
       "      <td>8</td>\n",
       "      <td>0</td>\n",
       "      <td>0</td>\n",
       "      <td>149.0</td>\n",
       "    </tr>\n",
       "  </tbody>\n",
       "</table>\n",
       "</div>"
      ],
      "text/plain": [
       "        id  is_superuser  is_staff gender      point  \\\n",
       "12  833041             0         0      F  885000006   \n",
       "\n",
       "                                       friend_id_list  is_push_on  \\\n",
       "12  [841345, 982531, 838785, 882567, 832520, 87949...           1   \n",
       "\n",
       "                   created_at block_user_id_list hide_user_id_list ban_status  \\\n",
       "12 2023-03-31 14:32:36.425315                 []                []          N   \n",
       "\n",
       "    report_count  alarm_count  pending_chat  pending_votes  group_id  \n",
       "12             1            8             0              0     149.0  "
      ]
     },
     "execution_count": 30,
     "metadata": {},
     "output_type": "execute_result"
    }
   ],
   "source": [
    "accounts_user_df[accounts_user_df['point'] > 800000000]"
   ]
  },
  {
   "cell_type": "markdown",
   "id": "3f44b403",
   "metadata": {},
   "source": [
    "- 포인트가 비정상적으로 많음\n",
    "- 23년 3월 31일 가입"
   ]
  },
  {
   "cell_type": "code",
   "execution_count": 31,
   "id": "344d0d7f",
   "metadata": {},
   "outputs": [
    {
     "data": {
      "image/png": "[encoded data removed]",
      "text/plain": [
       "<Figure size 640x480 with 1 Axes>"
      ]
     },
     "metadata": {},
     "output_type": "display_data"
    }
   ],
   "source": [
    "# 유저별 신고당한 횟수 boxplot \n",
    "accounts_user_df['report_count'].plot(kind = 'box')\n",
    "plt.show()"
   ]
  },
  {
   "cell_type": "code",
   "execution_count": 32,
   "id": "4ba271b5",
   "metadata": {},
   "outputs": [
    {
     "data": {
      "text/html": [
       "<div>\n",
       "<style scoped>\n",
       "    .dataframe tbody tr th:only-of-type {\n",
       "        vertical-align: middle;\n",
       "    }\n",
       "\n",
       "    .dataframe tbody tr th {\n",
       "        vertical-align: top;\n",
       "    }\n",
       "\n",
       "    .dataframe thead th {\n",
       "        text-align: right;\n",
       "    }\n",
       "</style>\n",
       "<table border=\"1\" class=\"dataframe\">\n",
       "  <thead>\n",
       "    <tr style=\"text-align: right;\">\n",
       "      <th></th>\n",
       "      <th>id</th>\n",
       "      <th>is_superuser</th>\n",
       "      <th>is_staff</th>\n",
       "      <th>gender</th>\n",
       "      <th>point</th>\n",
       "      <th>friend_id_list</th>\n",
       "      <th>is_push_on</th>\n",
       "      <th>created_at</th>\n",
       "      <th>block_user_id_list</th>\n",
       "      <th>hide_user_id_list</th>\n",
       "      <th>ban_status</th>\n",
       "      <th>report_count</th>\n",
       "      <th>alarm_count</th>\n",
       "      <th>pending_chat</th>\n",
       "      <th>pending_votes</th>\n",
       "      <th>group_id</th>\n",
       "    </tr>\n",
       "  </thead>\n",
       "  <tbody>\n",
       "    <tr>\n",
       "      <th>1</th>\n",
       "      <td>831962</td>\n",
       "      <td>0</td>\n",
       "      <td>0</td>\n",
       "      <td>F</td>\n",
       "      <td>2248</td>\n",
       "      <td>[833025, 832642, 982531, 879496, 838541, 83752...</td>\n",
       "      <td>1</td>\n",
       "      <td>2023-03-29 05:18:56.162368</td>\n",
       "      <td>[]</td>\n",
       "      <td>[]</td>\n",
       "      <td>N</td>\n",
       "      <td>253</td>\n",
       "      <td>40878</td>\n",
       "      <td>5499</td>\n",
       "      <td>110</td>\n",
       "      <td>12.0</td>\n",
       "    </tr>\n",
       "    <tr>\n",
       "      <th>50</th>\n",
       "      <td>834358</td>\n",
       "      <td>0</td>\n",
       "      <td>0</td>\n",
       "      <td>F</td>\n",
       "      <td>600426</td>\n",
       "      <td>[841345, 982531, 832520, 838541, 846223, 83304...</td>\n",
       "      <td>1</td>\n",
       "      <td>2023-04-03 10:37:13.518521</td>\n",
       "      <td>[]</td>\n",
       "      <td>[869100]</td>\n",
       "      <td>N</td>\n",
       "      <td>210</td>\n",
       "      <td>912</td>\n",
       "      <td>5712</td>\n",
       "      <td>28</td>\n",
       "      <td>1.0</td>\n",
       "    </tr>\n",
       "    <tr>\n",
       "      <th>693</th>\n",
       "      <td>838541</td>\n",
       "      <td>0</td>\n",
       "      <td>0</td>\n",
       "      <td>F</td>\n",
       "      <td>100404</td>\n",
       "      <td>[841345, 982531, 843015, 879496, 832520, 84429...</td>\n",
       "      <td>1</td>\n",
       "      <td>2023-04-19 16:36:39.906965</td>\n",
       "      <td>[]</td>\n",
       "      <td>[]</td>\n",
       "      <td>N</td>\n",
       "      <td>178</td>\n",
       "      <td>21442</td>\n",
       "      <td>4105</td>\n",
       "      <td>28</td>\n",
       "      <td>9.0</td>\n",
       "    </tr>\n",
       "  </tbody>\n",
       "</table>\n",
       "</div>"
      ],
      "text/plain": [
       "         id  is_superuser  is_staff gender   point  \\\n",
       "1    831962             0         0      F    2248   \n",
       "50   834358             0         0      F  600426   \n",
       "693  838541             0         0      F  100404   \n",
       "\n",
       "                                        friend_id_list  is_push_on  \\\n",
       "1    [833025, 832642, 982531, 879496, 838541, 83752...           1   \n",
       "50   [841345, 982531, 832520, 838541, 846223, 83304...           1   \n",
       "693  [841345, 982531, 843015, 879496, 832520, 84429...           1   \n",
       "\n",
       "                    created_at block_user_id_list hide_user_id_list  \\\n",
       "1   2023-03-29 05:18:56.162368                 []                []   \n",
       "50  2023-04-03 10:37:13.518521                 []          [869100]   \n",
       "693 2023-04-19 16:36:39.906965                 []                []   \n",
       "\n",
       "    ban_status  report_count  alarm_count  pending_chat  pending_votes  \\\n",
       "1            N           253        40878          5499            110   \n",
       "50           N           210          912          5712             28   \n",
       "693          N           178        21442          4105             28   \n",
       "\n",
       "     group_id  \n",
       "1        12.0  \n",
       "50        1.0  \n",
       "693       9.0  "
      ]
     },
     "execution_count": 32,
     "metadata": {},
     "output_type": "execute_result"
    }
   ],
   "source": [
    "# boxplot 기준 극단 이상치 확인 \n",
    "accounts_user_df[accounts_user_df['report_count'] > 150]"
   ]
  },
  {
   "cell_type": "code",
   "execution_count": 33,
   "id": "592a2b93",
   "metadata": {},
   "outputs": [
    {
     "data": {
      "text/plain": [
       "Series([], Name: count, dtype: int64)"
      ]
     },
     "execution_count": 33,
     "metadata": {},
     "output_type": "execute_result"
    }
   ],
   "source": [
    "# 유저 테이블에서 신고당한 횟수 상위인 id가 유저 신고 기록테이블(23/5/15 ~ 23/6/2)에서는 데이터 없음 ! 기간 안맞는 문제!\n",
    "accounts_timelinereport_df[accounts_timelinereport_df['reported_user_id'] == 838541]['reason'].value_counts()"
   ]
  },
  {
   "cell_type": "code",
   "execution_count": 34,
   "id": "d8d1f40f",
   "metadata": {},
   "outputs": [],
   "source": [
    "# iqr 기반 이상치 확인 \n",
    "q3 = accounts_user_df['report_count'].quantile(0.75)\n",
    "q1 = accounts_user_df['report_count'].quantile(0.25)\n",
    "iqr = q3 - q1\n",
    "\n",
    "lower = q1 - 1.5 * iqr\n",
    "upper = q3 + 1.5 * iqr\n",
    "\n",
    "#accounts_user_df[(accounts_user_df['report_count'] < lower) | (accounts_user_df['report_count'] > upper)]"
   ]
  },
  {
   "cell_type": "code",
   "execution_count": 35,
   "id": "05c40f73",
   "metadata": {},
   "outputs": [
    {
     "data": {
      "text/html": [
       "<div>\n",
       "<style scoped>\n",
       "    .dataframe tbody tr th:only-of-type {\n",
       "        vertical-align: middle;\n",
       "    }\n",
       "\n",
       "    .dataframe tbody tr th {\n",
       "        vertical-align: top;\n",
       "    }\n",
       "\n",
       "    .dataframe thead th {\n",
       "        text-align: right;\n",
       "    }\n",
       "</style>\n",
       "<table border=\"1\" class=\"dataframe\">\n",
       "  <thead>\n",
       "    <tr style=\"text-align: right;\">\n",
       "      <th></th>\n",
       "      <th>id</th>\n",
       "      <th>is_superuser</th>\n",
       "      <th>is_staff</th>\n",
       "      <th>gender</th>\n",
       "      <th>point</th>\n",
       "      <th>friend_id_list</th>\n",
       "      <th>is_push_on</th>\n",
       "      <th>created_at</th>\n",
       "      <th>block_user_id_list</th>\n",
       "      <th>hide_user_id_list</th>\n",
       "      <th>ban_status</th>\n",
       "      <th>report_count</th>\n",
       "      <th>alarm_count</th>\n",
       "      <th>pending_chat</th>\n",
       "      <th>pending_votes</th>\n",
       "      <th>group_id</th>\n",
       "    </tr>\n",
       "  </thead>\n",
       "  <tbody>\n",
       "    <tr>\n",
       "      <th>37452</th>\n",
       "      <td>885129</td>\n",
       "      <td>0</td>\n",
       "      <td>0</td>\n",
       "      <td>M</td>\n",
       "      <td>698</td>\n",
       "      <td>[883202, 883588, 885126, 888713, 883466, 90164...</td>\n",
       "      <td>0</td>\n",
       "      <td>2023-05-05 09:36:19.992098</td>\n",
       "      <td>[]</td>\n",
       "      <td>[]</td>\n",
       "      <td>N</td>\n",
       "      <td>6</td>\n",
       "      <td>0</td>\n",
       "      <td>0</td>\n",
       "      <td>33</td>\n",
       "      <td>12003.0</td>\n",
       "    </tr>\n",
       "    <tr>\n",
       "      <th>86960</th>\n",
       "      <td>939196</td>\n",
       "      <td>0</td>\n",
       "      <td>0</td>\n",
       "      <td>F</td>\n",
       "      <td>197</td>\n",
       "      <td>[1051136, 1075719, 941581, 1058325, 1078814, 9...</td>\n",
       "      <td>1</td>\n",
       "      <td>2023-05-07 03:27:22.213022</td>\n",
       "      <td>[]</td>\n",
       "      <td>[984978]</td>\n",
       "      <td>N</td>\n",
       "      <td>7</td>\n",
       "      <td>0</td>\n",
       "      <td>0</td>\n",
       "      <td>536</td>\n",
       "      <td>21950.0</td>\n",
       "    </tr>\n",
       "    <tr>\n",
       "      <th>271434</th>\n",
       "      <td>1138757</td>\n",
       "      <td>0</td>\n",
       "      <td>0</td>\n",
       "      <td>F</td>\n",
       "      <td>1180</td>\n",
       "      <td>[942080, 1158160, 1278994, 1136147, 1382424, 1...</td>\n",
       "      <td>1</td>\n",
       "      <td>2023-05-11 13:56:56.032360</td>\n",
       "      <td>[]</td>\n",
       "      <td>[]</td>\n",
       "      <td>N</td>\n",
       "      <td>15</td>\n",
       "      <td>1</td>\n",
       "      <td>0</td>\n",
       "      <td>122</td>\n",
       "      <td>24762.0</td>\n",
       "    </tr>\n",
       "    <tr>\n",
       "      <th>287357</th>\n",
       "      <td>1156031</td>\n",
       "      <td>0</td>\n",
       "      <td>0</td>\n",
       "      <td>M</td>\n",
       "      <td>917</td>\n",
       "      <td>[1142661, 1156233, 1155992, 1175705, 1154585, ...</td>\n",
       "      <td>1</td>\n",
       "      <td>2023-05-12 02:52:55.364976</td>\n",
       "      <td>[]</td>\n",
       "      <td>[]</td>\n",
       "      <td>N</td>\n",
       "      <td>10</td>\n",
       "      <td>1</td>\n",
       "      <td>0</td>\n",
       "      <td>445</td>\n",
       "      <td>7399.0</td>\n",
       "    </tr>\n",
       "    <tr>\n",
       "      <th>316083</th>\n",
       "      <td>1187305</td>\n",
       "      <td>0</td>\n",
       "      <td>0</td>\n",
       "      <td>M</td>\n",
       "      <td>2598</td>\n",
       "      <td>[1185408, 1180034, 1209858, 1006085, 1192968, ...</td>\n",
       "      <td>1</td>\n",
       "      <td>2023-05-12 15:57:28.105461</td>\n",
       "      <td>[]</td>\n",
       "      <td>[]</td>\n",
       "      <td>N</td>\n",
       "      <td>7</td>\n",
       "      <td>0</td>\n",
       "      <td>0</td>\n",
       "      <td>52</td>\n",
       "      <td>33241.0</td>\n",
       "    </tr>\n",
       "  </tbody>\n",
       "</table>\n",
       "</div>"
      ],
      "text/plain": [
       "             id  is_superuser  is_staff gender  point  \\\n",
       "37452    885129             0         0      M    698   \n",
       "86960    939196             0         0      F    197   \n",
       "271434  1138757             0         0      F   1180   \n",
       "287357  1156031             0         0      M    917   \n",
       "316083  1187305             0         0      M   2598   \n",
       "\n",
       "                                           friend_id_list  is_push_on  \\\n",
       "37452   [883202, 883588, 885126, 888713, 883466, 90164...           0   \n",
       "86960   [1051136, 1075719, 941581, 1058325, 1078814, 9...           1   \n",
       "271434  [942080, 1158160, 1278994, 1136147, 1382424, 1...           1   \n",
       "287357  [1142661, 1156233, 1155992, 1175705, 1154585, ...           1   \n",
       "316083  [1185408, 1180034, 1209858, 1006085, 1192968, ...           1   \n",
       "\n",
       "                       created_at block_user_id_list hide_user_id_list  \\\n",
       "37452  2023-05-05 09:36:19.992098                 []                []   \n",
       "86960  2023-05-07 03:27:22.213022                 []          [984978]   \n",
       "271434 2023-05-11 13:56:56.032360                 []                []   \n",
       "287357 2023-05-12 02:52:55.364976                 []                []   \n",
       "316083 2023-05-12 15:57:28.105461                 []                []   \n",
       "\n",
       "       ban_status  report_count  alarm_count  pending_chat  pending_votes  \\\n",
       "37452           N             6            0             0             33   \n",
       "86960           N             7            0             0            536   \n",
       "271434          N            15            1             0            122   \n",
       "287357          N            10            1             0            445   \n",
       "316083          N             7            0             0             52   \n",
       "\n",
       "        group_id  \n",
       "37452    12003.0  \n",
       "86960    21950.0  \n",
       "271434   24762.0  \n",
       "287357    7399.0  \n",
       "316083   33241.0  "
      ]
     },
     "execution_count": 35,
     "metadata": {},
     "output_type": "execute_result"
    }
   ],
   "source": [
    "# accounts_timelinereport_df; 유저 신고기록 테이블의 상위권 유저 탐색\n",
    "target_user_list = [1138757, 1156031, 1187305, 939196, 885129]\n",
    "accounts_user_df[accounts_user_df['id'].isin(target_user_list)]\n",
    "      "
   ]
  },
  {
   "cell_type": "code",
   "execution_count": null,
   "id": "cb95bf25",
   "metadata": {},
   "outputs": [],
   "source": []
  },
  {
   "cell_type": "markdown",
   "id": "ea671a51",
   "metadata": {},
   "source": [
    "# votes/accounts_userwithdraw : 탈퇴 기록 테이블"
   ]
  },
  {
   "cell_type": "code",
   "execution_count": 36,
   "id": "0ac00a9a",
   "metadata": {},
   "outputs": [
    {
     "data": {
      "text/html": [
       "<div>\n",
       "<style scoped>\n",
       "    .dataframe tbody tr th:only-of-type {\n",
       "        vertical-align: middle;\n",
       "    }\n",
       "\n",
       "    .dataframe tbody tr th {\n",
       "        vertical-align: top;\n",
       "    }\n",
       "\n",
       "    .dataframe thead th {\n",
       "        text-align: right;\n",
       "    }\n",
       "</style>\n",
       "<table border=\"1\" class=\"dataframe\">\n",
       "  <thead>\n",
       "    <tr style=\"text-align: right;\">\n",
       "      <th></th>\n",
       "      <th>id</th>\n",
       "      <th>reason</th>\n",
       "      <th>created_at</th>\n",
       "    </tr>\n",
       "  </thead>\n",
       "  <tbody>\n",
       "    <tr>\n",
       "      <th>0</th>\n",
       "      <td>42</td>\n",
       "      <td>재밌는 질문이 없어서</td>\n",
       "      <td>2023-03-29 13:22:12</td>\n",
       "    </tr>\n",
       "    <tr>\n",
       "      <th>1</th>\n",
       "      <td>43</td>\n",
       "      <td>함께 할 친구가 없어서</td>\n",
       "      <td>2023-03-29 13:24:59</td>\n",
       "    </tr>\n",
       "    <tr>\n",
       "      <th>2</th>\n",
       "      <td>44</td>\n",
       "      <td>함께 할 친구가 없어서</td>\n",
       "      <td>2023-03-29 13:53:32</td>\n",
       "    </tr>\n",
       "    <tr>\n",
       "      <th>3</th>\n",
       "      <td>45</td>\n",
       "      <td>함께 할 친구가 없어서</td>\n",
       "      <td>2023-03-29 13:54:03</td>\n",
       "    </tr>\n",
       "    <tr>\n",
       "      <th>4</th>\n",
       "      <td>46</td>\n",
       "      <td>재밌는 질문이 없어서</td>\n",
       "      <td>2023-03-30 00:31:19</td>\n",
       "    </tr>\n",
       "  </tbody>\n",
       "</table>\n",
       "</div>"
      ],
      "text/plain": [
       "   id        reason          created_at\n",
       "0  42   재밌는 질문이 없어서 2023-03-29 13:22:12\n",
       "1  43  함께 할 친구가 없어서 2023-03-29 13:24:59\n",
       "2  44  함께 할 친구가 없어서 2023-03-29 13:53:32\n",
       "3  45  함께 할 친구가 없어서 2023-03-29 13:54:03\n",
       "4  46   재밌는 질문이 없어서 2023-03-30 00:31:19"
      ]
     },
     "metadata": {},
     "output_type": "display_data"
    },
    {
     "data": {
      "text/plain": [
       "(70764, 3)"
      ]
     },
     "execution_count": 36,
     "metadata": {},
     "output_type": "execute_result"
    }
   ],
   "source": [
    "# GCS 파일 경로\n",
    "gcs_path = \"gs://codeit-project/votes/accounts_userwithdraw.parquet\"\n",
    "# 데이터 불러오기\n",
    "accounts_userwithdraw_df = pd.read_parquet(gcs_path, storage_options={\"token\": key_path})\n",
    "\n",
    "# 확인\n",
    "display(accounts_userwithdraw_df.head())\n",
    "accounts_userwithdraw_df.shape"
   ]
  },
  {
   "cell_type": "code",
   "execution_count": 37,
   "id": "95563a16",
   "metadata": {},
   "outputs": [
    {
     "name": "stdout",
     "output_type": "stream",
     "text": [
      "<class 'pandas.core.frame.DataFrame'>\n",
      "RangeIndex: 70764 entries, 0 to 70763\n",
      "Data columns (total 3 columns):\n",
      " #   Column      Non-Null Count  Dtype         \n",
      "---  ------      --------------  -----         \n",
      " 0   id          70764 non-null  int64         \n",
      " 1   reason      70764 non-null  object        \n",
      " 2   created_at  70764 non-null  datetime64[ns]\n",
      "dtypes: datetime64[ns](1), int64(1), object(1)\n",
      "memory usage: 1.6+ MB\n"
     ]
    }
   ],
   "source": [
    "accounts_userwithdraw_df.info() # 결측치 없음 "
   ]
  },
  {
   "cell_type": "code",
   "execution_count": 38,
   "id": "27c1dd5b",
   "metadata": {},
   "outputs": [
    {
     "data": {
      "text/html": [
       "<div>\n",
       "<style scoped>\n",
       "    .dataframe tbody tr th:only-of-type {\n",
       "        vertical-align: middle;\n",
       "    }\n",
       "\n",
       "    .dataframe tbody tr th {\n",
       "        vertical-align: top;\n",
       "    }\n",
       "\n",
       "    .dataframe thead th {\n",
       "        text-align: right;\n",
       "    }\n",
       "</style>\n",
       "<table border=\"1\" class=\"dataframe\">\n",
       "  <thead>\n",
       "    <tr style=\"text-align: right;\">\n",
       "      <th></th>\n",
       "      <th>id</th>\n",
       "      <th>created_at</th>\n",
       "    </tr>\n",
       "  </thead>\n",
       "  <tbody>\n",
       "    <tr>\n",
       "      <th>count</th>\n",
       "      <td>70764.000000</td>\n",
       "      <td>70764</td>\n",
       "    </tr>\n",
       "    <tr>\n",
       "      <th>mean</th>\n",
       "      <td>35499.063154</td>\n",
       "      <td>2023-06-12 06:34:26.762464</td>\n",
       "    </tr>\n",
       "    <tr>\n",
       "      <th>min</th>\n",
       "      <td>42.000000</td>\n",
       "      <td>2023-03-29 13:22:12</td>\n",
       "    </tr>\n",
       "    <tr>\n",
       "      <th>25%</th>\n",
       "      <td>17803.750000</td>\n",
       "      <td>2023-05-12 06:28:54.249999872</td>\n",
       "    </tr>\n",
       "    <tr>\n",
       "      <th>50%</th>\n",
       "      <td>35498.500000</td>\n",
       "      <td>2023-05-20 15:50:53.500000</td>\n",
       "    </tr>\n",
       "    <tr>\n",
       "      <th>75%</th>\n",
       "      <td>53199.250000</td>\n",
       "      <td>2023-06-14 12:13:03.500000</td>\n",
       "    </tr>\n",
       "    <tr>\n",
       "      <th>max</th>\n",
       "      <td>70893.000000</td>\n",
       "      <td>2024-05-09 08:49:06</td>\n",
       "    </tr>\n",
       "    <tr>\n",
       "      <th>std</th>\n",
       "      <td>20439.604727</td>\n",
       "      <td>NaN</td>\n",
       "    </tr>\n",
       "  </tbody>\n",
       "</table>\n",
       "</div>"
      ],
      "text/plain": [
       "                 id                     created_at\n",
       "count  70764.000000                          70764\n",
       "mean   35499.063154     2023-06-12 06:34:26.762464\n",
       "min       42.000000            2023-03-29 13:22:12\n",
       "25%    17803.750000  2023-05-12 06:28:54.249999872\n",
       "50%    35498.500000     2023-05-20 15:50:53.500000\n",
       "75%    53199.250000     2023-06-14 12:13:03.500000\n",
       "max    70893.000000            2024-05-09 08:49:06\n",
       "std    20439.604727                            NaN"
      ]
     },
     "execution_count": 38,
     "metadata": {},
     "output_type": "execute_result"
    }
   ],
   "source": [
    "accounts_userwithdraw_df.describe()"
   ]
  },
  {
   "cell_type": "markdown",
   "id": "3b0ab8f1",
   "metadata": {},
   "source": [
    "- 2023-03-29 ~ 2024-05-29 데이터 "
   ]
  },
  {
   "cell_type": "code",
   "execution_count": 39,
   "id": "3102c57b",
   "metadata": {},
   "outputs": [
    {
     "data": {
      "text/plain": [
       "year_month\n",
       "2023-03       17\n",
       "2023-04     2397\n",
       "2023-05    44845\n",
       "2023-06     9642\n",
       "2023-07     4811\n",
       "2023-08     2310\n",
       "2023-09     2450\n",
       "2023-10     1164\n",
       "2023-11      837\n",
       "2023-12      693\n",
       "2024-01      697\n",
       "2024-02      319\n",
       "2024-03      250\n",
       "2024-04      240\n",
       "2024-05       92\n",
       "Freq: M, Name: count, dtype: int64"
      ]
     },
     "execution_count": 39,
     "metadata": {},
     "output_type": "execute_result"
    }
   ],
   "source": [
    "# 년-월별 탈퇴 건수 체크 \n",
    "check_df = accounts_userwithdraw_df.copy()\n",
    "check_df['year_month'] = check_df['created_at'].dt.to_period('M')\n",
    "check_df['year_month'].value_counts().sort_index()"
   ]
  },
  {
   "cell_type": "markdown",
   "id": "e6c9c46d",
   "metadata": {},
   "source": [
    "- 2023-05는 신고기록도 많고, 차단 건수도 1위, 상품 구매 실패도 1위 (신고 기록도 많긴 한데, 애초에 데이터에 있는 기간이 23-05가 많이 차지함)\n"
   ]
  },
  {
   "cell_type": "code",
   "execution_count": 40,
   "id": "5950fcbb",
   "metadata": {},
   "outputs": [
    {
     "data": {
      "text/plain": [
       "reason\n",
       "기타 이유           40301\n",
       "함께 할 친구가 없어서    14450\n",
       "재밌는 질문이 없어서     13133\n",
       "버그가 너무 많아서       2031\n",
       "구독료가 너무 비싸서       730\n",
       "admin              61\n",
       "test               53\n",
       "기타                  5\n",
       "Name: count, dtype: int64"
      ]
     },
     "execution_count": 40,
     "metadata": {},
     "output_type": "execute_result"
    }
   ],
   "source": [
    "accounts_userwithdraw_df['reason'].value_counts()"
   ]
  },
  {
   "cell_type": "markdown",
   "id": "37114b63",
   "metadata": {},
   "source": [
    "- 기타 이유를 제외하고는 '함께 할 친구가 없어서', '재밌는 질문이 없어서'가 상위를 차지함\n",
    "- 그 다음에 '버그가 너무 많아서' 이유가 존재!!! -> 서비스 운영 상의 문제 "
   ]
  },
  {
   "cell_type": "markdown",
   "id": "28a93a8e",
   "metadata": {},
   "source": [
    "# votes/polls_question : 질문 데이터 테이블"
   ]
  },
  {
   "cell_type": "code",
   "execution_count": 41,
   "id": "c1a21dcf",
   "metadata": {},
   "outputs": [
    {
     "data": {
      "text/html": [
       "<div>\n",
       "<style scoped>\n",
       "    .dataframe tbody tr th:only-of-type {\n",
       "        vertical-align: middle;\n",
       "    }\n",
       "\n",
       "    .dataframe tbody tr th {\n",
       "        vertical-align: top;\n",
       "    }\n",
       "\n",
       "    .dataframe thead th {\n",
       "        text-align: right;\n",
       "    }\n",
       "</style>\n",
       "<table border=\"1\" class=\"dataframe\">\n",
       "  <thead>\n",
       "    <tr style=\"text-align: right;\">\n",
       "      <th></th>\n",
       "      <th>id</th>\n",
       "      <th>question_text</th>\n",
       "      <th>created_at</th>\n",
       "    </tr>\n",
       "  </thead>\n",
       "  <tbody>\n",
       "    <tr>\n",
       "      <th>0</th>\n",
       "      <td>99</td>\n",
       "      <td>가장 신비한 매력이 있는 사람은?</td>\n",
       "      <td>2023-03-31 15:22:53</td>\n",
       "    </tr>\n",
       "    <tr>\n",
       "      <th>1</th>\n",
       "      <td>100</td>\n",
       "      <td>\"이 사람으로 한 번 살아보고 싶다\" 하는 사람은?</td>\n",
       "      <td>2023-03-31 15:22:53</td>\n",
       "    </tr>\n",
       "    <tr>\n",
       "      <th>2</th>\n",
       "      <td>101</td>\n",
       "      <td>미래의 틱톡커는?</td>\n",
       "      <td>2023-03-31 15:22:54</td>\n",
       "    </tr>\n",
       "    <tr>\n",
       "      <th>3</th>\n",
       "      <td>102</td>\n",
       "      <td>여기서 제일 특이한 친구는?</td>\n",
       "      <td>2023-03-31 15:22:54</td>\n",
       "    </tr>\n",
       "    <tr>\n",
       "      <th>4</th>\n",
       "      <td>103</td>\n",
       "      <td>가장 지켜주고 싶은 사람은?</td>\n",
       "      <td>2023-03-31 15:22:55</td>\n",
       "    </tr>\n",
       "  </tbody>\n",
       "</table>\n",
       "</div>"
      ],
      "text/plain": [
       "    id                 question_text          created_at\n",
       "0   99            가장 신비한 매력이 있는 사람은? 2023-03-31 15:22:53\n",
       "1  100  \"이 사람으로 한 번 살아보고 싶다\" 하는 사람은? 2023-03-31 15:22:53\n",
       "2  101                     미래의 틱톡커는? 2023-03-31 15:22:54\n",
       "3  102               여기서 제일 특이한 친구는? 2023-03-31 15:22:54\n",
       "4  103               가장 지켜주고 싶은 사람은? 2023-03-31 15:22:55"
      ]
     },
     "metadata": {},
     "output_type": "display_data"
    },
    {
     "data": {
      "text/plain": [
       "(5025, 3)"
      ]
     },
     "execution_count": 41,
     "metadata": {},
     "output_type": "execute_result"
    }
   ],
   "source": [
    "# GCS 파일 경로\n",
    "gcs_path = \"gs://codeit-project/votes/polls_question.parquet\"\n",
    "# 데이터 불러오기\n",
    "polls_question_df = pd.read_parquet(gcs_path, storage_options={\"token\": key_path})\n",
    "\n",
    "# 확인\n",
    "display(polls_question_df.head())\n",
    "polls_question_df.shape"
   ]
  },
  {
   "cell_type": "code",
   "execution_count": 42,
   "id": "ebe39a7c",
   "metadata": {},
   "outputs": [
    {
     "name": "stdout",
     "output_type": "stream",
     "text": [
      "<class 'pandas.core.frame.DataFrame'>\n",
      "RangeIndex: 5025 entries, 0 to 5024\n",
      "Data columns (total 3 columns):\n",
      " #   Column         Non-Null Count  Dtype         \n",
      "---  ------         --------------  -----         \n",
      " 0   id             5025 non-null   int64         \n",
      " 1   question_text  5025 non-null   object        \n",
      " 2   created_at     5025 non-null   datetime64[ns]\n",
      "dtypes: datetime64[ns](1), int64(1), object(1)\n",
      "memory usage: 117.9+ KB\n"
     ]
    }
   ],
   "source": [
    "polls_question_df.info() # 결측치 없음"
   ]
  },
  {
   "cell_type": "code",
   "execution_count": 43,
   "id": "13c18fb6",
   "metadata": {},
   "outputs": [
    {
     "data": {
      "text/html": [
       "<div>\n",
       "<style scoped>\n",
       "    .dataframe tbody tr th:only-of-type {\n",
       "        vertical-align: middle;\n",
       "    }\n",
       "\n",
       "    .dataframe tbody tr th {\n",
       "        vertical-align: top;\n",
       "    }\n",
       "\n",
       "    .dataframe thead th {\n",
       "        text-align: right;\n",
       "    }\n",
       "</style>\n",
       "<table border=\"1\" class=\"dataframe\">\n",
       "  <thead>\n",
       "    <tr style=\"text-align: right;\">\n",
       "      <th></th>\n",
       "      <th>id</th>\n",
       "      <th>created_at</th>\n",
       "    </tr>\n",
       "  </thead>\n",
       "  <tbody>\n",
       "    <tr>\n",
       "      <th>count</th>\n",
       "      <td>5025.000000</td>\n",
       "      <td>5025</td>\n",
       "    </tr>\n",
       "    <tr>\n",
       "      <th>mean</th>\n",
       "      <td>2619.897512</td>\n",
       "      <td>2023-05-26 17:49:11.666268672</td>\n",
       "    </tr>\n",
       "    <tr>\n",
       "      <th>min</th>\n",
       "      <td>99.000000</td>\n",
       "      <td>2023-03-31 15:22:53</td>\n",
       "    </tr>\n",
       "    <tr>\n",
       "      <th>25%</th>\n",
       "      <td>1365.000000</td>\n",
       "      <td>2023-05-15 14:03:03</td>\n",
       "    </tr>\n",
       "    <tr>\n",
       "      <th>50%</th>\n",
       "      <td>2621.000000</td>\n",
       "      <td>2023-06-02 08:06:53</td>\n",
       "    </tr>\n",
       "    <tr>\n",
       "      <th>75%</th>\n",
       "      <td>3877.000000</td>\n",
       "      <td>2023-06-06 06:10:14</td>\n",
       "    </tr>\n",
       "    <tr>\n",
       "      <th>max</th>\n",
       "      <td>5133.000000</td>\n",
       "      <td>2023-06-06 06:15:52</td>\n",
       "    </tr>\n",
       "    <tr>\n",
       "      <th>std</th>\n",
       "      <td>1452.438472</td>\n",
       "      <td>NaN</td>\n",
       "    </tr>\n",
       "  </tbody>\n",
       "</table>\n",
       "</div>"
      ],
      "text/plain": [
       "                id                     created_at\n",
       "count  5025.000000                           5025\n",
       "mean   2619.897512  2023-05-26 17:49:11.666268672\n",
       "min      99.000000            2023-03-31 15:22:53\n",
       "25%    1365.000000            2023-05-15 14:03:03\n",
       "50%    2621.000000            2023-06-02 08:06:53\n",
       "75%    3877.000000            2023-06-06 06:10:14\n",
       "max    5133.000000            2023-06-06 06:15:52\n",
       "std    1452.438472                            NaN"
      ]
     },
     "execution_count": 43,
     "metadata": {},
     "output_type": "execute_result"
    }
   ],
   "source": [
    "polls_question_df.describe()"
   ]
  },
  {
   "cell_type": "markdown",
   "id": "b997894f",
   "metadata": {},
   "source": [
    "- 2023-03-31 ~ 2023-06-06 데이터"
   ]
  },
  {
   "cell_type": "code",
   "execution_count": 44,
   "id": "84e0810c",
   "metadata": {},
   "outputs": [
    {
     "data": {
      "text/plain": [
       "question_text\n",
       "vote                            56\n",
       "눈이 제일 큰 사람은?                     3\n",
       "지금 뭐하는지 궁금한 친구                   3\n",
       "인생 2회차인 것 같은 사람은?                3\n",
       "2세가 가장 귀여울 것 같은 사람은?             3\n",
       "                                ..\n",
       "조용한 매력이 있는 친구                    1\n",
       "샤워 1시간 동안 할 것 같은 사람은?            1\n",
       "시간 약속을 제일 잘 지킬것 같은 사람은?          1\n",
       "너에게 칭찬을 받는다면 가장 기분 좋을 것 같아!      1\n",
       "사달라는거 다 사줄 것 같은 사람은?             1\n",
       "Name: count, Length: 3903, dtype: int64"
      ]
     },
     "execution_count": 44,
     "metadata": {},
     "output_type": "execute_result"
    }
   ],
   "source": [
    "polls_question_df['question_text'].value_counts()"
   ]
  },
  {
   "cell_type": "code",
   "execution_count": 45,
   "id": "a4e69932",
   "metadata": {},
   "outputs": [
    {
     "data": {
      "text/plain": [
       "year_month\n",
       "2023-03      73\n",
       "2023-04     154\n",
       "2023-05    1309\n",
       "2023-06    3489\n",
       "Freq: M, Name: count, dtype: int64"
      ]
     },
     "execution_count": 45,
     "metadata": {},
     "output_type": "execute_result"
    }
   ],
   "source": [
    "# 년-월별 질문 건수 체크 \n",
    "check_df = polls_question_df.copy()\n",
    "check_df['year_month'] = check_df['created_at'].dt.to_period('M')\n",
    "check_df['year_month'].value_counts().sort_index()"
   ]
  },
  {
   "cell_type": "markdown",
   "id": "8359d0cf",
   "metadata": {},
   "source": [
    "- 갈수록 질문 건수 많아짐"
   ]
  },
  {
   "cell_type": "markdown",
   "id": "c5bc31ac",
   "metadata": {},
   "source": [
    "# votes/polls_questionreport : 질문에 대한 신고기록 테이블"
   ]
  },
  {
   "cell_type": "code",
   "execution_count": 55,
   "id": "b782369f",
   "metadata": {},
   "outputs": [
    {
     "data": {
      "text/html": [
       "<div>\n",
       "<style scoped>\n",
       "    .dataframe tbody tr th:only-of-type {\n",
       "        vertical-align: middle;\n",
       "    }\n",
       "\n",
       "    .dataframe tbody tr th {\n",
       "        vertical-align: top;\n",
       "    }\n",
       "\n",
       "    .dataframe thead th {\n",
       "        text-align: right;\n",
       "    }\n",
       "</style>\n",
       "<table border=\"1\" class=\"dataframe\">\n",
       "  <thead>\n",
       "    <tr style=\"text-align: right;\">\n",
       "      <th></th>\n",
       "      <th>id</th>\n",
       "      <th>reason</th>\n",
       "      <th>created_at</th>\n",
       "      <th>question_id</th>\n",
       "      <th>user_id</th>\n",
       "    </tr>\n",
       "  </thead>\n",
       "  <tbody>\n",
       "    <tr>\n",
       "      <th>0</th>\n",
       "      <td>1</td>\n",
       "      <td>이 질문은 재미없어요</td>\n",
       "      <td>2023-04-19 06:20:35</td>\n",
       "      <td>250</td>\n",
       "      <td>837556</td>\n",
       "    </tr>\n",
       "    <tr>\n",
       "      <th>1</th>\n",
       "      <td>2</td>\n",
       "      <td>이 질문은 재미없어요</td>\n",
       "      <td>2023-04-19 06:58:09</td>\n",
       "      <td>113</td>\n",
       "      <td>837672</td>\n",
       "    </tr>\n",
       "    <tr>\n",
       "      <th>2</th>\n",
       "      <td>3</td>\n",
       "      <td>불쾌한 내용이 포함되어 있음</td>\n",
       "      <td>2023-04-19 06:58:17</td>\n",
       "      <td>113</td>\n",
       "      <td>837672</td>\n",
       "    </tr>\n",
       "    <tr>\n",
       "      <th>3</th>\n",
       "      <td>4</td>\n",
       "      <td>어떻게 이런 생각을? 이 질문 최고!</td>\n",
       "      <td>2023-04-19 08:12:42</td>\n",
       "      <td>119</td>\n",
       "      <td>837922</td>\n",
       "    </tr>\n",
       "    <tr>\n",
       "      <th>4</th>\n",
       "      <td>5</td>\n",
       "      <td>어떻게 이런 생각을? 이 질문 최고!</td>\n",
       "      <td>2023-04-19 08:12:50</td>\n",
       "      <td>119</td>\n",
       "      <td>837922</td>\n",
       "    </tr>\n",
       "  </tbody>\n",
       "</table>\n",
       "</div>"
      ],
      "text/plain": [
       "   id                reason          created_at  question_id  user_id\n",
       "0   1           이 질문은 재미없어요 2023-04-19 06:20:35          250   837556\n",
       "1   2           이 질문은 재미없어요 2023-04-19 06:58:09          113   837672\n",
       "2   3       불쾌한 내용이 포함되어 있음 2023-04-19 06:58:17          113   837672\n",
       "3   4  어떻게 이런 생각을? 이 질문 최고! 2023-04-19 08:12:42          119   837922\n",
       "4   5  어떻게 이런 생각을? 이 질문 최고! 2023-04-19 08:12:50          119   837922"
      ]
     },
     "metadata": {},
     "output_type": "display_data"
    },
    {
     "data": {
      "text/plain": [
       "(51424, 5)"
      ]
     },
     "execution_count": 55,
     "metadata": {},
     "output_type": "execute_result"
    }
   ],
   "source": [
    "# GCS 파일 경로\n",
    "gcs_path = \"gs://codeit-project/votes/polls_questionreport.parquet\"\n",
    "# 데이터 불러오기\n",
    "polls_questionreport_df = pd.read_parquet(gcs_path, storage_options={\"token\": key_path})\n",
    "\n",
    "# 확인\n",
    "display(polls_questionreport_df.head())\n",
    "polls_questionreport_df.shape"
   ]
  },
  {
   "cell_type": "code",
   "execution_count": null,
   "id": "5c371d71",
   "metadata": {},
   "outputs": [
    {
     "name": "stdout",
     "output_type": "stream",
     "text": [
      "<class 'pandas.core.frame.DataFrame'>\n",
      "RangeIndex: 51424 entries, 0 to 51423\n",
      "Data columns (total 5 columns):\n",
      " #   Column       Non-Null Count  Dtype         \n",
      "---  ------       --------------  -----         \n",
      " 0   id           51424 non-null  int64         \n",
      " 1   reason       51424 non-null  object        \n",
      " 2   created_at   51424 non-null  datetime64[ns]\n",
      " 3   question_id  51424 non-null  int64         \n",
      " 4   user_id      51424 non-null  int64         \n",
      "dtypes: datetime64[ns](1), int64(3), object(1)\n",
      "memory usage: 2.0+ MB\n"
     ]
    }
   ],
   "source": [
    "polls_questionreport_df.info() # 결측치 없음"
   ]
  },
  {
   "cell_type": "code",
   "execution_count": 57,
   "id": "15035c4f",
   "metadata": {},
   "outputs": [
    {
     "data": {
      "text/html": [
       "<div>\n",
       "<style scoped>\n",
       "    .dataframe tbody tr th:only-of-type {\n",
       "        vertical-align: middle;\n",
       "    }\n",
       "\n",
       "    .dataframe tbody tr th {\n",
       "        vertical-align: top;\n",
       "    }\n",
       "\n",
       "    .dataframe thead th {\n",
       "        text-align: right;\n",
       "    }\n",
       "</style>\n",
       "<table border=\"1\" class=\"dataframe\">\n",
       "  <thead>\n",
       "    <tr style=\"text-align: right;\">\n",
       "      <th></th>\n",
       "      <th>id</th>\n",
       "      <th>created_at</th>\n",
       "      <th>question_id</th>\n",
       "      <th>user_id</th>\n",
       "    </tr>\n",
       "  </thead>\n",
       "  <tbody>\n",
       "    <tr>\n",
       "      <th>count</th>\n",
       "      <td>51424.000000</td>\n",
       "      <td>51424</td>\n",
       "      <td>51424.000000</td>\n",
       "      <td>5.142400e+04</td>\n",
       "    </tr>\n",
       "    <tr>\n",
       "      <th>mean</th>\n",
       "      <td>28027.358587</td>\n",
       "      <td>2023-05-21 22:12:41.641120768</td>\n",
       "      <td>733.099098</td>\n",
       "      <td>1.168247e+06</td>\n",
       "    </tr>\n",
       "    <tr>\n",
       "      <th>min</th>\n",
       "      <td>1.000000</td>\n",
       "      <td>2023-04-19 06:20:35</td>\n",
       "      <td>99.000000</td>\n",
       "      <td>8.323400e+05</td>\n",
       "    </tr>\n",
       "    <tr>\n",
       "      <th>25%</th>\n",
       "      <td>14020.750000</td>\n",
       "      <td>2023-05-13 01:36:21.249999872</td>\n",
       "      <td>305.000000</td>\n",
       "      <td>9.784810e+05</td>\n",
       "    </tr>\n",
       "    <tr>\n",
       "      <th>50%</th>\n",
       "      <td>28047.500000</td>\n",
       "      <td>2023-05-18 14:33:45</td>\n",
       "      <td>494.000000</td>\n",
       "      <td>1.160251e+06</td>\n",
       "    </tr>\n",
       "    <tr>\n",
       "      <th>75%</th>\n",
       "      <td>42084.250000</td>\n",
       "      <td>2023-05-26 08:45:25</td>\n",
       "      <td>1021.000000</td>\n",
       "      <td>1.351295e+06</td>\n",
       "    </tr>\n",
       "    <tr>\n",
       "      <th>max</th>\n",
       "      <td>55767.000000</td>\n",
       "      <td>2024-05-05 14:56:25</td>\n",
       "      <td>5110.000000</td>\n",
       "      <td>1.583634e+06</td>\n",
       "    </tr>\n",
       "    <tr>\n",
       "      <th>std</th>\n",
       "      <td>16163.108294</td>\n",
       "      <td>NaN</td>\n",
       "      <td>666.021729</td>\n",
       "      <td>2.082471e+05</td>\n",
       "    </tr>\n",
       "  </tbody>\n",
       "</table>\n",
       "</div>"
      ],
      "text/plain": [
       "                 id                     created_at   question_id       user_id\n",
       "count  51424.000000                          51424  51424.000000  5.142400e+04\n",
       "mean   28027.358587  2023-05-21 22:12:41.641120768    733.099098  1.168247e+06\n",
       "min        1.000000            2023-04-19 06:20:35     99.000000  8.323400e+05\n",
       "25%    14020.750000  2023-05-13 01:36:21.249999872    305.000000  9.784810e+05\n",
       "50%    28047.500000            2023-05-18 14:33:45    494.000000  1.160251e+06\n",
       "75%    42084.250000            2023-05-26 08:45:25   1021.000000  1.351295e+06\n",
       "max    55767.000000            2024-05-05 14:56:25   5110.000000  1.583634e+06\n",
       "std    16163.108294                            NaN    666.021729  2.082471e+05"
      ]
     },
     "execution_count": 57,
     "metadata": {},
     "output_type": "execute_result"
    }
   ],
   "source": [
    "polls_questionreport_df.describe()"
   ]
  },
  {
   "cell_type": "markdown",
   "id": "f05b0649",
   "metadata": {},
   "source": [
    "- 2023-05-21 ~ 2024-05-05 데이터 "
   ]
  },
  {
   "cell_type": "code",
   "execution_count": 58,
   "id": "59a93de0",
   "metadata": {},
   "outputs": [
    {
     "data": {
      "text/plain": [
       "reason\n",
       "그냥 싫어                   28446\n",
       "나랑 맞지 않는 질문인 것 같음        9541\n",
       "불쾌한 질문 내용                5386\n",
       "자꾸 같은 내용의 질문 반복          3202\n",
       "어떻게 이런 생각을? 이 질문 최고!     1821\n",
       "한 친구가 질문을 반복적으로 보냄       1701\n",
       "기타                        480\n",
       "이 질문은 재미없어요               471\n",
       "불쾌한 내용이 포함되어 있음           250\n",
       "오타가 있음                     68\n",
       "선정적이거나 자극적인 질문             58\n",
       "Name: count, dtype: int64"
      ]
     },
     "execution_count": 58,
     "metadata": {},
     "output_type": "execute_result"
    }
   ],
   "source": [
    "polls_questionreport_df['reason'].value_counts()"
   ]
  },
  {
   "cell_type": "markdown",
   "id": "fb7d692f",
   "metadata": {},
   "source": [
    "- 그냥 싫어 가 1위..? \n",
    "- 불쾌한 내용, 같은 내용 반복 등의 이유도 상위권"
   ]
  },
  {
   "cell_type": "code",
   "execution_count": null,
   "id": "b8988bdd",
   "metadata": {},
   "outputs": [],
   "source": []
  },
  {
   "cell_type": "markdown",
   "id": "94d28ff6",
   "metadata": {},
   "source": [
    "# hackle/hackle_events.parquet 이벤트 로그 데이터"
   ]
  },
  {
   "cell_type": "code",
   "execution_count": null,
   "id": "24197283",
   "metadata": {},
   "outputs": [],
   "source": []
  }
 ],
 "metadata": {
  "kernelspec": {
   "display_name": "Python 3 (ipykernel)",
   "language": "python",
   "name": "python3"
  },
  "language_info": {
   "codemirror_mode": {
    "name": "ipython",
    "version": 3
   },
   "file_extension": ".py",
   "mimetype": "text/x-python",
   "name": "python",
   "nbconvert_exporter": "python",
   "pygments_lexer": "ipython3",
   "version": "3.11.12"
  }
 },
 "nbformat": 4,
 "nbformat_minor": 5
}
