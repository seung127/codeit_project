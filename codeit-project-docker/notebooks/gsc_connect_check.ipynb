{
 "cells": [
  {
   "cell_type": "code",
   "execution_count": 19,
   "id": "0eac0d80-2c4d-46fc-b10c-091da2c7fdd6",
   "metadata": {},
   "outputs": [],
   "source": [
    "import pandas as pd\n",
    "pd.set_option('display.max_columns', None)       # 모든 열 출력\n",
    "pd.set_option('display.width', None)             # 자동 너비 제한 해제\n",
    "pd.set_option('display.expand_frame_repr', False) # 한 줄로 출력"
   ]
  },
  {
   "cell_type": "code",
   "execution_count": 20,
   "id": "005cbf56-1e23-4988-bb54-48dfb2581519",
   "metadata": {},
   "outputs": [
    {
     "data": {
      "text/html": [
       "<div>\n",
       "<style scoped>\n",
       "    .dataframe tbody tr th:only-of-type {\n",
       "        vertical-align: middle;\n",
       "    }\n",
       "\n",
       "    .dataframe tbody tr th {\n",
       "        vertical-align: top;\n",
       "    }\n",
       "\n",
       "    .dataframe thead th {\n",
       "        text-align: right;\n",
       "    }\n",
       "</style>\n",
       "<table border=\"1\" class=\"dataframe\">\n",
       "  <thead>\n",
       "    <tr style=\"text-align: right;\">\n",
       "      <th></th>\n",
       "      <th>id</th>\n",
       "      <th>reason</th>\n",
       "      <th>created_at</th>\n",
       "      <th>block_user_id</th>\n",
       "      <th>user_id</th>\n",
       "    </tr>\n",
       "  </thead>\n",
       "  <tbody>\n",
       "    <tr>\n",
       "      <th>0</th>\n",
       "      <td>1</td>\n",
       "      <td>그냥...</td>\n",
       "      <td>2023-05-04 23:01:53</td>\n",
       "      <td>867483</td>\n",
       "      <td>878476</td>\n",
       "    </tr>\n",
       "    <tr>\n",
       "      <th>1</th>\n",
       "      <td>2</td>\n",
       "      <td>친구 사이가 어색해짐</td>\n",
       "      <td>2023-05-05 01:17:08</td>\n",
       "      <td>867190</td>\n",
       "      <td>867564</td>\n",
       "    </tr>\n",
       "    <tr>\n",
       "      <th>2</th>\n",
       "      <td>3</td>\n",
       "      <td>나랑 관련 없는 질문을 자꾸 보냄</td>\n",
       "      <td>2023-05-05 01:50:55</td>\n",
       "      <td>875110</td>\n",
       "      <td>875261</td>\n",
       "    </tr>\n",
       "    <tr>\n",
       "      <th>3</th>\n",
       "      <td>6</td>\n",
       "      <td>그냥...</td>\n",
       "      <td>2023-05-05 05:21:52</td>\n",
       "      <td>883696</td>\n",
       "      <td>883511</td>\n",
       "    </tr>\n",
       "    <tr>\n",
       "      <th>4</th>\n",
       "      <td>7</td>\n",
       "      <td>그냥...</td>\n",
       "      <td>2023-05-05 06:40:34</td>\n",
       "      <td>871349</td>\n",
       "      <td>870177</td>\n",
       "    </tr>\n",
       "  </tbody>\n",
       "</table>\n",
       "</div>"
      ],
      "text/plain": [
       "   id              reason          created_at  block_user_id  user_id\n",
       "0   1               그냥... 2023-05-04 23:01:53         867483   878476\n",
       "1   2         친구 사이가 어색해짐 2023-05-05 01:17:08         867190   867564\n",
       "2   3  나랑 관련 없는 질문을 자꾸 보냄 2023-05-05 01:50:55         875110   875261\n",
       "3   6               그냥... 2023-05-05 05:21:52         883696   883511\n",
       "4   7               그냥... 2023-05-05 06:40:34         871349   870177"
      ]
     },
     "execution_count": 20,
     "metadata": {},
     "output_type": "execute_result"
    }
   ],
   "source": [
    "# GCS 파일 경로\n",
    "accounts_blockrecord = \"gs://codeit-project/votes/accounts_blockrecord.parquet\" # 차단 기록 테이블\n",
    "\n",
    "# GCP 키 경로\n",
    "key_path = \"config/key.json\"\n",
    "\n",
    "# 데이터 불러오기\n",
    "accounts_blockrecord = pd.read_parquet(accounts_blockrecord, storage_options={\"token\": key_path})\n",
    "\n",
    "# 확인\n",
    "accounts_blockrecord.head()"
   ]
  },
  {
   "cell_type": "code",
   "execution_count": 21,
   "id": "05630590-ea26-4915-8c3e-bcc5dc299774",
   "metadata": {},
   "outputs": [
    {
     "name": "stdout",
     "output_type": "stream",
     "text": [
      "<class 'pandas.core.frame.DataFrame'>\n",
      "RangeIndex: 19482 entries, 0 to 19481\n",
      "Data columns (total 5 columns):\n",
      " #   Column         Non-Null Count  Dtype         \n",
      "---  ------         --------------  -----         \n",
      " 0   id             19482 non-null  int64         \n",
      " 1   reason         19482 non-null  object        \n",
      " 2   created_at     19482 non-null  datetime64[ns]\n",
      " 3   block_user_id  19482 non-null  int64         \n",
      " 4   user_id        19482 non-null  int64         \n",
      "dtypes: datetime64[ns](1), int64(3), object(1)\n",
      "memory usage: 761.1+ KB\n"
     ]
    },
    {
     "data": {
      "text/plain": [
       "None"
      ]
     },
     "metadata": {},
     "output_type": "display_data"
    },
    {
     "name": "stdout",
     "output_type": "stream",
     "text": [
      "--------\n"
     ]
    },
    {
     "data": {
      "text/plain": [
       "Timestamp('2023-05-04 23:01:53')"
      ]
     },
     "metadata": {},
     "output_type": "display_data"
    },
    {
     "name": "stdout",
     "output_type": "stream",
     "text": [
      "--------\n"
     ]
    },
    {
     "data": {
      "text/plain": [
       "Timestamp('2024-05-06 13:03:37')"
      ]
     },
     "metadata": {},
     "output_type": "display_data"
    },
    {
     "name": "stdout",
     "output_type": "stream",
     "text": [
      "--------\n"
     ]
    },
    {
     "data": {
      "text/plain": [
       "7"
      ]
     },
     "metadata": {},
     "output_type": "display_data"
    },
    {
     "name": "stdout",
     "output_type": "stream",
     "text": [
      "--------\n"
     ]
    },
    {
     "data": {
      "text/plain": [
       "reason\n",
       "모르는 사람임               9640\n",
       "친구 사이가 어색해짐           5805\n",
       "사칭 계정                 2022\n",
       "나랑 관련 없는 질문을 자꾸 보냄    1083\n",
       "너무 많은 양의 질문을 보냄        919\n",
       "기타                       7\n",
       "그냥...                    6\n",
       "Name: count, dtype: int64"
      ]
     },
     "metadata": {},
     "output_type": "display_data"
    },
    {
     "name": "stdout",
     "output_type": "stream",
     "text": [
      "--------\n"
     ]
    },
    {
     "data": {
      "text/plain": [
       "12552"
      ]
     },
     "metadata": {},
     "output_type": "display_data"
    },
    {
     "name": "stdout",
     "output_type": "stream",
     "text": [
      "--------\n"
     ]
    },
    {
     "data": {
      "text/plain": [
       "16240"
      ]
     },
     "metadata": {},
     "output_type": "display_data"
    }
   ],
   "source": [
    "display(accounts_blockrecord.info())\n",
    "print('--------')\n",
    "display(accounts_blockrecord.created_at.min())\n",
    "print('--------')\n",
    "display(accounts_blockrecord.created_at.max())\n",
    "print('--------')\n",
    "display(accounts_blockrecord.reason.nunique())\n",
    "print('--------')\n",
    "display(accounts_blockrecord.reason.value_counts())\n",
    "print('--------')\n",
    "display(accounts_blockrecord.user_id.nunique())\n",
    "print('--------')\n",
    "display(accounts_blockrecord.block_user_id.nunique())\n"
   ]
  },
  {
   "cell_type": "code",
   "execution_count": 22,
   "id": "0eb25a2f",
   "metadata": {},
   "outputs": [
    {
     "data": {
      "text/html": [
       "<div>\n",
       "<style scoped>\n",
       "    .dataframe tbody tr th:only-of-type {\n",
       "        vertical-align: middle;\n",
       "    }\n",
       "\n",
       "    .dataframe tbody tr th {\n",
       "        vertical-align: top;\n",
       "    }\n",
       "\n",
       "    .dataframe thead th {\n",
       "        text-align: right;\n",
       "    }\n",
       "</style>\n",
       "<table border=\"1\" class=\"dataframe\">\n",
       "  <thead>\n",
       "    <tr style=\"text-align: right;\">\n",
       "      <th></th>\n",
       "      <th>id</th>\n",
       "      <th>reason</th>\n",
       "      <th>created_at</th>\n",
       "      <th>reported_user_id</th>\n",
       "      <th>user_id</th>\n",
       "      <th>user_question_record_id</th>\n",
       "    </tr>\n",
       "  </thead>\n",
       "  <tbody>\n",
       "    <tr>\n",
       "      <th>0</th>\n",
       "      <td>28</td>\n",
       "      <td>타인을 사칭함</td>\n",
       "      <td>2023-05-06 04:44:57</td>\n",
       "      <td>874587</td>\n",
       "      <td>885082</td>\n",
       "      <td>3920588</td>\n",
       "    </tr>\n",
       "    <tr>\n",
       "      <th>1</th>\n",
       "      <td>37</td>\n",
       "      <td>친구를 비하하거나 조롱하는 어투</td>\n",
       "      <td>2023-05-06 05:41:19</td>\n",
       "      <td>881048</td>\n",
       "      <td>881298</td>\n",
       "      <td>4018679</td>\n",
       "    </tr>\n",
       "    <tr>\n",
       "      <th>2</th>\n",
       "      <td>46</td>\n",
       "      <td>친구를 비하하거나 조롱하는 어투</td>\n",
       "      <td>2023-05-06 06:26:59</td>\n",
       "      <td>887882</td>\n",
       "      <td>881945</td>\n",
       "      <td>4120914</td>\n",
       "    </tr>\n",
       "    <tr>\n",
       "      <th>3</th>\n",
       "      <td>64</td>\n",
       "      <td>허위 사실 언급</td>\n",
       "      <td>2023-05-06 07:07:46</td>\n",
       "      <td>888610</td>\n",
       "      <td>893684</td>\n",
       "      <td>4143049</td>\n",
       "    </tr>\n",
       "    <tr>\n",
       "      <th>4</th>\n",
       "      <td>65</td>\n",
       "      <td>허위 사실 언급</td>\n",
       "      <td>2023-05-06 07:07:52</td>\n",
       "      <td>888610</td>\n",
       "      <td>893684</td>\n",
       "      <td>4143049</td>\n",
       "    </tr>\n",
       "  </tbody>\n",
       "</table>\n",
       "</div>"
      ],
      "text/plain": [
       "   id             reason          created_at  reported_user_id  user_id  user_question_record_id\n",
       "0  28            타인을 사칭함 2023-05-06 04:44:57            874587   885082                  3920588\n",
       "1  37  친구를 비하하거나 조롱하는 어투 2023-05-06 05:41:19            881048   881298                  4018679\n",
       "2  46  친구를 비하하거나 조롱하는 어투 2023-05-06 06:26:59            887882   881945                  4120914\n",
       "3  64           허위 사실 언급 2023-05-06 07:07:46            888610   893684                  4143049\n",
       "4  65           허위 사실 언급 2023-05-06 07:07:52            888610   893684                  4143049"
      ]
     },
     "execution_count": 22,
     "metadata": {},
     "output_type": "execute_result"
    }
   ],
   "source": [
    "# accounts_timelinereport 유저 신고기록 테이블\n",
    "accounts_timelinereport = \"gs://codeit-project/votes/accounts_timelinereport.parquet\" # 차단 기록 테이블\n",
    "\n",
    "# GCP 키 경로\n",
    "key_path = \"config/key.json\"\n",
    "\n",
    "# 데이터 불러오기\n",
    "accounts_timelinereport = pd.read_parquet(accounts_timelinereport, storage_options={\"token\": key_path})\n",
    "\n",
    "# 확인\n",
    "accounts_timelinereport.head()"
   ]
  },
  {
   "cell_type": "code",
   "execution_count": 23,
   "id": "72f6685a",
   "metadata": {},
   "outputs": [
    {
     "name": "stdout",
     "output_type": "stream",
     "text": [
      "<class 'pandas.core.frame.DataFrame'>\n",
      "RangeIndex: 208 entries, 0 to 207\n",
      "Data columns (total 6 columns):\n",
      " #   Column                   Non-Null Count  Dtype         \n",
      "---  ------                   --------------  -----         \n",
      " 0   id                       208 non-null    int64         \n",
      " 1   reason                   208 non-null    object        \n",
      " 2   created_at               208 non-null    datetime64[ns]\n",
      " 3   reported_user_id         208 non-null    int64         \n",
      " 4   user_id                  208 non-null    int64         \n",
      " 5   user_question_record_id  208 non-null    int64         \n",
      "dtypes: datetime64[ns](1), int64(4), object(1)\n",
      "memory usage: 9.9+ KB\n"
     ]
    },
    {
     "data": {
      "text/plain": [
       "None"
      ]
     },
     "metadata": {},
     "output_type": "display_data"
    },
    {
     "name": "stdout",
     "output_type": "stream",
     "text": [
      "-----\n"
     ]
    },
    {
     "data": {
      "text/plain": [
       "Timestamp('2023-05-06 04:44:57')"
      ]
     },
     "metadata": {},
     "output_type": "display_data"
    },
    {
     "name": "stdout",
     "output_type": "stream",
     "text": [
      "-----\n"
     ]
    },
    {
     "data": {
      "text/plain": [
       "Timestamp('2023-06-02 08:30:06')"
      ]
     },
     "metadata": {},
     "output_type": "display_data"
    },
    {
     "name": "stdout",
     "output_type": "stream",
     "text": [
      "-----\n"
     ]
    },
    {
     "data": {
      "text/plain": [
       "5"
      ]
     },
     "metadata": {},
     "output_type": "display_data"
    },
    {
     "name": "stdout",
     "output_type": "stream",
     "text": [
      "-----\n"
     ]
    },
    {
     "data": {
      "text/plain": [
       "array(['타인을 사칭함', '친구를 비하하거나 조롱하는 어투', '허위 사실 언급', '선정적이거나 폭력적인 내용', '광고'],\n",
       "      dtype=object)"
      ]
     },
     "metadata": {},
     "output_type": "display_data"
    },
    {
     "name": "stdout",
     "output_type": "stream",
     "text": [
      "-----\n"
     ]
    },
    {
     "data": {
      "text/plain": [
       "reason\n",
       "허위 사실 언급             80\n",
       "친구를 비하하거나 조롱하는 어투    64\n",
       "선정적이거나 폭력적인 내용       39\n",
       "타인을 사칭함              15\n",
       "광고                   10\n",
       "Name: count, dtype: int64"
      ]
     },
     "metadata": {},
     "output_type": "display_data"
    },
    {
     "name": "stdout",
     "output_type": "stream",
     "text": [
      "-----\n"
     ]
    },
    {
     "data": {
      "text/plain": [
       "115"
      ]
     },
     "metadata": {},
     "output_type": "display_data"
    },
    {
     "name": "stdout",
     "output_type": "stream",
     "text": [
      "-----\n"
     ]
    },
    {
     "data": {
      "text/plain": [
       "125"
      ]
     },
     "metadata": {},
     "output_type": "display_data"
    },
    {
     "name": "stdout",
     "output_type": "stream",
     "text": [
      "-----\n"
     ]
    },
    {
     "data": {
      "text/plain": [
       "163"
      ]
     },
     "metadata": {},
     "output_type": "display_data"
    }
   ],
   "source": [
    "display(accounts_timelinereport.info())\n",
    "print('-----')\n",
    "display(accounts_timelinereport.created_at.min())\n",
    "print('-----')\n",
    "display(accounts_timelinereport.created_at.max())\n",
    "print('-----')\n",
    "display(accounts_timelinereport.reason.nunique())\n",
    "print('-----')\n",
    "display(accounts_timelinereport.reason.unique())\n",
    "print('-----')\n",
    "display(accounts_timelinereport.reason.value_counts())\n",
    "print('-----')\n",
    "display(accounts_timelinereport.user_id.nunique())\n",
    "print('-----')\n",
    "display(accounts_timelinereport.reported_user_id.nunique())\n",
    "print('-----')\n",
    "display(accounts_timelinereport.user_question_record_id.nunique())\n",
    "\n"
   ]
  },
  {
   "cell_type": "code",
   "execution_count": null,
   "id": "d2334f23",
   "metadata": {},
   "outputs": [],
   "source": []
  }
 ],
 "metadata": {
  "kernelspec": {
   "display_name": "Python 3 (ipykernel)",
   "language": "python",
   "name": "python3"
  },
  "language_info": {
   "codemirror_mode": {
    "name": "ipython",
    "version": 3
   },
   "file_extension": ".py",
   "mimetype": "text/x-python",
   "name": "python",
   "nbconvert_exporter": "python",
   "pygments_lexer": "ipython3",
   "version": "3.11.12"
  }
 },
 "nbformat": 4,
 "nbformat_minor": 5
}
