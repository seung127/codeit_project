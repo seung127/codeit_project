{
 "cells": [
  {
   "cell_type": "markdown",
   "id": "cc3eccaf",
   "metadata": {},
   "source": [
    "## 세팅"
   ]
  },
  {
   "cell_type": "code",
   "execution_count": 1,
   "id": "0eac0d80-2c4d-46fc-b10c-091da2c7fdd6",
   "metadata": {},
   "outputs": [],
   "source": [
    "import pandas as pd\n",
    "import os\n",
    "import numpy as np\n",
    "import matplotlib.pyplot as plt\n",
    "import seaborn as sns\n",
    "import datetime as dt\n",
    "from datetime import timedelta\n",
    "import matplotlib.font_manager as fm\n",
    "import matplotlib as mpl\n",
    "import ast\n",
    "import json\n",
    "pd.set_option('display.max_rows', None)\n",
    "pd.set_option('display.max_columns', None)\n",
    "pd.set_option('display.width', None)\n",
    "pd.set_option('display.expand_frame_repr', False)\n",
    "\n",
    "from collections import Counter\n",
    "from kiwipiepy import Kiwi\n"
   ]
  },
  {
   "cell_type": "code",
   "execution_count": 2,
   "id": "c040847f",
   "metadata": {},
   "outputs": [],
   "source": [
    "def read_parquet_from_gcs(file_names, gcs_prefix, key_path):\n",
    "    dfs = {}\n",
    "    for name in file_names:\n",
    "        path = f\"{gcs_prefix}/{name}.parquet\"\n",
    "        dfs[name] = pd.read_parquet(path, storage_options={\"token\": key_path})\n",
    "    return dfs\n",
    "\n",
    "\n",
    "file_list = [\n",
    "    \"accounts_attendance\",\n",
    "    \"accounts_blockrecord\",\n",
    "    \"accounts_failpaymenthistory\",\n",
    "    \"accounts_friendrequest\",\n",
    "    \"accounts_group\",\n",
    "    \"accounts_nearbyschool\",\n",
    "    \"accounts_paymenthistory\",\n",
    "    \"accounts_user_contacts\",\n",
    "    \"accounts_pointhistory\",\n",
    "    \"accounts_school\",\n",
    "    \"accounts_timelinereport\",\n",
    "    \"accounts_user\",\n",
    "    \"accounts_userquestionrecord\",\n",
    "    \"accounts_userwithdraw\",\n",
    "    \"event_receipts\",\n",
    "    \"events\",\n",
    "    \"polls_question\",\n",
    "    \"polls_questionpiece\",\n",
    "    \"polls_questionreport\",\n",
    "    \"polls_questionset\",\n",
    "    \"polls_usercandidate\"\n",
    "]\n",
    "\n",
    "gcs_prefix = \"gs://codeit-project/votes\"\n",
    "key_path = \"./config/key.json\"\n",
    "\n",
    "dfs = read_parquet_from_gcs(file_list, gcs_prefix, key_path)\n",
    "\n",
    "# 출석 테이블\n",
    "accounts_attendance = dfs[\"accounts_attendance\"]\n",
    "\n",
    "# 차단 기록 테이블\n",
    "accounts_blockrecord = dfs[\"accounts_blockrecord\"]\n",
    "\n",
    "# 상품 구매 실패 기록 테이블\n",
    "accounts_failpaymenthistory = dfs[\"accounts_failpaymenthistory\"]\n",
    "\n",
    "# 친구 요청 테이블\n",
    "accounts_friendrequest = dfs[\"accounts_friendrequest\"]\n",
    "\n",
    "# 그룹 테이블\n",
    "accounts_group = dfs[\"accounts_group\"]\n",
    "\n",
    "# 근처 학교 테이블\n",
    "accounts_nearbyschool = dfs[\"accounts_nearbyschool\"]\n",
    "\n",
    "# 결제 기록 테이블\n",
    "accounts_paymenthistory = dfs[\"accounts_paymenthistory\"]\n",
    "\n",
    "# 사용자 연락처 테이블\n",
    "accounts_user_contacts = dfs[\"accounts_user_contacts\"]\n",
    "\n",
    "# 포인트 내역 테이블\n",
    "accounts_pointhistory = dfs[\"accounts_pointhistory\"]\n",
    "\n",
    "# 학교 정보 테이블\n",
    "accounts_school = dfs[\"accounts_school\"]\n",
    "\n",
    "# 타임라인 신고 기록 테이블\n",
    "accounts_timelinereport = dfs[\"accounts_timelinereport\"]\n",
    "\n",
    "# 사용자 기본 정보 테이블\n",
    "accounts_user = dfs[\"accounts_user\"]\n",
    "\n",
    "# 사용자 질문 응답 기록 테이블\n",
    "accounts_userquestionrecord = dfs[\"accounts_userquestionrecord\"]\n",
    "\n",
    "# 회원 탈퇴 기록 테이블\n",
    "accounts_userwithdraw = dfs[\"accounts_userwithdraw\"]\n",
    "\n",
    "# 이벤트 영수증 테이블\n",
    "event_receipts = dfs[\"event_receipts\"]\n",
    "\n",
    "# 이벤트 테이블\n",
    "events = dfs[\"events\"]\n",
    "\n",
    "# 질문 테이블\n",
    "polls_question = dfs[\"polls_question\"]\n",
    "\n",
    "# 질문 조각 테이블\n",
    "polls_questionpiece = dfs[\"polls_questionpiece\"]\n",
    "\n",
    "# 질문 신고 테이블\n",
    "polls_questionreport = dfs[\"polls_questionreport\"]\n",
    "\n",
    "# 질문 세트 테이블\n",
    "polls_questionset = dfs[\"polls_questionset\"]\n",
    "\n",
    "# 사용자 후보 응답 테이블\n",
    "polls_usercandidate = dfs[\"polls_usercandidate\"]"
   ]
  },
  {
   "cell_type": "code",
   "execution_count": 3,
   "id": "1b6dd3ee",
   "metadata": {},
   "outputs": [],
   "source": [
    "def read_parquet_from_gcs(file_names, gcs_prefix, key_path):\n",
    "    dfs = {}\n",
    "    for name in file_names:\n",
    "        path = f\"{gcs_prefix}/{name}.parquet\"\n",
    "        dfs[name] = pd.read_parquet(path, storage_options={\"token\": key_path})\n",
    "    return dfs\n",
    "\n",
    "\n",
    "file_list = [\n",
    "    \"device_properties\",\n",
    "    \"hackle_events\",\n",
    "    \"hackle_properties\",\n",
    "    \"user_properties\"\n",
    "]\n",
    "\n",
    "gcs_prefix = \"gs://codeit-project/hackle\"\n",
    "key_path = \"./config/key.json\"\n",
    "\n",
    "dfs = read_parquet_from_gcs(file_list, gcs_prefix, key_path)\n",
    "\n",
    "# device_properties\n",
    "device_properties = dfs[\"device_properties\"]\n",
    "# hackle_events\n",
    "hackle_events = dfs[\"hackle_events\"]\n",
    "# hackle_properties\n",
    "hackle_properties = dfs[\"hackle_properties\"]\n",
    "# user_properties\n",
    "user_properties = dfs[\"user_properties\"]    "
   ]
  },
  {
   "cell_type": "markdown",
   "id": "2fc24469",
   "metadata": {},
   "source": [
    "## EDA"
   ]
  },
  {
   "cell_type": "markdown",
   "id": "b6baff55",
   "metadata": {},
   "source": [
    "### 차단기록"
   ]
  },
  {
   "cell_type": "code",
   "execution_count": 4,
   "id": "005cbf56-1e23-4988-bb54-48dfb2581519",
   "metadata": {},
   "outputs": [
    {
     "data": {
      "text/html": [
       "<div>\n",
       "<style scoped>\n",
       "    .dataframe tbody tr th:only-of-type {\n",
       "        vertical-align: middle;\n",
       "    }\n",
       "\n",
       "    .dataframe tbody tr th {\n",
       "        vertical-align: top;\n",
       "    }\n",
       "\n",
       "    .dataframe thead th {\n",
       "        text-align: right;\n",
       "    }\n",
       "</style>\n",
       "<table border=\"1\" class=\"dataframe\">\n",
       "  <thead>\n",
       "    <tr style=\"text-align: right;\">\n",
       "      <th></th>\n",
       "      <th>id</th>\n",
       "      <th>reason</th>\n",
       "      <th>created_at</th>\n",
       "      <th>block_user_id</th>\n",
       "      <th>user_id</th>\n",
       "    </tr>\n",
       "  </thead>\n",
       "  <tbody>\n",
       "    <tr>\n",
       "      <th>0</th>\n",
       "      <td>1</td>\n",
       "      <td>그냥...</td>\n",
       "      <td>2023-05-04 23:01:53</td>\n",
       "      <td>867483</td>\n",
       "      <td>878476</td>\n",
       "    </tr>\n",
       "    <tr>\n",
       "      <th>1</th>\n",
       "      <td>2</td>\n",
       "      <td>친구 사이가 어색해짐</td>\n",
       "      <td>2023-05-05 01:17:08</td>\n",
       "      <td>867190</td>\n",
       "      <td>867564</td>\n",
       "    </tr>\n",
       "    <tr>\n",
       "      <th>2</th>\n",
       "      <td>3</td>\n",
       "      <td>나랑 관련 없는 질문을 자꾸 보냄</td>\n",
       "      <td>2023-05-05 01:50:55</td>\n",
       "      <td>875110</td>\n",
       "      <td>875261</td>\n",
       "    </tr>\n",
       "    <tr>\n",
       "      <th>3</th>\n",
       "      <td>6</td>\n",
       "      <td>그냥...</td>\n",
       "      <td>2023-05-05 05:21:52</td>\n",
       "      <td>883696</td>\n",
       "      <td>883511</td>\n",
       "    </tr>\n",
       "    <tr>\n",
       "      <th>4</th>\n",
       "      <td>7</td>\n",
       "      <td>그냥...</td>\n",
       "      <td>2023-05-05 06:40:34</td>\n",
       "      <td>871349</td>\n",
       "      <td>870177</td>\n",
       "    </tr>\n",
       "  </tbody>\n",
       "</table>\n",
       "</div>"
      ],
      "text/plain": [
       "   id              reason          created_at  block_user_id  user_id\n",
       "0   1               그냥... 2023-05-04 23:01:53         867483   878476\n",
       "1   2         친구 사이가 어색해짐 2023-05-05 01:17:08         867190   867564\n",
       "2   3  나랑 관련 없는 질문을 자꾸 보냄 2023-05-05 01:50:55         875110   875261\n",
       "3   6               그냥... 2023-05-05 05:21:52         883696   883511\n",
       "4   7               그냥... 2023-05-05 06:40:34         871349   870177"
      ]
     },
     "execution_count": 4,
     "metadata": {},
     "output_type": "execute_result"
    }
   ],
   "source": [
    "# 확인\n",
    "accounts_blockrecord.head()"
   ]
  },
  {
   "cell_type": "code",
   "execution_count": 5,
   "id": "05630590-ea26-4915-8c3e-bcc5dc299774",
   "metadata": {},
   "outputs": [
    {
     "name": "stdout",
     "output_type": "stream",
     "text": [
      "<class 'pandas.core.frame.DataFrame'>\n",
      "RangeIndex: 19482 entries, 0 to 19481\n",
      "Data columns (total 5 columns):\n",
      " #   Column         Non-Null Count  Dtype         \n",
      "---  ------         --------------  -----         \n",
      " 0   id             19482 non-null  int64         \n",
      " 1   reason         19482 non-null  object        \n",
      " 2   created_at     19482 non-null  datetime64[ns]\n",
      " 3   block_user_id  19482 non-null  int64         \n",
      " 4   user_id        19482 non-null  int64         \n",
      "dtypes: datetime64[ns](1), int64(3), object(1)\n",
      "memory usage: 761.1+ KB\n"
     ]
    },
    {
     "data": {
      "text/plain": [
       "None"
      ]
     },
     "metadata": {},
     "output_type": "display_data"
    },
    {
     "name": "stdout",
     "output_type": "stream",
     "text": [
      "--------\n"
     ]
    },
    {
     "data": {
      "text/plain": [
       "Timestamp('2023-05-04 23:01:53')"
      ]
     },
     "metadata": {},
     "output_type": "display_data"
    },
    {
     "name": "stdout",
     "output_type": "stream",
     "text": [
      "--------\n"
     ]
    },
    {
     "data": {
      "text/plain": [
       "Timestamp('2024-05-06 13:03:37')"
      ]
     },
     "metadata": {},
     "output_type": "display_data"
    },
    {
     "name": "stdout",
     "output_type": "stream",
     "text": [
      "--------\n"
     ]
    },
    {
     "data": {
      "text/plain": [
       "7"
      ]
     },
     "metadata": {},
     "output_type": "display_data"
    },
    {
     "name": "stdout",
     "output_type": "stream",
     "text": [
      "--------\n"
     ]
    },
    {
     "data": {
      "text/plain": [
       "reason\n",
       "모르는 사람임               9640\n",
       "친구 사이가 어색해짐           5805\n",
       "사칭 계정                 2022\n",
       "나랑 관련 없는 질문을 자꾸 보냄    1083\n",
       "너무 많은 양의 질문을 보냄        919\n",
       "기타                       7\n",
       "그냥...                    6\n",
       "Name: count, dtype: int64"
      ]
     },
     "metadata": {},
     "output_type": "display_data"
    },
    {
     "name": "stdout",
     "output_type": "stream",
     "text": [
      "--------\n"
     ]
    },
    {
     "data": {
      "text/plain": [
       "12552"
      ]
     },
     "metadata": {},
     "output_type": "display_data"
    },
    {
     "name": "stdout",
     "output_type": "stream",
     "text": [
      "--------\n"
     ]
    },
    {
     "data": {
      "text/plain": [
       "16240"
      ]
     },
     "metadata": {},
     "output_type": "display_data"
    }
   ],
   "source": [
    "display(accounts_blockrecord.info())\n",
    "print('--------')\n",
    "display(accounts_blockrecord.created_at.min())\n",
    "print('--------')\n",
    "display(accounts_blockrecord.created_at.max())\n",
    "print('--------')\n",
    "display(accounts_blockrecord.reason.nunique())\n",
    "print('--------')\n",
    "display(accounts_blockrecord.reason.value_counts())\n",
    "print('--------')\n",
    "display(accounts_blockrecord.user_id.nunique())\n",
    "print('--------')\n",
    "display(accounts_blockrecord.block_user_id.nunique())\n"
   ]
  },
  {
   "cell_type": "markdown",
   "id": "c614d7eb",
   "metadata": {},
   "source": [
    "### 신고기록"
   ]
  },
  {
   "cell_type": "code",
   "execution_count": 6,
   "id": "0eb25a2f",
   "metadata": {},
   "outputs": [
    {
     "data": {
      "text/html": [
       "<div>\n",
       "<style scoped>\n",
       "    .dataframe tbody tr th:only-of-type {\n",
       "        vertical-align: middle;\n",
       "    }\n",
       "\n",
       "    .dataframe tbody tr th {\n",
       "        vertical-align: top;\n",
       "    }\n",
       "\n",
       "    .dataframe thead th {\n",
       "        text-align: right;\n",
       "    }\n",
       "</style>\n",
       "<table border=\"1\" class=\"dataframe\">\n",
       "  <thead>\n",
       "    <tr style=\"text-align: right;\">\n",
       "      <th></th>\n",
       "      <th>id</th>\n",
       "      <th>reason</th>\n",
       "      <th>created_at</th>\n",
       "      <th>reported_user_id</th>\n",
       "      <th>user_id</th>\n",
       "      <th>user_question_record_id</th>\n",
       "    </tr>\n",
       "  </thead>\n",
       "  <tbody>\n",
       "    <tr>\n",
       "      <th>0</th>\n",
       "      <td>28</td>\n",
       "      <td>타인을 사칭함</td>\n",
       "      <td>2023-05-06 04:44:57</td>\n",
       "      <td>874587</td>\n",
       "      <td>885082</td>\n",
       "      <td>3920588</td>\n",
       "    </tr>\n",
       "    <tr>\n",
       "      <th>1</th>\n",
       "      <td>37</td>\n",
       "      <td>친구를 비하하거나 조롱하는 어투</td>\n",
       "      <td>2023-05-06 05:41:19</td>\n",
       "      <td>881048</td>\n",
       "      <td>881298</td>\n",
       "      <td>4018679</td>\n",
       "    </tr>\n",
       "    <tr>\n",
       "      <th>2</th>\n",
       "      <td>46</td>\n",
       "      <td>친구를 비하하거나 조롱하는 어투</td>\n",
       "      <td>2023-05-06 06:26:59</td>\n",
       "      <td>887882</td>\n",
       "      <td>881945</td>\n",
       "      <td>4120914</td>\n",
       "    </tr>\n",
       "    <tr>\n",
       "      <th>3</th>\n",
       "      <td>64</td>\n",
       "      <td>허위 사실 언급</td>\n",
       "      <td>2023-05-06 07:07:46</td>\n",
       "      <td>888610</td>\n",
       "      <td>893684</td>\n",
       "      <td>4143049</td>\n",
       "    </tr>\n",
       "    <tr>\n",
       "      <th>4</th>\n",
       "      <td>65</td>\n",
       "      <td>허위 사실 언급</td>\n",
       "      <td>2023-05-06 07:07:52</td>\n",
       "      <td>888610</td>\n",
       "      <td>893684</td>\n",
       "      <td>4143049</td>\n",
       "    </tr>\n",
       "  </tbody>\n",
       "</table>\n",
       "</div>"
      ],
      "text/plain": [
       "   id             reason          created_at  reported_user_id  user_id  user_question_record_id\n",
       "0  28            타인을 사칭함 2023-05-06 04:44:57            874587   885082                  3920588\n",
       "1  37  친구를 비하하거나 조롱하는 어투 2023-05-06 05:41:19            881048   881298                  4018679\n",
       "2  46  친구를 비하하거나 조롱하는 어투 2023-05-06 06:26:59            887882   881945                  4120914\n",
       "3  64           허위 사실 언급 2023-05-06 07:07:46            888610   893684                  4143049\n",
       "4  65           허위 사실 언급 2023-05-06 07:07:52            888610   893684                  4143049"
      ]
     },
     "execution_count": 6,
     "metadata": {},
     "output_type": "execute_result"
    }
   ],
   "source": [
    "accounts_timelinereport.head()"
   ]
  },
  {
   "cell_type": "code",
   "execution_count": 7,
   "id": "72f6685a",
   "metadata": {},
   "outputs": [
    {
     "name": "stdout",
     "output_type": "stream",
     "text": [
      "<class 'pandas.core.frame.DataFrame'>\n",
      "RangeIndex: 208 entries, 0 to 207\n",
      "Data columns (total 6 columns):\n",
      " #   Column                   Non-Null Count  Dtype         \n",
      "---  ------                   --------------  -----         \n",
      " 0   id                       208 non-null    int64         \n",
      " 1   reason                   208 non-null    object        \n",
      " 2   created_at               208 non-null    datetime64[ns]\n",
      " 3   reported_user_id         208 non-null    int64         \n",
      " 4   user_id                  208 non-null    int64         \n",
      " 5   user_question_record_id  208 non-null    int64         \n",
      "dtypes: datetime64[ns](1), int64(4), object(1)\n",
      "memory usage: 9.9+ KB\n"
     ]
    },
    {
     "data": {
      "text/plain": [
       "None"
      ]
     },
     "metadata": {},
     "output_type": "display_data"
    },
    {
     "name": "stdout",
     "output_type": "stream",
     "text": [
      "-----\n"
     ]
    },
    {
     "data": {
      "text/plain": [
       "Timestamp('2023-05-06 04:44:57')"
      ]
     },
     "metadata": {},
     "output_type": "display_data"
    },
    {
     "name": "stdout",
     "output_type": "stream",
     "text": [
      "-----\n"
     ]
    },
    {
     "data": {
      "text/plain": [
       "Timestamp('2023-06-02 08:30:06')"
      ]
     },
     "metadata": {},
     "output_type": "display_data"
    },
    {
     "name": "stdout",
     "output_type": "stream",
     "text": [
      "-----\n"
     ]
    },
    {
     "data": {
      "text/plain": [
       "5"
      ]
     },
     "metadata": {},
     "output_type": "display_data"
    },
    {
     "name": "stdout",
     "output_type": "stream",
     "text": [
      "-----\n"
     ]
    },
    {
     "data": {
      "text/plain": [
       "array(['타인을 사칭함', '친구를 비하하거나 조롱하는 어투', '허위 사실 언급', '선정적이거나 폭력적인 내용', '광고'],\n",
       "      dtype=object)"
      ]
     },
     "metadata": {},
     "output_type": "display_data"
    },
    {
     "name": "stdout",
     "output_type": "stream",
     "text": [
      "-----\n"
     ]
    },
    {
     "data": {
      "text/plain": [
       "reason\n",
       "허위 사실 언급             80\n",
       "친구를 비하하거나 조롱하는 어투    64\n",
       "선정적이거나 폭력적인 내용       39\n",
       "타인을 사칭함              15\n",
       "광고                   10\n",
       "Name: count, dtype: int64"
      ]
     },
     "metadata": {},
     "output_type": "display_data"
    },
    {
     "name": "stdout",
     "output_type": "stream",
     "text": [
      "-----\n"
     ]
    },
    {
     "data": {
      "text/plain": [
       "115"
      ]
     },
     "metadata": {},
     "output_type": "display_data"
    },
    {
     "name": "stdout",
     "output_type": "stream",
     "text": [
      "-----\n"
     ]
    },
    {
     "data": {
      "text/plain": [
       "125"
      ]
     },
     "metadata": {},
     "output_type": "display_data"
    },
    {
     "name": "stdout",
     "output_type": "stream",
     "text": [
      "-----\n"
     ]
    },
    {
     "data": {
      "text/plain": [
       "163"
      ]
     },
     "metadata": {},
     "output_type": "display_data"
    }
   ],
   "source": [
    "display(accounts_timelinereport.info())\n",
    "print('-----')\n",
    "display(accounts_timelinereport.created_at.min())\n",
    "print('-----')\n",
    "display(accounts_timelinereport.created_at.max())\n",
    "print('-----')\n",
    "display(accounts_timelinereport.reason.nunique())\n",
    "print('-----')\n",
    "display(accounts_timelinereport.reason.unique())\n",
    "print('-----')\n",
    "display(accounts_timelinereport.reason.value_counts())\n",
    "print('-----')\n",
    "display(accounts_timelinereport.user_id.nunique())\n",
    "print('-----')\n",
    "display(accounts_timelinereport.reported_user_id.nunique())\n",
    "print('-----')\n",
    "display(accounts_timelinereport.user_question_record_id.nunique())\n",
    "\n"
   ]
  },
  {
   "cell_type": "markdown",
   "id": "00d6d42a",
   "metadata": {},
   "source": [
    "### 유저기록"
   ]
  },
  {
   "cell_type": "code",
   "execution_count": 8,
   "id": "d2334f23",
   "metadata": {},
   "outputs": [
    {
     "data": {
      "text/html": [
       "<div>\n",
       "<style scoped>\n",
       "    .dataframe tbody tr th:only-of-type {\n",
       "        vertical-align: middle;\n",
       "    }\n",
       "\n",
       "    .dataframe tbody tr th {\n",
       "        vertical-align: top;\n",
       "    }\n",
       "\n",
       "    .dataframe thead th {\n",
       "        text-align: right;\n",
       "    }\n",
       "</style>\n",
       "<table border=\"1\" class=\"dataframe\">\n",
       "  <thead>\n",
       "    <tr style=\"text-align: right;\">\n",
       "      <th></th>\n",
       "      <th>id</th>\n",
       "      <th>is_superuser</th>\n",
       "      <th>is_staff</th>\n",
       "      <th>gender</th>\n",
       "      <th>point</th>\n",
       "      <th>friend_id_list</th>\n",
       "      <th>is_push_on</th>\n",
       "      <th>created_at</th>\n",
       "      <th>block_user_id_list</th>\n",
       "      <th>hide_user_id_list</th>\n",
       "      <th>ban_status</th>\n",
       "      <th>report_count</th>\n",
       "      <th>alarm_count</th>\n",
       "      <th>pending_chat</th>\n",
       "      <th>pending_votes</th>\n",
       "      <th>group_id</th>\n",
       "    </tr>\n",
       "  </thead>\n",
       "  <tbody>\n",
       "    <tr>\n",
       "      <th>0</th>\n",
       "      <td>831956</td>\n",
       "      <td>1</td>\n",
       "      <td>1</td>\n",
       "      <td>None</td>\n",
       "      <td>600</td>\n",
       "      <td>[1292473, 913158, 1488461, 1064695, 1043565, 1...</td>\n",
       "      <td>0</td>\n",
       "      <td>2023-03-29 03:44:14.047130</td>\n",
       "      <td>[]</td>\n",
       "      <td>[]</td>\n",
       "      <td>N</td>\n",
       "      <td>0</td>\n",
       "      <td>0</td>\n",
       "      <td>0</td>\n",
       "      <td>0</td>\n",
       "      <td>NaN</td>\n",
       "    </tr>\n",
       "    <tr>\n",
       "      <th>1</th>\n",
       "      <td>831962</td>\n",
       "      <td>0</td>\n",
       "      <td>0</td>\n",
       "      <td>F</td>\n",
       "      <td>2248</td>\n",
       "      <td>[833025, 832642, 982531, 879496, 838541, 83752...</td>\n",
       "      <td>1</td>\n",
       "      <td>2023-03-29 05:18:56.162368</td>\n",
       "      <td>[]</td>\n",
       "      <td>[]</td>\n",
       "      <td>N</td>\n",
       "      <td>253</td>\n",
       "      <td>40878</td>\n",
       "      <td>5499</td>\n",
       "      <td>110</td>\n",
       "      <td>12.0</td>\n",
       "    </tr>\n",
       "    <tr>\n",
       "      <th>2</th>\n",
       "      <td>832151</td>\n",
       "      <td>0</td>\n",
       "      <td>0</td>\n",
       "      <td>M</td>\n",
       "      <td>1519</td>\n",
       "      <td>[838785, 982531, 882567, 879496, 838541, 83649...</td>\n",
       "      <td>0</td>\n",
       "      <td>2023-03-29 12:56:34.989468</td>\n",
       "      <td>[]</td>\n",
       "      <td>[]</td>\n",
       "      <td>N</td>\n",
       "      <td>0</td>\n",
       "      <td>37</td>\n",
       "      <td>0</td>\n",
       "      <td>47</td>\n",
       "      <td>1.0</td>\n",
       "    </tr>\n",
       "    <tr>\n",
       "      <th>3</th>\n",
       "      <td>832340</td>\n",
       "      <td>0</td>\n",
       "      <td>0</td>\n",
       "      <td>F</td>\n",
       "      <td>57</td>\n",
       "      <td>[841345, 982531, 838785, 963714, 882567, 83252...</td>\n",
       "      <td>1</td>\n",
       "      <td>2023-03-29 12:56:35.020790</td>\n",
       "      <td>[]</td>\n",
       "      <td>[]</td>\n",
       "      <td>N</td>\n",
       "      <td>0</td>\n",
       "      <td>19</td>\n",
       "      <td>0</td>\n",
       "      <td>21</td>\n",
       "      <td>1.0</td>\n",
       "    </tr>\n",
       "    <tr>\n",
       "      <th>4</th>\n",
       "      <td>832520</td>\n",
       "      <td>0</td>\n",
       "      <td>0</td>\n",
       "      <td>M</td>\n",
       "      <td>1039</td>\n",
       "      <td>[874050, 849763, 874212, 844297, 838541, 84004...</td>\n",
       "      <td>0</td>\n",
       "      <td>2023-03-29 12:56:35.049311</td>\n",
       "      <td>[]</td>\n",
       "      <td>[]</td>\n",
       "      <td>N</td>\n",
       "      <td>0</td>\n",
       "      <td>29</td>\n",
       "      <td>0</td>\n",
       "      <td>15</td>\n",
       "      <td>12.0</td>\n",
       "    </tr>\n",
       "  </tbody>\n",
       "</table>\n",
       "</div>"
      ],
      "text/plain": [
       "       id  is_superuser  is_staff gender  point                                     friend_id_list  is_push_on                 created_at block_user_id_list hide_user_id_list ban_status  report_count  alarm_count  pending_chat  pending_votes  group_id\n",
       "0  831956             1         1   None    600  [1292473, 913158, 1488461, 1064695, 1043565, 1...           0 2023-03-29 03:44:14.047130                 []                []          N             0            0             0              0       NaN\n",
       "1  831962             0         0      F   2248  [833025, 832642, 982531, 879496, 838541, 83752...           1 2023-03-29 05:18:56.162368                 []                []          N           253        40878          5499            110      12.0\n",
       "2  832151             0         0      M   1519  [838785, 982531, 882567, 879496, 838541, 83649...           0 2023-03-29 12:56:34.989468                 []                []          N             0           37             0             47       1.0\n",
       "3  832340             0         0      F     57  [841345, 982531, 838785, 963714, 882567, 83252...           1 2023-03-29 12:56:35.020790                 []                []          N             0           19             0             21       1.0\n",
       "4  832520             0         0      M   1039  [874050, 849763, 874212, 844297, 838541, 84004...           0 2023-03-29 12:56:35.049311                 []                []          N             0           29             0             15      12.0"
      ]
     },
     "execution_count": 8,
     "metadata": {},
     "output_type": "execute_result"
    }
   ],
   "source": [
    "accounts_user.head()"
   ]
  },
  {
   "cell_type": "code",
   "execution_count": 9,
   "id": "2ff70cb1",
   "metadata": {},
   "outputs": [
    {
     "name": "stdout",
     "output_type": "stream",
     "text": [
      "<class 'pandas.core.frame.DataFrame'>\n",
      "RangeIndex: 677085 entries, 0 to 677084\n",
      "Data columns (total 16 columns):\n",
      " #   Column              Non-Null Count   Dtype         \n",
      "---  ------              --------------   -----         \n",
      " 0   id                  677085 non-null  int64         \n",
      " 1   is_superuser        677085 non-null  int64         \n",
      " 2   is_staff            677085 non-null  int64         \n",
      " 3   gender              677083 non-null  object        \n",
      " 4   point               677085 non-null  int64         \n",
      " 5   friend_id_list      677085 non-null  object        \n",
      " 6   is_push_on          677085 non-null  int64         \n",
      " 7   created_at          677085 non-null  datetime64[ns]\n",
      " 8   block_user_id_list  677085 non-null  object        \n",
      " 9   hide_user_id_list   677085 non-null  object        \n",
      " 10  ban_status          677085 non-null  object        \n",
      " 11  report_count        677085 non-null  int64         \n",
      " 12  alarm_count         677085 non-null  int64         \n",
      " 13  pending_chat        677085 non-null  int64         \n",
      " 14  pending_votes       677085 non-null  int64         \n",
      " 15  group_id            677082 non-null  float64       \n",
      "dtypes: datetime64[ns](1), float64(1), int64(9), object(5)\n",
      "memory usage: 82.7+ MB\n"
     ]
    },
    {
     "data": {
      "text/plain": [
       "None"
      ]
     },
     "metadata": {},
     "output_type": "display_data"
    },
    {
     "name": "stdout",
     "output_type": "stream",
     "text": [
      "-----\n"
     ]
    },
    {
     "data": {
      "text/plain": [
       "Timestamp('2023-03-29 03:44:14.047130')"
      ]
     },
     "metadata": {},
     "output_type": "display_data"
    },
    {
     "name": "stdout",
     "output_type": "stream",
     "text": [
      "-----\n"
     ]
    },
    {
     "data": {
      "text/plain": [
       "Timestamp('2024-05-09 08:31:17.710824')"
      ]
     },
     "metadata": {},
     "output_type": "display_data"
    },
    {
     "name": "stdout",
     "output_type": "stream",
     "text": [
      "-----\n"
     ]
    },
    {
     "data": {
      "text/plain": [
       "677085"
      ]
     },
     "metadata": {},
     "output_type": "display_data"
    }
   ],
   "source": [
    "display(accounts_user.info())\n",
    "print('-----')\n",
    "display(accounts_user.created_at.min())\n",
    "print('-----')\n",
    "display(accounts_user.created_at.max())\n",
    "# print('-----')\n",
    "# display(accounts_user.reason.nunique())\n",
    "# print('-----')\n",
    "# display(accounts_user.reason.unique())\n",
    "# print('-----')\n",
    "# display(accounts_user.reason.value_counts())\n",
    "print('-----')\n",
    "display(accounts_user.id.nunique())\n",
    "# print('-----')\n",
    "# display(accounts_user.reported_user_id.nunique())\n",
    "# print('-----')\n",
    "# display(accounts_user.user_question_record_id.nunique())\n",
    "\n"
   ]
  },
  {
   "cell_type": "code",
   "execution_count": 10,
   "id": "34678043",
   "metadata": {},
   "outputs": [
    {
     "data": {
      "text/plain": [
       "is_superuser\n",
       "0    677083\n",
       "1         2\n",
       "Name: count, dtype: int64"
      ]
     },
     "execution_count": 10,
     "metadata": {},
     "output_type": "execute_result"
    }
   ],
   "source": [
    "accounts_user['is_superuser'].value_counts()"
   ]
  },
  {
   "cell_type": "code",
   "execution_count": null,
   "id": "ca41d04a",
   "metadata": {},
   "outputs": [
    {
     "data": {
      "text/html": [
       "<div>\n",
       "<style scoped>\n",
       "    .dataframe tbody tr th:only-of-type {\n",
       "        vertical-align: middle;\n",
       "    }\n",
       "\n",
       "    .dataframe tbody tr th {\n",
       "        vertical-align: top;\n",
       "    }\n",
       "\n",
       "    .dataframe thead th {\n",
       "        text-align: right;\n",
       "    }\n",
       "</style>\n",
       "<table border=\"1\" class=\"dataframe\">\n",
       "  <thead>\n",
       "    <tr style=\"text-align: right;\">\n",
       "      <th></th>\n",
       "      <th>id</th>\n",
       "      <th>is_superuser</th>\n",
       "      <th>is_staff</th>\n",
       "      <th>gender</th>\n",
       "      <th>point</th>\n",
       "      <th>friend_id_list</th>\n",
       "      <th>is_push_on</th>\n",
       "      <th>created_at</th>\n",
       "      <th>block_user_id_list</th>\n",
       "      <th>hide_user_id_list</th>\n",
       "      <th>ban_status</th>\n",
       "      <th>report_count</th>\n",
       "      <th>alarm_count</th>\n",
       "      <th>pending_chat</th>\n",
       "      <th>pending_votes</th>\n",
       "      <th>group_id</th>\n",
       "    </tr>\n",
       "  </thead>\n",
       "  <tbody>\n",
       "    <tr>\n",
       "      <th>0</th>\n",
       "      <td>831956</td>\n",
       "      <td>1</td>\n",
       "      <td>1</td>\n",
       "      <td>None</td>\n",
       "      <td>600</td>\n",
       "      <td>[1292473, 913158, 1488461, 1064695, 1043565, 1...</td>\n",
       "      <td>0</td>\n",
       "      <td>2023-03-29 03:44:14.047130</td>\n",
       "      <td>[]</td>\n",
       "      <td>[]</td>\n",
       "      <td>N</td>\n",
       "      <td>0</td>\n",
       "      <td>0</td>\n",
       "      <td>0</td>\n",
       "      <td>0</td>\n",
       "      <td>NaN</td>\n",
       "    </tr>\n",
       "    <tr>\n",
       "      <th>673996</th>\n",
       "      <td>1580626</td>\n",
       "      <td>1</td>\n",
       "      <td>0</td>\n",
       "      <td>M</td>\n",
       "      <td>300</td>\n",
       "      <td>[]</td>\n",
       "      <td>1</td>\n",
       "      <td>2023-09-23 06:11:32.028322</td>\n",
       "      <td>[]</td>\n",
       "      <td>[]</td>\n",
       "      <td>N</td>\n",
       "      <td>0</td>\n",
       "      <td>0</td>\n",
       "      <td>0</td>\n",
       "      <td>0</td>\n",
       "      <td>122.0</td>\n",
       "    </tr>\n",
       "  </tbody>\n",
       "</table>\n",
       "</div>"
      ],
      "text/plain": [
       "             id  is_superuser  is_staff gender  point                                     friend_id_list  is_push_on                 created_at block_user_id_list hide_user_id_list ban_status  report_count  alarm_count  pending_chat  pending_votes  group_id\n",
       "0        831956             1         1   None    600  [1292473, 913158, 1488461, 1064695, 1043565, 1...           0 2023-03-29 03:44:14.047130                 []                []          N             0            0             0              0       NaN\n",
       "673996  1580626             1         0      M    300                                                 []           1 2023-09-23 06:11:32.028322                 []                []          N             0            0             0              0     122.0"
      ]
     },
     "execution_count": 13,
     "metadata": {},
     "output_type": "execute_result"
    }
   ],
   "source": [
    "accounts_user[accounts_user['is_superuser'] == 1]"
   ]
  },
  {
   "cell_type": "code",
   "execution_count": null,
   "id": "8cbd1686",
   "metadata": {},
   "outputs": [],
   "source": [
    "accounts_user['group_id'].nunique()"
   ]
  },
  {
   "cell_type": "markdown",
   "id": "bdd894df",
   "metadata": {},
   "source": [
    "### 질문"
   ]
  },
  {
   "cell_type": "code",
   "execution_count": null,
   "id": "68a8b649",
   "metadata": {},
   "outputs": [],
   "source": [
    "polls_question.head()"
   ]
  },
  {
   "cell_type": "code",
   "execution_count": null,
   "id": "56174006",
   "metadata": {},
   "outputs": [],
   "source": [
    "polls_question.id.nunique()"
   ]
  },
  {
   "cell_type": "code",
   "execution_count": null,
   "id": "1f314d87",
   "metadata": {},
   "outputs": [],
   "source": [
    "polls_question.id.value_counts()"
   ]
  },
  {
   "cell_type": "code",
   "execution_count": null,
   "id": "ab723395",
   "metadata": {},
   "outputs": [],
   "source": [
    "polls_question.id.max(), polls_question.id.min()"
   ]
  },
  {
   "cell_type": "code",
   "execution_count": null,
   "id": "04c4448a",
   "metadata": {},
   "outputs": [],
   "source": [
    "polls_questionpiece.question_id.max(), polls_questionpiece.question_id.min()"
   ]
  },
  {
   "cell_type": "code",
   "execution_count": null,
   "id": "dd6f46aa",
   "metadata": {},
   "outputs": [],
   "source": [
    "display(polls_question.info())\n",
    "print('-----')\n",
    "display(polls_question.created_at.min())\n",
    "print('-----')\n",
    "display(polls_question.created_at.max())\n",
    "print('-----')\n",
    "display(polls_question.question_text.nunique())"
   ]
  },
  {
   "cell_type": "code",
   "execution_count": null,
   "id": "27fe8e78",
   "metadata": {},
   "outputs": [],
   "source": [
    "display(polls_question.question_text.unique())"
   ]
  },
  {
   "cell_type": "code",
   "execution_count": null,
   "id": "7f85135d",
   "metadata": {},
   "outputs": [],
   "source": [
    "polls_question.head(20)"
   ]
  },
  {
   "cell_type": "code",
   "execution_count": null,
   "id": "3649bb59",
   "metadata": {},
   "outputs": [],
   "source": [
    "polls_question.question_text.value_counts()"
   ]
  },
  {
   "cell_type": "markdown",
   "id": "a2e43127",
   "metadata": {},
   "source": [
    "#### polls 심화"
   ]
  },
  {
   "cell_type": "markdown",
   "id": "d0d5e0b2",
   "metadata": {},
   "source": [
    "font_path = '/usr/share/fonts/truetype/nanum/NanumGothic.ttf'\n",
    "font_prop = fm.FontProperties(fname=font_path)\n",
    "\n",
    "- 시각화\n",
    "type_counts.plot(kind='bar', figsize=(12, 6))\n",
    "plt.title('시도별 중고등학교 수', fontproperties=font_prop)"
   ]
  },
  {
   "cell_type": "code",
   "execution_count": null,
   "id": "42399bad",
   "metadata": {},
   "outputs": [],
   "source": [
    "# pip install kiwipiepy\n",
    "# from kiwipiepy import Kiwi\n",
    "# from collections import Counter\n",
    "\n",
    "# 1. Kiwi 초기화\n",
    "kiwi = Kiwi()\n",
    "\n",
    "# 2. question_text 컬럼에서 명사 추출\n",
    "nouns_all = []\n",
    "\n",
    "for sentence in polls_question['question_text'].dropna():\n",
    "    tokens = kiwi.tokenize(sentence)\n",
    "    nouns = [token.form for token in tokens if token.tag.startswith('N') and len(token.form) > 1]\n",
    "    nouns_all.extend(nouns)\n",
    "\n",
    "# 3. 불용어 제거 (원하는 경우)\n",
    "stopwords = ['사람', '친구', '학교', '누구', '이유', '경우', '여기', '우리', '나중', '제일']\n",
    "filtered_nouns = [word for word in nouns_all if word not in stopwords]\n",
    "\n",
    "# 4. 단어 빈도 계산\n",
    "word_counts = Counter(filtered_nouns)\n",
    "top_n = word_counts.most_common(30)\n",
    "\n",
    "# 5. 결과 출력\n",
    "print(top_n)\n",
    "\n",
    "font_path = '/usr/share/fonts/truetype/nanum/NanumGothic.ttf'\n",
    "font_prop = fm.FontProperties(fname=font_path)\n",
    "\n",
    "\n",
    "# 6. 시각화 (막대 그래프)\n",
    "words, counts = zip(*top_n)\n",
    "plt.figure(figsize=(12, 6))\n",
    "plt.bar(words, counts)\n",
    "plt.xticks(rotation=45, fontproperties=font_prop)\n",
    "plt.title(\"자주 등장한 명사 Top 30 (질문 텍스트 기준)\", fontproperties=font_prop)\n",
    "plt.ylabel(\"빈도수\", fontproperties=font_prop)\n",
    "plt.tight_layout()\n",
    "plt.show()"
   ]
  },
  {
   "cell_type": "code",
   "execution_count": null,
   "id": "7033bd7a",
   "metadata": {},
   "outputs": [],
   "source": [
    "top_n_df = pd.DataFrame(top_n, columns=['word', 'count'])\n",
    "top_n_df.head()"
   ]
  },
  {
   "cell_type": "markdown",
   "id": "5e7b762b",
   "metadata": {},
   "source": [
    "### 질문에 대한 신고기록 테이블"
   ]
  },
  {
   "cell_type": "code",
   "execution_count": null,
   "id": "76c239d1",
   "metadata": {},
   "outputs": [],
   "source": [
    "polls_questionreport.head()"
   ]
  },
  {
   "cell_type": "code",
   "execution_count": null,
   "id": "637f9a70",
   "metadata": {},
   "outputs": [],
   "source": [
    "polls_questionreport.reason.value_counts()"
   ]
  },
  {
   "cell_type": "code",
   "execution_count": null,
   "id": "8f1a5c21",
   "metadata": {},
   "outputs": [],
   "source": [
    "# pip install kiwipiepy\n",
    "# from kiwipiepy import Kiwi\n",
    "# from collections import Counter\n",
    "\n",
    "# 1. Kiwi 초기화\n",
    "kiwi = Kiwi()\n",
    "\n",
    "# 2. question_text 컬럼에서 명사 추출\n",
    "nouns_all = []\n",
    "\n",
    "for sentence in polls_questionreport['reason'].dropna():\n",
    "    tokens = kiwi.tokenize(sentence)\n",
    "    nouns = [token.form for token in tokens if token.tag.startswith('N') and len(token.form) > 1]\n",
    "    nouns_all.extend(nouns)\n",
    "\n",
    "# 3. 불용어 제거 (원하는 경우)\n",
    "stopwords = ['질문', '이', '포함', '내용', '이유', '경우', '생각', '우리', '친구', '최고']\n",
    "filtered_nouns = [word for word in nouns_all if word not in stopwords]\n",
    "\n",
    "# 4. 단어 빈도 계산\n",
    "word_counts = Counter(filtered_nouns)\n",
    "top_n = word_counts.most_common(30)\n",
    "\n",
    "# 5. 결과 출력\n",
    "print(top_n)\n",
    "\n",
    "font_path = '/usr/share/fonts/truetype/nanum/NanumGothic.ttf'\n",
    "font_prop = fm.FontProperties(fname=font_path)\n",
    "\n",
    "\n",
    "# 6. 시각화 (막대 그래프)\n",
    "words, counts = zip(*top_n)\n",
    "plt.figure(figsize=(12, 6))\n",
    "plt.bar(words, counts)\n",
    "plt.xticks(rotation=45, fontproperties=font_prop)\n",
    "plt.title(\"자주 등장한 명사 Top 30 (질문 텍스트 기준)\", fontproperties=font_prop)\n",
    "plt.ylabel(\"빈도수\", fontproperties=font_prop)\n",
    "plt.tight_layout()\n",
    "plt.show()"
   ]
  },
  {
   "cell_type": "markdown",
   "id": "6ece25d4",
   "metadata": {},
   "source": [
    "### 질문 조각"
   ]
  },
  {
   "cell_type": "code",
   "execution_count": null,
   "id": "df681d9c",
   "metadata": {},
   "outputs": [],
   "source": [
    "polls_questionpiece.head()"
   ]
  },
  {
   "cell_type": "code",
   "execution_count": null,
   "id": "82c91a8f",
   "metadata": {},
   "outputs": [],
   "source": [
    "polls_questionpiece.is_skipped.value_counts()"
   ]
  },
  {
   "cell_type": "code",
   "execution_count": null,
   "id": "7b3a68be",
   "metadata": {},
   "outputs": [],
   "source": [
    "polls_questionpiece.id.min(), polls_questionpiece.id.max()"
   ]
  },
  {
   "cell_type": "code",
   "execution_count": null,
   "id": "d60eba41",
   "metadata": {},
   "outputs": [],
   "source": [
    "polls_questionpiece.question_id.min(), polls_questionpiece.question_id.max()"
   ]
  },
  {
   "cell_type": "code",
   "execution_count": null,
   "id": "811eb1fe",
   "metadata": {},
   "outputs": [],
   "source": [
    "print(polls_questionpiece['question_id'].value_counts()[252])\n",
    "print(polls_questionpiece['question_id'].value_counts()[109])"
   ]
  },
  {
   "cell_type": "code",
   "execution_count": null,
   "id": "56e2208b",
   "metadata": {},
   "outputs": [],
   "source": [
    "polls_questionpiece.question_id.nunique()"
   ]
  },
  {
   "cell_type": "code",
   "execution_count": null,
   "id": "85f81afd",
   "metadata": {},
   "outputs": [],
   "source": [
    "polls_questionpiece.question_id.value_counts()"
   ]
  },
  {
   "cell_type": "code",
   "execution_count": null,
   "id": "90ce4c9c",
   "metadata": {},
   "outputs": [],
   "source": [
    "polls_questionpiece.info()"
   ]
  },
  {
   "cell_type": "code",
   "execution_count": null,
   "id": "6867239b",
   "metadata": {},
   "outputs": [],
   "source": [
    "polls_questionpiece.question_id.nunique()"
   ]
  },
  {
   "cell_type": "markdown",
   "id": "33c03d54",
   "metadata": {},
   "source": [
    "### 질문 세트 테이블"
   ]
  },
  {
   "cell_type": "code",
   "execution_count": null,
   "id": "437c32e9",
   "metadata": {},
   "outputs": [],
   "source": [
    "polls_questionset.head()"
   ]
  },
  {
   "cell_type": "code",
   "execution_count": null,
   "id": "a6efc99e",
   "metadata": {},
   "outputs": [],
   "source": [
    "polls_questionset.created_at.min(), polls_questionset.created_at.max()"
   ]
  },
  {
   "cell_type": "code",
   "execution_count": null,
   "id": "121eb62f",
   "metadata": {},
   "outputs": [],
   "source": [
    "polls_questionset.user_id.nunique()"
   ]
  },
  {
   "cell_type": "code",
   "execution_count": null,
   "id": "f7108b4b",
   "metadata": {},
   "outputs": [],
   "source": [
    "polls_questionset.question_piece_id_list"
   ]
  },
  {
   "cell_type": "code",
   "execution_count": null,
   "id": "eb60e4b7",
   "metadata": {},
   "outputs": [],
   "source": [
    "polls_questionset.info()"
   ]
  },
  {
   "cell_type": "code",
   "execution_count": null,
   "id": "0a266261",
   "metadata": {},
   "outputs": [],
   "source": [
    "import ast\n",
    "\n",
    "# 문자열을 리스트로 변환\n",
    "polls_questionset['question_piece_id_list'] = polls_questionset['question_piece_id_list'].apply(ast.literal_eval)\n",
    "\n",
    "# 리스트 전개\n",
    "all_ids = []\n",
    "for row in polls_questionset['question_piece_id_list']:\n",
    "    all_ids.extend(row)\n",
    "\n",
    "# 정수로 변환 (문자열로 되어있을 경우)\n",
    "all_ids = [int(x) for x in all_ids]\n",
    "\n",
    "# 등장 횟수 집계\n",
    "question_count = Counter(all_ids)\n",
    "top_question_ids = question_count.most_common(20)\n",
    "\n",
    "# 결과 출력\n",
    "print(top_question_ids)\n"
   ]
  },
  {
   "cell_type": "markdown",
   "id": "d5ab7b8e",
   "metadata": {},
   "source": [
    "### 질문 조각에 등장하는 유저들 테이블"
   ]
  },
  {
   "cell_type": "code",
   "execution_count": null,
   "id": "ccd4808d",
   "metadata": {},
   "outputs": [],
   "source": [
    "display(polls_usercandidate.head())\n",
    "display(polls_usercandidate.info())"
   ]
  },
  {
   "cell_type": "code",
   "execution_count": null,
   "id": "cbb53d35",
   "metadata": {},
   "outputs": [],
   "source": [
    "polls_usercandidate.question_piece_id.nunique()"
   ]
  },
  {
   "cell_type": "code",
   "execution_count": null,
   "id": "af7754b4",
   "metadata": {},
   "outputs": [],
   "source": [
    "polls_usercandidate.user_id.nunique()"
   ]
  },
  {
   "cell_type": "markdown",
   "id": "9f998b18",
   "metadata": {},
   "source": [
    "### 학교 테이블"
   ]
  },
  {
   "cell_type": "code",
   "execution_count": null,
   "id": "e50aa1c9",
   "metadata": {},
   "outputs": [],
   "source": [
    "accounts_school.head()"
   ]
  },
  {
   "cell_type": "code",
   "execution_count": null,
   "id": "0278d1fe",
   "metadata": {},
   "outputs": [],
   "source": [
    "display(accounts_school.info())\n",
    "print('-----')\n",
    "display(accounts_school.address.nunique())\n",
    "print('-----')\n",
    "display(accounts_school.school_type.value_counts())\n",
    "print('-----')\n",
    "display(accounts_school.student_count.min())\n",
    "print('-----')\n",
    "display(accounts_school.student_count.max())\n",
    "print('-----')\n",
    "display(accounts_school.student_count.mean())\n"
   ]
  },
  {
   "cell_type": "code",
   "execution_count": null,
   "id": "397da1c2",
   "metadata": {},
   "outputs": [],
   "source": [
    "accounts_school['address'].value_counts()"
   ]
  },
  {
   "cell_type": "code",
   "execution_count": null,
   "id": "340b61c6",
   "metadata": {},
   "outputs": [],
   "source": [
    "accounts_school['address'].unique()"
   ]
  },
  {
   "cell_type": "code",
   "execution_count": null,
   "id": "826f40bf",
   "metadata": {},
   "outputs": [],
   "source": [
    "accounts_school[accounts_school['address'].str.startswith('대한')]['address'].value_counts()"
   ]
  },
  {
   "cell_type": "code",
   "execution_count": null,
   "id": "aac38f95",
   "metadata": {},
   "outputs": [],
   "source": [
    "# 주소 통일\n",
    "\n",
    "accounts_school['address'] = accounts_school['address'].str.replace(\n",
    "    r'^서울\\s', '서울특별시 ', regex=True\n",
    ")\n",
    "\n",
    "accounts_school['address'] = accounts_school['address'].str.replace(\n",
    "    r'^경기\\s', '경기도 ', regex=True\n",
    ")\n",
    "\n",
    "accounts_school['address'] = accounts_school['address'].str.replace(\n",
    "    r'^강원\\s', '강원도 ', regex=True\n",
    ")\n",
    "accounts_school['address'] = accounts_school['address'].str.replace(\n",
    "    r'^강원도\\s', '강원특별자치도 ', regex=True\n",
    ")\n",
    "\n",
    "accounts_school['address'] = accounts_school['address'].str.replace(\n",
    "    r'^충북\\s', '충청북도 ', regex=True\n",
    ")\n",
    "\n",
    "accounts_school['address'] = accounts_school['address'].str.replace(\n",
    "    r'^충남\\s', '충청남도 ', regex=True\n",
    ")\n",
    "\n",
    "accounts_school['address'] = accounts_school['address'].str.replace(\n",
    "    r'^전북\\s', '전북특별자치도 ', regex=True\n",
    ")\n",
    "\n",
    "accounts_school['address'] = accounts_school['address'].str.replace(\n",
    "    r'^전라북도\\s', '전북특별자치도 ', regex=True\n",
    ")\n",
    "\n",
    "accounts_school['address'] = accounts_school['address'].str.replace(\n",
    "    r'^전남\\s', '전라남도 ', regex=True\n",
    ")\n",
    "\n",
    "accounts_school['address'] = accounts_school['address'].str.replace(\n",
    "    r'^경북\\s', '경상북도 ', regex=True\n",
    ")\n",
    "\n",
    "accounts_school['address'] = accounts_school['address'].str.replace(\n",
    "    r'^경남\\s', '경상남도 ', regex=True\n",
    ")\n",
    "\n",
    "accounts_school['address'] = accounts_school['address'].str.replace(\n",
    "    r'^대구\\s', '대구광역시 ', regex=True\n",
    ")\n",
    "\n",
    "accounts_school['address'] = accounts_school['address'].str.replace(\n",
    "    r'^인천\\s', '인천광역시 ', regex=True\n",
    ")\n",
    "\n",
    "accounts_school['address'] = accounts_school['address'].str.replace(\n",
    "    r'^제주\\s', '제주특별자치도 ', regex=True\n",
    ")\n",
    "\n",
    "accounts_school['address'] = accounts_school['address'].str.replace(\n",
    "    r'^대한민국 강원도\\s', '강원특별자치도 ', regex=True\n",
    ")"
   ]
  },
  {
   "cell_type": "code",
   "execution_count": null,
   "id": "74e4bdd0",
   "metadata": {},
   "outputs": [],
   "source": [
    "accounts_school[['province', 'city', 'district']] = accounts_school['address'].str.split(' ', n=2, expand=True)\n",
    "accounts_school.tail(10)"
   ]
  },
  {
   "cell_type": "code",
   "execution_count": null,
   "id": "1ab7de5b",
   "metadata": {},
   "outputs": [],
   "source": [
    "accounts_school.head(10)"
   ]
  },
  {
   "cell_type": "code",
   "execution_count": null,
   "id": "f2911bb9",
   "metadata": {},
   "outputs": [],
   "source": [
    "len(accounts_school[accounts_school['address'].str.startswith('-')]['address'])"
   ]
  },
  {
   "cell_type": "code",
   "execution_count": null,
   "id": "f69b29c4",
   "metadata": {},
   "outputs": [],
   "source": [
    "accounts_school.isna().sum()"
   ]
  },
  {
   "cell_type": "code",
   "execution_count": null,
   "id": "48258a08",
   "metadata": {},
   "outputs": [],
   "source": [
    "accounts_school = accounts_school[~accounts_school['address'].str.startswith('-')]"
   ]
  },
  {
   "cell_type": "code",
   "execution_count": null,
   "id": "65fb476a",
   "metadata": {},
   "outputs": [],
   "source": [
    "accounts_school.reset_index(drop=True, inplace=True)\n",
    "accounts_school.head()"
   ]
  },
  {
   "cell_type": "code",
   "execution_count": null,
   "id": "2418c22f",
   "metadata": {},
   "outputs": [],
   "source": [
    "accounts_school[accounts_school['id'] == 99]"
   ]
  },
  {
   "cell_type": "code",
   "execution_count": null,
   "id": "51948b92",
   "metadata": {},
   "outputs": [],
   "source": [
    "accounts_school.school_type.value_counts()"
   ]
  },
  {
   "cell_type": "code",
   "execution_count": null,
   "id": "6796b4f4",
   "metadata": {},
   "outputs": [],
   "source": [
    "print(f\"전체 학교 개수: {len(accounts_school)}\")\n",
    "print(f\"학생 수가 0인 학교들: {len(accounts_school[accounts_school['student_count'] == 0])}\")\n",
    "print(f\"학생 수가 0인 학교들 비율: {len(accounts_school[accounts_school['student_count'] == 0]) / len(accounts_school) * 100:.2f}%\")\n",
    "print('-----')\n",
    "print(f\"중학교 개수: {len(accounts_school[accounts_school['school_type'] == 'M'])}\")\n",
    "print(f\"학생 수가 0인 중학교: {len(accounts_school[(accounts_school['student_count'] == 0) & (accounts_school['school_type'] == 'M')])}\")\n",
    "print(f\"학생 수가 0인 중학교 비율: {len(accounts_school[(accounts_school['student_count'] == 0) & (accounts_school['school_type'] == 'M')]) / len(accounts_school[accounts_school['school_type'] == 'M']) * 100:.2f}%\")\n",
    "print('-----')\n",
    "print(f\"고등학교 개수: {len(accounts_school[accounts_school['school_type'] == 'H'])}\")\n",
    "print(f\"학생 수가 0인 고등학교: {len(accounts_school[(accounts_school['student_count'] == 0) & (accounts_school['school_type'] == 'H')])}\")\n",
    "print(f\"학생 수가 0인 고등학교 비율: {len(accounts_school[(accounts_school['student_count'] == 0) & (accounts_school['school_type'] == 'H')]) / len(accounts_school[accounts_school['school_type'] == 'H']) * 100:.2f}%\")\n"
   ]
  },
  {
   "cell_type": "code",
   "execution_count": null,
   "id": "b3166952",
   "metadata": {},
   "outputs": [],
   "source": [
    "type_counts = accounts_school.groupby(['province', 'school_type']).size().unstack(fill_value=0)\n",
    "\n",
    "font_path = '/usr/share/fonts/truetype/nanum/NanumGothic.ttf'\n",
    "font_prop = fm.FontProperties(fname=font_path)\n",
    "\n",
    "# 시각화\n",
    "type_counts.plot(kind='bar', figsize=(12, 6))\n",
    "plt.title('시도별 중고등학교 수', fontproperties=font_prop)\n",
    "plt.xlabel('시/도 (province)', fontproperties=font_prop)\n",
    "plt.ylabel('학교 수', fontproperties=font_prop)\n",
    "plt.xticks(rotation=45, fontproperties=font_prop)\n",
    "plt.yticks(fontproperties=font_prop)\n",
    "plt.legend(title='school_type', prop=font_prop)\n",
    "plt.tight_layout()\n",
    "plt.show()\n"
   ]
  },
  {
   "cell_type": "markdown",
   "id": "a363a9bb",
   "metadata": {},
   "source": [
    "### 학급 테이블"
   ]
  },
  {
   "cell_type": "code",
   "execution_count": null,
   "id": "43298744",
   "metadata": {},
   "outputs": [],
   "source": [
    "accounts_school.describe().round(2)"
   ]
  },
  {
   "cell_type": "code",
   "execution_count": null,
   "id": "f679bc8b",
   "metadata": {},
   "outputs": [],
   "source": [
    "accounts_school.head()"
   ]
  },
  {
   "cell_type": "code",
   "execution_count": null,
   "id": "949fc767",
   "metadata": {},
   "outputs": [],
   "source": [
    "accounts_group.head()"
   ]
  },
  {
   "cell_type": "code",
   "execution_count": null,
   "id": "587a4ae6",
   "metadata": {},
   "outputs": [],
   "source": [
    "accounts_group.sort_values(by = 'id', ascending = True, inplace = True)\n",
    "accounts_group.head()"
   ]
  },
  {
   "cell_type": "code",
   "execution_count": null,
   "id": "84a2a5c8",
   "metadata": {},
   "outputs": [],
   "source": [
    "accounts_user_contacts.head()"
   ]
  },
  {
   "cell_type": "code",
   "execution_count": null,
   "id": "5c854612",
   "metadata": {},
   "outputs": [],
   "source": [
    "accounts_group.school_id.nunique()"
   ]
  },
  {
   "cell_type": "code",
   "execution_count": null,
   "id": "ff3be11e",
   "metadata": {},
   "outputs": [],
   "source": [
    "accounts_group.describe()"
   ]
  },
  {
   "cell_type": "markdown",
   "id": "cef5af8a",
   "metadata": {},
   "source": [
    "### 구매기록"
   ]
  },
  {
   "cell_type": "code",
   "execution_count": null,
   "id": "f911453f",
   "metadata": {},
   "outputs": [],
   "source": [
    "accounts_paymenthistory.head()"
   ]
  },
  {
   "cell_type": "code",
   "execution_count": null,
   "id": "7c1f548a",
   "metadata": {},
   "outputs": [],
   "source": [
    "accounts_paymenthistory.describe(include='all')"
   ]
  },
  {
   "cell_type": "code",
   "execution_count": null,
   "id": "aa9676fa",
   "metadata": {},
   "outputs": [],
   "source": [
    "display(accounts_paymenthistory.info())\n",
    "print('-----')\n",
    "display(accounts_paymenthistory.created_at.min())\n",
    "print('-----')\n",
    "display(accounts_paymenthistory.created_at.max())\n",
    "print('-----')\n",
    "display(accounts_paymenthistory.productId.value_counts())\n",
    "print('-----')\n",
    "display(accounts_paymenthistory.phone_type.nunique())\n",
    "print('-----')\n",
    "display(accounts_paymenthistory.phone_type.value_counts())\n",
    "print('-----')\n",
    "display(accounts_paymenthistory.user_id.nunique())\n",
    "print('-----')"
   ]
  },
  {
   "cell_type": "code",
   "execution_count": null,
   "id": "82be70a5",
   "metadata": {},
   "outputs": [],
   "source": [
    "display(accounts_paymenthistory.user_id.value_counts().head(20))\n",
    "display(accounts_paymenthistory.user_id.value_counts().mean())"
   ]
  },
  {
   "cell_type": "markdown",
   "id": "9f52647e",
   "metadata": {},
   "source": [
    "### 포인트 기록 테이블"
   ]
  },
  {
   "cell_type": "code",
   "execution_count": null,
   "id": "3f6f5908",
   "metadata": {},
   "outputs": [],
   "source": [
    "accounts_pointhistory.head()"
   ]
  },
  {
   "cell_type": "code",
   "execution_count": null,
   "id": "fca75fc3",
   "metadata": {},
   "outputs": [],
   "source": [
    "display(accounts_pointhistory.info())\n",
    "print('-----')\n",
    "display(accounts_pointhistory.created_at.min())\n",
    "print('-----')\n",
    "display(accounts_pointhistory.created_at.max())\n",
    "print('-----')\n",
    "display(accounts_pointhistory.user_id.nunique())\n",
    "print('-----')"
   ]
  },
  {
   "cell_type": "code",
   "execution_count": null,
   "id": "c3901cbb",
   "metadata": {},
   "outputs": [],
   "source": [
    "# 1527451\n",
    "accounts_pointhistory[accounts_pointhistory['user_id'] == 1527451]"
   ]
  },
  {
   "cell_type": "code",
   "execution_count": null,
   "id": "7325989d",
   "metadata": {},
   "outputs": [],
   "source": [
    "# delta_point\n",
    "print(accounts_pointhistory['delta_point'].min())\n",
    "print(accounts_pointhistory['delta_point'].max())\n",
    "print(accounts_pointhistory['delta_point'].mean())"
   ]
  },
  {
   "cell_type": "code",
   "execution_count": null,
   "id": "5d664aaf",
   "metadata": {},
   "outputs": [],
   "source": [
    "# user_id\n",
    "print(accounts_pointhistory.user_id.min())\n",
    "print(accounts_pointhistory.user_id.max())"
   ]
  },
  {
   "cell_type": "markdown",
   "id": "cb7a33e3",
   "metadata": {},
   "source": [
    "### 투표 기록 테이블"
   ]
  },
  {
   "cell_type": "code",
   "execution_count": null,
   "id": "e36893ae",
   "metadata": {},
   "outputs": [],
   "source": [
    "accounts_userquestionrecord.head()\n"
   ]
  },
  {
   "cell_type": "code",
   "execution_count": null,
   "id": "e6259676",
   "metadata": {},
   "outputs": [],
   "source": [
    "accounts_userquestionrecord.report_count.value_counts()"
   ]
  },
  {
   "cell_type": "code",
   "execution_count": null,
   "id": "2d43120b",
   "metadata": {},
   "outputs": [],
   "source": [
    "print(accounts_userquestionrecord.user_id.nunique())\n",
    "print(accounts_userquestionrecord.chosen_user_id.nunique())"
   ]
  },
  {
   "cell_type": "code",
   "execution_count": null,
   "id": "6e429636",
   "metadata": {},
   "outputs": [],
   "source": [
    "print(accounts_userquestionrecord.id.nunique()) # 질문id\n",
    "print(accounts_userquestionrecord.question_piece_id.nunique())"
   ]
  },
  {
   "cell_type": "code",
   "execution_count": null,
   "id": "927146bc",
   "metadata": {},
   "outputs": [],
   "source": [
    "# user_id\n",
    "display(accounts_pointhistory.user_id.value_counts().head(20))"
   ]
  },
  {
   "cell_type": "code",
   "execution_count": null,
   "id": "acb12c3d",
   "metadata": {},
   "outputs": [],
   "source": [
    "# question_id\n",
    "accounts_userquestionrecord['question_id'].nunique()"
   ]
  },
  {
   "cell_type": "code",
   "execution_count": null,
   "id": "e5281456",
   "metadata": {},
   "outputs": [],
   "source": [
    "accounts_userquestionrecord.status.value_counts()"
   ]
  },
  {
   "cell_type": "code",
   "execution_count": null,
   "id": "f8265785",
   "metadata": {},
   "outputs": [],
   "source": [
    "accounts_userquestionrecord.created_at.min(), accounts_userquestionrecord.created_at.max()"
   ]
  },
  {
   "cell_type": "code",
   "execution_count": null,
   "id": "e249bb29",
   "metadata": {},
   "outputs": [],
   "source": [
    "# has_read 값별 분포 (0 = 안읽음, 1 = 읽음)\n",
    "has_read_counts = accounts_userquestionrecord['has_read'].value_counts().sort_index()\n",
    "\n",
    "# 열람하지 않은 투표 비율\n",
    "not_read_ratio = has_read_counts.get(0, 0) / len(accounts_userquestionrecord)\n",
    "\n",
    "print(\"has_read\")\n",
    "print(has_read_counts)\n",
    "print(f\"열람하지 않은 비율: {not_read_ratio:.2%}\")"
   ]
  },
  {
   "cell_type": "code",
   "execution_count": null,
   "id": "432211db",
   "metadata": {},
   "outputs": [],
   "source": [
    "\n",
    "# 월 단위로 그룹화 (YYYY-MM 형식으로 변환)\n",
    "accounts_userquestionrecord['month'] = accounts_userquestionrecord['created_at'].dt.to_period('M').astype(str)\n",
    "\n",
    "# 월별 ID 개수 집계\n",
    "monthly_counts = accounts_userquestionrecord.groupby('month')['id'].count().reset_index()\n",
    "\n",
    "# 시각화\n",
    "font_path = '/usr/share/fonts/truetype/nanum/NanumGothic.ttf'\n",
    "font_prop = fm.FontProperties(fname=font_path)\n",
    "\n",
    "\n",
    "plt.figure(figsize=(10, 5))\n",
    "plt.bar(monthly_counts['month'], monthly_counts['id'], color='skyblue')\n",
    "\n",
    "# ✅ 모든 텍스트 요소에 font_prop 직접 지정\n",
    "plt.xticks(rotation=45, fontproperties=font_prop)\n",
    "plt.yticks(fontproperties=font_prop)\n",
    "plt.title('왜 계속 이래', fontsize=14, fontproperties=font_prop)\n",
    "plt.xlabel('Month(YYYY-MM)', fontproperties=font_prop)\n",
    "plt.ylabel('ID count', fontproperties=font_prop)\n",
    "\n",
    "plt.tight_layout()\n",
    "plt.show()\n"
   ]
  },
  {
   "cell_type": "code",
   "execution_count": null,
   "id": "e15bf29a",
   "metadata": {},
   "outputs": [],
   "source": [
    "# 월별 ID 개수 테이블로 확인\n",
    "monthly_counts = accounts_userquestionrecord.groupby('month')['id'].count().reset_index()\n",
    "print(monthly_counts.sort_values('month'))"
   ]
  },
  {
   "cell_type": "code",
   "execution_count": null,
   "id": "6ec650ba",
   "metadata": {},
   "outputs": [],
   "source": [
    "accounts_userquestionrecord.id.nunique()"
   ]
  },
  {
   "cell_type": "code",
   "execution_count": null,
   "id": "5b83ba05",
   "metadata": {},
   "outputs": [],
   "source": [
    "accounts_userquestionrecord.question_id.nunique()"
   ]
  },
  {
   "cell_type": "code",
   "execution_count": null,
   "id": "7b77de88",
   "metadata": {},
   "outputs": [],
   "source": [
    "accounts_userquestionrecord.user_id.nunique()"
   ]
  },
  {
   "cell_type": "code",
   "execution_count": null,
   "id": "940408c8",
   "metadata": {},
   "outputs": [],
   "source": [
    "# 3. 월별 has_read 값 개수 집계\n",
    "monthly_read_counts = accounts_userquestionrecord.groupby(['month', 'has_read']).size().unstack(fill_value=0)\n",
    "# 4. 열람하지 않은 비율 계산 (has_read == 0 비율)\n",
    "monthly_read_counts['not_read_ratio'] = monthly_read_counts[0] / (monthly_read_counts[0] + monthly_read_counts[1])\n",
    "# 결과 출력\n",
    "print(monthly_read_counts)"
   ]
  },
  {
   "cell_type": "code",
   "execution_count": null,
   "id": "736611af",
   "metadata": {},
   "outputs": [],
   "source": [
    "# 3. 월별 answer_status 분포\n",
    "monthly_answer_status = accounts_userquestionrecord.groupby(['month', 'answer_status']).size().unstack(fill_value=0)\n",
    "\n",
    "# 4. 미답변 비율 계산 (answer_status == 'N')\n",
    "monthly_answer_status['not_answered_ratio'] = monthly_answer_status.get('N', 0) / monthly_answer_status.sum(axis=1)\n",
    "\n",
    "# 결과 출력\n",
    "print(monthly_answer_status)"
   ]
  },
  {
   "cell_type": "code",
   "execution_count": null,
   "id": "dd96cb31",
   "metadata": {},
   "outputs": [],
   "source": [
    "# 요일 (0=월 ~ 6=일), 시간대 (0~23시)\n",
    "accounts_userquestionrecord['weekday'] = accounts_userquestionrecord['created_at'].dt.dayofweek\n",
    "accounts_userquestionrecord['hour'] = accounts_userquestionrecord['created_at'].dt.hour\n",
    "\n",
    "# 요일-시간대별 id 수\n",
    "vote_heatmap = accounts_userquestionrecord.pivot_table(\n",
    "    index='weekday', columns='hour', values='id', aggfunc='count', fill_value=0\n",
    ")\n",
    "vote_heatmap\n"
   ]
  },
  {
   "cell_type": "code",
   "execution_count": null,
   "id": "004d71ca",
   "metadata": {},
   "outputs": [],
   "source": [
    "# 응답까지 걸린 시간 (초)\n",
    "accounts_userquestionrecord['response_time_sec'] = (\n",
    "    accounts_userquestionrecord['answer_updated_at'] - accounts_userquestionrecord['created_at']\n",
    ").dt.total_seconds()\n",
    "\n",
    "# 0초 이상 30일 이하만 필터링\n",
    "valid_responses = accounts_userquestionrecord[\n",
    "    (accounts_userquestionrecord['response_time_sec'] > 0) &\n",
    "    (accounts_userquestionrecord['response_time_sec'] < 2592000)\n",
    "]\n",
    "\n",
    "# 기본 통계\n",
    "print(valid_responses['response_time_sec'].describe())\n",
    "\n",
    "# 평균 9시간"
   ]
  },
  {
   "cell_type": "code",
   "execution_count": null,
   "id": "1ee043fc",
   "metadata": {},
   "outputs": [],
   "source": [
    "# 열람률: has_read 평균\n",
    "read_rate = accounts_userquestionrecord.groupby(['weekday', 'hour'])['has_read'].mean().unstack()\n",
    "read_rate"
   ]
  },
  {
   "cell_type": "code",
   "execution_count": null,
   "id": "ee43d388",
   "metadata": {},
   "outputs": [],
   "source": [
    "# 응답 여부 컬럼\n",
    "accounts_userquestionrecord['is_answered'] = accounts_userquestionrecord['answer_status'] == 'A'\n",
    "\n",
    "# 응답률: is_answered 평균\n",
    "answer_rate = accounts_userquestionrecord.groupby(['weekday', 'hour'])['is_answered'].mean().unstack()\n",
    "\n",
    "answer_rate"
   ]
  },
  {
   "cell_type": "code",
   "execution_count": null,
   "id": "b12130db",
   "metadata": {},
   "outputs": [],
   "source": [
    "last_active = accounts_userquestionrecord.groupby('user_id')['created_at'].max().reset_index()\n",
    "last_active.columns = ['user_id', 'last_activity_at']\n",
    "\n",
    "print(last_active.head())\n"
   ]
  },
  {
   "cell_type": "code",
   "execution_count": null,
   "id": "54ca90af",
   "metadata": {},
   "outputs": [],
   "source": [
    "len(last_active)"
   ]
  },
  {
   "cell_type": "code",
   "execution_count": null,
   "id": "42b1554a",
   "metadata": {},
   "outputs": [],
   "source": [
    "accounts_userquestionrecord.user_id.nunique()"
   ]
  },
  {
   "cell_type": "code",
   "execution_count": null,
   "id": "0af6551f",
   "metadata": {},
   "outputs": [],
   "source": [
    "# 연-월(YYYY-MM) 단위로 변환\n",
    "last_active['year_month'] = last_active['last_activity_at'].dt.to_period('M').astype(str)\n",
    "\n",
    "# 연-월별 user 수 집계\n",
    "monthly_last_active = last_active['year_month'].value_counts().sort_index()\n",
    "\n",
    "plt.figure(figsize=(10, 5))\n",
    "monthly_last_active.plot(kind='bar', color='steelblue')\n",
    "plt.title('last user activities')\n",
    "plt.xlabel('Y-M')\n",
    "plt.ylabel('users')\n",
    "plt.xticks(rotation=45)\n",
    "plt.tight_layout()\n",
    "plt.show()\n"
   ]
  },
  {
   "cell_type": "code",
   "execution_count": null,
   "id": "0a4c6892",
   "metadata": {},
   "outputs": [],
   "source": [
    "monthly_last_active"
   ]
  },
  {
   "cell_type": "code",
   "execution_count": null,
   "id": "7b12a41e",
   "metadata": {},
   "outputs": [],
   "source": [
    "accounts_userquestionrecord# 연-월 컬럼 생성\n",
    "accounts_userquestionrecord['year_month'] = accounts_userquestionrecord['created_at'].dt.to_period('M').astype(str)\n",
    "\n",
    "# 월별 신고 총합 계산\n",
    "monthly_reports = accounts_userquestionrecord.groupby('year_month')['report_count'].sum()\n",
    "\n",
    "plt.figure(figsize=(10, 5))\n",
    "monthly_reports.plot(kind='bar', color='crimson')\n",
    "plt.title('report_counts')\n",
    "plt.xlabel('Y-M')\n",
    "plt.ylabel('report counts')\n",
    "plt.xticks(rotation=45)\n",
    "plt.tight_layout()\n",
    "plt.show()"
   ]
  },
  {
   "cell_type": "code",
   "execution_count": null,
   "id": "f4a019c0",
   "metadata": {},
   "outputs": [],
   "source": [
    "accounts_userquestionrecord.report_count.value_counts()"
   ]
  },
  {
   "cell_type": "code",
   "execution_count": null,
   "id": "82fcabe4",
   "metadata": {},
   "outputs": [],
   "source": [
    "monthly_reports"
   ]
  },
  {
   "cell_type": "markdown",
   "id": "99e9de85",
   "metadata": {},
   "source": [
    "### 탈퇴"
   ]
  },
  {
   "cell_type": "code",
   "execution_count": null,
   "id": "1312b438",
   "metadata": {},
   "outputs": [],
   "source": [
    "# accounts_userwithdraw\n",
    "accounts_userwithdraw = \"gs://codeit-project/votes/accounts_userwithdraw.parquet\" \n",
    "\n",
    "# GCP 키 경로\n",
    "key_path = \"config/key.json\"\n",
    "\n",
    "# 데이터 불러오기\n",
    "accounts_userwithdraw = pd.read_parquet(accounts_userwithdraw, storage_options={\"token\": key_path})\n",
    "\n",
    "# 확인\n",
    "accounts_userwithdraw.head()"
   ]
  },
  {
   "cell_type": "code",
   "execution_count": null,
   "id": "1fceb8fe",
   "metadata": {},
   "outputs": [],
   "source": [
    "len(accounts_userwithdraw)"
   ]
  },
  {
   "cell_type": "code",
   "execution_count": null,
   "id": "4e1eda71",
   "metadata": {},
   "outputs": [],
   "source": [
    "# 연-월 컬럼 생성\n",
    "accounts_userwithdraw['year_month'] = accounts_userwithdraw['created_at'].dt.to_period('M').astype(str)\n",
    "\n",
    "# 월별 탈퇴자 수 집계\n",
    "monthly_withdraw_count = accounts_userwithdraw['year_month'].value_counts().sort_index()\n",
    "\n",
    "# 시각화\n",
    "plt.figure(figsize=(10, 5))\n",
    "monthly_withdraw_count.plot(kind='bar', color='tomato')\n",
    "plt.title('withdrawn users')\n",
    "plt.xlabel('Y-M')\n",
    "plt.ylabel('withdrawn users')\n",
    "plt.xticks(rotation=45)\n",
    "plt.tight_layout()\n",
    "plt.show()"
   ]
  },
  {
   "cell_type": "code",
   "execution_count": null,
   "id": "0a53107f",
   "metadata": {},
   "outputs": [],
   "source": [
    "monthly_withdraw_count"
   ]
  },
  {
   "cell_type": "markdown",
   "id": "f8398c60",
   "metadata": {},
   "source": [
    "### hackle events"
   ]
  },
  {
   "cell_type": "markdown",
   "id": "fcf3715d",
   "metadata": {},
   "source": [
    "### 학교 별로 N명의 사용자를 확보하는 데 까지 걸린 날(일 기준)\n",
    "- votes 중 accounts_attendance, hackle의 user_properties 사용"
   ]
  },
  {
   "cell_type": "code",
   "execution_count": null,
   "id": "37a657ca",
   "metadata": {},
   "outputs": [
    {
     "name": "stdout",
     "output_type": "stream",
     "text": [
      "   school_id first_user_id first_date tenth_date  days_to_10th_user\n",
      "0          1        833041 2023-05-27 2023-06-06                 10\n",
      "1          4       1241601 2023-05-27 2023-05-28                  1\n",
      "2          5       1203993 2023-05-27 2023-05-29                  2\n",
      "3          6       1219787 2023-05-27 2023-05-28                  1\n",
      "4          7       1206795 2023-05-27 2023-05-28                  1\n"
     ]
    }
   ],
   "source": [
    "# 10명\n",
    "# 1. 출석일 리스트에서 가장 빠른 날짜만 추출하는 함수\n",
    "def safe_min_date(date_list_str):\n",
    "    try:\n",
    "        date_list = ast.literal_eval(date_list_str)\n",
    "        if isinstance(date_list, list) and len(date_list) > 0:\n",
    "            return min(date_list)\n",
    "        else:\n",
    "            return None\n",
    "    except Exception:\n",
    "        return None\n",
    "\n",
    "# 2. 출석 데이터에 최초 출석일 추가\n",
    "accounts_attendance[\"first_attendance_date\"] = accounts_attendance[\"attendance_date_list\"].apply(safe_min_date)\n",
    "accounts_attendance = accounts_attendance.dropna(subset=[\"first_attendance_date\"])\n",
    "accounts_attendance[\"first_attendance_date\"] = pd.to_datetime(accounts_attendance[\"first_attendance_date\"])\n",
    "\n",
    "\n",
    "# user_id 컬럼의 자료형을 모두 문자열(str)로 통일\n",
    "accounts_attendance[\"user_id\"] = accounts_attendance[\"user_id\"].astype(str)\n",
    "user_properties[\"user_id\"] = user_properties[\"user_id\"].astype(str)\n",
    "\n",
    "# 그 다음 병합\n",
    "merged_df = accounts_attendance.merge(user_properties, on=\"user_id\")\n",
    "\n",
    "\n",
    "# 4. 학교별로 그룹핑 → 정렬 → 10번째 사용자까지 걸린 일수 계산\n",
    "result_list = []\n",
    "\n",
    "for school_id, group in merged_df.groupby(\"school_id\"):\n",
    "    group_sorted = group.sort_values(\"first_attendance_date\").reset_index(drop=True)\n",
    "    \n",
    "    if len(group_sorted) >= 10:\n",
    "        first_date = group_sorted.loc[0, \"first_attendance_date\"]\n",
    "        tenth_date = group_sorted.loc[9, \"first_attendance_date\"]\n",
    "        days_diff = (tenth_date - first_date).days\n",
    "        \n",
    "        result_list.append({\n",
    "            \"school_id\": school_id,\n",
    "            \"first_user_id\": group_sorted.loc[0, \"user_id\"],\n",
    "            \"first_date\": first_date,\n",
    "            \"tenth_date\": tenth_date,\n",
    "            \"days_to_10th_user\": days_diff\n",
    "        })\n",
    "\n",
    "# 5. 결과 DataFrame 생성\n",
    "result_df = pd.DataFrame(result_list)\n",
    "\n",
    "# 6. 결과 확인\n",
    "print(result_df.head())\n"
   ]
  },
  {
   "cell_type": "code",
   "execution_count": 5,
   "id": "396997ba",
   "metadata": {},
   "outputs": [
    {
     "data": {
      "text/html": [
       "<div>\n",
       "<style scoped>\n",
       "    .dataframe tbody tr th:only-of-type {\n",
       "        vertical-align: middle;\n",
       "    }\n",
       "\n",
       "    .dataframe tbody tr th {\n",
       "        vertical-align: top;\n",
       "    }\n",
       "\n",
       "    .dataframe thead th {\n",
       "        text-align: right;\n",
       "    }\n",
       "</style>\n",
       "<table border=\"1\" class=\"dataframe\">\n",
       "  <thead>\n",
       "    <tr style=\"text-align: right;\">\n",
       "      <th></th>\n",
       "      <th>school_id</th>\n",
       "      <th>first_user_id</th>\n",
       "      <th>first_date</th>\n",
       "      <th>tenth_date</th>\n",
       "      <th>days_to_10th_user</th>\n",
       "    </tr>\n",
       "  </thead>\n",
       "  <tbody>\n",
       "    <tr>\n",
       "      <th>0</th>\n",
       "      <td>1</td>\n",
       "      <td>833041</td>\n",
       "      <td>2023-05-27</td>\n",
       "      <td>2023-06-06</td>\n",
       "      <td>10</td>\n",
       "    </tr>\n",
       "    <tr>\n",
       "      <th>1</th>\n",
       "      <td>4</td>\n",
       "      <td>1241601</td>\n",
       "      <td>2023-05-27</td>\n",
       "      <td>2023-05-28</td>\n",
       "      <td>1</td>\n",
       "    </tr>\n",
       "    <tr>\n",
       "      <th>2</th>\n",
       "      <td>5</td>\n",
       "      <td>1203993</td>\n",
       "      <td>2023-05-27</td>\n",
       "      <td>2023-05-29</td>\n",
       "      <td>2</td>\n",
       "    </tr>\n",
       "    <tr>\n",
       "      <th>3</th>\n",
       "      <td>6</td>\n",
       "      <td>1219787</td>\n",
       "      <td>2023-05-27</td>\n",
       "      <td>2023-05-28</td>\n",
       "      <td>1</td>\n",
       "    </tr>\n",
       "    <tr>\n",
       "      <th>4</th>\n",
       "      <td>7</td>\n",
       "      <td>1206795</td>\n",
       "      <td>2023-05-27</td>\n",
       "      <td>2023-05-28</td>\n",
       "      <td>1</td>\n",
       "    </tr>\n",
       "    <tr>\n",
       "      <th>5</th>\n",
       "      <td>8</td>\n",
       "      <td>1294022</td>\n",
       "      <td>2023-05-27</td>\n",
       "      <td>2023-05-27</td>\n",
       "      <td>0</td>\n",
       "    </tr>\n",
       "    <tr>\n",
       "      <th>6</th>\n",
       "      <td>10</td>\n",
       "      <td>1311454</td>\n",
       "      <td>2023-05-27</td>\n",
       "      <td>2023-05-27</td>\n",
       "      <td>0</td>\n",
       "    </tr>\n",
       "    <tr>\n",
       "      <th>7</th>\n",
       "      <td>12</td>\n",
       "      <td>1398792</td>\n",
       "      <td>2023-05-27</td>\n",
       "      <td>2023-05-27</td>\n",
       "      <td>0</td>\n",
       "    </tr>\n",
       "    <tr>\n",
       "      <th>8</th>\n",
       "      <td>13</td>\n",
       "      <td>1268747</td>\n",
       "      <td>2023-05-27</td>\n",
       "      <td>2023-05-29</td>\n",
       "      <td>2</td>\n",
       "    </tr>\n",
       "    <tr>\n",
       "      <th>9</th>\n",
       "      <td>14</td>\n",
       "      <td>1385838</td>\n",
       "      <td>2023-05-27</td>\n",
       "      <td>2023-05-28</td>\n",
       "      <td>1</td>\n",
       "    </tr>\n",
       "    <tr>\n",
       "      <th>10</th>\n",
       "      <td>16</td>\n",
       "      <td>1382620</td>\n",
       "      <td>2023-05-27</td>\n",
       "      <td>2023-05-28</td>\n",
       "      <td>1</td>\n",
       "    </tr>\n",
       "    <tr>\n",
       "      <th>11</th>\n",
       "      <td>17</td>\n",
       "      <td>1191406</td>\n",
       "      <td>2023-05-27</td>\n",
       "      <td>2023-05-29</td>\n",
       "      <td>2</td>\n",
       "    </tr>\n",
       "    <tr>\n",
       "      <th>12</th>\n",
       "      <td>18</td>\n",
       "      <td>1372482</td>\n",
       "      <td>2023-05-27</td>\n",
       "      <td>2023-05-28</td>\n",
       "      <td>1</td>\n",
       "    </tr>\n",
       "    <tr>\n",
       "      <th>13</th>\n",
       "      <td>20</td>\n",
       "      <td>1312574</td>\n",
       "      <td>2023-05-27</td>\n",
       "      <td>2023-05-29</td>\n",
       "      <td>2</td>\n",
       "    </tr>\n",
       "    <tr>\n",
       "      <th>14</th>\n",
       "      <td>24</td>\n",
       "      <td>1069932</td>\n",
       "      <td>2023-05-27</td>\n",
       "      <td>2023-05-27</td>\n",
       "      <td>0</td>\n",
       "    </tr>\n",
       "  </tbody>\n",
       "</table>\n",
       "</div>"
      ],
      "text/plain": [
       "    school_id first_user_id first_date tenth_date  days_to_10th_user\n",
       "0           1        833041 2023-05-27 2023-06-06                 10\n",
       "1           4       1241601 2023-05-27 2023-05-28                  1\n",
       "2           5       1203993 2023-05-27 2023-05-29                  2\n",
       "3           6       1219787 2023-05-27 2023-05-28                  1\n",
       "4           7       1206795 2023-05-27 2023-05-28                  1\n",
       "5           8       1294022 2023-05-27 2023-05-27                  0\n",
       "6          10       1311454 2023-05-27 2023-05-27                  0\n",
       "7          12       1398792 2023-05-27 2023-05-27                  0\n",
       "8          13       1268747 2023-05-27 2023-05-29                  2\n",
       "9          14       1385838 2023-05-27 2023-05-28                  1\n",
       "10         16       1382620 2023-05-27 2023-05-28                  1\n",
       "11         17       1191406 2023-05-27 2023-05-29                  2\n",
       "12         18       1372482 2023-05-27 2023-05-28                  1\n",
       "13         20       1312574 2023-05-27 2023-05-29                  2\n",
       "14         24       1069932 2023-05-27 2023-05-27                  0"
      ]
     },
     "execution_count": 5,
     "metadata": {},
     "output_type": "execute_result"
    }
   ],
   "source": [
    "result_df.head(15)"
   ]
  },
  {
   "cell_type": "code",
   "execution_count": 6,
   "id": "b7eab00a",
   "metadata": {},
   "outputs": [
    {
     "data": {
      "text/plain": [
       "count    3740.000000\n",
       "mean        2.323262\n",
       "std         9.015605\n",
       "min         0.000000\n",
       "25%         0.000000\n",
       "50%         1.000000\n",
       "75%         2.000000\n",
       "max       147.000000\n",
       "Name: days_to_10th_user, dtype: float64"
      ]
     },
     "execution_count": 6,
     "metadata": {},
     "output_type": "execute_result"
    }
   ],
   "source": [
    "result_df.days_to_10th_user.describe()"
   ]
  },
  {
   "cell_type": "code",
   "execution_count": 10,
   "id": "2c7f7b1d",
   "metadata": {},
   "outputs": [
    {
     "name": "stdout",
     "output_type": "stream",
     "text": [
      "   school_id first_user_id first_date tenth_date  days_to_20th_user\n",
      "0          4       1241601 2023-05-27 2023-05-30                  3\n",
      "1          5       1203993 2023-05-27 2023-05-31                  4\n",
      "2          6       1219787 2023-05-27 2023-05-29                  2\n",
      "3          7       1206795 2023-05-27 2023-05-29                  2\n",
      "4          8       1294022 2023-05-27 2023-05-28                  1\n"
     ]
    }
   ],
   "source": [
    "# 20명\n",
    "# 4. 학교별로 그룹핑 → 정렬 → 10번째 사용자까지 걸린 일수 계산\n",
    "result_list = []\n",
    "\n",
    "for school_id, group in merged_df.groupby(\"school_id\"):\n",
    "    group_sorted = group.sort_values(\"first_attendance_date\").reset_index(drop=True)\n",
    "    \n",
    "    if len(group_sorted) >= 20:\n",
    "        first_date = group_sorted.loc[0, \"first_attendance_date\"]\n",
    "        tenth_date = group_sorted.loc[19, \"first_attendance_date\"]\n",
    "        days_diff = (tenth_date - first_date).days\n",
    "        \n",
    "        result_list.append({\n",
    "            \"school_id\": school_id,\n",
    "            \"first_user_id\": group_sorted.loc[0, \"user_id\"],\n",
    "            \"first_date\": first_date,\n",
    "            \"tenth_date\": tenth_date,\n",
    "            \"days_to_20th_user\": days_diff\n",
    "        })\n",
    "\n",
    "# 5. 결과 DataFrame 생성\n",
    "result_df_20 = pd.DataFrame(result_list)\n",
    "\n",
    "# 6. 결과 확인\n",
    "print(result_df_20.head())"
   ]
  },
  {
   "cell_type": "code",
   "execution_count": 11,
   "id": "2547e675",
   "metadata": {},
   "outputs": [
    {
     "data": {
      "text/plain": [
       "count    3087.000000\n",
       "mean        4.862650\n",
       "std        13.674436\n",
       "min         0.000000\n",
       "25%         1.000000\n",
       "50%         2.000000\n",
       "75%         2.000000\n",
       "max       238.000000\n",
       "Name: days_to_20th_user, dtype: float64"
      ]
     },
     "execution_count": 11,
     "metadata": {},
     "output_type": "execute_result"
    }
   ],
   "source": [
    "result_df_20.days_to_20th_user.describe()"
   ]
  },
  {
   "cell_type": "code",
   "execution_count": 12,
   "id": "0d83d42e",
   "metadata": {},
   "outputs": [
    {
     "name": "stdout",
     "output_type": "stream",
     "text": [
      "   school_id first_user_id first_date tenth_date  days_to_30th_user\n",
      "0          4       1241601 2023-05-27 2023-08-07                 72\n",
      "1          6       1219787 2023-05-27 2023-05-31                  4\n",
      "2          7       1206795 2023-05-27 2023-05-30                  3\n",
      "3          8       1294022 2023-05-27 2023-05-29                  2\n",
      "4         10       1311454 2023-05-27 2023-05-28                  1\n"
     ]
    }
   ],
   "source": [
    "# 30명\n",
    "# 4. 학교별로 그룹핑 → 정렬 → 10번째 사용자까지 걸린 일수 계산\n",
    "result_list = []\n",
    "\n",
    "for school_id, group in merged_df.groupby(\"school_id\"):\n",
    "    group_sorted = group.sort_values(\"first_attendance_date\").reset_index(drop=True)\n",
    "    \n",
    "    if len(group_sorted) >= 30:\n",
    "        first_date = group_sorted.loc[0, \"first_attendance_date\"]\n",
    "        tenth_date = group_sorted.loc[29, \"first_attendance_date\"]\n",
    "        days_diff = (tenth_date - first_date).days\n",
    "        \n",
    "        result_list.append({\n",
    "            \"school_id\": school_id,\n",
    "            \"first_user_id\": group_sorted.loc[0, \"user_id\"],\n",
    "            \"first_date\": first_date,\n",
    "            \"tenth_date\": tenth_date,\n",
    "            \"days_to_30th_user\": days_diff\n",
    "        })\n",
    "\n",
    "# 5. 결과 DataFrame 생성\n",
    "result_df_30 = pd.DataFrame(result_list)\n",
    "\n",
    "# 6. 결과 확인\n",
    "print(result_df_30.head())"
   ]
  },
  {
   "cell_type": "code",
   "execution_count": 13,
   "id": "59c6c1ea",
   "metadata": {},
   "outputs": [
    {
     "data": {
      "text/plain": [
       "count    2311.000000\n",
       "mean        8.135439\n",
       "std        20.626136\n",
       "min         0.000000\n",
       "25%         2.000000\n",
       "50%         2.000000\n",
       "75%         3.000000\n",
       "max       335.000000\n",
       "Name: days_to_30th_user, dtype: float64"
      ]
     },
     "execution_count": 13,
     "metadata": {},
     "output_type": "execute_result"
    }
   ],
   "source": [
    "result_df_30.days_to_30th_user.describe()"
   ]
  },
  {
   "cell_type": "code",
   "execution_count": 14,
   "id": "1076f0c3",
   "metadata": {},
   "outputs": [
    {
     "name": "stdout",
     "output_type": "stream",
     "text": [
      "   school_id  days_to_10th_user  days_to_20th_user  days_to_30th_user  days_to_40th_user  days_to_50th_user\n",
      "0          1               10.0                NaN                NaN                NaN                NaN\n",
      "1          4                1.0                3.0               72.0                NaN                NaN\n",
      "2          5                2.0                4.0                NaN                NaN                NaN\n",
      "3          6                1.0                2.0                4.0                NaN                NaN\n",
      "4          7                1.0                2.0                3.0                NaN                NaN\n"
     ]
    }
   ],
   "source": [
    "# 함수화\n",
    "\n",
    "# 1. 출석일 리스트에서 가장 빠른 날짜만 추출하는 함수\n",
    "def safe_min_date(date_list_str):\n",
    "    try:\n",
    "        date_list = ast.literal_eval(date_list_str)\n",
    "        if isinstance(date_list, list) and len(date_list) > 0:\n",
    "            return min(date_list)\n",
    "        else:\n",
    "            return None\n",
    "    except Exception:\n",
    "        return None\n",
    "\n",
    "# 2. n번째 사용자가 등장할 때까지 걸린 일수 계산 함수 (school_id 기준)\n",
    "def calculate_spread_days(df, group_col=\"school_id\", thresholds=[10, 20, 30, 40, 50]):\n",
    "    result = []\n",
    "\n",
    "    for key, group in df.groupby(group_col):\n",
    "        group_sorted = group.sort_values(\"first_attendance_date\").reset_index(drop=True)\n",
    "        row = {group_col: key}\n",
    "\n",
    "        for n in thresholds:\n",
    "            if len(group_sorted) >= n:\n",
    "                first_date = group_sorted.loc[0, \"first_attendance_date\"]\n",
    "                nth_date = group_sorted.loc[n - 1, \"first_attendance_date\"]\n",
    "                row[f\"days_to_{n}th_user\"] = (nth_date - first_date).days\n",
    "            else:\n",
    "                row[f\"days_to_{n}th_user\"] = None  # 부족한 경우는 None 처리\n",
    "\n",
    "        result.append(row)\n",
    "\n",
    "    return pd.DataFrame(result)\n",
    "\n",
    "# 3. 전처리 및 실행\n",
    "# user_id 자료형 통일 (중요!)\n",
    "accounts_attendance[\"user_id\"] = accounts_attendance[\"user_id\"].astype(str)\n",
    "user_properties[\"user_id\"] = user_properties[\"user_id\"].astype(str)\n",
    "\n",
    "# 출석일 전처리\n",
    "accounts_attendance[\"first_attendance_date\"] = accounts_attendance[\"attendance_date_list\"].apply(safe_min_date)\n",
    "accounts_attendance = accounts_attendance.dropna(subset=[\"first_attendance_date\"])\n",
    "accounts_attendance[\"first_attendance_date\"] = pd.to_datetime(accounts_attendance[\"first_attendance_date\"])\n",
    "\n",
    "# 병합\n",
    "merged_df = accounts_attendance.merge(user_properties, on=\"user_id\")\n",
    "\n",
    "# 확산 속도 분석 실행\n",
    "result_df = calculate_spread_days(merged_df)\n",
    "\n",
    "# 결과 확인\n",
    "print(result_df.head())\n"
   ]
  },
  {
   "cell_type": "code",
   "execution_count": 15,
   "id": "ee36ab63",
   "metadata": {},
   "outputs": [
    {
     "name": "stdout",
     "output_type": "stream",
     "text": [
      "<class 'pandas.core.frame.DataFrame'>\n",
      "RangeIndex: 4624 entries, 0 to 4623\n",
      "Data columns (total 6 columns):\n",
      " #   Column             Non-Null Count  Dtype  \n",
      "---  ------             --------------  -----  \n",
      " 0   school_id          4624 non-null   int64  \n",
      " 1   days_to_10th_user  3740 non-null   float64\n",
      " 2   days_to_20th_user  3087 non-null   float64\n",
      " 3   days_to_30th_user  2311 non-null   float64\n",
      " 4   days_to_40th_user  1610 non-null   float64\n",
      " 5   days_to_50th_user  1084 non-null   float64\n",
      "dtypes: float64(5), int64(1)\n",
      "memory usage: 216.9 KB\n"
     ]
    }
   ],
   "source": [
    "result_df.info()"
   ]
  },
  {
   "cell_type": "code",
   "execution_count": 16,
   "id": "9e3c50b1",
   "metadata": {},
   "outputs": [
    {
     "data": {
      "text/html": [
       "<div>\n",
       "<style scoped>\n",
       "    .dataframe tbody tr th:only-of-type {\n",
       "        vertical-align: middle;\n",
       "    }\n",
       "\n",
       "    .dataframe tbody tr th {\n",
       "        vertical-align: top;\n",
       "    }\n",
       "\n",
       "    .dataframe thead th {\n",
       "        text-align: right;\n",
       "    }\n",
       "</style>\n",
       "<table border=\"1\" class=\"dataframe\">\n",
       "  <thead>\n",
       "    <tr style=\"text-align: right;\">\n",
       "      <th></th>\n",
       "      <th>school_id</th>\n",
       "      <th>days_to_10th_user</th>\n",
       "      <th>days_to_20th_user</th>\n",
       "      <th>days_to_30th_user</th>\n",
       "      <th>days_to_40th_user</th>\n",
       "      <th>days_to_50th_user</th>\n",
       "    </tr>\n",
       "  </thead>\n",
       "  <tbody>\n",
       "    <tr>\n",
       "      <th>count</th>\n",
       "      <td>4624.000000</td>\n",
       "      <td>3740.000000</td>\n",
       "      <td>3087.000000</td>\n",
       "      <td>2311.000000</td>\n",
       "      <td>1610.000000</td>\n",
       "      <td>1084.000000</td>\n",
       "    </tr>\n",
       "    <tr>\n",
       "      <th>mean</th>\n",
       "      <td>3012.690528</td>\n",
       "      <td>2.323262</td>\n",
       "      <td>4.862650</td>\n",
       "      <td>8.135439</td>\n",
       "      <td>10.504348</td>\n",
       "      <td>13.136531</td>\n",
       "    </tr>\n",
       "    <tr>\n",
       "      <th>std</th>\n",
       "      <td>1703.225009</td>\n",
       "      <td>9.015605</td>\n",
       "      <td>13.674436</td>\n",
       "      <td>20.626136</td>\n",
       "      <td>22.001476</td>\n",
       "      <td>24.910695</td>\n",
       "    </tr>\n",
       "    <tr>\n",
       "      <th>min</th>\n",
       "      <td>1.000000</td>\n",
       "      <td>0.000000</td>\n",
       "      <td>0.000000</td>\n",
       "      <td>0.000000</td>\n",
       "      <td>0.000000</td>\n",
       "      <td>0.000000</td>\n",
       "    </tr>\n",
       "    <tr>\n",
       "      <th>25%</th>\n",
       "      <td>1586.750000</td>\n",
       "      <td>0.000000</td>\n",
       "      <td>1.000000</td>\n",
       "      <td>2.000000</td>\n",
       "      <td>2.000000</td>\n",
       "      <td>2.000000</td>\n",
       "    </tr>\n",
       "    <tr>\n",
       "      <th>50%</th>\n",
       "      <td>3017.500000</td>\n",
       "      <td>1.000000</td>\n",
       "      <td>2.000000</td>\n",
       "      <td>2.000000</td>\n",
       "      <td>3.000000</td>\n",
       "      <td>3.000000</td>\n",
       "    </tr>\n",
       "    <tr>\n",
       "      <th>75%</th>\n",
       "      <td>4523.250000</td>\n",
       "      <td>2.000000</td>\n",
       "      <td>2.000000</td>\n",
       "      <td>3.000000</td>\n",
       "      <td>6.000000</td>\n",
       "      <td>8.000000</td>\n",
       "    </tr>\n",
       "    <tr>\n",
       "      <th>max</th>\n",
       "      <td>5964.000000</td>\n",
       "      <td>147.000000</td>\n",
       "      <td>238.000000</td>\n",
       "      <td>335.000000</td>\n",
       "      <td>208.000000</td>\n",
       "      <td>231.000000</td>\n",
       "    </tr>\n",
       "  </tbody>\n",
       "</table>\n",
       "</div>"
      ],
      "text/plain": [
       "         school_id  days_to_10th_user  days_to_20th_user  days_to_30th_user  days_to_40th_user  days_to_50th_user\n",
       "count  4624.000000        3740.000000        3087.000000        2311.000000        1610.000000        1084.000000\n",
       "mean   3012.690528           2.323262           4.862650           8.135439          10.504348          13.136531\n",
       "std    1703.225009           9.015605          13.674436          20.626136          22.001476          24.910695\n",
       "min       1.000000           0.000000           0.000000           0.000000           0.000000           0.000000\n",
       "25%    1586.750000           0.000000           1.000000           2.000000           2.000000           2.000000\n",
       "50%    3017.500000           1.000000           2.000000           2.000000           3.000000           3.000000\n",
       "75%    4523.250000           2.000000           2.000000           3.000000           6.000000           8.000000\n",
       "max    5964.000000         147.000000         238.000000         335.000000         208.000000         231.000000"
      ]
     },
     "execution_count": 16,
     "metadata": {},
     "output_type": "execute_result"
    }
   ],
   "source": [
    "result_df.describe()"
   ]
  },
  {
   "cell_type": "code",
   "execution_count": 17,
   "id": "ec84d68f",
   "metadata": {},
   "outputs": [
    {
     "data": {
      "text/html": [
       "<div>\n",
       "<style scoped>\n",
       "    .dataframe tbody tr th:only-of-type {\n",
       "        vertical-align: middle;\n",
       "    }\n",
       "\n",
       "    .dataframe tbody tr th {\n",
       "        vertical-align: top;\n",
       "    }\n",
       "\n",
       "    .dataframe thead th {\n",
       "        text-align: right;\n",
       "    }\n",
       "</style>\n",
       "<table border=\"1\" class=\"dataframe\">\n",
       "  <thead>\n",
       "    <tr style=\"text-align: right;\">\n",
       "      <th></th>\n",
       "      <th>user_id</th>\n",
       "      <th>class</th>\n",
       "      <th>gender</th>\n",
       "      <th>grade</th>\n",
       "      <th>school_id</th>\n",
       "    </tr>\n",
       "  </thead>\n",
       "  <tbody>\n",
       "    <tr>\n",
       "      <th>0</th>\n",
       "      <td>1000000</td>\n",
       "      <td>1</td>\n",
       "      <td>M</td>\n",
       "      <td>1</td>\n",
       "      <td>1885</td>\n",
       "    </tr>\n",
       "  </tbody>\n",
       "</table>\n",
       "</div>"
      ],
      "text/plain": [
       "   user_id  class gender  grade  school_id\n",
       "0  1000000      1      M      1       1885"
      ]
     },
     "execution_count": 17,
     "metadata": {},
     "output_type": "execute_result"
    }
   ],
   "source": [
    "user_properties.head(1)"
   ]
  },
  {
   "cell_type": "code",
   "execution_count": 18,
   "id": "ea985d7b",
   "metadata": {},
   "outputs": [
    {
     "data": {
      "text/html": [
       "<div>\n",
       "<style scoped>\n",
       "    .dataframe tbody tr th:only-of-type {\n",
       "        vertical-align: middle;\n",
       "    }\n",
       "\n",
       "    .dataframe tbody tr th {\n",
       "        vertical-align: top;\n",
       "    }\n",
       "\n",
       "    .dataframe thead th {\n",
       "        text-align: right;\n",
       "    }\n",
       "</style>\n",
       "<table border=\"1\" class=\"dataframe\">\n",
       "  <thead>\n",
       "    <tr style=\"text-align: right;\">\n",
       "      <th></th>\n",
       "      <th>school_id</th>\n",
       "      <th>user_count</th>\n",
       "    </tr>\n",
       "  </thead>\n",
       "  <tbody>\n",
       "    <tr>\n",
       "      <th>0</th>\n",
       "      <td>1</td>\n",
       "      <td>29</td>\n",
       "    </tr>\n",
       "    <tr>\n",
       "      <th>1</th>\n",
       "      <td>4</td>\n",
       "      <td>74</td>\n",
       "    </tr>\n",
       "    <tr>\n",
       "      <th>2</th>\n",
       "      <td>5</td>\n",
       "      <td>50</td>\n",
       "    </tr>\n",
       "    <tr>\n",
       "      <th>3</th>\n",
       "      <td>6</td>\n",
       "      <td>65</td>\n",
       "    </tr>\n",
       "    <tr>\n",
       "      <th>4</th>\n",
       "      <td>7</td>\n",
       "      <td>53</td>\n",
       "    </tr>\n",
       "  </tbody>\n",
       "</table>\n",
       "</div>"
      ],
      "text/plain": [
       "   school_id  user_count\n",
       "0          1          29\n",
       "1          4          74\n",
       "2          5          50\n",
       "3          6          65\n",
       "4          7          53"
      ]
     },
     "execution_count": 18,
     "metadata": {},
     "output_type": "execute_result"
    }
   ],
   "source": [
    "school_user_counts = user_properties.groupby(\"school_id\")[\"user_id\"].nunique().reset_index()\n",
    "school_user_counts.columns = [\"school_id\", \"user_count\"]\n",
    "school_user_counts.head()"
   ]
  },
  {
   "cell_type": "code",
   "execution_count": 20,
   "id": "28bfbaad",
   "metadata": {},
   "outputs": [
    {
     "name": "stdout",
     "output_type": "stream",
     "text": [
      "<class 'pandas.core.frame.DataFrame'>\n",
      "RangeIndex: 5023 entries, 0 to 5022\n",
      "Data columns (total 2 columns):\n",
      " #   Column      Non-Null Count  Dtype\n",
      "---  ------      --------------  -----\n",
      " 0   school_id   5023 non-null   int64\n",
      " 1   user_count  5023 non-null   int64\n",
      "dtypes: int64(2)\n",
      "memory usage: 78.6 KB\n"
     ]
    }
   ],
   "source": [
    "school_user_counts.info()"
   ]
  },
  {
   "cell_type": "code",
   "execution_count": 19,
   "id": "228bba5c",
   "metadata": {},
   "outputs": [
    {
     "data": {
      "text/plain": [
       "count    5023.000000\n",
       "mean       45.952419\n",
       "std        35.922645\n",
       "min         1.000000\n",
       "25%        15.000000\n",
       "50%        41.000000\n",
       "75%        69.000000\n",
       "max       206.000000\n",
       "Name: user_count, dtype: float64"
      ]
     },
     "execution_count": 19,
     "metadata": {},
     "output_type": "execute_result"
    }
   ],
   "source": [
    "school_user_counts.user_count.describe()"
   ]
  },
  {
   "cell_type": "code",
   "execution_count": 21,
   "id": "f9cca9ca",
   "metadata": {},
   "outputs": [
    {
     "name": "stdout",
     "output_type": "stream",
     "text": [
      "<class 'pandas.core.frame.DataFrame'>\n",
      "Index: 328692 entries, 0 to 349636\n",
      "Data columns (total 4 columns):\n",
      " #   Column                 Non-Null Count   Dtype         \n",
      "---  ------                 --------------   -----         \n",
      " 0   id                     328692 non-null  int64         \n",
      " 1   attendance_date_list   328692 non-null  object        \n",
      " 2   user_id                328692 non-null  object        \n",
      " 3   first_attendance_date  328692 non-null  datetime64[ns]\n",
      "dtypes: datetime64[ns](1), int64(1), object(2)\n",
      "memory usage: 12.5+ MB\n"
     ]
    }
   ],
   "source": [
    "accounts_attendance.info()"
   ]
  },
  {
   "cell_type": "code",
   "execution_count": null,
   "id": "b829e2c1",
   "metadata": {},
   "outputs": [],
   "source": []
  }
 ],
 "metadata": {
  "kernelspec": {
   "display_name": "Python 3 (ipykernel)",
   "language": "python",
   "name": "python3"
  },
  "language_info": {
   "codemirror_mode": {
    "name": "ipython",
    "version": 3
   },
   "file_extension": ".py",
   "mimetype": "text/x-python",
   "name": "python",
   "nbconvert_exporter": "python",
   "pygments_lexer": "ipython3",
   "version": "3.11.12"
  }
 },
 "nbformat": 4,
 "nbformat_minor": 5
}
