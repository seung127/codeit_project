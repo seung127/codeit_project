{
 "cells": [
  {
   "cell_type": "markdown",
   "id": "cc3eccaf",
   "metadata": {},
   "source": [
    "## 세팅"
   ]
  },
  {
   "cell_type": "code",
   "execution_count": 205,
   "id": "0eac0d80-2c4d-46fc-b10c-091da2c7fdd6",
   "metadata": {},
   "outputs": [],
   "source": [
    "import pandas as pd\n",
    "import os\n",
    "import numpy as np\n",
    "import matplotlib.pyplot as plt\n",
    "import seaborn as sns\n",
    "import datetime as dt\n",
    "from datetime import timedelta\n",
    "import matplotlib.font_manager as fm\n",
    "import matplotlib as mpl\n",
    "import ast\n",
    "import json\n",
    "pd.set_option('display.max_rows', None)\n",
    "pd.set_option('display.max_columns', None)\n",
    "pd.set_option('display.width', None)\n",
    "pd.set_option('display.expand_frame_repr', False)\n"
   ]
  },
  {
   "cell_type": "code",
   "execution_count": 206,
   "id": "c040847f",
   "metadata": {},
   "outputs": [],
   "source": [
    "def read_parquet_from_gcs(file_names, gcs_prefix, key_path):\n",
    "    dfs = {}\n",
    "    for name in file_names:\n",
    "        path = f\"{gcs_prefix}/{name}.parquet\"\n",
    "        dfs[name] = pd.read_parquet(path, storage_options={\"token\": key_path})\n",
    "    return dfs\n",
    "\n",
    "\n",
    "file_list = [\n",
    "    \"accounts_attendance\",\n",
    "    \"accounts_blockrecord\",\n",
    "    \"accounts_failpaymenthistory\",\n",
    "    \"accounts_friendrequest\",\n",
    "    \"accounts_group\",\n",
    "    \"accounts_nearbyschool\",\n",
    "    \"accounts_paymenthistory\",\n",
    "    \"accounts_user_contacts\",\n",
    "    \"accounts_pointhistory\",\n",
    "    \"accounts_school\",\n",
    "    \"accounts_timelinereport\",\n",
    "    \"accounts_user\",\n",
    "    \"accounts_userquestionrecord\",\n",
    "    \"accounts_userwithdraw\",\n",
    "    \"event_receipts\",\n",
    "    \"events\",\n",
    "    \"polls_question\",\n",
    "    \"polls_questionpiece\",\n",
    "    \"polls_questionreport\",\n",
    "    \"polls_questionset\",\n",
    "    \"polls_usercandidate\"\n",
    "]\n",
    "\n",
    "gcs_prefix = \"gs://codeit-project/votes\"\n",
    "key_path = \"./config/key.json\"\n",
    "\n",
    "dfs = read_parquet_from_gcs(file_list, gcs_prefix, key_path)\n",
    "\n",
    "# 출석 테이블\n",
    "accounts_attendance = dfs[\"accounts_attendance\"]\n",
    "\n",
    "# 차단 기록 테이블\n",
    "accounts_blockrecord = dfs[\"accounts_blockrecord\"]\n",
    "\n",
    "# 상품 구매 실패 기록 테이블\n",
    "accounts_failpaymenthistory = dfs[\"accounts_failpaymenthistory\"]\n",
    "\n",
    "# 친구 요청 테이블\n",
    "accounts_friendrequest = dfs[\"accounts_friendrequest\"]\n",
    "\n",
    "# 그룹 테이블\n",
    "accounts_group = dfs[\"accounts_group\"]\n",
    "\n",
    "# 근처 학교 테이블\n",
    "accounts_nearbyschool = dfs[\"accounts_nearbyschool\"]\n",
    "\n",
    "# 결제 기록 테이블\n",
    "accounts_paymenthistory = dfs[\"accounts_paymenthistory\"]\n",
    "\n",
    "# 사용자 연락처 테이블\n",
    "accounts_user_contacts = dfs[\"accounts_user_contacts\"]\n",
    "\n",
    "# 포인트 내역 테이블\n",
    "accounts_pointhistory = dfs[\"accounts_pointhistory\"]\n",
    "\n",
    "# 학교 정보 테이블\n",
    "accounts_school = dfs[\"accounts_school\"]\n",
    "\n",
    "# 타임라인 신고 기록 테이블\n",
    "accounts_timelinereport = dfs[\"accounts_timelinereport\"]\n",
    "\n",
    "# 사용자 기본 정보 테이블\n",
    "accounts_user = dfs[\"accounts_user\"]\n",
    "\n",
    "# 사용자 질문 응답 기록 테이블\n",
    "accounts_userquestionrecord = dfs[\"accounts_userquestionrecord\"]\n",
    "\n",
    "# 회원 탈퇴 기록 테이블\n",
    "accounts_userwithdraw = dfs[\"accounts_userwithdraw\"]\n",
    "\n",
    "# 이벤트 영수증 테이블\n",
    "event_receipts = dfs[\"event_receipts\"]\n",
    "\n",
    "# 이벤트 테이블\n",
    "events = dfs[\"events\"]\n",
    "\n",
    "# 질문 테이블\n",
    "polls_question = dfs[\"polls_question\"]\n",
    "\n",
    "# 질문 조각 테이블\n",
    "polls_questionpiece = dfs[\"polls_questionpiece\"]\n",
    "\n",
    "# 질문 신고 테이블\n",
    "polls_questionreport = dfs[\"polls_questionreport\"]\n",
    "\n",
    "# 질문 세트 테이블\n",
    "polls_questionset = dfs[\"polls_questionset\"]\n",
    "\n",
    "# 사용자 후보 응답 테이블\n",
    "polls_usercandidate = dfs[\"polls_usercandidate\"]"
   ]
  },
  {
   "cell_type": "markdown",
   "id": "b6baff55",
   "metadata": {},
   "source": [
    "### 차단기록"
   ]
  },
  {
   "cell_type": "code",
   "execution_count": 207,
   "id": "005cbf56-1e23-4988-bb54-48dfb2581519",
   "metadata": {},
   "outputs": [
    {
     "data": {
      "text/html": [
       "<div>\n",
       "<style scoped>\n",
       "    .dataframe tbody tr th:only-of-type {\n",
       "        vertical-align: middle;\n",
       "    }\n",
       "\n",
       "    .dataframe tbody tr th {\n",
       "        vertical-align: top;\n",
       "    }\n",
       "\n",
       "    .dataframe thead th {\n",
       "        text-align: right;\n",
       "    }\n",
       "</style>\n",
       "<table border=\"1\" class=\"dataframe\">\n",
       "  <thead>\n",
       "    <tr style=\"text-align: right;\">\n",
       "      <th></th>\n",
       "      <th>id</th>\n",
       "      <th>reason</th>\n",
       "      <th>created_at</th>\n",
       "      <th>block_user_id</th>\n",
       "      <th>user_id</th>\n",
       "    </tr>\n",
       "  </thead>\n",
       "  <tbody>\n",
       "    <tr>\n",
       "      <th>0</th>\n",
       "      <td>1</td>\n",
       "      <td>그냥...</td>\n",
       "      <td>2023-05-04 23:01:53</td>\n",
       "      <td>867483</td>\n",
       "      <td>878476</td>\n",
       "    </tr>\n",
       "    <tr>\n",
       "      <th>1</th>\n",
       "      <td>2</td>\n",
       "      <td>친구 사이가 어색해짐</td>\n",
       "      <td>2023-05-05 01:17:08</td>\n",
       "      <td>867190</td>\n",
       "      <td>867564</td>\n",
       "    </tr>\n",
       "    <tr>\n",
       "      <th>2</th>\n",
       "      <td>3</td>\n",
       "      <td>나랑 관련 없는 질문을 자꾸 보냄</td>\n",
       "      <td>2023-05-05 01:50:55</td>\n",
       "      <td>875110</td>\n",
       "      <td>875261</td>\n",
       "    </tr>\n",
       "    <tr>\n",
       "      <th>3</th>\n",
       "      <td>6</td>\n",
       "      <td>그냥...</td>\n",
       "      <td>2023-05-05 05:21:52</td>\n",
       "      <td>883696</td>\n",
       "      <td>883511</td>\n",
       "    </tr>\n",
       "    <tr>\n",
       "      <th>4</th>\n",
       "      <td>7</td>\n",
       "      <td>그냥...</td>\n",
       "      <td>2023-05-05 06:40:34</td>\n",
       "      <td>871349</td>\n",
       "      <td>870177</td>\n",
       "    </tr>\n",
       "  </tbody>\n",
       "</table>\n",
       "</div>"
      ],
      "text/plain": [
       "   id              reason          created_at  block_user_id  user_id\n",
       "0   1               그냥... 2023-05-04 23:01:53         867483   878476\n",
       "1   2         친구 사이가 어색해짐 2023-05-05 01:17:08         867190   867564\n",
       "2   3  나랑 관련 없는 질문을 자꾸 보냄 2023-05-05 01:50:55         875110   875261\n",
       "3   6               그냥... 2023-05-05 05:21:52         883696   883511\n",
       "4   7               그냥... 2023-05-05 06:40:34         871349   870177"
      ]
     },
     "execution_count": 207,
     "metadata": {},
     "output_type": "execute_result"
    }
   ],
   "source": [
    "# 확인\n",
    "accounts_blockrecord.head()"
   ]
  },
  {
   "cell_type": "code",
   "execution_count": 208,
   "id": "05630590-ea26-4915-8c3e-bcc5dc299774",
   "metadata": {},
   "outputs": [
    {
     "name": "stdout",
     "output_type": "stream",
     "text": [
      "<class 'pandas.core.frame.DataFrame'>\n",
      "RangeIndex: 19482 entries, 0 to 19481\n",
      "Data columns (total 5 columns):\n",
      " #   Column         Non-Null Count  Dtype         \n",
      "---  ------         --------------  -----         \n",
      " 0   id             19482 non-null  int64         \n",
      " 1   reason         19482 non-null  object        \n",
      " 2   created_at     19482 non-null  datetime64[ns]\n",
      " 3   block_user_id  19482 non-null  int64         \n",
      " 4   user_id        19482 non-null  int64         \n",
      "dtypes: datetime64[ns](1), int64(3), object(1)\n",
      "memory usage: 761.1+ KB\n"
     ]
    },
    {
     "data": {
      "text/plain": [
       "None"
      ]
     },
     "metadata": {},
     "output_type": "display_data"
    },
    {
     "name": "stdout",
     "output_type": "stream",
     "text": [
      "--------\n"
     ]
    },
    {
     "data": {
      "text/plain": [
       "Timestamp('2023-05-04 23:01:53')"
      ]
     },
     "metadata": {},
     "output_type": "display_data"
    },
    {
     "name": "stdout",
     "output_type": "stream",
     "text": [
      "--------\n"
     ]
    },
    {
     "data": {
      "text/plain": [
       "Timestamp('2024-05-06 13:03:37')"
      ]
     },
     "metadata": {},
     "output_type": "display_data"
    },
    {
     "name": "stdout",
     "output_type": "stream",
     "text": [
      "--------\n"
     ]
    },
    {
     "data": {
      "text/plain": [
       "7"
      ]
     },
     "metadata": {},
     "output_type": "display_data"
    },
    {
     "name": "stdout",
     "output_type": "stream",
     "text": [
      "--------\n"
     ]
    },
    {
     "data": {
      "text/plain": [
       "reason\n",
       "모르는 사람임               9640\n",
       "친구 사이가 어색해짐           5805\n",
       "사칭 계정                 2022\n",
       "나랑 관련 없는 질문을 자꾸 보냄    1083\n",
       "너무 많은 양의 질문을 보냄        919\n",
       "기타                       7\n",
       "그냥...                    6\n",
       "Name: count, dtype: int64"
      ]
     },
     "metadata": {},
     "output_type": "display_data"
    },
    {
     "name": "stdout",
     "output_type": "stream",
     "text": [
      "--------\n"
     ]
    },
    {
     "data": {
      "text/plain": [
       "12552"
      ]
     },
     "metadata": {},
     "output_type": "display_data"
    },
    {
     "name": "stdout",
     "output_type": "stream",
     "text": [
      "--------\n"
     ]
    },
    {
     "data": {
      "text/plain": [
       "16240"
      ]
     },
     "metadata": {},
     "output_type": "display_data"
    }
   ],
   "source": [
    "display(accounts_blockrecord.info())\n",
    "print('--------')\n",
    "display(accounts_blockrecord.created_at.min())\n",
    "print('--------')\n",
    "display(accounts_blockrecord.created_at.max())\n",
    "print('--------')\n",
    "display(accounts_blockrecord.reason.nunique())\n",
    "print('--------')\n",
    "display(accounts_blockrecord.reason.value_counts())\n",
    "print('--------')\n",
    "display(accounts_blockrecord.user_id.nunique())\n",
    "print('--------')\n",
    "display(accounts_blockrecord.block_user_id.nunique())\n"
   ]
  },
  {
   "cell_type": "markdown",
   "id": "c614d7eb",
   "metadata": {},
   "source": [
    "### 신고기록"
   ]
  },
  {
   "cell_type": "code",
   "execution_count": 209,
   "id": "0eb25a2f",
   "metadata": {},
   "outputs": [
    {
     "data": {
      "text/html": [
       "<div>\n",
       "<style scoped>\n",
       "    .dataframe tbody tr th:only-of-type {\n",
       "        vertical-align: middle;\n",
       "    }\n",
       "\n",
       "    .dataframe tbody tr th {\n",
       "        vertical-align: top;\n",
       "    }\n",
       "\n",
       "    .dataframe thead th {\n",
       "        text-align: right;\n",
       "    }\n",
       "</style>\n",
       "<table border=\"1\" class=\"dataframe\">\n",
       "  <thead>\n",
       "    <tr style=\"text-align: right;\">\n",
       "      <th></th>\n",
       "      <th>id</th>\n",
       "      <th>reason</th>\n",
       "      <th>created_at</th>\n",
       "      <th>reported_user_id</th>\n",
       "      <th>user_id</th>\n",
       "      <th>user_question_record_id</th>\n",
       "    </tr>\n",
       "  </thead>\n",
       "  <tbody>\n",
       "    <tr>\n",
       "      <th>0</th>\n",
       "      <td>28</td>\n",
       "      <td>타인을 사칭함</td>\n",
       "      <td>2023-05-06 04:44:57</td>\n",
       "      <td>874587</td>\n",
       "      <td>885082</td>\n",
       "      <td>3920588</td>\n",
       "    </tr>\n",
       "    <tr>\n",
       "      <th>1</th>\n",
       "      <td>37</td>\n",
       "      <td>친구를 비하하거나 조롱하는 어투</td>\n",
       "      <td>2023-05-06 05:41:19</td>\n",
       "      <td>881048</td>\n",
       "      <td>881298</td>\n",
       "      <td>4018679</td>\n",
       "    </tr>\n",
       "    <tr>\n",
       "      <th>2</th>\n",
       "      <td>46</td>\n",
       "      <td>친구를 비하하거나 조롱하는 어투</td>\n",
       "      <td>2023-05-06 06:26:59</td>\n",
       "      <td>887882</td>\n",
       "      <td>881945</td>\n",
       "      <td>4120914</td>\n",
       "    </tr>\n",
       "    <tr>\n",
       "      <th>3</th>\n",
       "      <td>64</td>\n",
       "      <td>허위 사실 언급</td>\n",
       "      <td>2023-05-06 07:07:46</td>\n",
       "      <td>888610</td>\n",
       "      <td>893684</td>\n",
       "      <td>4143049</td>\n",
       "    </tr>\n",
       "    <tr>\n",
       "      <th>4</th>\n",
       "      <td>65</td>\n",
       "      <td>허위 사실 언급</td>\n",
       "      <td>2023-05-06 07:07:52</td>\n",
       "      <td>888610</td>\n",
       "      <td>893684</td>\n",
       "      <td>4143049</td>\n",
       "    </tr>\n",
       "  </tbody>\n",
       "</table>\n",
       "</div>"
      ],
      "text/plain": [
       "   id             reason          created_at  reported_user_id  user_id  user_question_record_id\n",
       "0  28            타인을 사칭함 2023-05-06 04:44:57            874587   885082                  3920588\n",
       "1  37  친구를 비하하거나 조롱하는 어투 2023-05-06 05:41:19            881048   881298                  4018679\n",
       "2  46  친구를 비하하거나 조롱하는 어투 2023-05-06 06:26:59            887882   881945                  4120914\n",
       "3  64           허위 사실 언급 2023-05-06 07:07:46            888610   893684                  4143049\n",
       "4  65           허위 사실 언급 2023-05-06 07:07:52            888610   893684                  4143049"
      ]
     },
     "execution_count": 209,
     "metadata": {},
     "output_type": "execute_result"
    }
   ],
   "source": [
    "accounts_timelinereport.head()"
   ]
  },
  {
   "cell_type": "code",
   "execution_count": 210,
   "id": "72f6685a",
   "metadata": {},
   "outputs": [
    {
     "name": "stdout",
     "output_type": "stream",
     "text": [
      "<class 'pandas.core.frame.DataFrame'>\n",
      "RangeIndex: 208 entries, 0 to 207\n",
      "Data columns (total 6 columns):\n",
      " #   Column                   Non-Null Count  Dtype         \n",
      "---  ------                   --------------  -----         \n",
      " 0   id                       208 non-null    int64         \n",
      " 1   reason                   208 non-null    object        \n",
      " 2   created_at               208 non-null    datetime64[ns]\n",
      " 3   reported_user_id         208 non-null    int64         \n",
      " 4   user_id                  208 non-null    int64         \n",
      " 5   user_question_record_id  208 non-null    int64         \n",
      "dtypes: datetime64[ns](1), int64(4), object(1)\n",
      "memory usage: 9.9+ KB\n"
     ]
    },
    {
     "data": {
      "text/plain": [
       "None"
      ]
     },
     "metadata": {},
     "output_type": "display_data"
    },
    {
     "name": "stdout",
     "output_type": "stream",
     "text": [
      "-----\n"
     ]
    },
    {
     "data": {
      "text/plain": [
       "Timestamp('2023-05-06 04:44:57')"
      ]
     },
     "metadata": {},
     "output_type": "display_data"
    },
    {
     "name": "stdout",
     "output_type": "stream",
     "text": [
      "-----\n"
     ]
    },
    {
     "data": {
      "text/plain": [
       "Timestamp('2023-06-02 08:30:06')"
      ]
     },
     "metadata": {},
     "output_type": "display_data"
    },
    {
     "name": "stdout",
     "output_type": "stream",
     "text": [
      "-----\n"
     ]
    },
    {
     "data": {
      "text/plain": [
       "5"
      ]
     },
     "metadata": {},
     "output_type": "display_data"
    },
    {
     "name": "stdout",
     "output_type": "stream",
     "text": [
      "-----\n"
     ]
    },
    {
     "data": {
      "text/plain": [
       "array(['타인을 사칭함', '친구를 비하하거나 조롱하는 어투', '허위 사실 언급', '선정적이거나 폭력적인 내용', '광고'],\n",
       "      dtype=object)"
      ]
     },
     "metadata": {},
     "output_type": "display_data"
    },
    {
     "name": "stdout",
     "output_type": "stream",
     "text": [
      "-----\n"
     ]
    },
    {
     "data": {
      "text/plain": [
       "reason\n",
       "허위 사실 언급             80\n",
       "친구를 비하하거나 조롱하는 어투    64\n",
       "선정적이거나 폭력적인 내용       39\n",
       "타인을 사칭함              15\n",
       "광고                   10\n",
       "Name: count, dtype: int64"
      ]
     },
     "metadata": {},
     "output_type": "display_data"
    },
    {
     "name": "stdout",
     "output_type": "stream",
     "text": [
      "-----\n"
     ]
    },
    {
     "data": {
      "text/plain": [
       "115"
      ]
     },
     "metadata": {},
     "output_type": "display_data"
    },
    {
     "name": "stdout",
     "output_type": "stream",
     "text": [
      "-----\n"
     ]
    },
    {
     "data": {
      "text/plain": [
       "125"
      ]
     },
     "metadata": {},
     "output_type": "display_data"
    },
    {
     "name": "stdout",
     "output_type": "stream",
     "text": [
      "-----\n"
     ]
    },
    {
     "data": {
      "text/plain": [
       "163"
      ]
     },
     "metadata": {},
     "output_type": "display_data"
    }
   ],
   "source": [
    "display(accounts_timelinereport.info())\n",
    "print('-----')\n",
    "display(accounts_timelinereport.created_at.min())\n",
    "print('-----')\n",
    "display(accounts_timelinereport.created_at.max())\n",
    "print('-----')\n",
    "display(accounts_timelinereport.reason.nunique())\n",
    "print('-----')\n",
    "display(accounts_timelinereport.reason.unique())\n",
    "print('-----')\n",
    "display(accounts_timelinereport.reason.value_counts())\n",
    "print('-----')\n",
    "display(accounts_timelinereport.user_id.nunique())\n",
    "print('-----')\n",
    "display(accounts_timelinereport.reported_user_id.nunique())\n",
    "print('-----')\n",
    "display(accounts_timelinereport.user_question_record_id.nunique())\n",
    "\n"
   ]
  },
  {
   "cell_type": "markdown",
   "id": "00d6d42a",
   "metadata": {},
   "source": [
    "### 유저기록"
   ]
  },
  {
   "cell_type": "code",
   "execution_count": 211,
   "id": "d2334f23",
   "metadata": {},
   "outputs": [
    {
     "data": {
      "text/html": [
       "<div>\n",
       "<style scoped>\n",
       "    .dataframe tbody tr th:only-of-type {\n",
       "        vertical-align: middle;\n",
       "    }\n",
       "\n",
       "    .dataframe tbody tr th {\n",
       "        vertical-align: top;\n",
       "    }\n",
       "\n",
       "    .dataframe thead th {\n",
       "        text-align: right;\n",
       "    }\n",
       "</style>\n",
       "<table border=\"1\" class=\"dataframe\">\n",
       "  <thead>\n",
       "    <tr style=\"text-align: right;\">\n",
       "      <th></th>\n",
       "      <th>id</th>\n",
       "      <th>is_superuser</th>\n",
       "      <th>is_staff</th>\n",
       "      <th>gender</th>\n",
       "      <th>point</th>\n",
       "      <th>friend_id_list</th>\n",
       "      <th>is_push_on</th>\n",
       "      <th>created_at</th>\n",
       "      <th>block_user_id_list</th>\n",
       "      <th>hide_user_id_list</th>\n",
       "      <th>ban_status</th>\n",
       "      <th>report_count</th>\n",
       "      <th>alarm_count</th>\n",
       "      <th>pending_chat</th>\n",
       "      <th>pending_votes</th>\n",
       "      <th>group_id</th>\n",
       "    </tr>\n",
       "  </thead>\n",
       "  <tbody>\n",
       "    <tr>\n",
       "      <th>0</th>\n",
       "      <td>831956</td>\n",
       "      <td>1</td>\n",
       "      <td>1</td>\n",
       "      <td>None</td>\n",
       "      <td>600</td>\n",
       "      <td>[1292473, 913158, 1488461, 1064695, 1043565, 1...</td>\n",
       "      <td>0</td>\n",
       "      <td>2023-03-29 03:44:14.047130</td>\n",
       "      <td>[]</td>\n",
       "      <td>[]</td>\n",
       "      <td>N</td>\n",
       "      <td>0</td>\n",
       "      <td>0</td>\n",
       "      <td>0</td>\n",
       "      <td>0</td>\n",
       "      <td>NaN</td>\n",
       "    </tr>\n",
       "    <tr>\n",
       "      <th>1</th>\n",
       "      <td>831962</td>\n",
       "      <td>0</td>\n",
       "      <td>0</td>\n",
       "      <td>F</td>\n",
       "      <td>2248</td>\n",
       "      <td>[833025, 832642, 982531, 879496, 838541, 83752...</td>\n",
       "      <td>1</td>\n",
       "      <td>2023-03-29 05:18:56.162368</td>\n",
       "      <td>[]</td>\n",
       "      <td>[]</td>\n",
       "      <td>N</td>\n",
       "      <td>253</td>\n",
       "      <td>40878</td>\n",
       "      <td>5499</td>\n",
       "      <td>110</td>\n",
       "      <td>12.0</td>\n",
       "    </tr>\n",
       "    <tr>\n",
       "      <th>2</th>\n",
       "      <td>832151</td>\n",
       "      <td>0</td>\n",
       "      <td>0</td>\n",
       "      <td>M</td>\n",
       "      <td>1519</td>\n",
       "      <td>[838785, 982531, 882567, 879496, 838541, 83649...</td>\n",
       "      <td>0</td>\n",
       "      <td>2023-03-29 12:56:34.989468</td>\n",
       "      <td>[]</td>\n",
       "      <td>[]</td>\n",
       "      <td>N</td>\n",
       "      <td>0</td>\n",
       "      <td>37</td>\n",
       "      <td>0</td>\n",
       "      <td>47</td>\n",
       "      <td>1.0</td>\n",
       "    </tr>\n",
       "    <tr>\n",
       "      <th>3</th>\n",
       "      <td>832340</td>\n",
       "      <td>0</td>\n",
       "      <td>0</td>\n",
       "      <td>F</td>\n",
       "      <td>57</td>\n",
       "      <td>[841345, 982531, 838785, 963714, 882567, 83252...</td>\n",
       "      <td>1</td>\n",
       "      <td>2023-03-29 12:56:35.020790</td>\n",
       "      <td>[]</td>\n",
       "      <td>[]</td>\n",
       "      <td>N</td>\n",
       "      <td>0</td>\n",
       "      <td>19</td>\n",
       "      <td>0</td>\n",
       "      <td>21</td>\n",
       "      <td>1.0</td>\n",
       "    </tr>\n",
       "    <tr>\n",
       "      <th>4</th>\n",
       "      <td>832520</td>\n",
       "      <td>0</td>\n",
       "      <td>0</td>\n",
       "      <td>M</td>\n",
       "      <td>1039</td>\n",
       "      <td>[874050, 849763, 874212, 844297, 838541, 84004...</td>\n",
       "      <td>0</td>\n",
       "      <td>2023-03-29 12:56:35.049311</td>\n",
       "      <td>[]</td>\n",
       "      <td>[]</td>\n",
       "      <td>N</td>\n",
       "      <td>0</td>\n",
       "      <td>29</td>\n",
       "      <td>0</td>\n",
       "      <td>15</td>\n",
       "      <td>12.0</td>\n",
       "    </tr>\n",
       "  </tbody>\n",
       "</table>\n",
       "</div>"
      ],
      "text/plain": [
       "       id  is_superuser  is_staff gender  point                                     friend_id_list  is_push_on                 created_at block_user_id_list hide_user_id_list ban_status  report_count  alarm_count  pending_chat  pending_votes  group_id\n",
       "0  831956             1         1   None    600  [1292473, 913158, 1488461, 1064695, 1043565, 1...           0 2023-03-29 03:44:14.047130                 []                []          N             0            0             0              0       NaN\n",
       "1  831962             0         0      F   2248  [833025, 832642, 982531, 879496, 838541, 83752...           1 2023-03-29 05:18:56.162368                 []                []          N           253        40878          5499            110      12.0\n",
       "2  832151             0         0      M   1519  [838785, 982531, 882567, 879496, 838541, 83649...           0 2023-03-29 12:56:34.989468                 []                []          N             0           37             0             47       1.0\n",
       "3  832340             0         0      F     57  [841345, 982531, 838785, 963714, 882567, 83252...           1 2023-03-29 12:56:35.020790                 []                []          N             0           19             0             21       1.0\n",
       "4  832520             0         0      M   1039  [874050, 849763, 874212, 844297, 838541, 84004...           0 2023-03-29 12:56:35.049311                 []                []          N             0           29             0             15      12.0"
      ]
     },
     "execution_count": 211,
     "metadata": {},
     "output_type": "execute_result"
    }
   ],
   "source": [
    "accounts_user.head()"
   ]
  },
  {
   "cell_type": "code",
   "execution_count": 212,
   "id": "2ff70cb1",
   "metadata": {},
   "outputs": [
    {
     "name": "stdout",
     "output_type": "stream",
     "text": [
      "<class 'pandas.core.frame.DataFrame'>\n",
      "RangeIndex: 677085 entries, 0 to 677084\n",
      "Data columns (total 16 columns):\n",
      " #   Column              Non-Null Count   Dtype         \n",
      "---  ------              --------------   -----         \n",
      " 0   id                  677085 non-null  int64         \n",
      " 1   is_superuser        677085 non-null  int64         \n",
      " 2   is_staff            677085 non-null  int64         \n",
      " 3   gender              677083 non-null  object        \n",
      " 4   point               677085 non-null  int64         \n",
      " 5   friend_id_list      677085 non-null  object        \n",
      " 6   is_push_on          677085 non-null  int64         \n",
      " 7   created_at          677085 non-null  datetime64[ns]\n",
      " 8   block_user_id_list  677085 non-null  object        \n",
      " 9   hide_user_id_list   677085 non-null  object        \n",
      " 10  ban_status          677085 non-null  object        \n",
      " 11  report_count        677085 non-null  int64         \n",
      " 12  alarm_count         677085 non-null  int64         \n",
      " 13  pending_chat        677085 non-null  int64         \n",
      " 14  pending_votes       677085 non-null  int64         \n",
      " 15  group_id            677082 non-null  float64       \n",
      "dtypes: datetime64[ns](1), float64(1), int64(9), object(5)\n",
      "memory usage: 82.7+ MB\n"
     ]
    },
    {
     "data": {
      "text/plain": [
       "None"
      ]
     },
     "metadata": {},
     "output_type": "display_data"
    },
    {
     "name": "stdout",
     "output_type": "stream",
     "text": [
      "-----\n"
     ]
    },
    {
     "data": {
      "text/plain": [
       "Timestamp('2023-03-29 03:44:14.047130')"
      ]
     },
     "metadata": {},
     "output_type": "display_data"
    },
    {
     "name": "stdout",
     "output_type": "stream",
     "text": [
      "-----\n"
     ]
    },
    {
     "data": {
      "text/plain": [
       "Timestamp('2024-05-09 08:31:17.710824')"
      ]
     },
     "metadata": {},
     "output_type": "display_data"
    },
    {
     "name": "stdout",
     "output_type": "stream",
     "text": [
      "-----\n"
     ]
    },
    {
     "data": {
      "text/plain": [
       "677085"
      ]
     },
     "metadata": {},
     "output_type": "display_data"
    }
   ],
   "source": [
    "display(accounts_user.info())\n",
    "print('-----')\n",
    "display(accounts_user.created_at.min())\n",
    "print('-----')\n",
    "display(accounts_user.created_at.max())\n",
    "# print('-----')\n",
    "# display(accounts_user.reason.nunique())\n",
    "# print('-----')\n",
    "# display(accounts_user.reason.unique())\n",
    "# print('-----')\n",
    "# display(accounts_user.reason.value_counts())\n",
    "print('-----')\n",
    "display(accounts_user.id.nunique())\n",
    "# print('-----')\n",
    "# display(accounts_user.reported_user_id.nunique())\n",
    "# print('-----')\n",
    "# display(accounts_user.user_question_record_id.nunique())\n",
    "\n"
   ]
  },
  {
   "cell_type": "code",
   "execution_count": 213,
   "id": "34678043",
   "metadata": {},
   "outputs": [
    {
     "data": {
      "text/plain": [
       "is_superuser\n",
       "0    677083\n",
       "1         2\n",
       "Name: count, dtype: int64"
      ]
     },
     "execution_count": 213,
     "metadata": {},
     "output_type": "execute_result"
    }
   ],
   "source": [
    "accounts_user['is_superuser'].value_counts()"
   ]
  },
  {
   "cell_type": "code",
   "execution_count": 214,
   "id": "8cbd1686",
   "metadata": {},
   "outputs": [
    {
     "data": {
      "text/plain": [
       "80912"
      ]
     },
     "execution_count": 214,
     "metadata": {},
     "output_type": "execute_result"
    }
   ],
   "source": [
    "accounts_user['group_id'].nunique()"
   ]
  },
  {
   "cell_type": "markdown",
   "id": "bdd894df",
   "metadata": {},
   "source": [
    "### 질문"
   ]
  },
  {
   "cell_type": "code",
   "execution_count": 215,
   "id": "68a8b649",
   "metadata": {},
   "outputs": [
    {
     "data": {
      "text/html": [
       "<div>\n",
       "<style scoped>\n",
       "    .dataframe tbody tr th:only-of-type {\n",
       "        vertical-align: middle;\n",
       "    }\n",
       "\n",
       "    .dataframe tbody tr th {\n",
       "        vertical-align: top;\n",
       "    }\n",
       "\n",
       "    .dataframe thead th {\n",
       "        text-align: right;\n",
       "    }\n",
       "</style>\n",
       "<table border=\"1\" class=\"dataframe\">\n",
       "  <thead>\n",
       "    <tr style=\"text-align: right;\">\n",
       "      <th></th>\n",
       "      <th>id</th>\n",
       "      <th>question_text</th>\n",
       "      <th>created_at</th>\n",
       "    </tr>\n",
       "  </thead>\n",
       "  <tbody>\n",
       "    <tr>\n",
       "      <th>0</th>\n",
       "      <td>99</td>\n",
       "      <td>가장 신비한 매력이 있는 사람은?</td>\n",
       "      <td>2023-03-31 15:22:53</td>\n",
       "    </tr>\n",
       "    <tr>\n",
       "      <th>1</th>\n",
       "      <td>100</td>\n",
       "      <td>\"이 사람으로 한 번 살아보고 싶다\" 하는 사람은?</td>\n",
       "      <td>2023-03-31 15:22:53</td>\n",
       "    </tr>\n",
       "    <tr>\n",
       "      <th>2</th>\n",
       "      <td>101</td>\n",
       "      <td>미래의 틱톡커는?</td>\n",
       "      <td>2023-03-31 15:22:54</td>\n",
       "    </tr>\n",
       "    <tr>\n",
       "      <th>3</th>\n",
       "      <td>102</td>\n",
       "      <td>여기서 제일 특이한 친구는?</td>\n",
       "      <td>2023-03-31 15:22:54</td>\n",
       "    </tr>\n",
       "    <tr>\n",
       "      <th>4</th>\n",
       "      <td>103</td>\n",
       "      <td>가장 지켜주고 싶은 사람은?</td>\n",
       "      <td>2023-03-31 15:22:55</td>\n",
       "    </tr>\n",
       "  </tbody>\n",
       "</table>\n",
       "</div>"
      ],
      "text/plain": [
       "    id                 question_text          created_at\n",
       "0   99            가장 신비한 매력이 있는 사람은? 2023-03-31 15:22:53\n",
       "1  100  \"이 사람으로 한 번 살아보고 싶다\" 하는 사람은? 2023-03-31 15:22:53\n",
       "2  101                     미래의 틱톡커는? 2023-03-31 15:22:54\n",
       "3  102               여기서 제일 특이한 친구는? 2023-03-31 15:22:54\n",
       "4  103               가장 지켜주고 싶은 사람은? 2023-03-31 15:22:55"
      ]
     },
     "execution_count": 215,
     "metadata": {},
     "output_type": "execute_result"
    }
   ],
   "source": [
    "polls_question.head()"
   ]
  },
  {
   "cell_type": "code",
   "execution_count": 216,
   "id": "dd6f46aa",
   "metadata": {},
   "outputs": [
    {
     "name": "stdout",
     "output_type": "stream",
     "text": [
      "<class 'pandas.core.frame.DataFrame'>\n",
      "RangeIndex: 5025 entries, 0 to 5024\n",
      "Data columns (total 3 columns):\n",
      " #   Column         Non-Null Count  Dtype         \n",
      "---  ------         --------------  -----         \n",
      " 0   id             5025 non-null   int64         \n",
      " 1   question_text  5025 non-null   object        \n",
      " 2   created_at     5025 non-null   datetime64[ns]\n",
      "dtypes: datetime64[ns](1), int64(1), object(1)\n",
      "memory usage: 117.9+ KB\n"
     ]
    },
    {
     "data": {
      "text/plain": [
       "None"
      ]
     },
     "metadata": {},
     "output_type": "display_data"
    },
    {
     "name": "stdout",
     "output_type": "stream",
     "text": [
      "-----\n"
     ]
    },
    {
     "data": {
      "text/plain": [
       "Timestamp('2023-03-31 15:22:53')"
      ]
     },
     "metadata": {},
     "output_type": "display_data"
    },
    {
     "name": "stdout",
     "output_type": "stream",
     "text": [
      "-----\n"
     ]
    },
    {
     "data": {
      "text/plain": [
       "Timestamp('2023-06-06 06:15:52')"
      ]
     },
     "metadata": {},
     "output_type": "display_data"
    },
    {
     "name": "stdout",
     "output_type": "stream",
     "text": [
      "-----\n"
     ]
    },
    {
     "data": {
      "text/plain": [
       "3903"
      ]
     },
     "metadata": {},
     "output_type": "display_data"
    }
   ],
   "source": [
    "display(polls_question.info())\n",
    "print('-----')\n",
    "display(polls_question.created_at.min())\n",
    "print('-----')\n",
    "display(polls_question.created_at.max())\n",
    "print('-----')\n",
    "display(polls_question.question_text.nunique())"
   ]
  },
  {
   "cell_type": "code",
   "execution_count": 217,
   "id": "27fe8e78",
   "metadata": {},
   "outputs": [
    {
     "data": {
      "text/plain": [
       "array(['가장 신비한 매력이 있는 사람은?', '\"이 사람으로 한 번 살아보고 싶다\" 하는 사람은?', '미래의 틱톡커는?',\n",
       "       ..., '사달라는거 다 사줄 것 같은 사람은?',\n",
       "       '할머니,  할아버지가 돼도 이 친구만큼은 연락하고 지낼 것 같아!', '개학 하자마자 인사 될것 같은 사람'],\n",
       "      shape=(3903,), dtype=object)"
      ]
     },
     "metadata": {},
     "output_type": "display_data"
    }
   ],
   "source": [
    "display(polls_question.question_text.unique())"
   ]
  },
  {
   "cell_type": "code",
   "execution_count": 218,
   "id": "7f85135d",
   "metadata": {},
   "outputs": [
    {
     "data": {
      "text/html": [
       "<div>\n",
       "<style scoped>\n",
       "    .dataframe tbody tr th:only-of-type {\n",
       "        vertical-align: middle;\n",
       "    }\n",
       "\n",
       "    .dataframe tbody tr th {\n",
       "        vertical-align: top;\n",
       "    }\n",
       "\n",
       "    .dataframe thead th {\n",
       "        text-align: right;\n",
       "    }\n",
       "</style>\n",
       "<table border=\"1\" class=\"dataframe\">\n",
       "  <thead>\n",
       "    <tr style=\"text-align: right;\">\n",
       "      <th></th>\n",
       "      <th>id</th>\n",
       "      <th>question_text</th>\n",
       "      <th>created_at</th>\n",
       "    </tr>\n",
       "  </thead>\n",
       "  <tbody>\n",
       "    <tr>\n",
       "      <th>0</th>\n",
       "      <td>99</td>\n",
       "      <td>가장 신비한 매력이 있는 사람은?</td>\n",
       "      <td>2023-03-31 15:22:53</td>\n",
       "    </tr>\n",
       "    <tr>\n",
       "      <th>1</th>\n",
       "      <td>100</td>\n",
       "      <td>\"이 사람으로 한 번 살아보고 싶다\" 하는 사람은?</td>\n",
       "      <td>2023-03-31 15:22:53</td>\n",
       "    </tr>\n",
       "    <tr>\n",
       "      <th>2</th>\n",
       "      <td>101</td>\n",
       "      <td>미래의 틱톡커는?</td>\n",
       "      <td>2023-03-31 15:22:54</td>\n",
       "    </tr>\n",
       "    <tr>\n",
       "      <th>3</th>\n",
       "      <td>102</td>\n",
       "      <td>여기서 제일 특이한 친구는?</td>\n",
       "      <td>2023-03-31 15:22:54</td>\n",
       "    </tr>\n",
       "    <tr>\n",
       "      <th>4</th>\n",
       "      <td>103</td>\n",
       "      <td>가장 지켜주고 싶은 사람은?</td>\n",
       "      <td>2023-03-31 15:22:55</td>\n",
       "    </tr>\n",
       "    <tr>\n",
       "      <th>5</th>\n",
       "      <td>104</td>\n",
       "      <td>내 어깨를 내어줄 수 있는 사람은?</td>\n",
       "      <td>2023-03-31 15:22:56</td>\n",
       "    </tr>\n",
       "    <tr>\n",
       "      <th>6</th>\n",
       "      <td>105</td>\n",
       "      <td>볼 한 번 눌러보고 싶은 사람은?</td>\n",
       "      <td>2023-03-31 15:22:57</td>\n",
       "    </tr>\n",
       "    <tr>\n",
       "      <th>7</th>\n",
       "      <td>106</td>\n",
       "      <td>은근히 애교가 많을 것 같은 사람은?</td>\n",
       "      <td>2023-03-31 15:22:57</td>\n",
       "    </tr>\n",
       "    <tr>\n",
       "      <th>8</th>\n",
       "      <td>107</td>\n",
       "      <td>누가 봐도 좋아할 것 같은 호감인 사람은?</td>\n",
       "      <td>2023-03-31 15:22:57</td>\n",
       "    </tr>\n",
       "    <tr>\n",
       "      <th>9</th>\n",
       "      <td>108</td>\n",
       "      <td>가장 매력적인 사람은?</td>\n",
       "      <td>2023-03-31 15:22:58</td>\n",
       "    </tr>\n",
       "    <tr>\n",
       "      <th>10</th>\n",
       "      <td>109</td>\n",
       "      <td>와플을 좋아하는 친구는?</td>\n",
       "      <td>2023-03-31 15:22:58</td>\n",
       "    </tr>\n",
       "    <tr>\n",
       "      <th>11</th>\n",
       "      <td>110</td>\n",
       "      <td>내가 성별이 바뀐다면 만나고 싶은 사람은?</td>\n",
       "      <td>2023-03-31 15:22:58</td>\n",
       "    </tr>\n",
       "    <tr>\n",
       "      <th>12</th>\n",
       "      <td>111</td>\n",
       "      <td>마스크가 잘 어울리는 사람은?</td>\n",
       "      <td>2023-03-31 15:22:59</td>\n",
       "    </tr>\n",
       "    <tr>\n",
       "      <th>13</th>\n",
       "      <td>112</td>\n",
       "      <td>싸울 때 반드시 내 편에 두고 싶은 사람은?</td>\n",
       "      <td>2023-03-31 15:23:00</td>\n",
       "    </tr>\n",
       "    <tr>\n",
       "      <th>14</th>\n",
       "      <td>113</td>\n",
       "      <td>첫인상과 아예 반대라고 느낀 사람은?</td>\n",
       "      <td>2023-03-31 15:23:00</td>\n",
       "    </tr>\n",
       "    <tr>\n",
       "      <th>15</th>\n",
       "      <td>114</td>\n",
       "      <td>화나면 가장 무서울 것 같은 사람은?</td>\n",
       "      <td>2023-03-31 15:23:00</td>\n",
       "    </tr>\n",
       "    <tr>\n",
       "      <th>16</th>\n",
       "      <td>115</td>\n",
       "      <td>비율이 가장 좋은 사람은?</td>\n",
       "      <td>2023-03-31 15:23:00</td>\n",
       "    </tr>\n",
       "    <tr>\n",
       "      <th>17</th>\n",
       "      <td>116</td>\n",
       "      <td>대학가서 용될것 같은 사람은?</td>\n",
       "      <td>2023-03-31 15:23:01</td>\n",
       "    </tr>\n",
       "    <tr>\n",
       "      <th>18</th>\n",
       "      <td>117</td>\n",
       "      <td>조용한 매력이 있는 친구</td>\n",
       "      <td>2023-03-31 15:23:01</td>\n",
       "    </tr>\n",
       "    <tr>\n",
       "      <th>19</th>\n",
       "      <td>118</td>\n",
       "      <td>샤워 1시간 동안 할 것 같은 사람은?</td>\n",
       "      <td>2023-03-31 15:23:01</td>\n",
       "    </tr>\n",
       "  </tbody>\n",
       "</table>\n",
       "</div>"
      ],
      "text/plain": [
       "     id                 question_text          created_at\n",
       "0    99            가장 신비한 매력이 있는 사람은? 2023-03-31 15:22:53\n",
       "1   100  \"이 사람으로 한 번 살아보고 싶다\" 하는 사람은? 2023-03-31 15:22:53\n",
       "2   101                     미래의 틱톡커는? 2023-03-31 15:22:54\n",
       "3   102               여기서 제일 특이한 친구는? 2023-03-31 15:22:54\n",
       "4   103               가장 지켜주고 싶은 사람은? 2023-03-31 15:22:55\n",
       "5   104           내 어깨를 내어줄 수 있는 사람은? 2023-03-31 15:22:56\n",
       "6   105            볼 한 번 눌러보고 싶은 사람은? 2023-03-31 15:22:57\n",
       "7   106          은근히 애교가 많을 것 같은 사람은? 2023-03-31 15:22:57\n",
       "8   107       누가 봐도 좋아할 것 같은 호감인 사람은? 2023-03-31 15:22:57\n",
       "9   108                  가장 매력적인 사람은? 2023-03-31 15:22:58\n",
       "10  109                 와플을 좋아하는 친구는? 2023-03-31 15:22:58\n",
       "11  110       내가 성별이 바뀐다면 만나고 싶은 사람은? 2023-03-31 15:22:58\n",
       "12  111              마스크가 잘 어울리는 사람은? 2023-03-31 15:22:59\n",
       "13  112      싸울 때 반드시 내 편에 두고 싶은 사람은? 2023-03-31 15:23:00\n",
       "14  113          첫인상과 아예 반대라고 느낀 사람은? 2023-03-31 15:23:00\n",
       "15  114          화나면 가장 무서울 것 같은 사람은? 2023-03-31 15:23:00\n",
       "16  115                비율이 가장 좋은 사람은? 2023-03-31 15:23:00\n",
       "17  116              대학가서 용될것 같은 사람은? 2023-03-31 15:23:01\n",
       "18  117                 조용한 매력이 있는 친구 2023-03-31 15:23:01\n",
       "19  118         샤워 1시간 동안 할 것 같은 사람은? 2023-03-31 15:23:01"
      ]
     },
     "execution_count": 218,
     "metadata": {},
     "output_type": "execute_result"
    }
   ],
   "source": [
    "polls_question.head(20)"
   ]
  },
  {
   "cell_type": "markdown",
   "id": "9f998b18",
   "metadata": {},
   "source": [
    "### 학교 테이블"
   ]
  },
  {
   "cell_type": "code",
   "execution_count": 219,
   "id": "e50aa1c9",
   "metadata": {},
   "outputs": [
    {
     "data": {
      "text/html": [
       "<div>\n",
       "<style scoped>\n",
       "    .dataframe tbody tr th:only-of-type {\n",
       "        vertical-align: middle;\n",
       "    }\n",
       "\n",
       "    .dataframe tbody tr th {\n",
       "        vertical-align: top;\n",
       "    }\n",
       "\n",
       "    .dataframe thead th {\n",
       "        text-align: right;\n",
       "    }\n",
       "</style>\n",
       "<table border=\"1\" class=\"dataframe\">\n",
       "  <thead>\n",
       "    <tr style=\"text-align: right;\">\n",
       "      <th></th>\n",
       "      <th>id</th>\n",
       "      <th>address</th>\n",
       "      <th>student_count</th>\n",
       "      <th>school_type</th>\n",
       "    </tr>\n",
       "  </thead>\n",
       "  <tbody>\n",
       "    <tr>\n",
       "      <th>0</th>\n",
       "      <td>4</td>\n",
       "      <td>충청북도 충주시</td>\n",
       "      <td>239</td>\n",
       "      <td>H</td>\n",
       "    </tr>\n",
       "    <tr>\n",
       "      <th>1</th>\n",
       "      <td>5</td>\n",
       "      <td>충청북도 충주시</td>\n",
       "      <td>160</td>\n",
       "      <td>M</td>\n",
       "    </tr>\n",
       "    <tr>\n",
       "      <th>2</th>\n",
       "      <td>6</td>\n",
       "      <td>충청북도 충주시</td>\n",
       "      <td>200</td>\n",
       "      <td>H</td>\n",
       "    </tr>\n",
       "    <tr>\n",
       "      <th>3</th>\n",
       "      <td>7</td>\n",
       "      <td>충청북도 충주시</td>\n",
       "      <td>114</td>\n",
       "      <td>H</td>\n",
       "    </tr>\n",
       "    <tr>\n",
       "      <th>4</th>\n",
       "      <td>8</td>\n",
       "      <td>충청북도 충주시</td>\n",
       "      <td>139</td>\n",
       "      <td>M</td>\n",
       "    </tr>\n",
       "  </tbody>\n",
       "</table>\n",
       "</div>"
      ],
      "text/plain": [
       "   id   address  student_count school_type\n",
       "0   4  충청북도 충주시            239           H\n",
       "1   5  충청북도 충주시            160           M\n",
       "2   6  충청북도 충주시            200           H\n",
       "3   7  충청북도 충주시            114           H\n",
       "4   8  충청북도 충주시            139           M"
      ]
     },
     "execution_count": 219,
     "metadata": {},
     "output_type": "execute_result"
    }
   ],
   "source": [
    "accounts_school.head()"
   ]
  },
  {
   "cell_type": "code",
   "execution_count": 220,
   "id": "0278d1fe",
   "metadata": {},
   "outputs": [
    {
     "name": "stdout",
     "output_type": "stream",
     "text": [
      "<class 'pandas.core.frame.DataFrame'>\n",
      "RangeIndex: 5951 entries, 0 to 5950\n",
      "Data columns (total 4 columns):\n",
      " #   Column         Non-Null Count  Dtype \n",
      "---  ------         --------------  ----- \n",
      " 0   id             5951 non-null   int64 \n",
      " 1   address        5951 non-null   object\n",
      " 2   student_count  5951 non-null   int64 \n",
      " 3   school_type    5951 non-null   object\n",
      "dtypes: int64(2), object(2)\n",
      "memory usage: 186.1+ KB\n"
     ]
    },
    {
     "data": {
      "text/plain": [
       "None"
      ]
     },
     "metadata": {},
     "output_type": "display_data"
    },
    {
     "name": "stdout",
     "output_type": "stream",
     "text": [
      "-----\n"
     ]
    },
    {
     "data": {
      "text/plain": [
       "278"
      ]
     },
     "metadata": {},
     "output_type": "display_data"
    },
    {
     "name": "stdout",
     "output_type": "stream",
     "text": [
      "-----\n"
     ]
    },
    {
     "data": {
      "text/plain": [
       "school_type\n",
       "M    3290\n",
       "H    2661\n",
       "Name: count, dtype: int64"
      ]
     },
     "metadata": {},
     "output_type": "display_data"
    },
    {
     "name": "stdout",
     "output_type": "stream",
     "text": [
      "-----\n"
     ]
    },
    {
     "data": {
      "text/plain": [
       "np.int64(0)"
      ]
     },
     "metadata": {},
     "output_type": "display_data"
    },
    {
     "name": "stdout",
     "output_type": "stream",
     "text": [
      "-----\n"
     ]
    },
    {
     "data": {
      "text/plain": [
       "np.int64(578)"
      ]
     },
     "metadata": {},
     "output_type": "display_data"
    },
    {
     "name": "stdout",
     "output_type": "stream",
     "text": [
      "-----\n"
     ]
    },
    {
     "data": {
      "text/plain": [
       "np.float64(113.77297933120484)"
      ]
     },
     "metadata": {},
     "output_type": "display_data"
    }
   ],
   "source": [
    "display(accounts_school.info())\n",
    "print('-----')\n",
    "display(accounts_school.address.nunique())\n",
    "print('-----')\n",
    "display(accounts_school.school_type.value_counts())\n",
    "print('-----')\n",
    "display(accounts_school.student_count.min())\n",
    "print('-----')\n",
    "display(accounts_school.student_count.max())\n",
    "print('-----')\n",
    "display(accounts_school.student_count.mean())\n"
   ]
  },
  {
   "cell_type": "code",
   "execution_count": 221,
   "id": "397da1c2",
   "metadata": {},
   "outputs": [
    {
     "data": {
      "text/plain": [
       "address\n",
       "경기도 화성시           78\n",
       "경기도 부천시           60\n",
       "경상남도 김해시          58\n",
       "경기도 남양주시          58\n",
       "대구광역시 달서구         56\n",
       "서울특별시 노원구         54\n",
       "경기도 성남시 분당구       53\n",
       "서울특별시 송파구         52\n",
       "광주광역시 북구          52\n",
       "제주특별자치도 제주시       52\n",
       "경상북도 구미시          50\n",
       "대전광역시 서구          50\n",
       "충청남도 세종특별자치시      49\n",
       "경기도 평택시           49\n",
       "서울특별시 강남구         49\n",
       "경기도 파주시           48\n",
       "인천광역시 서구          47\n",
       "서울특별시 강서구         47\n",
       "전라북도 익산시          46\n",
       "경상남도 진주시          45\n",
       "광주광역시 광산구         45\n",
       "인천광역시 부평구         45\n",
       "전라북도 전주시 완산구      42\n",
       "경상북도 포항시 북구       42\n",
       "대구광역시 북구          42\n",
       "경기도 시흥시           42\n",
       "전라남도 여수시          41\n",
       "인천광역시 남동구         41\n",
       "강원도 원주시           41\n",
       "경상북도 경주시          40\n",
       "대구광역시 수성구         40\n",
       "대전광역시 유성구         40\n",
       "경기도 김포시           39\n",
       "경기도 고양시 덕양구       38\n",
       "인천광역시 연수구         38\n",
       "전라남도 순천시          38\n",
       "서울특별시 은평구         38\n",
       "부산광역시 부산진구        37\n",
       "경기도 의정부시          37\n",
       "강원도 춘천시           37\n",
       "서울특별시 관악구         36\n",
       "광주광역시 남구          35\n",
       "서울특별시 강동구         35\n",
       "충청북도 충주시          34\n",
       "경기도 수원시 영통구       34\n",
       "서울특별시 양천구         34\n",
       "전라북도 전주시 덕진구      33\n",
       "충청남도 아산시          33\n",
       "전라남도 목포시          32\n",
       "부산광역시 사하구         32\n",
       "서울특별시 성북구         32\n",
       "부산광역시 해운대구        32\n",
       "전라북도 군산시          32\n",
       "경기도 용인시 기흥구       31\n",
       "전라북도 정읍시          31\n",
       "서울특별시 구로구         31\n",
       "부산광역시 남구          31\n",
       "울산광역시 남구          31\n",
       "경상남도 창원시 성산구      31\n",
       "충청남도 천안시 동남구      31\n",
       "서울특별시 서초구         30\n",
       "경상남도 거제시          30\n",
       "서울특별시 종로구         30\n",
       "전라남도 나주시          30\n",
       "경상북도 경산시          30\n",
       "경기도 이천시           29\n",
       "경기도 고양시 일산서구      29\n",
       "경기도 안산시 상록구       29\n",
       "대구광역시 달성군         29\n",
       "인천광역시 미추홀구        29\n",
       "경상남도 양산시          29\n",
       "경상북도 상주시          28\n",
       "제주특별자치도 서귀포시      28\n",
       "경상북도 안동시          28\n",
       "부산광역시 동래구         28\n",
       "충청남도 논산시          28\n",
       "울산광역시 울주군         28\n",
       "울산광역시 북구          28\n",
       "대전광역시 중구          28\n",
       "충청남도 천안시 서북구      27\n",
       "경기도 용인시 처인구       27\n",
       "경기도 안산시 단원구       27\n",
       "인천광역시 계양구         27\n",
       "부산광역시 금정구         27\n",
       "충청북도 청주시 흥덕구      26\n",
       "서울특별시 동대문구        26\n",
       "경기도 용인시 수지구       26\n",
       "경기도 수원시 장안구       26\n",
       "경상북도 김천시          26\n",
       "인천광역시 중구          25\n",
       "대구광역시 동구          25\n",
       "충청북도 청주시 상당구      25\n",
       "서울특별시 동작구         25\n",
       "전라남도 광양시          25\n",
       "충청남도 공주시          25\n",
       "광주광역시 서구          25\n",
       "경기도 안성시           25\n",
       "충청남도 서산시          25\n",
       "서울특별시 강북구         24\n",
       "강원도 강릉시           24\n",
       "서울특별시 마포구         24\n",
       "서울특별시 중랑구         24\n",
       "부산광역시 북구          24\n",
       "서울특별시 도봉구         24\n",
       "경기도 안양시 동안구       24\n",
       "전라북도 남원시          24\n",
       "경상북도 영천시          24\n",
       "경기도 수원시 권선구       24\n",
       "경기도 하남시           24\n",
       "대전광역시 동구          23\n",
       "경상남도 창원시 의창구      23\n",
       "경기도 광명시           23\n",
       "서울특별시 광진구         23\n",
       "서울특별시 서대문구        23\n",
       "경기도 광주시           23\n",
       "전라북도 김제시          23\n",
       "충청남도 당진시          23\n",
       "서울특별시 중구          22\n",
       "경상북도 포항시 남구       22\n",
       "경상남도 창원시 마산회원구    22\n",
       "경기도 안양시 만안구       22\n",
       "경기도 여주시           22\n",
       "전라북도 완주군          22\n",
       "충청북도 제천시          22\n",
       "경기도 고양시 일산동구      22\n",
       "경상남도 창원시 마산합포구    22\n",
       "서울특별시 영등포구        22\n",
       "경기도 포천시           21\n",
       "충청북도 청주시 서원구      21\n",
       "경기도 양평군           21\n",
       "경상남도 밀양시          21\n",
       "울산광역시 중구          21\n",
       "경기도 양주시           21\n",
       "경상남도 사천시          20\n",
       "전라남도 영암군          20\n",
       "서울특별시 성동구         20\n",
       "전라남도 고흥군          20\n",
       "경상북도 영주시          20\n",
       "경기도 수원시 팔달구       20\n",
       "전라북도 고창군          20\n",
       "전라북도 부안군          20\n",
       "강원도 삼척시           19\n",
       "충청남도 예산군          19\n",
       "충청남도 보령시          19\n",
       "강원도 홍천군           19\n",
       "전라남도 완도군          19\n",
       "서울특별시 용산구         19\n",
       "충청남도 홍성군          19\n",
       "경상남도 통영시          19\n",
       "경기도 군포시           19\n",
       "부산광역시 강서구         19\n",
       "대전광역시 대덕구         19\n",
       "경상남도 거창군          18\n",
       "전라남도 신안군          18\n",
       "경기도 오산시           18\n",
       "대구광역시 남구          18\n",
       "경상북도 칠곡군          18\n",
       "경상남도 창녕군          18\n",
       "울산광역시 동구          18\n",
       "충청북도 청주시 청원구      17\n",
       "경기도 성남시 수정구       17\n",
       "경기도 성남시 중원구       17\n",
       "인천광역시 강화군         17\n",
       "부산광역시 사상구         17\n",
       "충청북도 음성군          17\n",
       "서울특별시 금천구         17\n",
       "경상남도 창원시 진해구      17\n",
       "강원도 횡성군           17\n",
       "전라남도 보성군          17\n",
       "경기도 구리시           16\n",
       "강원도 영월군           16\n",
       "경상남도 남해군          16\n",
       "전라남도 영광군          16\n",
       "전라남도 무안군          16\n",
       "경상북도 의성군          16\n",
       "경상북도 문경시          16\n",
       "충청남도 서천군          16\n",
       "충청남도 부여군          16\n",
       "전라남도 해남군          15\n",
       "경상남도 합천군          15\n",
       "강원도 정선군           15\n",
       "전라북도 진안군          15\n",
       "부산광역시 영도구         15\n",
       "전라남도 강진군          15\n",
       "부산광역시 기장군         15\n",
       "강원도 동해시           14\n",
       "대구광역시 서구          14\n",
       "경상남도 하동군          14\n",
       "전라남도 화순군          14\n",
       "경상북도 청송군          14\n",
       "충청북도 진천군          14\n",
       "부산광역시 연제구         14\n",
       "경상남도 고성군          13\n",
       "경상남도 함안군          13\n",
       "경기도 의왕시           13\n",
       "강원도 평창군           13\n",
       "전라남도 함평군          13\n",
       "전라남도 장흥군          13\n",
       "경기도 동두천시          13\n",
       "부산광역시 서구          13\n",
       "경상북도 울진군          13\n",
       "강원도 태백시           12\n",
       "전라남도 담양군          12\n",
       "전라북도 임실군          12\n",
       "충청남도 금산군          12\n",
       "경기도 가평군           12\n",
       "충청북도 영동군          12\n",
       "경상북도 영덕군          12\n",
       "경상북도 예천군          12\n",
       "충청남도 태안군          12\n",
       "전라북도 장수군          12\n",
       "광주광역시 동구          11\n",
       "부산광역시 동구          11\n",
       "부산광역시 수영구         11\n",
       "전라북도 무주군          11\n",
       "경상북도 성주군          11\n",
       "경상북도 청도군          11\n",
       "전라남도 진도군          11\n",
       "전라남도 장성군          11\n",
       "경상남도 산청군          11\n",
       "경상남도 함양군          10\n",
       "경상북도 봉화군          10\n",
       "인천광역시 옹진군         10\n",
       "강원도 인제군           10\n",
       "전라북도 순창군          10\n",
       "대구광역시 중구           9\n",
       "강원도 철원군            9\n",
       "경기도 연천군            9\n",
       "경상남도 의령군           9\n",
       "충청북도 괴산군           9\n",
       "충청북도 보은군           9\n",
       "강원도 양구군            9\n",
       "경상북도 고령군           8\n",
       "충청북도 옥천군           8\n",
       "강원도 고성군            8\n",
       "강원도 화천군            8\n",
       "강원도 속초시            8\n",
       "충청북도 단양군           7\n",
       "전라남도 구례군           7\n",
       "경상북도 군위군           7\n",
       "충청남도 청양군           7\n",
       "전라남도 곡성군           7\n",
       "인천광역시 동구           7\n",
       "충청북도 증평군           6\n",
       "경상북도 영양군           6\n",
       "경기도 과천시            6\n",
       "강원도 양양군            5\n",
       "충청남도 계룡시           5\n",
       "부산광역시 중구           5\n",
       "-                  3\n",
       "경기도 부천시 소사구        3\n",
       "경기 용인시 기흥구         2\n",
       "경상북도 울릉군           2\n",
       "전북 정읍시             2\n",
       "충남 아산시             1\n",
       "충남 서산시             1\n",
       "강원 정선군             1\n",
       "경기 하남시             1\n",
       "서울 서대문구            1\n",
       "충남 천안시 동남구         1\n",
       "제주 서귀포시            1\n",
       "경북 의성군             1\n",
       "서울 마포구             1\n",
       "인천 남동구             1\n",
       "서울 노원구             1\n",
       "경남 창원시 마산합포구       1\n",
       "대구 수성구             1\n",
       "대한민국 강원도 철원군       1\n",
       "경남 창원시 진해구         1\n",
       "경북 영양군             1\n",
       "경남 진주시             1\n",
       "경기 용인시 수지구         1\n",
       "경기 군포시             1\n",
       "서울 광진구             1\n",
       "서울 동대문구            1\n",
       "경기 의왕시             1\n",
       "경남 창원시 의창구         1\n",
       "경북 김천시             1\n",
       "Name: count, dtype: int64"
      ]
     },
     "execution_count": 221,
     "metadata": {},
     "output_type": "execute_result"
    }
   ],
   "source": [
    "accounts_school['address'].value_counts()"
   ]
  },
  {
   "cell_type": "code",
   "execution_count": 222,
   "id": "340b61c6",
   "metadata": {},
   "outputs": [
    {
     "data": {
      "text/plain": [
       "array(['충청북도 충주시', '충청북도 청주시 흥덕구', '충청북도 청주시 청원구', '충청북도 청주시 서원구',\n",
       "       '충청북도 청주시 상당구', '충청북도 진천군', '충청북도 증평군', '충청북도 제천시', '충청북도 음성군',\n",
       "       '충청북도 옥천군', '충청북도 영동군', '충청북도 보은군', '충청북도 단양군', '충청북도 괴산군',\n",
       "       '충청남도 홍성군', '충청남도 태안군', '충청남도 청양군', '충청남도 천안시 서북구', '충청남도 천안시 동남구',\n",
       "       '충청남도 예산군', '충청남도 아산시', '충청남도 서천군', '충청남도 서산시', '충청남도 부여군',\n",
       "       '충청남도 보령시', '충청남도 당진시', '충청남도 논산시', '충청남도 금산군', '충청남도 공주시',\n",
       "       '충청남도 계룡시', '제주특별자치도 제주시', '제주특별자치도 서귀포시', '전북 정읍시', '전라북도 진안군',\n",
       "       '전라북도 정읍시', '전라북도 전주시 완산구', '전라북도 전주시 덕진구', '전라북도 장수군', '전라북도 임실군',\n",
       "       '전라북도 익산시', '전라북도 완주군', '전라북도 순창군', '전라북도 부안군', '전라북도 무주군',\n",
       "       '전라북도 남원시', '전라북도 김제시', '전라북도 군산시', '전라북도 고창군', '전라남도 화순군',\n",
       "       '전라남도 해남군', '전라남도 함평군', '전라남도 진도군', '전라남도 장흥군', '전라남도 장성군',\n",
       "       '전라남도 완도군', '전라남도 영암군', '전라남도 영광군', '전라남도 여수시', '전라남도 신안군',\n",
       "       '전라남도 순천시', '전라남도 보성군', '전라남도 무안군', '전라남도 목포시', '전라남도 담양군',\n",
       "       '전라남도 나주시', '전라남도 구례군', '전라남도 광양시', '전라남도 곡성군', '전라남도 고흥군',\n",
       "       '전라남도 강진군', '인천광역시 중구', '인천광역시 옹진군', '인천광역시 연수구', '인천광역시 서구',\n",
       "       '인천광역시 부평구', '인천광역시 미추홀구', '인천광역시 동구', '인천광역시 남동구', '인천광역시 계양구',\n",
       "       '인천광역시 강화군', '인천 남동구', '울산광역시 중구', '울산광역시 울주군', '울산광역시 북구',\n",
       "       '울산광역시 동구', '울산광역시 남구', '충청남도 세종특별자치시', '서울특별시 중랑구', '서울특별시 중구',\n",
       "       '서울특별시 종로구', '서울특별시 은평구', '서울특별시 용산구', '서울특별시 영등포구', '서울특별시 양천구',\n",
       "       '서울특별시 송파구', '서울특별시 성북구', '서울특별시 성동구', '서울특별시 서초구', '서울특별시 서대문구',\n",
       "       '서울특별시 마포구', '서울특별시 동작구', '서울특별시 동대문구', '서울특별시 도봉구', '서울특별시 노원구',\n",
       "       '서울특별시 금천구', '서울특별시 구로구', '서울특별시 광진구', '서울특별시 관악구', '서울특별시 강서구',\n",
       "       '서울특별시 강북구', '서울특별시 강동구', '서울특별시 강남구', '서울 마포구', '서울 노원구',\n",
       "       '부산광역시 해운대구', '부산광역시 중구', '부산광역시 영도구', '부산광역시 연제구', '부산광역시 수영구',\n",
       "       '부산광역시 서구', '부산광역시 사하구', '부산광역시 사상구', '부산광역시 북구', '부산광역시 부산진구',\n",
       "       '부산광역시 동래구', '부산광역시 동구', '부산광역시 남구', '부산광역시 기장군', '부산광역시 금정구',\n",
       "       '부산광역시 강서구', '대한민국 강원도 철원군', '대전광역시 중구', '대전광역시 유성구', '대전광역시 서구',\n",
       "       '대전광역시 동구', '대전광역시 대덕구', '대구광역시 중구', '대구광역시 수성구', '대구광역시 서구',\n",
       "       '대구광역시 북구', '대구광역시 동구', '대구광역시 달성군', '대구광역시 달서구', '대구광역시 남구',\n",
       "       '대구 수성구', '광주광역시 서구', '광주광역시 북구', '광주광역시 동구', '광주광역시 남구',\n",
       "       '광주광역시 광산구', '경상북도 포항시 북구', '경상북도 포항시 남구', '경상북도 칠곡군', '경상북도 청송군',\n",
       "       '경상북도 청도군', '경상북도 의성군', '경상북도 울진군', '경상북도 울릉군', '경상북도 예천군',\n",
       "       '경상북도 영천시', '경상북도 영주시', '경상북도 영양군', '경상북도 영덕군', '경상북도 안동시',\n",
       "       '경상북도 성주군', '경상북도 상주시', '경상북도 봉화군', '경상북도 문경시', '경상북도 김천시',\n",
       "       '경상북도 군위군', '경상북도 구미시', '경상북도 고령군', '경상북도 경주시', '경상북도 경산시',\n",
       "       '경상남도 합천군', '경상남도 함양군', '경상남도 함안군', '경상남도 하동군', '경상남도 통영시',\n",
       "       '경상남도 창원시 진해구', '경상남도 창원시 의창구', '경상남도 창원시 성산구', '경상남도 창원시 마산회원구',\n",
       "       '경상남도 창원시 마산합포구', '경상남도 창녕군', '경상남도 진주시', '경상남도 의령군', '경상남도 양산시',\n",
       "       '경상남도 산청군', '경상남도 사천시', '경상남도 밀양시', '경상남도 남해군', '경상남도 김해시',\n",
       "       '경상남도 고성군', '경상남도 거창군', '경상남도 거제시', '경북 영양군', '경남 창원시 진해구',\n",
       "       '경남 창원시 마산합포구', '경남 진주시', '경기도 화성시', '경기도 하남시', '경기도 포천시',\n",
       "       '경기도 평택시', '경기도 파주시', '경기도 이천시', '경기도 의정부시', '경기도 의왕시',\n",
       "       '경기도 용인시 처인구', '경기도 용인시 수지구', '경기도 용인시 기흥구', '경기도 오산시', '경기도 연천군',\n",
       "       '경기도 여주시', '경기도 양평군', '경기도 양주시', '경기도 안양시 만안구', '경기도 안양시 동안구',\n",
       "       '경기도 안성시', '경기도 안산시 상록구', '경기도 안산시 단원구', '경기도 시흥시', '경기도 수원시 팔달구',\n",
       "       '경기도 수원시 장안구', '경기도 수원시 영통구', '경기도 수원시 권선구', '경기도 성남시 중원구',\n",
       "       '경기도 성남시 수정구', '경기도 성남시 분당구', '경기도 부천시', '경기도 부천시 소사구', '경기도 동두천시',\n",
       "       '경기도 남양주시', '경기도 김포시', '경기도 군포시', '경기도 구리시', '경기도 광주시', '경기도 광명시',\n",
       "       '경기도 과천시', '경기도 고양시 일산서구', '경기도 고양시 일산동구', '경기도 고양시 덕양구',\n",
       "       '경기도 가평군', '경기 용인시 수지구', '경기 용인시 기흥구', '경기 군포시', '강원도 횡성군',\n",
       "       '강원도 화천군', '강원도 홍천군', '강원도 평창군', '강원도 태백시', '강원도 춘천시', '강원도 철원군',\n",
       "       '강원도 정선군', '강원도 인제군', '강원도 원주시', '강원도 영월군', '강원도 양양군', '강원도 양구군',\n",
       "       '강원도 속초시', '강원도 삼척시', '강원도 동해시', '강원도 고성군', '강원도 강릉시', '강원 정선군',\n",
       "       '충남 서산시', '충남 아산시', '경기 하남시', '제주 서귀포시', '충남 천안시 동남구', '서울 서대문구',\n",
       "       '경북 의성군', '서울 광진구', '-', '서울 동대문구', '경기 의왕시', '경남 창원시 의창구',\n",
       "       '경북 김천시'], dtype=object)"
      ]
     },
     "execution_count": 222,
     "metadata": {},
     "output_type": "execute_result"
    }
   ],
   "source": [
    "accounts_school['address'].unique()"
   ]
  },
  {
   "cell_type": "code",
   "execution_count": 223,
   "id": "826f40bf",
   "metadata": {},
   "outputs": [
    {
     "data": {
      "text/plain": [
       "address\n",
       "대한민국 강원도 철원군    1\n",
       "Name: count, dtype: int64"
      ]
     },
     "execution_count": 223,
     "metadata": {},
     "output_type": "execute_result"
    }
   ],
   "source": [
    "accounts_school[accounts_school['address'].str.startswith('대한')]['address'].value_counts()"
   ]
  },
  {
   "cell_type": "code",
   "execution_count": 277,
   "id": "aac38f95",
   "metadata": {},
   "outputs": [
    {
     "name": "stderr",
     "output_type": "stream",
     "text": [
      "/tmp/ipykernel_836/3358969097.py:3: SettingWithCopyWarning: \n",
      "A value is trying to be set on a copy of a slice from a DataFrame.\n",
      "Try using .loc[row_indexer,col_indexer] = value instead\n",
      "\n",
      "See the caveats in the documentation: https://pandas.pydata.org/pandas-docs/stable/user_guide/indexing.html#returning-a-view-versus-a-copy\n",
      "  accounts_school['address'] = accounts_school['address'].str.replace(\n",
      "/tmp/ipykernel_836/3358969097.py:7: SettingWithCopyWarning: \n",
      "A value is trying to be set on a copy of a slice from a DataFrame.\n",
      "Try using .loc[row_indexer,col_indexer] = value instead\n",
      "\n",
      "See the caveats in the documentation: https://pandas.pydata.org/pandas-docs/stable/user_guide/indexing.html#returning-a-view-versus-a-copy\n",
      "  accounts_school['address'] = accounts_school['address'].str.replace(\n",
      "/tmp/ipykernel_836/3358969097.py:11: SettingWithCopyWarning: \n",
      "A value is trying to be set on a copy of a slice from a DataFrame.\n",
      "Try using .loc[row_indexer,col_indexer] = value instead\n",
      "\n",
      "See the caveats in the documentation: https://pandas.pydata.org/pandas-docs/stable/user_guide/indexing.html#returning-a-view-versus-a-copy\n",
      "  accounts_school['address'] = accounts_school['address'].str.replace(\n",
      "/tmp/ipykernel_836/3358969097.py:14: SettingWithCopyWarning: \n",
      "A value is trying to be set on a copy of a slice from a DataFrame.\n",
      "Try using .loc[row_indexer,col_indexer] = value instead\n",
      "\n",
      "See the caveats in the documentation: https://pandas.pydata.org/pandas-docs/stable/user_guide/indexing.html#returning-a-view-versus-a-copy\n",
      "  accounts_school['address'] = accounts_school['address'].str.replace(\n",
      "/tmp/ipykernel_836/3358969097.py:18: SettingWithCopyWarning: \n",
      "A value is trying to be set on a copy of a slice from a DataFrame.\n",
      "Try using .loc[row_indexer,col_indexer] = value instead\n",
      "\n",
      "See the caveats in the documentation: https://pandas.pydata.org/pandas-docs/stable/user_guide/indexing.html#returning-a-view-versus-a-copy\n",
      "  accounts_school['address'] = accounts_school['address'].str.replace(\n",
      "/tmp/ipykernel_836/3358969097.py:22: SettingWithCopyWarning: \n",
      "A value is trying to be set on a copy of a slice from a DataFrame.\n",
      "Try using .loc[row_indexer,col_indexer] = value instead\n",
      "\n",
      "See the caveats in the documentation: https://pandas.pydata.org/pandas-docs/stable/user_guide/indexing.html#returning-a-view-versus-a-copy\n",
      "  accounts_school['address'] = accounts_school['address'].str.replace(\n",
      "/tmp/ipykernel_836/3358969097.py:26: SettingWithCopyWarning: \n",
      "A value is trying to be set on a copy of a slice from a DataFrame.\n",
      "Try using .loc[row_indexer,col_indexer] = value instead\n",
      "\n",
      "See the caveats in the documentation: https://pandas.pydata.org/pandas-docs/stable/user_guide/indexing.html#returning-a-view-versus-a-copy\n",
      "  accounts_school['address'] = accounts_school['address'].str.replace(\n",
      "/tmp/ipykernel_836/3358969097.py:30: SettingWithCopyWarning: \n",
      "A value is trying to be set on a copy of a slice from a DataFrame.\n",
      "Try using .loc[row_indexer,col_indexer] = value instead\n",
      "\n",
      "See the caveats in the documentation: https://pandas.pydata.org/pandas-docs/stable/user_guide/indexing.html#returning-a-view-versus-a-copy\n",
      "  accounts_school['address'] = accounts_school['address'].str.replace(\n",
      "/tmp/ipykernel_836/3358969097.py:34: SettingWithCopyWarning: \n",
      "A value is trying to be set on a copy of a slice from a DataFrame.\n",
      "Try using .loc[row_indexer,col_indexer] = value instead\n",
      "\n",
      "See the caveats in the documentation: https://pandas.pydata.org/pandas-docs/stable/user_guide/indexing.html#returning-a-view-versus-a-copy\n",
      "  accounts_school['address'] = accounts_school['address'].str.replace(\n",
      "/tmp/ipykernel_836/3358969097.py:38: SettingWithCopyWarning: \n",
      "A value is trying to be set on a copy of a slice from a DataFrame.\n",
      "Try using .loc[row_indexer,col_indexer] = value instead\n",
      "\n",
      "See the caveats in the documentation: https://pandas.pydata.org/pandas-docs/stable/user_guide/indexing.html#returning-a-view-versus-a-copy\n",
      "  accounts_school['address'] = accounts_school['address'].str.replace(\n",
      "/tmp/ipykernel_836/3358969097.py:42: SettingWithCopyWarning: \n",
      "A value is trying to be set on a copy of a slice from a DataFrame.\n",
      "Try using .loc[row_indexer,col_indexer] = value instead\n",
      "\n",
      "See the caveats in the documentation: https://pandas.pydata.org/pandas-docs/stable/user_guide/indexing.html#returning-a-view-versus-a-copy\n",
      "  accounts_school['address'] = accounts_school['address'].str.replace(\n",
      "/tmp/ipykernel_836/3358969097.py:46: SettingWithCopyWarning: \n",
      "A value is trying to be set on a copy of a slice from a DataFrame.\n",
      "Try using .loc[row_indexer,col_indexer] = value instead\n",
      "\n",
      "See the caveats in the documentation: https://pandas.pydata.org/pandas-docs/stable/user_guide/indexing.html#returning-a-view-versus-a-copy\n",
      "  accounts_school['address'] = accounts_school['address'].str.replace(\n",
      "/tmp/ipykernel_836/3358969097.py:50: SettingWithCopyWarning: \n",
      "A value is trying to be set on a copy of a slice from a DataFrame.\n",
      "Try using .loc[row_indexer,col_indexer] = value instead\n",
      "\n",
      "See the caveats in the documentation: https://pandas.pydata.org/pandas-docs/stable/user_guide/indexing.html#returning-a-view-versus-a-copy\n",
      "  accounts_school['address'] = accounts_school['address'].str.replace(\n",
      "/tmp/ipykernel_836/3358969097.py:54: SettingWithCopyWarning: \n",
      "A value is trying to be set on a copy of a slice from a DataFrame.\n",
      "Try using .loc[row_indexer,col_indexer] = value instead\n",
      "\n",
      "See the caveats in the documentation: https://pandas.pydata.org/pandas-docs/stable/user_guide/indexing.html#returning-a-view-versus-a-copy\n",
      "  accounts_school['address'] = accounts_school['address'].str.replace(\n",
      "/tmp/ipykernel_836/3358969097.py:58: SettingWithCopyWarning: \n",
      "A value is trying to be set on a copy of a slice from a DataFrame.\n",
      "Try using .loc[row_indexer,col_indexer] = value instead\n",
      "\n",
      "See the caveats in the documentation: https://pandas.pydata.org/pandas-docs/stable/user_guide/indexing.html#returning-a-view-versus-a-copy\n",
      "  accounts_school['address'] = accounts_school['address'].str.replace(\n"
     ]
    }
   ],
   "source": [
    "# 주소 통일\n",
    "\n",
    "accounts_school['address'] = accounts_school['address'].str.replace(\n",
    "    r'^서울\\s', '서울특별시 ', regex=True\n",
    ")\n",
    "\n",
    "accounts_school['address'] = accounts_school['address'].str.replace(\n",
    "    r'^경기\\s', '경기도 ', regex=True\n",
    ")\n",
    "\n",
    "accounts_school['address'] = accounts_school['address'].str.replace(\n",
    "    r'^강원\\s', '강원도 ', regex=True\n",
    ")\n",
    "accounts_school['address'] = accounts_school['address'].str.replace(\n",
    "    r'^강원도\\s', '강원특별자치도 ', regex=True\n",
    ")\n",
    "\n",
    "accounts_school['address'] = accounts_school['address'].str.replace(\n",
    "    r'^충북\\s', '충청북도 ', regex=True\n",
    ")\n",
    "\n",
    "accounts_school['address'] = accounts_school['address'].str.replace(\n",
    "    r'^충남\\s', '충청남도 ', regex=True\n",
    ")\n",
    "\n",
    "accounts_school['address'] = accounts_school['address'].str.replace(\n",
    "    r'^전북\\s', '전북특별자치도 ', regex=True\n",
    ")\n",
    "\n",
    "accounts_school['address'] = accounts_school['address'].str.replace(\n",
    "    r'^전라북도\\s', '전북특별자치도 ', regex=True\n",
    ")\n",
    "\n",
    "accounts_school['address'] = accounts_school['address'].str.replace(\n",
    "    r'^전남\\s', '전라남도 ', regex=True\n",
    ")\n",
    "\n",
    "accounts_school['address'] = accounts_school['address'].str.replace(\n",
    "    r'^경북\\s', '경상북도 ', regex=True\n",
    ")\n",
    "\n",
    "accounts_school['address'] = accounts_school['address'].str.replace(\n",
    "    r'^경남\\s', '경상남도 ', regex=True\n",
    ")\n",
    "\n",
    "accounts_school['address'] = accounts_school['address'].str.replace(\n",
    "    r'^대구\\s', '대구광역시 ', regex=True\n",
    ")\n",
    "\n",
    "accounts_school['address'] = accounts_school['address'].str.replace(\n",
    "    r'^인천\\s', '인천광역시 ', regex=True\n",
    ")\n",
    "\n",
    "accounts_school['address'] = accounts_school['address'].str.replace(\n",
    "    r'^제주\\s', '제주특별자치도 ', regex=True\n",
    ")\n",
    "\n",
    "accounts_school['address'] = accounts_school['address'].str.replace(\n",
    "    r'^대한민국 강원도\\s', '강원특별자치도 ', regex=True\n",
    ")"
   ]
  },
  {
   "cell_type": "code",
   "execution_count": 278,
   "id": "74e4bdd0",
   "metadata": {},
   "outputs": [
    {
     "name": "stderr",
     "output_type": "stream",
     "text": [
      "/tmp/ipykernel_836/1457467182.py:1: SettingWithCopyWarning: \n",
      "A value is trying to be set on a copy of a slice from a DataFrame.\n",
      "Try using .loc[row_indexer,col_indexer] = value instead\n",
      "\n",
      "See the caveats in the documentation: https://pandas.pydata.org/pandas-docs/stable/user_guide/indexing.html#returning-a-view-versus-a-copy\n",
      "  accounts_school[['province', 'city', 'district']] = accounts_school['address'].str.split(' ', n=2, expand=True)\n"
     ]
    },
    {
     "data": {
      "text/html": [
       "<div>\n",
       "<style scoped>\n",
       "    .dataframe tbody tr th:only-of-type {\n",
       "        vertical-align: middle;\n",
       "    }\n",
       "\n",
       "    .dataframe tbody tr th {\n",
       "        vertical-align: top;\n",
       "    }\n",
       "\n",
       "    .dataframe thead th {\n",
       "        text-align: right;\n",
       "    }\n",
       "</style>\n",
       "<table border=\"1\" class=\"dataframe\">\n",
       "  <thead>\n",
       "    <tr style=\"text-align: right;\">\n",
       "      <th></th>\n",
       "      <th>id</th>\n",
       "      <th>address</th>\n",
       "      <th>student_count</th>\n",
       "      <th>school_type</th>\n",
       "      <th>province</th>\n",
       "      <th>city</th>\n",
       "      <th>district</th>\n",
       "    </tr>\n",
       "  </thead>\n",
       "  <tbody>\n",
       "    <tr>\n",
       "      <th>5938</th>\n",
       "      <td>5954</td>\n",
       "      <td>경기도 의왕시</td>\n",
       "      <td>0</td>\n",
       "      <td>H</td>\n",
       "      <td>경기도</td>\n",
       "      <td>의왕시</td>\n",
       "      <td>None</td>\n",
       "    </tr>\n",
       "    <tr>\n",
       "      <th>5939</th>\n",
       "      <td>5955</td>\n",
       "      <td>경상남도 창원시 의창구</td>\n",
       "      <td>214</td>\n",
       "      <td>H</td>\n",
       "      <td>경상남도</td>\n",
       "      <td>창원시</td>\n",
       "      <td>의창구</td>\n",
       "    </tr>\n",
       "    <tr>\n",
       "      <th>5940</th>\n",
       "      <td>5956</td>\n",
       "      <td>인천광역시 부평구</td>\n",
       "      <td>143</td>\n",
       "      <td>H</td>\n",
       "      <td>인천광역시</td>\n",
       "      <td>부평구</td>\n",
       "      <td>None</td>\n",
       "    </tr>\n",
       "    <tr>\n",
       "      <th>5941</th>\n",
       "      <td>5957</td>\n",
       "      <td>충청북도 충주시</td>\n",
       "      <td>134</td>\n",
       "      <td>H</td>\n",
       "      <td>충청북도</td>\n",
       "      <td>충주시</td>\n",
       "      <td>None</td>\n",
       "    </tr>\n",
       "    <tr>\n",
       "      <th>5942</th>\n",
       "      <td>5958</td>\n",
       "      <td>부산광역시 사하구</td>\n",
       "      <td>144</td>\n",
       "      <td>H</td>\n",
       "      <td>부산광역시</td>\n",
       "      <td>사하구</td>\n",
       "      <td>None</td>\n",
       "    </tr>\n",
       "    <tr>\n",
       "      <th>5943</th>\n",
       "      <td>5959</td>\n",
       "      <td>제주특별자치도 서귀포시</td>\n",
       "      <td>3</td>\n",
       "      <td>H</td>\n",
       "      <td>제주특별자치도</td>\n",
       "      <td>서귀포시</td>\n",
       "      <td>None</td>\n",
       "    </tr>\n",
       "    <tr>\n",
       "      <th>5944</th>\n",
       "      <td>5960</td>\n",
       "      <td>경상남도 양산시</td>\n",
       "      <td>166</td>\n",
       "      <td>H</td>\n",
       "      <td>경상남도</td>\n",
       "      <td>양산시</td>\n",
       "      <td>None</td>\n",
       "    </tr>\n",
       "    <tr>\n",
       "      <th>5945</th>\n",
       "      <td>5961</td>\n",
       "      <td>인천광역시 서구</td>\n",
       "      <td>77</td>\n",
       "      <td>M</td>\n",
       "      <td>인천광역시</td>\n",
       "      <td>서구</td>\n",
       "      <td>None</td>\n",
       "    </tr>\n",
       "    <tr>\n",
       "      <th>5946</th>\n",
       "      <td>5963</td>\n",
       "      <td>경상북도 김천시</td>\n",
       "      <td>17</td>\n",
       "      <td>H</td>\n",
       "      <td>경상북도</td>\n",
       "      <td>김천시</td>\n",
       "      <td>None</td>\n",
       "    </tr>\n",
       "    <tr>\n",
       "      <th>5947</th>\n",
       "      <td>5965</td>\n",
       "      <td>경기도 동두천시</td>\n",
       "      <td>37</td>\n",
       "      <td>H</td>\n",
       "      <td>경기도</td>\n",
       "      <td>동두천시</td>\n",
       "      <td>None</td>\n",
       "    </tr>\n",
       "  </tbody>\n",
       "</table>\n",
       "</div>"
      ],
      "text/plain": [
       "        id       address  student_count school_type province  city district\n",
       "5938  5954       경기도 의왕시              0           H      경기도   의왕시     None\n",
       "5939  5955  경상남도 창원시 의창구            214           H     경상남도   창원시      의창구\n",
       "5940  5956     인천광역시 부평구            143           H    인천광역시   부평구     None\n",
       "5941  5957      충청북도 충주시            134           H     충청북도   충주시     None\n",
       "5942  5958     부산광역시 사하구            144           H    부산광역시   사하구     None\n",
       "5943  5959  제주특별자치도 서귀포시              3           H  제주특별자치도  서귀포시     None\n",
       "5944  5960      경상남도 양산시            166           H     경상남도   양산시     None\n",
       "5945  5961      인천광역시 서구             77           M    인천광역시    서구     None\n",
       "5946  5963      경상북도 김천시             17           H     경상북도   김천시     None\n",
       "5947  5965      경기도 동두천시             37           H      경기도  동두천시     None"
      ]
     },
     "execution_count": 278,
     "metadata": {},
     "output_type": "execute_result"
    }
   ],
   "source": [
    "accounts_school[['province', 'city', 'district']] = accounts_school['address'].str.split(' ', n=2, expand=True)\n",
    "accounts_school.tail(10)"
   ]
  },
  {
   "cell_type": "code",
   "execution_count": 279,
   "id": "1ab7de5b",
   "metadata": {},
   "outputs": [
    {
     "data": {
      "text/html": [
       "<div>\n",
       "<style scoped>\n",
       "    .dataframe tbody tr th:only-of-type {\n",
       "        vertical-align: middle;\n",
       "    }\n",
       "\n",
       "    .dataframe tbody tr th {\n",
       "        vertical-align: top;\n",
       "    }\n",
       "\n",
       "    .dataframe thead th {\n",
       "        text-align: right;\n",
       "    }\n",
       "</style>\n",
       "<table border=\"1\" class=\"dataframe\">\n",
       "  <thead>\n",
       "    <tr style=\"text-align: right;\">\n",
       "      <th></th>\n",
       "      <th>id</th>\n",
       "      <th>address</th>\n",
       "      <th>student_count</th>\n",
       "      <th>school_type</th>\n",
       "      <th>province</th>\n",
       "      <th>city</th>\n",
       "      <th>district</th>\n",
       "    </tr>\n",
       "  </thead>\n",
       "  <tbody>\n",
       "    <tr>\n",
       "      <th>0</th>\n",
       "      <td>4</td>\n",
       "      <td>충청북도 충주시</td>\n",
       "      <td>239</td>\n",
       "      <td>H</td>\n",
       "      <td>충청북도</td>\n",
       "      <td>충주시</td>\n",
       "      <td>None</td>\n",
       "    </tr>\n",
       "    <tr>\n",
       "      <th>1</th>\n",
       "      <td>5</td>\n",
       "      <td>충청북도 충주시</td>\n",
       "      <td>160</td>\n",
       "      <td>M</td>\n",
       "      <td>충청북도</td>\n",
       "      <td>충주시</td>\n",
       "      <td>None</td>\n",
       "    </tr>\n",
       "    <tr>\n",
       "      <th>2</th>\n",
       "      <td>6</td>\n",
       "      <td>충청북도 충주시</td>\n",
       "      <td>200</td>\n",
       "      <td>H</td>\n",
       "      <td>충청북도</td>\n",
       "      <td>충주시</td>\n",
       "      <td>None</td>\n",
       "    </tr>\n",
       "    <tr>\n",
       "      <th>3</th>\n",
       "      <td>7</td>\n",
       "      <td>충청북도 충주시</td>\n",
       "      <td>114</td>\n",
       "      <td>H</td>\n",
       "      <td>충청북도</td>\n",
       "      <td>충주시</td>\n",
       "      <td>None</td>\n",
       "    </tr>\n",
       "    <tr>\n",
       "      <th>4</th>\n",
       "      <td>8</td>\n",
       "      <td>충청북도 충주시</td>\n",
       "      <td>139</td>\n",
       "      <td>M</td>\n",
       "      <td>충청북도</td>\n",
       "      <td>충주시</td>\n",
       "      <td>None</td>\n",
       "    </tr>\n",
       "    <tr>\n",
       "      <th>5</th>\n",
       "      <td>9</td>\n",
       "      <td>충청북도 충주시</td>\n",
       "      <td>3</td>\n",
       "      <td>H</td>\n",
       "      <td>충청북도</td>\n",
       "      <td>충주시</td>\n",
       "      <td>None</td>\n",
       "    </tr>\n",
       "    <tr>\n",
       "      <th>6</th>\n",
       "      <td>10</td>\n",
       "      <td>충청북도 충주시</td>\n",
       "      <td>159</td>\n",
       "      <td>M</td>\n",
       "      <td>충청북도</td>\n",
       "      <td>충주시</td>\n",
       "      <td>None</td>\n",
       "    </tr>\n",
       "    <tr>\n",
       "      <th>7</th>\n",
       "      <td>11</td>\n",
       "      <td>충청북도 충주시</td>\n",
       "      <td>17</td>\n",
       "      <td>M</td>\n",
       "      <td>충청북도</td>\n",
       "      <td>충주시</td>\n",
       "      <td>None</td>\n",
       "    </tr>\n",
       "    <tr>\n",
       "      <th>8</th>\n",
       "      <td>12</td>\n",
       "      <td>충청북도 충주시</td>\n",
       "      <td>154</td>\n",
       "      <td>M</td>\n",
       "      <td>충청북도</td>\n",
       "      <td>충주시</td>\n",
       "      <td>None</td>\n",
       "    </tr>\n",
       "    <tr>\n",
       "      <th>9</th>\n",
       "      <td>13</td>\n",
       "      <td>충청북도 충주시</td>\n",
       "      <td>80</td>\n",
       "      <td>H</td>\n",
       "      <td>충청북도</td>\n",
       "      <td>충주시</td>\n",
       "      <td>None</td>\n",
       "    </tr>\n",
       "  </tbody>\n",
       "</table>\n",
       "</div>"
      ],
      "text/plain": [
       "   id   address  student_count school_type province city district\n",
       "0   4  충청북도 충주시            239           H     충청북도  충주시     None\n",
       "1   5  충청북도 충주시            160           M     충청북도  충주시     None\n",
       "2   6  충청북도 충주시            200           H     충청북도  충주시     None\n",
       "3   7  충청북도 충주시            114           H     충청북도  충주시     None\n",
       "4   8  충청북도 충주시            139           M     충청북도  충주시     None\n",
       "5   9  충청북도 충주시              3           H     충청북도  충주시     None\n",
       "6  10  충청북도 충주시            159           M     충청북도  충주시     None\n",
       "7  11  충청북도 충주시             17           M     충청북도  충주시     None\n",
       "8  12  충청북도 충주시            154           M     충청북도  충주시     None\n",
       "9  13  충청북도 충주시             80           H     충청북도  충주시     None"
      ]
     },
     "execution_count": 279,
     "metadata": {},
     "output_type": "execute_result"
    }
   ],
   "source": [
    "accounts_school.head(10)"
   ]
  },
  {
   "cell_type": "code",
   "execution_count": 280,
   "id": "f2911bb9",
   "metadata": {},
   "outputs": [
    {
     "data": {
      "text/plain": [
       "0"
      ]
     },
     "execution_count": 280,
     "metadata": {},
     "output_type": "execute_result"
    }
   ],
   "source": [
    "len(accounts_school[accounts_school['address'].str.startswith('-')]['address'])"
   ]
  },
  {
   "cell_type": "code",
   "execution_count": 281,
   "id": "f69b29c4",
   "metadata": {},
   "outputs": [
    {
     "data": {
      "text/plain": [
       "id                  0\n",
       "address             0\n",
       "student_count       0\n",
       "school_type         0\n",
       "province            0\n",
       "city                0\n",
       "district         5071\n",
       "dtype: int64"
      ]
     },
     "execution_count": 281,
     "metadata": {},
     "output_type": "execute_result"
    }
   ],
   "source": [
    "accounts_school.isna().sum()"
   ]
  },
  {
   "cell_type": "code",
   "execution_count": 282,
   "id": "48258a08",
   "metadata": {},
   "outputs": [],
   "source": [
    "accounts_school = accounts_school[~accounts_school['address'].str.startswith('-')]"
   ]
  },
  {
   "cell_type": "code",
   "execution_count": 283,
   "id": "65fb476a",
   "metadata": {},
   "outputs": [
    {
     "data": {
      "text/html": [
       "<div>\n",
       "<style scoped>\n",
       "    .dataframe tbody tr th:only-of-type {\n",
       "        vertical-align: middle;\n",
       "    }\n",
       "\n",
       "    .dataframe tbody tr th {\n",
       "        vertical-align: top;\n",
       "    }\n",
       "\n",
       "    .dataframe thead th {\n",
       "        text-align: right;\n",
       "    }\n",
       "</style>\n",
       "<table border=\"1\" class=\"dataframe\">\n",
       "  <thead>\n",
       "    <tr style=\"text-align: right;\">\n",
       "      <th></th>\n",
       "      <th>id</th>\n",
       "      <th>address</th>\n",
       "      <th>student_count</th>\n",
       "      <th>school_type</th>\n",
       "      <th>province</th>\n",
       "      <th>city</th>\n",
       "      <th>district</th>\n",
       "    </tr>\n",
       "  </thead>\n",
       "  <tbody>\n",
       "    <tr>\n",
       "      <th>0</th>\n",
       "      <td>4</td>\n",
       "      <td>충청북도 충주시</td>\n",
       "      <td>239</td>\n",
       "      <td>H</td>\n",
       "      <td>충청북도</td>\n",
       "      <td>충주시</td>\n",
       "      <td>None</td>\n",
       "    </tr>\n",
       "    <tr>\n",
       "      <th>1</th>\n",
       "      <td>5</td>\n",
       "      <td>충청북도 충주시</td>\n",
       "      <td>160</td>\n",
       "      <td>M</td>\n",
       "      <td>충청북도</td>\n",
       "      <td>충주시</td>\n",
       "      <td>None</td>\n",
       "    </tr>\n",
       "    <tr>\n",
       "      <th>2</th>\n",
       "      <td>6</td>\n",
       "      <td>충청북도 충주시</td>\n",
       "      <td>200</td>\n",
       "      <td>H</td>\n",
       "      <td>충청북도</td>\n",
       "      <td>충주시</td>\n",
       "      <td>None</td>\n",
       "    </tr>\n",
       "    <tr>\n",
       "      <th>3</th>\n",
       "      <td>7</td>\n",
       "      <td>충청북도 충주시</td>\n",
       "      <td>114</td>\n",
       "      <td>H</td>\n",
       "      <td>충청북도</td>\n",
       "      <td>충주시</td>\n",
       "      <td>None</td>\n",
       "    </tr>\n",
       "    <tr>\n",
       "      <th>4</th>\n",
       "      <td>8</td>\n",
       "      <td>충청북도 충주시</td>\n",
       "      <td>139</td>\n",
       "      <td>M</td>\n",
       "      <td>충청북도</td>\n",
       "      <td>충주시</td>\n",
       "      <td>None</td>\n",
       "    </tr>\n",
       "  </tbody>\n",
       "</table>\n",
       "</div>"
      ],
      "text/plain": [
       "   id   address  student_count school_type province city district\n",
       "0   4  충청북도 충주시            239           H     충청북도  충주시     None\n",
       "1   5  충청북도 충주시            160           M     충청북도  충주시     None\n",
       "2   6  충청북도 충주시            200           H     충청북도  충주시     None\n",
       "3   7  충청북도 충주시            114           H     충청북도  충주시     None\n",
       "4   8  충청북도 충주시            139           M     충청북도  충주시     None"
      ]
     },
     "execution_count": 283,
     "metadata": {},
     "output_type": "execute_result"
    }
   ],
   "source": [
    "accounts_school.reset_index(drop=True, inplace=True)\n",
    "accounts_school.head()"
   ]
  },
  {
   "cell_type": "code",
   "execution_count": 284,
   "id": "2418c22f",
   "metadata": {},
   "outputs": [
    {
     "data": {
      "text/html": [
       "<div>\n",
       "<style scoped>\n",
       "    .dataframe tbody tr th:only-of-type {\n",
       "        vertical-align: middle;\n",
       "    }\n",
       "\n",
       "    .dataframe tbody tr th {\n",
       "        vertical-align: top;\n",
       "    }\n",
       "\n",
       "    .dataframe thead th {\n",
       "        text-align: right;\n",
       "    }\n",
       "</style>\n",
       "<table border=\"1\" class=\"dataframe\">\n",
       "  <thead>\n",
       "    <tr style=\"text-align: right;\">\n",
       "      <th></th>\n",
       "      <th>id</th>\n",
       "      <th>address</th>\n",
       "      <th>student_count</th>\n",
       "      <th>school_type</th>\n",
       "      <th>province</th>\n",
       "      <th>city</th>\n",
       "      <th>district</th>\n",
       "    </tr>\n",
       "  </thead>\n",
       "  <tbody>\n",
       "    <tr>\n",
       "      <th>95</th>\n",
       "      <td>99</td>\n",
       "      <td>충청북도 청주시 서원구</td>\n",
       "      <td>60</td>\n",
       "      <td>H</td>\n",
       "      <td>충청북도</td>\n",
       "      <td>청주시</td>\n",
       "      <td>서원구</td>\n",
       "    </tr>\n",
       "  </tbody>\n",
       "</table>\n",
       "</div>"
      ],
      "text/plain": [
       "    id       address  student_count school_type province city district\n",
       "95  99  충청북도 청주시 서원구             60           H     충청북도  청주시      서원구"
      ]
     },
     "execution_count": 284,
     "metadata": {},
     "output_type": "execute_result"
    }
   ],
   "source": [
    "accounts_school[accounts_school['id'] == 99]"
   ]
  },
  {
   "cell_type": "code",
   "execution_count": 285,
   "id": "51948b92",
   "metadata": {},
   "outputs": [
    {
     "data": {
      "text/plain": [
       "school_type\n",
       "M    3290\n",
       "H    2658\n",
       "Name: count, dtype: int64"
      ]
     },
     "execution_count": 285,
     "metadata": {},
     "output_type": "execute_result"
    }
   ],
   "source": [
    "accounts_school.school_type.value_counts()"
   ]
  },
  {
   "cell_type": "code",
   "execution_count": 286,
   "id": "6796b4f4",
   "metadata": {},
   "outputs": [
    {
     "name": "stdout",
     "output_type": "stream",
     "text": [
      "전체 학교 개수: 5948\n",
      "학생 수가 0인 학교들: 387\n",
      "학생 수가 0인 학교들 비율: 6.51%\n",
      "-----\n",
      "중학교 개수: 3290\n",
      "학생 수가 0인 중학교: 192\n",
      "학생 수가 0인 중학교 비율: 5.84%\n",
      "-----\n",
      "고등학교 개수: 2658\n",
      "학생 수가 0인 고등학교: 195\n",
      "학생 수가 0인 고등학교 비율: 7.34%\n"
     ]
    }
   ],
   "source": [
    "print(f\"전체 학교 개수: {len(accounts_school)}\")\n",
    "print(f\"학생 수가 0인 학교들: {len(accounts_school[accounts_school['student_count'] == 0])}\")\n",
    "print(f\"학생 수가 0인 학교들 비율: {len(accounts_school[accounts_school['student_count'] == 0]) / len(accounts_school) * 100:.2f}%\")\n",
    "print('-----')\n",
    "print(f\"중학교 개수: {len(accounts_school[accounts_school['school_type'] == 'M'])}\")\n",
    "print(f\"학생 수가 0인 중학교: {len(accounts_school[(accounts_school['student_count'] == 0) & (accounts_school['school_type'] == 'M')])}\")\n",
    "print(f\"학생 수가 0인 중학교 비율: {len(accounts_school[(accounts_school['student_count'] == 0) & (accounts_school['school_type'] == 'M')]) / len(accounts_school[accounts_school['school_type'] == 'M']) * 100:.2f}%\")\n",
    "print('-----')\n",
    "print(f\"고등학교 개수: {len(accounts_school[accounts_school['school_type'] == 'H'])}\")\n",
    "print(f\"학생 수가 0인 고등학교: {len(accounts_school[(accounts_school['student_count'] == 0) & (accounts_school['school_type'] == 'H')])}\")\n",
    "print(f\"학생 수가 0인 고등학교 비율: {len(accounts_school[(accounts_school['student_count'] == 0) & (accounts_school['school_type'] == 'H')]) / len(accounts_school[accounts_school['school_type'] == 'H']) * 100:.2f}%\")\n"
   ]
  },
  {
   "cell_type": "code",
   "execution_count": 287,
   "id": "b3166952",
   "metadata": {},
   "outputs": [
    {
     "data": {
      "image/png": "[encoded data removed]",
      "text/plain": [
       "<Figure size 1200x600 with 1 Axes>"
      ]
     },
     "metadata": {},
     "output_type": "display_data"
    }
   ],
   "source": [
    "type_counts = accounts_school.groupby(['province', 'school_type']).size().unstack(fill_value=0)\n",
    "\n",
    "font_path = '/usr/share/fonts/truetype/nanum/NanumGothic.ttf'\n",
    "font_prop = fm.FontProperties(fname=font_path)\n",
    "\n",
    "# 시각화\n",
    "type_counts.plot(kind='bar', figsize=(12, 6))\n",
    "plt.title('시도별 중고등학교 수', fontproperties=font_prop)\n",
    "plt.xlabel('시/도 (province)', fontproperties=font_prop)\n",
    "plt.ylabel('학교 수', fontproperties=font_prop)\n",
    "plt.xticks(rotation=45, fontproperties=font_prop)\n",
    "plt.yticks(fontproperties=font_prop)\n",
    "plt.legend(title='school_type', prop=font_prop)\n",
    "plt.tight_layout()\n",
    "plt.show()\n"
   ]
  },
  {
   "cell_type": "markdown",
   "id": "cef5af8a",
   "metadata": {},
   "source": [
    "### 구매기록"
   ]
  },
  {
   "cell_type": "code",
   "execution_count": 288,
   "id": "f911453f",
   "metadata": {},
   "outputs": [
    {
     "data": {
      "text/html": [
       "<div>\n",
       "<style scoped>\n",
       "    .dataframe tbody tr th:only-of-type {\n",
       "        vertical-align: middle;\n",
       "    }\n",
       "\n",
       "    .dataframe tbody tr th {\n",
       "        vertical-align: top;\n",
       "    }\n",
       "\n",
       "    .dataframe thead th {\n",
       "        text-align: right;\n",
       "    }\n",
       "</style>\n",
       "<table border=\"1\" class=\"dataframe\">\n",
       "  <thead>\n",
       "    <tr style=\"text-align: right;\">\n",
       "      <th></th>\n",
       "      <th>id</th>\n",
       "      <th>productId</th>\n",
       "      <th>phone_type</th>\n",
       "      <th>created_at</th>\n",
       "      <th>user_id</th>\n",
       "    </tr>\n",
       "  </thead>\n",
       "  <tbody>\n",
       "    <tr>\n",
       "      <th>0</th>\n",
       "      <td>6</td>\n",
       "      <td>heart.777</td>\n",
       "      <td>A</td>\n",
       "      <td>2023-05-13 21:28:34</td>\n",
       "      <td>1211127</td>\n",
       "    </tr>\n",
       "    <tr>\n",
       "      <th>1</th>\n",
       "      <td>7</td>\n",
       "      <td>heart.777</td>\n",
       "      <td>A</td>\n",
       "      <td>2023-05-13 21:29:39</td>\n",
       "      <td>1151343</td>\n",
       "    </tr>\n",
       "    <tr>\n",
       "      <th>2</th>\n",
       "      <td>8</td>\n",
       "      <td>heart.777</td>\n",
       "      <td>A</td>\n",
       "      <td>2023-05-13 21:31:33</td>\n",
       "      <td>1002147</td>\n",
       "    </tr>\n",
       "    <tr>\n",
       "      <th>3</th>\n",
       "      <td>9</td>\n",
       "      <td>heart.777</td>\n",
       "      <td>A</td>\n",
       "      <td>2023-05-13 21:31:39</td>\n",
       "      <td>1095040</td>\n",
       "    </tr>\n",
       "    <tr>\n",
       "      <th>4</th>\n",
       "      <td>11</td>\n",
       "      <td>heart.777</td>\n",
       "      <td>A</td>\n",
       "      <td>2023-05-13 21:34:32</td>\n",
       "      <td>1164081</td>\n",
       "    </tr>\n",
       "  </tbody>\n",
       "</table>\n",
       "</div>"
      ],
      "text/plain": [
       "   id  productId phone_type          created_at  user_id\n",
       "0   6  heart.777          A 2023-05-13 21:28:34  1211127\n",
       "1   7  heart.777          A 2023-05-13 21:29:39  1151343\n",
       "2   8  heart.777          A 2023-05-13 21:31:33  1002147\n",
       "3   9  heart.777          A 2023-05-13 21:31:39  1095040\n",
       "4  11  heart.777          A 2023-05-13 21:34:32  1164081"
      ]
     },
     "execution_count": 288,
     "metadata": {},
     "output_type": "execute_result"
    }
   ],
   "source": [
    "accounts_paymenthistory.head()\n"
   ]
  },
  {
   "cell_type": "code",
   "execution_count": 289,
   "id": "7c1f548a",
   "metadata": {},
   "outputs": [
    {
     "data": {
      "text/html": [
       "<div>\n",
       "<style scoped>\n",
       "    .dataframe tbody tr th:only-of-type {\n",
       "        vertical-align: middle;\n",
       "    }\n",
       "\n",
       "    .dataframe tbody tr th {\n",
       "        vertical-align: top;\n",
       "    }\n",
       "\n",
       "    .dataframe thead th {\n",
       "        text-align: right;\n",
       "    }\n",
       "</style>\n",
       "<table border=\"1\" class=\"dataframe\">\n",
       "  <thead>\n",
       "    <tr style=\"text-align: right;\">\n",
       "      <th></th>\n",
       "      <th>id</th>\n",
       "      <th>productId</th>\n",
       "      <th>phone_type</th>\n",
       "      <th>created_at</th>\n",
       "      <th>user_id</th>\n",
       "    </tr>\n",
       "  </thead>\n",
       "  <tbody>\n",
       "    <tr>\n",
       "      <th>count</th>\n",
       "      <td>95140.000000</td>\n",
       "      <td>95140</td>\n",
       "      <td>95140</td>\n",
       "      <td>95140</td>\n",
       "      <td>9.514000e+04</td>\n",
       "    </tr>\n",
       "    <tr>\n",
       "      <th>unique</th>\n",
       "      <td>NaN</td>\n",
       "      <td>4</td>\n",
       "      <td>2</td>\n",
       "      <td>NaN</td>\n",
       "      <td>NaN</td>\n",
       "    </tr>\n",
       "    <tr>\n",
       "      <th>top</th>\n",
       "      <td>NaN</td>\n",
       "      <td>heart.777</td>\n",
       "      <td>I</td>\n",
       "      <td>NaN</td>\n",
       "      <td>NaN</td>\n",
       "    </tr>\n",
       "    <tr>\n",
       "      <th>freq</th>\n",
       "      <td>NaN</td>\n",
       "      <td>57873</td>\n",
       "      <td>61632</td>\n",
       "      <td>NaN</td>\n",
       "      <td>NaN</td>\n",
       "    </tr>\n",
       "    <tr>\n",
       "      <th>mean</th>\n",
       "      <td>49136.797572</td>\n",
       "      <td>NaN</td>\n",
       "      <td>NaN</td>\n",
       "      <td>2023-05-27 21:47:32.003741952</td>\n",
       "      <td>1.256912e+06</td>\n",
       "    </tr>\n",
       "    <tr>\n",
       "      <th>min</th>\n",
       "      <td>6.000000</td>\n",
       "      <td>NaN</td>\n",
       "      <td>NaN</td>\n",
       "      <td>2023-05-13 21:28:34</td>\n",
       "      <td>8.330410e+05</td>\n",
       "    </tr>\n",
       "    <tr>\n",
       "      <th>25%</th>\n",
       "      <td>24531.750000</td>\n",
       "      <td>NaN</td>\n",
       "      <td>NaN</td>\n",
       "      <td>2023-05-16 11:48:44.750000128</td>\n",
       "      <td>1.116654e+06</td>\n",
       "    </tr>\n",
       "    <tr>\n",
       "      <th>50%</th>\n",
       "      <td>49176.500000</td>\n",
       "      <td>NaN</td>\n",
       "      <td>NaN</td>\n",
       "      <td>2023-05-21 12:40:45.500000</td>\n",
       "      <td>1.270988e+06</td>\n",
       "    </tr>\n",
       "    <tr>\n",
       "      <th>75%</th>\n",
       "      <td>73740.250000</td>\n",
       "      <td>NaN</td>\n",
       "      <td>NaN</td>\n",
       "      <td>2023-05-27 13:02:52.249999872</td>\n",
       "      <td>1.417660e+06</td>\n",
       "    </tr>\n",
       "    <tr>\n",
       "      <th>max</th>\n",
       "      <td>98078.000000</td>\n",
       "      <td>NaN</td>\n",
       "      <td>NaN</td>\n",
       "      <td>2024-05-08 14:12:45</td>\n",
       "      <td>1.583632e+06</td>\n",
       "    </tr>\n",
       "    <tr>\n",
       "      <th>std</th>\n",
       "      <td>28366.854064</td>\n",
       "      <td>NaN</td>\n",
       "      <td>NaN</td>\n",
       "      <td>NaN</td>\n",
       "      <td>1.911243e+05</td>\n",
       "    </tr>\n",
       "  </tbody>\n",
       "</table>\n",
       "</div>"
      ],
      "text/plain": [
       "                  id  productId phone_type                     created_at       user_id\n",
       "count   95140.000000      95140      95140                          95140  9.514000e+04\n",
       "unique           NaN          4          2                            NaN           NaN\n",
       "top              NaN  heart.777          I                            NaN           NaN\n",
       "freq             NaN      57873      61632                            NaN           NaN\n",
       "mean    49136.797572        NaN        NaN  2023-05-27 21:47:32.003741952  1.256912e+06\n",
       "min         6.000000        NaN        NaN            2023-05-13 21:28:34  8.330410e+05\n",
       "25%     24531.750000        NaN        NaN  2023-05-16 11:48:44.750000128  1.116654e+06\n",
       "50%     49176.500000        NaN        NaN     2023-05-21 12:40:45.500000  1.270988e+06\n",
       "75%     73740.250000        NaN        NaN  2023-05-27 13:02:52.249999872  1.417660e+06\n",
       "max     98078.000000        NaN        NaN            2024-05-08 14:12:45  1.583632e+06\n",
       "std     28366.854064        NaN        NaN                            NaN  1.911243e+05"
      ]
     },
     "execution_count": 289,
     "metadata": {},
     "output_type": "execute_result"
    }
   ],
   "source": [
    "accounts_paymenthistory.describe(include='all')"
   ]
  },
  {
   "cell_type": "code",
   "execution_count": 290,
   "id": "aa9676fa",
   "metadata": {},
   "outputs": [
    {
     "name": "stdout",
     "output_type": "stream",
     "text": [
      "<class 'pandas.core.frame.DataFrame'>\n",
      "RangeIndex: 95140 entries, 0 to 95139\n",
      "Data columns (total 5 columns):\n",
      " #   Column      Non-Null Count  Dtype         \n",
      "---  ------      --------------  -----         \n",
      " 0   id          95140 non-null  int64         \n",
      " 1   productId   95140 non-null  object        \n",
      " 2   phone_type  95140 non-null  object        \n",
      " 3   created_at  95140 non-null  datetime64[ns]\n",
      " 4   user_id     95140 non-null  int64         \n",
      "dtypes: datetime64[ns](1), int64(2), object(2)\n",
      "memory usage: 3.6+ MB\n"
     ]
    },
    {
     "data": {
      "text/plain": [
       "None"
      ]
     },
     "metadata": {},
     "output_type": "display_data"
    },
    {
     "name": "stdout",
     "output_type": "stream",
     "text": [
      "-----\n"
     ]
    },
    {
     "data": {
      "text/plain": [
       "Timestamp('2023-05-13 21:28:34')"
      ]
     },
     "metadata": {},
     "output_type": "display_data"
    },
    {
     "name": "stdout",
     "output_type": "stream",
     "text": [
      "-----\n"
     ]
    },
    {
     "data": {
      "text/plain": [
       "Timestamp('2024-05-08 14:12:45')"
      ]
     },
     "metadata": {},
     "output_type": "display_data"
    },
    {
     "name": "stdout",
     "output_type": "stream",
     "text": [
      "-----\n"
     ]
    },
    {
     "data": {
      "text/plain": [
       "productId\n",
       "heart.777     57873\n",
       "heart.1000    19309\n",
       "heart.200     15822\n",
       "heart.4000     2136\n",
       "Name: count, dtype: int64"
      ]
     },
     "metadata": {},
     "output_type": "display_data"
    },
    {
     "name": "stdout",
     "output_type": "stream",
     "text": [
      "-----\n"
     ]
    },
    {
     "data": {
      "text/plain": [
       "2"
      ]
     },
     "metadata": {},
     "output_type": "display_data"
    },
    {
     "name": "stdout",
     "output_type": "stream",
     "text": [
      "-----\n"
     ]
    },
    {
     "data": {
      "text/plain": [
       "phone_type\n",
       "I    61632\n",
       "A    33508\n",
       "Name: count, dtype: int64"
      ]
     },
     "metadata": {},
     "output_type": "display_data"
    },
    {
     "name": "stdout",
     "output_type": "stream",
     "text": [
      "-----\n"
     ]
    },
    {
     "data": {
      "text/plain": [
       "59192"
      ]
     },
     "metadata": {},
     "output_type": "display_data"
    },
    {
     "name": "stdout",
     "output_type": "stream",
     "text": [
      "-----\n"
     ]
    }
   ],
   "source": [
    "display(accounts_paymenthistory.info())\n",
    "print('-----')\n",
    "display(accounts_paymenthistory.created_at.min())\n",
    "print('-----')\n",
    "display(accounts_paymenthistory.created_at.max())\n",
    "print('-----')\n",
    "display(accounts_paymenthistory.productId.value_counts())\n",
    "print('-----')\n",
    "display(accounts_paymenthistory.phone_type.nunique())\n",
    "print('-----')\n",
    "display(accounts_paymenthistory.phone_type.value_counts())\n",
    "print('-----')\n",
    "display(accounts_paymenthistory.user_id.nunique())\n",
    "print('-----')\n",
    "\n"
   ]
  },
  {
   "cell_type": "code",
   "execution_count": 291,
   "id": "82be70a5",
   "metadata": {},
   "outputs": [
    {
     "data": {
      "text/plain": [
       "user_id\n",
       "1527451    60\n",
       "1246471    51\n",
       "1141603    35\n",
       "1204373    34\n",
       "1142775    30\n",
       "1099530    27\n",
       "1170271    27\n",
       "1455819    25\n",
       "1358363    25\n",
       "1339014    24\n",
       "1413488    24\n",
       "1386131    24\n",
       "925538     24\n",
       "1356997    23\n",
       "1213023    23\n",
       "1331825    23\n",
       "1555539    23\n",
       "995869     22\n",
       "1092952    22\n",
       "987504     22\n",
       "Name: count, dtype: int64"
      ]
     },
     "metadata": {},
     "output_type": "display_data"
    },
    {
     "data": {
      "text/plain": [
       "np.float64(1.607311798891742)"
      ]
     },
     "metadata": {},
     "output_type": "display_data"
    }
   ],
   "source": [
    "display(accounts_paymenthistory.user_id.value_counts().head(20))\n",
    "display(accounts_paymenthistory.user_id.value_counts().mean())"
   ]
  },
  {
   "cell_type": "markdown",
   "id": "9f52647e",
   "metadata": {},
   "source": [
    "### 포인트 기록 테이블"
   ]
  },
  {
   "cell_type": "code",
   "execution_count": 292,
   "id": "3f6f5908",
   "metadata": {},
   "outputs": [
    {
     "data": {
      "text/html": [
       "<div>\n",
       "<style scoped>\n",
       "    .dataframe tbody tr th:only-of-type {\n",
       "        vertical-align: middle;\n",
       "    }\n",
       "\n",
       "    .dataframe tbody tr th {\n",
       "        vertical-align: top;\n",
       "    }\n",
       "\n",
       "    .dataframe thead th {\n",
       "        text-align: right;\n",
       "    }\n",
       "</style>\n",
       "<table border=\"1\" class=\"dataframe\">\n",
       "  <thead>\n",
       "    <tr style=\"text-align: right;\">\n",
       "      <th></th>\n",
       "      <th>id</th>\n",
       "      <th>delta_point</th>\n",
       "      <th>created_at</th>\n",
       "      <th>user_id</th>\n",
       "      <th>user_question_record_id</th>\n",
       "    </tr>\n",
       "  </thead>\n",
       "  <tbody>\n",
       "    <tr>\n",
       "      <th>0</th>\n",
       "      <td>790629</td>\n",
       "      <td>9</td>\n",
       "      <td>2023-04-28 12:27:49</td>\n",
       "      <td>849436</td>\n",
       "      <td>771777.0</td>\n",
       "    </tr>\n",
       "    <tr>\n",
       "      <th>1</th>\n",
       "      <td>790652</td>\n",
       "      <td>9</td>\n",
       "      <td>2023-04-28 12:28:02</td>\n",
       "      <td>849436</td>\n",
       "      <td>771800.0</td>\n",
       "    </tr>\n",
       "    <tr>\n",
       "      <th>2</th>\n",
       "      <td>790664</td>\n",
       "      <td>5</td>\n",
       "      <td>2023-04-28 12:28:09</td>\n",
       "      <td>849436</td>\n",
       "      <td>771812.0</td>\n",
       "    </tr>\n",
       "    <tr>\n",
       "      <th>3</th>\n",
       "      <td>790680</td>\n",
       "      <td>13</td>\n",
       "      <td>2023-04-28 12:28:16</td>\n",
       "      <td>849436</td>\n",
       "      <td>771828.0</td>\n",
       "    </tr>\n",
       "    <tr>\n",
       "      <th>4</th>\n",
       "      <td>790703</td>\n",
       "      <td>5</td>\n",
       "      <td>2023-04-28 12:28:26</td>\n",
       "      <td>849436</td>\n",
       "      <td>771851.0</td>\n",
       "    </tr>\n",
       "  </tbody>\n",
       "</table>\n",
       "</div>"
      ],
      "text/plain": [
       "       id  delta_point          created_at  user_id  user_question_record_id\n",
       "0  790629            9 2023-04-28 12:27:49   849436                 771777.0\n",
       "1  790652            9 2023-04-28 12:28:02   849436                 771800.0\n",
       "2  790664            5 2023-04-28 12:28:09   849436                 771812.0\n",
       "3  790680           13 2023-04-28 12:28:16   849436                 771828.0\n",
       "4  790703            5 2023-04-28 12:28:26   849436                 771851.0"
      ]
     },
     "execution_count": 292,
     "metadata": {},
     "output_type": "execute_result"
    }
   ],
   "source": [
    "accounts_pointhistory.head()"
   ]
  },
  {
   "cell_type": "code",
   "execution_count": 293,
   "id": "fca75fc3",
   "metadata": {},
   "outputs": [
    {
     "name": "stdout",
     "output_type": "stream",
     "text": [
      "<class 'pandas.core.frame.DataFrame'>\n",
      "RangeIndex: 2338918 entries, 0 to 2338917\n",
      "Data columns (total 5 columns):\n",
      " #   Column                   Dtype         \n",
      "---  ------                   -----         \n",
      " 0   id                       int64         \n",
      " 1   delta_point              int64         \n",
      " 2   created_at               datetime64[ns]\n",
      " 3   user_id                  int64         \n",
      " 4   user_question_record_id  float64       \n",
      "dtypes: datetime64[ns](1), float64(1), int64(3)\n",
      "memory usage: 89.2 MB\n"
     ]
    },
    {
     "data": {
      "text/plain": [
       "None"
      ]
     },
     "metadata": {},
     "output_type": "display_data"
    },
    {
     "name": "stdout",
     "output_type": "stream",
     "text": [
      "-----\n"
     ]
    },
    {
     "data": {
      "text/plain": [
       "Timestamp('2023-04-28 12:27:49')"
      ]
     },
     "metadata": {},
     "output_type": "display_data"
    },
    {
     "name": "stdout",
     "output_type": "stream",
     "text": [
      "-----\n"
     ]
    },
    {
     "data": {
      "text/plain": [
       "Timestamp('2024-05-08 01:36:18')"
      ]
     },
     "metadata": {},
     "output_type": "display_data"
    },
    {
     "name": "stdout",
     "output_type": "stream",
     "text": [
      "-----\n"
     ]
    },
    {
     "data": {
      "text/plain": [
       "5037"
      ]
     },
     "metadata": {},
     "output_type": "display_data"
    },
    {
     "name": "stdout",
     "output_type": "stream",
     "text": [
      "-----\n"
     ]
    }
   ],
   "source": [
    "display(accounts_pointhistory.info())\n",
    "print('-----')\n",
    "display(accounts_pointhistory.created_at.min())\n",
    "print('-----')\n",
    "display(accounts_pointhistory.created_at.max())\n",
    "print('-----')\n",
    "display(accounts_pointhistory.user_id.nunique())\n",
    "print('-----')"
   ]
  },
  {
   "cell_type": "code",
   "execution_count": 294,
   "id": "c3901cbb",
   "metadata": {},
   "outputs": [
    {
     "data": {
      "text/html": [
       "<div>\n",
       "<style scoped>\n",
       "    .dataframe tbody tr th:only-of-type {\n",
       "        vertical-align: middle;\n",
       "    }\n",
       "\n",
       "    .dataframe tbody tr th {\n",
       "        vertical-align: top;\n",
       "    }\n",
       "\n",
       "    .dataframe thead th {\n",
       "        text-align: right;\n",
       "    }\n",
       "</style>\n",
       "<table border=\"1\" class=\"dataframe\">\n",
       "  <thead>\n",
       "    <tr style=\"text-align: right;\">\n",
       "      <th></th>\n",
       "      <th>id</th>\n",
       "      <th>delta_point</th>\n",
       "      <th>created_at</th>\n",
       "      <th>user_id</th>\n",
       "      <th>user_question_record_id</th>\n",
       "    </tr>\n",
       "  </thead>\n",
       "  <tbody>\n",
       "  </tbody>\n",
       "</table>\n",
       "</div>"
      ],
      "text/plain": [
       "Empty DataFrame\n",
       "Columns: [id, delta_point, created_at, user_id, user_question_record_id]\n",
       "Index: []"
      ]
     },
     "execution_count": 294,
     "metadata": {},
     "output_type": "execute_result"
    }
   ],
   "source": [
    "# 1527451\n",
    "accounts_pointhistory[accounts_pointhistory['user_id'] == 1527451]"
   ]
  },
  {
   "cell_type": "code",
   "execution_count": 295,
   "id": "7325989d",
   "metadata": {},
   "outputs": [
    {
     "name": "stdout",
     "output_type": "stream",
     "text": [
      "-1000\n",
      "1000\n",
      "0.8610861945566283\n"
     ]
    }
   ],
   "source": [
    "# delta_point\n",
    "print(accounts_pointhistory['delta_point'].min())\n",
    "print(accounts_pointhistory['delta_point'].max())\n",
    "print(accounts_pointhistory['delta_point'].mean())"
   ]
  },
  {
   "cell_type": "code",
   "execution_count": 296,
   "id": "5d664aaf",
   "metadata": {},
   "outputs": [
    {
     "name": "stdout",
     "output_type": "stream",
     "text": [
      "838023\n",
      "1583358\n"
     ]
    }
   ],
   "source": [
    "# user_id\n",
    "print(accounts_pointhistory.user_id.min())\n",
    "print(accounts_pointhistory.user_id.max())"
   ]
  },
  {
   "cell_type": "markdown",
   "id": "cb7a33e3",
   "metadata": {},
   "source": [
    "### 투표 기록 테이블"
   ]
  },
  {
   "cell_type": "code",
   "execution_count": 297,
   "id": "e36893ae",
   "metadata": {},
   "outputs": [
    {
     "data": {
      "text/html": [
       "<div>\n",
       "<style scoped>\n",
       "    .dataframe tbody tr th:only-of-type {\n",
       "        vertical-align: middle;\n",
       "    }\n",
       "\n",
       "    .dataframe tbody tr th {\n",
       "        vertical-align: top;\n",
       "    }\n",
       "\n",
       "    .dataframe thead th {\n",
       "        text-align: right;\n",
       "    }\n",
       "</style>\n",
       "<table border=\"1\" class=\"dataframe\">\n",
       "  <thead>\n",
       "    <tr style=\"text-align: right;\">\n",
       "      <th></th>\n",
       "      <th>id</th>\n",
       "      <th>status</th>\n",
       "      <th>created_at</th>\n",
       "      <th>chosen_user_id</th>\n",
       "      <th>question_id</th>\n",
       "      <th>user_id</th>\n",
       "      <th>question_piece_id</th>\n",
       "      <th>has_read</th>\n",
       "      <th>answer_status</th>\n",
       "      <th>answer_updated_at</th>\n",
       "      <th>report_count</th>\n",
       "      <th>opened_times</th>\n",
       "      <th>month</th>\n",
       "      <th>weekday</th>\n",
       "      <th>hour</th>\n",
       "      <th>response_time_sec</th>\n",
       "      <th>is_answered</th>\n",
       "      <th>year_month</th>\n",
       "    </tr>\n",
       "  </thead>\n",
       "  <tbody>\n",
       "    <tr>\n",
       "      <th>0</th>\n",
       "      <td>771777</td>\n",
       "      <td>C</td>\n",
       "      <td>2023-04-28 12:27:49</td>\n",
       "      <td>849469</td>\n",
       "      <td>252</td>\n",
       "      <td>849436</td>\n",
       "      <td>998458</td>\n",
       "      <td>0</td>\n",
       "      <td>N</td>\n",
       "      <td>2023-04-28 12:27:49</td>\n",
       "      <td>0</td>\n",
       "      <td>0</td>\n",
       "      <td>2023-04</td>\n",
       "      <td>4</td>\n",
       "      <td>12</td>\n",
       "      <td>0.0</td>\n",
       "      <td>False</td>\n",
       "      <td>2023-04</td>\n",
       "    </tr>\n",
       "    <tr>\n",
       "      <th>1</th>\n",
       "      <td>771800</td>\n",
       "      <td>C</td>\n",
       "      <td>2023-04-28 12:28:02</td>\n",
       "      <td>849446</td>\n",
       "      <td>244</td>\n",
       "      <td>849436</td>\n",
       "      <td>998459</td>\n",
       "      <td>0</td>\n",
       "      <td>N</td>\n",
       "      <td>2023-04-28 12:28:02</td>\n",
       "      <td>0</td>\n",
       "      <td>0</td>\n",
       "      <td>2023-04</td>\n",
       "      <td>4</td>\n",
       "      <td>12</td>\n",
       "      <td>0.0</td>\n",
       "      <td>False</td>\n",
       "      <td>2023-04</td>\n",
       "    </tr>\n",
       "    <tr>\n",
       "      <th>2</th>\n",
       "      <td>771812</td>\n",
       "      <td>C</td>\n",
       "      <td>2023-04-28 12:28:09</td>\n",
       "      <td>849454</td>\n",
       "      <td>183</td>\n",
       "      <td>849436</td>\n",
       "      <td>998460</td>\n",
       "      <td>1</td>\n",
       "      <td>N</td>\n",
       "      <td>2023-04-28 12:28:09</td>\n",
       "      <td>0</td>\n",
       "      <td>0</td>\n",
       "      <td>2023-04</td>\n",
       "      <td>4</td>\n",
       "      <td>12</td>\n",
       "      <td>0.0</td>\n",
       "      <td>False</td>\n",
       "      <td>2023-04</td>\n",
       "    </tr>\n",
       "    <tr>\n",
       "      <th>3</th>\n",
       "      <td>771828</td>\n",
       "      <td>C</td>\n",
       "      <td>2023-04-28 12:28:16</td>\n",
       "      <td>847375</td>\n",
       "      <td>101</td>\n",
       "      <td>849436</td>\n",
       "      <td>998461</td>\n",
       "      <td>0</td>\n",
       "      <td>N</td>\n",
       "      <td>2023-04-28 12:28:16</td>\n",
       "      <td>0</td>\n",
       "      <td>0</td>\n",
       "      <td>2023-04</td>\n",
       "      <td>4</td>\n",
       "      <td>12</td>\n",
       "      <td>0.0</td>\n",
       "      <td>False</td>\n",
       "      <td>2023-04</td>\n",
       "    </tr>\n",
       "    <tr>\n",
       "      <th>4</th>\n",
       "      <td>771851</td>\n",
       "      <td>C</td>\n",
       "      <td>2023-04-28 12:28:26</td>\n",
       "      <td>849477</td>\n",
       "      <td>209</td>\n",
       "      <td>849436</td>\n",
       "      <td>998462</td>\n",
       "      <td>1</td>\n",
       "      <td>N</td>\n",
       "      <td>2023-04-28 12:28:26</td>\n",
       "      <td>0</td>\n",
       "      <td>0</td>\n",
       "      <td>2023-04</td>\n",
       "      <td>4</td>\n",
       "      <td>12</td>\n",
       "      <td>0.0</td>\n",
       "      <td>False</td>\n",
       "      <td>2023-04</td>\n",
       "    </tr>\n",
       "  </tbody>\n",
       "</table>\n",
       "</div>"
      ],
      "text/plain": [
       "       id status          created_at  chosen_user_id  question_id  user_id  question_piece_id  has_read answer_status   answer_updated_at  report_count  opened_times    month  weekday  hour  response_time_sec  is_answered year_month\n",
       "0  771777      C 2023-04-28 12:27:49          849469          252   849436             998458         0             N 2023-04-28 12:27:49             0             0  2023-04        4    12                0.0        False    2023-04\n",
       "1  771800      C 2023-04-28 12:28:02          849446          244   849436             998459         0             N 2023-04-28 12:28:02             0             0  2023-04        4    12                0.0        False    2023-04\n",
       "2  771812      C 2023-04-28 12:28:09          849454          183   849436             998460         1             N 2023-04-28 12:28:09             0             0  2023-04        4    12                0.0        False    2023-04\n",
       "3  771828      C 2023-04-28 12:28:16          847375          101   849436             998461         0             N 2023-04-28 12:28:16             0             0  2023-04        4    12                0.0        False    2023-04\n",
       "4  771851      C 2023-04-28 12:28:26          849477          209   849436             998462         1             N 2023-04-28 12:28:26             0             0  2023-04        4    12                0.0        False    2023-04"
      ]
     },
     "execution_count": 297,
     "metadata": {},
     "output_type": "execute_result"
    }
   ],
   "source": [
    "accounts_userquestionrecord.head()\n"
   ]
  },
  {
   "cell_type": "code",
   "execution_count": 298,
   "id": "e6259676",
   "metadata": {},
   "outputs": [
    {
     "data": {
      "text/plain": [
       "report_count\n",
       "0     1217389\n",
       "1         147\n",
       "2          15\n",
       "3           3\n",
       "5           1\n",
       "4           1\n",
       "6           1\n",
       "14          1\n",
       "Name: count, dtype: int64"
      ]
     },
     "execution_count": 298,
     "metadata": {},
     "output_type": "execute_result"
    }
   ],
   "source": [
    "accounts_userquestionrecord.report_count.value_counts()"
   ]
  },
  {
   "cell_type": "code",
   "execution_count": 299,
   "id": "2d43120b",
   "metadata": {},
   "outputs": [
    {
     "name": "stdout",
     "output_type": "stream",
     "text": [
      "4849\n",
      "15426\n"
     ]
    }
   ],
   "source": [
    "print(accounts_userquestionrecord.user_id.nunique())\n",
    "print(accounts_userquestionrecord.chosen_user_id.nunique())"
   ]
  },
  {
   "cell_type": "code",
   "execution_count": 300,
   "id": "6e429636",
   "metadata": {},
   "outputs": [
    {
     "name": "stdout",
     "output_type": "stream",
     "text": [
      "1217558\n",
      "1217558\n"
     ]
    }
   ],
   "source": [
    "print(accounts_userquestionrecord.id.nunique()) # 질문id\n",
    "print(accounts_userquestionrecord.question_piece_id.nunique())"
   ]
  },
  {
   "cell_type": "code",
   "execution_count": 301,
   "id": "927146bc",
   "metadata": {},
   "outputs": [
    {
     "data": {
      "text/plain": [
       "user_id\n",
       "849103     2976\n",
       "1159163    2375\n",
       "1213990    2315\n",
       "1206529    2311\n",
       "1165022    2150\n",
       "1037925    2147\n",
       "876509     2099\n",
       "856042     2027\n",
       "1041046    2017\n",
       "1236004    1958\n",
       "967873     1901\n",
       "935887     1894\n",
       "916592     1882\n",
       "1045301    1880\n",
       "1428542    1876\n",
       "1408262    1836\n",
       "1185764    1816\n",
       "922680     1774\n",
       "1058255    1756\n",
       "943631     1738\n",
       "Name: count, dtype: int64"
      ]
     },
     "metadata": {},
     "output_type": "display_data"
    }
   ],
   "source": [
    "# user_id\n",
    "display(accounts_pointhistory.user_id.value_counts().head(20))"
   ]
  },
  {
   "cell_type": "code",
   "execution_count": 302,
   "id": "acb12c3d",
   "metadata": {},
   "outputs": [
    {
     "data": {
      "text/plain": [
       "4805"
      ]
     },
     "execution_count": 302,
     "metadata": {},
     "output_type": "execute_result"
    }
   ],
   "source": [
    "# question_id\n",
    "accounts_userquestionrecord['question_id'].nunique()"
   ]
  },
  {
   "cell_type": "code",
   "execution_count": 303,
   "id": "e5281456",
   "metadata": {},
   "outputs": [
    {
     "data": {
      "text/plain": [
       "status\n",
       "C    1156322\n",
       "I      60578\n",
       "B        658\n",
       "Name: count, dtype: int64"
      ]
     },
     "execution_count": 303,
     "metadata": {},
     "output_type": "execute_result"
    }
   ],
   "source": [
    "accounts_userquestionrecord.status.value_counts()"
   ]
  },
  {
   "cell_type": "code",
   "execution_count": 304,
   "id": "f8265785",
   "metadata": {},
   "outputs": [
    {
     "data": {
      "text/plain": [
       "(Timestamp('2023-04-28 12:27:49'), Timestamp('2024-05-08 01:36:18'))"
      ]
     },
     "execution_count": 304,
     "metadata": {},
     "output_type": "execute_result"
    }
   ],
   "source": [
    "accounts_userquestionrecord.created_at.min(), accounts_userquestionrecord.created_at.max()"
   ]
  },
  {
   "cell_type": "code",
   "execution_count": 305,
   "id": "e249bb29",
   "metadata": {},
   "outputs": [
    {
     "name": "stdout",
     "output_type": "stream",
     "text": [
      "has_read\n",
      "has_read\n",
      "0    541627\n",
      "1    675931\n",
      "Name: count, dtype: int64\n",
      "열람하지 않은 비율: 44.48%\n"
     ]
    }
   ],
   "source": [
    "# has_read 값별 분포 (0 = 안읽음, 1 = 읽음)\n",
    "has_read_counts = accounts_userquestionrecord['has_read'].value_counts().sort_index()\n",
    "\n",
    "# 열람하지 않은 투표 비율\n",
    "not_read_ratio = has_read_counts.get(0, 0) / len(accounts_userquestionrecord)\n",
    "\n",
    "print(\"has_read\")\n",
    "print(has_read_counts)\n",
    "print(f\"열람하지 않은 비율: {not_read_ratio:.2%}\")"
   ]
  },
  {
   "cell_type": "code",
   "execution_count": 306,
   "id": "432211db",
   "metadata": {},
   "outputs": [
    {
     "data": {
      "image/png": "[encoded data removed]",
      "text/plain": [
       "<Figure size 1000x500 with 1 Axes>"
      ]
     },
     "metadata": {},
     "output_type": "display_data"
    }
   ],
   "source": [
    "\n",
    "# 월 단위로 그룹화 (YYYY-MM 형식으로 변환)\n",
    "accounts_userquestionrecord['month'] = accounts_userquestionrecord['created_at'].dt.to_period('M').astype(str)\n",
    "\n",
    "# 월별 ID 개수 집계\n",
    "monthly_counts = accounts_userquestionrecord.groupby('month')['id'].count().reset_index()\n",
    "\n",
    "# 시각화\n",
    "font_path = '/usr/share/fonts/truetype/nanum/NanumGothic.ttf'\n",
    "font_prop = fm.FontProperties(fname=font_path)\n",
    "\n",
    "\n",
    "plt.figure(figsize=(10, 5))\n",
    "plt.bar(monthly_counts['month'], monthly_counts['id'], color='skyblue')\n",
    "\n",
    "# ✅ 모든 텍스트 요소에 font_prop 직접 지정\n",
    "plt.xticks(rotation=45, fontproperties=font_prop)\n",
    "plt.yticks(fontproperties=font_prop)\n",
    "plt.title('왜 계속 이래', fontsize=14, fontproperties=font_prop)\n",
    "plt.xlabel('Month(YYYY-MM)', fontproperties=font_prop)\n",
    "plt.ylabel('ID count', fontproperties=font_prop)\n",
    "\n",
    "plt.tight_layout()\n",
    "plt.show()\n"
   ]
  },
  {
   "cell_type": "code",
   "execution_count": 307,
   "id": "e15bf29a",
   "metadata": {},
   "outputs": [
    {
     "name": "stdout",
     "output_type": "stream",
     "text": [
      "      month       id\n",
      "0   2023-04    30798\n",
      "1   2023-05  1104681\n",
      "2   2023-06    71341\n",
      "3   2023-07     5396\n",
      "4   2023-08     2050\n",
      "5   2023-09     1665\n",
      "6   2023-10      330\n",
      "7   2023-11      253\n",
      "8   2023-12      502\n",
      "9   2024-01      236\n",
      "10  2024-02      154\n",
      "11  2024-03       81\n",
      "12  2024-04       33\n",
      "13  2024-05       38\n"
     ]
    }
   ],
   "source": [
    "# 월별 ID 개수 테이블로 확인\n",
    "monthly_counts = accounts_userquestionrecord.groupby('month')['id'].count().reset_index()\n",
    "print(monthly_counts.sort_values('month'))"
   ]
  },
  {
   "cell_type": "code",
   "execution_count": 308,
   "id": "6ec650ba",
   "metadata": {},
   "outputs": [
    {
     "data": {
      "text/plain": [
       "1217558"
      ]
     },
     "execution_count": 308,
     "metadata": {},
     "output_type": "execute_result"
    }
   ],
   "source": [
    "accounts_userquestionrecord.id.nunique()"
   ]
  },
  {
   "cell_type": "code",
   "execution_count": 309,
   "id": "5b83ba05",
   "metadata": {},
   "outputs": [
    {
     "data": {
      "text/plain": [
       "4805"
      ]
     },
     "execution_count": 309,
     "metadata": {},
     "output_type": "execute_result"
    }
   ],
   "source": [
    "accounts_userquestionrecord.question_id.nunique()"
   ]
  },
  {
   "cell_type": "code",
   "execution_count": 310,
   "id": "7b77de88",
   "metadata": {},
   "outputs": [
    {
     "data": {
      "text/plain": [
       "4849"
      ]
     },
     "execution_count": 310,
     "metadata": {},
     "output_type": "execute_result"
    }
   ],
   "source": [
    "accounts_userquestionrecord.user_id.nunique()"
   ]
  },
  {
   "cell_type": "code",
   "execution_count": 311,
   "id": "940408c8",
   "metadata": {},
   "outputs": [
    {
     "name": "stdout",
     "output_type": "stream",
     "text": [
      "has_read       0       1  not_read_ratio\n",
      "month                                   \n",
      "2023-04    25987    4811        0.843789\n",
      "2023-05   467667  637014        0.423350\n",
      "2023-06    39691   31650        0.556356\n",
      "2023-07     3852    1544        0.713862\n",
      "2023-08     1578     472        0.769756\n",
      "2023-09     1396     269        0.838438\n",
      "2023-10      291      39        0.881818\n",
      "2023-11      220      33        0.869565\n",
      "2023-12      434      68        0.864542\n",
      "2024-01      214      22        0.906780\n",
      "2024-02      148       6        0.961039\n",
      "2024-03       79       2        0.975309\n",
      "2024-04       33       0        1.000000\n",
      "2024-05       37       1        0.973684\n"
     ]
    }
   ],
   "source": [
    "# 3. 월별 has_read 값 개수 집계\n",
    "monthly_read_counts = accounts_userquestionrecord.groupby(['month', 'has_read']).size().unstack(fill_value=0)\n",
    "# 4. 열람하지 않은 비율 계산 (has_read == 0 비율)\n",
    "monthly_read_counts['not_read_ratio'] = monthly_read_counts[0] / (monthly_read_counts[0] + monthly_read_counts[1])\n",
    "# 결과 출력\n",
    "print(monthly_read_counts)"
   ]
  },
  {
   "cell_type": "code",
   "execution_count": 312,
   "id": "736611af",
   "metadata": {},
   "outputs": [
    {
     "name": "stdout",
     "output_type": "stream",
     "text": [
      "answer_status       A       N     P  not_answered_ratio\n",
      "month                                                  \n",
      "2023-04            81   30708     9            0.997078\n",
      "2023-05        108127  989017  7537            0.895296\n",
      "2023-06          3553   67469   319            0.945725\n",
      "2023-07             0    5396     0            1.000000\n",
      "2023-08             0    2050     0            1.000000\n",
      "2023-09             0    1665     0            1.000000\n",
      "2023-10             0     330     0            1.000000\n",
      "2023-11             0     253     0            1.000000\n",
      "2023-12             0     502     0            1.000000\n",
      "2024-01             0     236     0            1.000000\n",
      "2024-02             0     154     0            1.000000\n",
      "2024-03             0      81     0            1.000000\n",
      "2024-04             0      33     0            1.000000\n",
      "2024-05             0      38     0            1.000000\n"
     ]
    }
   ],
   "source": [
    "# 3. 월별 answer_status 분포\n",
    "monthly_answer_status = accounts_userquestionrecord.groupby(['month', 'answer_status']).size().unstack(fill_value=0)\n",
    "\n",
    "# 4. 미답변 비율 계산 (answer_status == 'N')\n",
    "monthly_answer_status['not_answered_ratio'] = monthly_answer_status.get('N', 0) / monthly_answer_status.sum(axis=1)\n",
    "\n",
    "# 결과 출력\n",
    "print(monthly_answer_status)"
   ]
  },
  {
   "cell_type": "code",
   "execution_count": 313,
   "id": "dd96cb31",
   "metadata": {},
   "outputs": [
    {
     "data": {
      "text/html": [
       "<div>\n",
       "<style scoped>\n",
       "    .dataframe tbody tr th:only-of-type {\n",
       "        vertical-align: middle;\n",
       "    }\n",
       "\n",
       "    .dataframe tbody tr th {\n",
       "        vertical-align: top;\n",
       "    }\n",
       "\n",
       "    .dataframe thead th {\n",
       "        text-align: right;\n",
       "    }\n",
       "</style>\n",
       "<table border=\"1\" class=\"dataframe\">\n",
       "  <thead>\n",
       "    <tr style=\"text-align: right;\">\n",
       "      <th>hour</th>\n",
       "      <th>0</th>\n",
       "      <th>1</th>\n",
       "      <th>2</th>\n",
       "      <th>3</th>\n",
       "      <th>4</th>\n",
       "      <th>5</th>\n",
       "      <th>6</th>\n",
       "      <th>7</th>\n",
       "      <th>8</th>\n",
       "      <th>9</th>\n",
       "      <th>10</th>\n",
       "      <th>11</th>\n",
       "      <th>12</th>\n",
       "      <th>13</th>\n",
       "      <th>14</th>\n",
       "      <th>15</th>\n",
       "      <th>16</th>\n",
       "      <th>17</th>\n",
       "      <th>18</th>\n",
       "      <th>19</th>\n",
       "      <th>20</th>\n",
       "      <th>21</th>\n",
       "      <th>22</th>\n",
       "      <th>23</th>\n",
       "    </tr>\n",
       "    <tr>\n",
       "      <th>weekday</th>\n",
       "      <th></th>\n",
       "      <th></th>\n",
       "      <th></th>\n",
       "      <th></th>\n",
       "      <th></th>\n",
       "      <th></th>\n",
       "      <th></th>\n",
       "      <th></th>\n",
       "      <th></th>\n",
       "      <th></th>\n",
       "      <th></th>\n",
       "      <th></th>\n",
       "      <th></th>\n",
       "      <th></th>\n",
       "      <th></th>\n",
       "      <th></th>\n",
       "      <th></th>\n",
       "      <th></th>\n",
       "      <th></th>\n",
       "      <th></th>\n",
       "      <th></th>\n",
       "      <th></th>\n",
       "      <th></th>\n",
       "      <th></th>\n",
       "    </tr>\n",
       "  </thead>\n",
       "  <tbody>\n",
       "    <tr>\n",
       "      <th>0</th>\n",
       "      <td>3643</td>\n",
       "      <td>4706</td>\n",
       "      <td>5184</td>\n",
       "      <td>6204</td>\n",
       "      <td>5918</td>\n",
       "      <td>6801</td>\n",
       "      <td>7967</td>\n",
       "      <td>9385</td>\n",
       "      <td>9692</td>\n",
       "      <td>10060</td>\n",
       "      <td>9835</td>\n",
       "      <td>11200</td>\n",
       "      <td>13014</td>\n",
       "      <td>15051</td>\n",
       "      <td>14674</td>\n",
       "      <td>11069</td>\n",
       "      <td>5815</td>\n",
       "      <td>2522</td>\n",
       "      <td>763</td>\n",
       "      <td>362</td>\n",
       "      <td>482</td>\n",
       "      <td>1741</td>\n",
       "      <td>7998</td>\n",
       "      <td>8804</td>\n",
       "    </tr>\n",
       "    <tr>\n",
       "      <th>1</th>\n",
       "      <td>3657</td>\n",
       "      <td>3793</td>\n",
       "      <td>5067</td>\n",
       "      <td>5092</td>\n",
       "      <td>5065</td>\n",
       "      <td>5544</td>\n",
       "      <td>5071</td>\n",
       "      <td>8207</td>\n",
       "      <td>10778</td>\n",
       "      <td>10602</td>\n",
       "      <td>10344</td>\n",
       "      <td>11106</td>\n",
       "      <td>11363</td>\n",
       "      <td>12391</td>\n",
       "      <td>13301</td>\n",
       "      <td>9970</td>\n",
       "      <td>5122</td>\n",
       "      <td>1730</td>\n",
       "      <td>637</td>\n",
       "      <td>185</td>\n",
       "      <td>328</td>\n",
       "      <td>1799</td>\n",
       "      <td>7489</td>\n",
       "      <td>9015</td>\n",
       "    </tr>\n",
       "    <tr>\n",
       "      <th>2</th>\n",
       "      <td>3823</td>\n",
       "      <td>3832</td>\n",
       "      <td>4153</td>\n",
       "      <td>4835</td>\n",
       "      <td>4498</td>\n",
       "      <td>6208</td>\n",
       "      <td>8913</td>\n",
       "      <td>8874</td>\n",
       "      <td>9368</td>\n",
       "      <td>9441</td>\n",
       "      <td>8894</td>\n",
       "      <td>10694</td>\n",
       "      <td>11559</td>\n",
       "      <td>13554</td>\n",
       "      <td>13165</td>\n",
       "      <td>10012</td>\n",
       "      <td>4653</td>\n",
       "      <td>1812</td>\n",
       "      <td>678</td>\n",
       "      <td>333</td>\n",
       "      <td>407</td>\n",
       "      <td>1935</td>\n",
       "      <td>7342</td>\n",
       "      <td>8302</td>\n",
       "    </tr>\n",
       "    <tr>\n",
       "      <th>3</th>\n",
       "      <td>3431</td>\n",
       "      <td>3715</td>\n",
       "      <td>3674</td>\n",
       "      <td>3826</td>\n",
       "      <td>4228</td>\n",
       "      <td>4498</td>\n",
       "      <td>5416</td>\n",
       "      <td>7268</td>\n",
       "      <td>9102</td>\n",
       "      <td>8615</td>\n",
       "      <td>8090</td>\n",
       "      <td>8113</td>\n",
       "      <td>10259</td>\n",
       "      <td>13027</td>\n",
       "      <td>12362</td>\n",
       "      <td>9815</td>\n",
       "      <td>4753</td>\n",
       "      <td>1770</td>\n",
       "      <td>566</td>\n",
       "      <td>335</td>\n",
       "      <td>351</td>\n",
       "      <td>1584</td>\n",
       "      <td>6078</td>\n",
       "      <td>8702</td>\n",
       "    </tr>\n",
       "    <tr>\n",
       "      <th>4</th>\n",
       "      <td>3585</td>\n",
       "      <td>3744</td>\n",
       "      <td>4432</td>\n",
       "      <td>5257</td>\n",
       "      <td>4980</td>\n",
       "      <td>5149</td>\n",
       "      <td>6969</td>\n",
       "      <td>8554</td>\n",
       "      <td>10284</td>\n",
       "      <td>10122</td>\n",
       "      <td>9901</td>\n",
       "      <td>11325</td>\n",
       "      <td>13804</td>\n",
       "      <td>15380</td>\n",
       "      <td>14965</td>\n",
       "      <td>12864</td>\n",
       "      <td>8031</td>\n",
       "      <td>3674</td>\n",
       "      <td>1622</td>\n",
       "      <td>687</td>\n",
       "      <td>366</td>\n",
       "      <td>740</td>\n",
       "      <td>1923</td>\n",
       "      <td>4205</td>\n",
       "    </tr>\n",
       "    <tr>\n",
       "      <th>5</th>\n",
       "      <td>7000</td>\n",
       "      <td>9298</td>\n",
       "      <td>9633</td>\n",
       "      <td>10141</td>\n",
       "      <td>11124</td>\n",
       "      <td>10780</td>\n",
       "      <td>10569</td>\n",
       "      <td>9511</td>\n",
       "      <td>10796</td>\n",
       "      <td>11204</td>\n",
       "      <td>11918</td>\n",
       "      <td>13433</td>\n",
       "      <td>13577</td>\n",
       "      <td>14060</td>\n",
       "      <td>12941</td>\n",
       "      <td>12216</td>\n",
       "      <td>10420</td>\n",
       "      <td>5603</td>\n",
       "      <td>2610</td>\n",
       "      <td>1188</td>\n",
       "      <td>668</td>\n",
       "      <td>734</td>\n",
       "      <td>1367</td>\n",
       "      <td>3740</td>\n",
       "    </tr>\n",
       "    <tr>\n",
       "      <th>6</th>\n",
       "      <td>6930</td>\n",
       "      <td>9261</td>\n",
       "      <td>10445</td>\n",
       "      <td>11437</td>\n",
       "      <td>12115</td>\n",
       "      <td>11542</td>\n",
       "      <td>10897</td>\n",
       "      <td>11281</td>\n",
       "      <td>11425</td>\n",
       "      <td>12024</td>\n",
       "      <td>12759</td>\n",
       "      <td>13558</td>\n",
       "      <td>13970</td>\n",
       "      <td>15696</td>\n",
       "      <td>15673</td>\n",
       "      <td>13681</td>\n",
       "      <td>8724</td>\n",
       "      <td>3299</td>\n",
       "      <td>1608</td>\n",
       "      <td>559</td>\n",
       "      <td>596</td>\n",
       "      <td>1702</td>\n",
       "      <td>6482</td>\n",
       "      <td>7391</td>\n",
       "    </tr>\n",
       "  </tbody>\n",
       "</table>\n",
       "</div>"
      ],
      "text/plain": [
       "hour       0     1      2      3      4      5      6      7      8      9      10     11     12     13     14     15     16    17    18    19   20    21    22    23\n",
       "weekday                                                                                                                                                              \n",
       "0        3643  4706   5184   6204   5918   6801   7967   9385   9692  10060   9835  11200  13014  15051  14674  11069   5815  2522   763   362  482  1741  7998  8804\n",
       "1        3657  3793   5067   5092   5065   5544   5071   8207  10778  10602  10344  11106  11363  12391  13301   9970   5122  1730   637   185  328  1799  7489  9015\n",
       "2        3823  3832   4153   4835   4498   6208   8913   8874   9368   9441   8894  10694  11559  13554  13165  10012   4653  1812   678   333  407  1935  7342  8302\n",
       "3        3431  3715   3674   3826   4228   4498   5416   7268   9102   8615   8090   8113  10259  13027  12362   9815   4753  1770   566   335  351  1584  6078  8702\n",
       "4        3585  3744   4432   5257   4980   5149   6969   8554  10284  10122   9901  11325  13804  15380  14965  12864   8031  3674  1622   687  366   740  1923  4205\n",
       "5        7000  9298   9633  10141  11124  10780  10569   9511  10796  11204  11918  13433  13577  14060  12941  12216  10420  5603  2610  1188  668   734  1367  3740\n",
       "6        6930  9261  10445  11437  12115  11542  10897  11281  11425  12024  12759  13558  13970  15696  15673  13681   8724  3299  1608   559  596  1702  6482  7391"
      ]
     },
     "execution_count": 313,
     "metadata": {},
     "output_type": "execute_result"
    }
   ],
   "source": [
    "# 요일 (0=월 ~ 6=일), 시간대 (0~23시)\n",
    "accounts_userquestionrecord['weekday'] = accounts_userquestionrecord['created_at'].dt.dayofweek\n",
    "accounts_userquestionrecord['hour'] = accounts_userquestionrecord['created_at'].dt.hour\n",
    "\n",
    "# 요일-시간대별 id 수\n",
    "vote_heatmap = accounts_userquestionrecord.pivot_table(\n",
    "    index='weekday', columns='hour', values='id', aggfunc='count', fill_value=0\n",
    ")\n",
    "vote_heatmap\n"
   ]
  },
  {
   "cell_type": "code",
   "execution_count": 314,
   "id": "004d71ca",
   "metadata": {},
   "outputs": [
    {
     "name": "stdout",
     "output_type": "stream",
     "text": [
      "count    1.196220e+05\n",
      "mean     3.240718e+04\n",
      "std      9.651538e+04\n",
      "min      6.000000e+00\n",
      "25%      5.600000e+02\n",
      "50%      4.269000e+03\n",
      "75%      2.442200e+04\n",
      "max      2.386873e+06\n",
      "Name: response_time_sec, dtype: float64\n"
     ]
    }
   ],
   "source": [
    "# 응답까지 걸린 시간 (초)\n",
    "accounts_userquestionrecord['response_time_sec'] = (\n",
    "    accounts_userquestionrecord['answer_updated_at'] - accounts_userquestionrecord['created_at']\n",
    ").dt.total_seconds()\n",
    "\n",
    "# 0초 이상 30일 이하만 필터링\n",
    "valid_responses = accounts_userquestionrecord[\n",
    "    (accounts_userquestionrecord['response_time_sec'] > 0) &\n",
    "    (accounts_userquestionrecord['response_time_sec'] < 2592000)\n",
    "]\n",
    "\n",
    "# 기본 통계\n",
    "print(valid_responses['response_time_sec'].describe())\n",
    "\n",
    "# 평균 9시간"
   ]
  },
  {
   "cell_type": "code",
   "execution_count": 315,
   "id": "1ee043fc",
   "metadata": {},
   "outputs": [
    {
     "data": {
      "text/html": [
       "<div>\n",
       "<style scoped>\n",
       "    .dataframe tbody tr th:only-of-type {\n",
       "        vertical-align: middle;\n",
       "    }\n",
       "\n",
       "    .dataframe tbody tr th {\n",
       "        vertical-align: top;\n",
       "    }\n",
       "\n",
       "    .dataframe thead th {\n",
       "        text-align: right;\n",
       "    }\n",
       "</style>\n",
       "<table border=\"1\" class=\"dataframe\">\n",
       "  <thead>\n",
       "    <tr style=\"text-align: right;\">\n",
       "      <th>hour</th>\n",
       "      <th>0</th>\n",
       "      <th>1</th>\n",
       "      <th>2</th>\n",
       "      <th>3</th>\n",
       "      <th>4</th>\n",
       "      <th>5</th>\n",
       "      <th>6</th>\n",
       "      <th>7</th>\n",
       "      <th>8</th>\n",
       "      <th>9</th>\n",
       "      <th>10</th>\n",
       "      <th>11</th>\n",
       "      <th>12</th>\n",
       "      <th>13</th>\n",
       "      <th>14</th>\n",
       "      <th>15</th>\n",
       "      <th>16</th>\n",
       "      <th>17</th>\n",
       "      <th>18</th>\n",
       "      <th>19</th>\n",
       "      <th>20</th>\n",
       "      <th>21</th>\n",
       "      <th>22</th>\n",
       "      <th>23</th>\n",
       "    </tr>\n",
       "    <tr>\n",
       "      <th>weekday</th>\n",
       "      <th></th>\n",
       "      <th></th>\n",
       "      <th></th>\n",
       "      <th></th>\n",
       "      <th></th>\n",
       "      <th></th>\n",
       "      <th></th>\n",
       "      <th></th>\n",
       "      <th></th>\n",
       "      <th></th>\n",
       "      <th></th>\n",
       "      <th></th>\n",
       "      <th></th>\n",
       "      <th></th>\n",
       "      <th></th>\n",
       "      <th></th>\n",
       "      <th></th>\n",
       "      <th></th>\n",
       "      <th></th>\n",
       "      <th></th>\n",
       "      <th></th>\n",
       "      <th></th>\n",
       "      <th></th>\n",
       "      <th></th>\n",
       "    </tr>\n",
       "  </thead>\n",
       "  <tbody>\n",
       "    <tr>\n",
       "      <th>0</th>\n",
       "      <td>0.562998</td>\n",
       "      <td>0.548661</td>\n",
       "      <td>0.545718</td>\n",
       "      <td>0.551580</td>\n",
       "      <td>0.532950</td>\n",
       "      <td>0.531687</td>\n",
       "      <td>0.568721</td>\n",
       "      <td>0.557059</td>\n",
       "      <td>0.571915</td>\n",
       "      <td>0.573062</td>\n",
       "      <td>0.566751</td>\n",
       "      <td>0.572857</td>\n",
       "      <td>0.571154</td>\n",
       "      <td>0.558634</td>\n",
       "      <td>0.550157</td>\n",
       "      <td>0.548740</td>\n",
       "      <td>0.514187</td>\n",
       "      <td>0.494449</td>\n",
       "      <td>0.473132</td>\n",
       "      <td>0.430939</td>\n",
       "      <td>0.524896</td>\n",
       "      <td>0.570362</td>\n",
       "      <td>0.562141</td>\n",
       "      <td>0.553498</td>\n",
       "    </tr>\n",
       "    <tr>\n",
       "      <th>1</th>\n",
       "      <td>0.543615</td>\n",
       "      <td>0.530451</td>\n",
       "      <td>0.501283</td>\n",
       "      <td>0.522584</td>\n",
       "      <td>0.497137</td>\n",
       "      <td>0.503608</td>\n",
       "      <td>0.514100</td>\n",
       "      <td>0.560253</td>\n",
       "      <td>0.566246</td>\n",
       "      <td>0.564893</td>\n",
       "      <td>0.570572</td>\n",
       "      <td>0.569602</td>\n",
       "      <td>0.568688</td>\n",
       "      <td>0.571140</td>\n",
       "      <td>0.554921</td>\n",
       "      <td>0.548044</td>\n",
       "      <td>0.519719</td>\n",
       "      <td>0.487283</td>\n",
       "      <td>0.492936</td>\n",
       "      <td>0.508108</td>\n",
       "      <td>0.500000</td>\n",
       "      <td>0.564758</td>\n",
       "      <td>0.549072</td>\n",
       "      <td>0.554520</td>\n",
       "    </tr>\n",
       "    <tr>\n",
       "      <th>2</th>\n",
       "      <td>0.529950</td>\n",
       "      <td>0.536534</td>\n",
       "      <td>0.509993</td>\n",
       "      <td>0.498242</td>\n",
       "      <td>0.490885</td>\n",
       "      <td>0.526740</td>\n",
       "      <td>0.553237</td>\n",
       "      <td>0.545864</td>\n",
       "      <td>0.548890</td>\n",
       "      <td>0.551425</td>\n",
       "      <td>0.542163</td>\n",
       "      <td>0.543015</td>\n",
       "      <td>0.536552</td>\n",
       "      <td>0.531135</td>\n",
       "      <td>0.511432</td>\n",
       "      <td>0.515382</td>\n",
       "      <td>0.458844</td>\n",
       "      <td>0.466336</td>\n",
       "      <td>0.414454</td>\n",
       "      <td>0.381381</td>\n",
       "      <td>0.459459</td>\n",
       "      <td>0.483204</td>\n",
       "      <td>0.520567</td>\n",
       "      <td>0.526138</td>\n",
       "    </tr>\n",
       "    <tr>\n",
       "      <th>3</th>\n",
       "      <td>0.461382</td>\n",
       "      <td>0.461911</td>\n",
       "      <td>0.486935</td>\n",
       "      <td>0.450078</td>\n",
       "      <td>0.428808</td>\n",
       "      <td>0.469542</td>\n",
       "      <td>0.525480</td>\n",
       "      <td>0.543478</td>\n",
       "      <td>0.533949</td>\n",
       "      <td>0.533604</td>\n",
       "      <td>0.539061</td>\n",
       "      <td>0.539998</td>\n",
       "      <td>0.551906</td>\n",
       "      <td>0.563522</td>\n",
       "      <td>0.568274</td>\n",
       "      <td>0.543556</td>\n",
       "      <td>0.545129</td>\n",
       "      <td>0.509040</td>\n",
       "      <td>0.489399</td>\n",
       "      <td>0.420896</td>\n",
       "      <td>0.490028</td>\n",
       "      <td>0.590278</td>\n",
       "      <td>0.598059</td>\n",
       "      <td>0.586647</td>\n",
       "    </tr>\n",
       "    <tr>\n",
       "      <th>4</th>\n",
       "      <td>0.514365</td>\n",
       "      <td>0.506677</td>\n",
       "      <td>0.496841</td>\n",
       "      <td>0.505802</td>\n",
       "      <td>0.513253</td>\n",
       "      <td>0.517965</td>\n",
       "      <td>0.562061</td>\n",
       "      <td>0.576105</td>\n",
       "      <td>0.551050</td>\n",
       "      <td>0.541691</td>\n",
       "      <td>0.547116</td>\n",
       "      <td>0.561148</td>\n",
       "      <td>0.552086</td>\n",
       "      <td>0.530299</td>\n",
       "      <td>0.540662</td>\n",
       "      <td>0.539024</td>\n",
       "      <td>0.527705</td>\n",
       "      <td>0.483125</td>\n",
       "      <td>0.489519</td>\n",
       "      <td>0.481805</td>\n",
       "      <td>0.601093</td>\n",
       "      <td>0.566216</td>\n",
       "      <td>0.579303</td>\n",
       "      <td>0.583829</td>\n",
       "    </tr>\n",
       "    <tr>\n",
       "      <th>5</th>\n",
       "      <td>0.589857</td>\n",
       "      <td>0.579372</td>\n",
       "      <td>0.591301</td>\n",
       "      <td>0.588699</td>\n",
       "      <td>0.579648</td>\n",
       "      <td>0.587477</td>\n",
       "      <td>0.575362</td>\n",
       "      <td>0.572810</td>\n",
       "      <td>0.596054</td>\n",
       "      <td>0.582649</td>\n",
       "      <td>0.605135</td>\n",
       "      <td>0.600610</td>\n",
       "      <td>0.617736</td>\n",
       "      <td>0.595590</td>\n",
       "      <td>0.600340</td>\n",
       "      <td>0.600606</td>\n",
       "      <td>0.584933</td>\n",
       "      <td>0.530430</td>\n",
       "      <td>0.525287</td>\n",
       "      <td>0.471380</td>\n",
       "      <td>0.525449</td>\n",
       "      <td>0.621253</td>\n",
       "      <td>0.617410</td>\n",
       "      <td>0.611497</td>\n",
       "    </tr>\n",
       "    <tr>\n",
       "      <th>6</th>\n",
       "      <td>0.601876</td>\n",
       "      <td>0.593348</td>\n",
       "      <td>0.596458</td>\n",
       "      <td>0.568506</td>\n",
       "      <td>0.583244</td>\n",
       "      <td>0.603535</td>\n",
       "      <td>0.578875</td>\n",
       "      <td>0.587093</td>\n",
       "      <td>0.571291</td>\n",
       "      <td>0.571025</td>\n",
       "      <td>0.574888</td>\n",
       "      <td>0.569406</td>\n",
       "      <td>0.577237</td>\n",
       "      <td>0.569763</td>\n",
       "      <td>0.564665</td>\n",
       "      <td>0.531979</td>\n",
       "      <td>0.539546</td>\n",
       "      <td>0.497727</td>\n",
       "      <td>0.486318</td>\n",
       "      <td>0.438283</td>\n",
       "      <td>0.484899</td>\n",
       "      <td>0.552291</td>\n",
       "      <td>0.556310</td>\n",
       "      <td>0.557841</td>\n",
       "    </tr>\n",
       "  </tbody>\n",
       "</table>\n",
       "</div>"
      ],
      "text/plain": [
       "hour           0         1         2         3         4         5         6         7         8         9         10        11        12        13        14        15        16        17        18        19        20        21        22        23\n",
       "weekday                                                                                                                                                                                                                                                \n",
       "0        0.562998  0.548661  0.545718  0.551580  0.532950  0.531687  0.568721  0.557059  0.571915  0.573062  0.566751  0.572857  0.571154  0.558634  0.550157  0.548740  0.514187  0.494449  0.473132  0.430939  0.524896  0.570362  0.562141  0.553498\n",
       "1        0.543615  0.530451  0.501283  0.522584  0.497137  0.503608  0.514100  0.560253  0.566246  0.564893  0.570572  0.569602  0.568688  0.571140  0.554921  0.548044  0.519719  0.487283  0.492936  0.508108  0.500000  0.564758  0.549072  0.554520\n",
       "2        0.529950  0.536534  0.509993  0.498242  0.490885  0.526740  0.553237  0.545864  0.548890  0.551425  0.542163  0.543015  0.536552  0.531135  0.511432  0.515382  0.458844  0.466336  0.414454  0.381381  0.459459  0.483204  0.520567  0.526138\n",
       "3        0.461382  0.461911  0.486935  0.450078  0.428808  0.469542  0.525480  0.543478  0.533949  0.533604  0.539061  0.539998  0.551906  0.563522  0.568274  0.543556  0.545129  0.509040  0.489399  0.420896  0.490028  0.590278  0.598059  0.586647\n",
       "4        0.514365  0.506677  0.496841  0.505802  0.513253  0.517965  0.562061  0.576105  0.551050  0.541691  0.547116  0.561148  0.552086  0.530299  0.540662  0.539024  0.527705  0.483125  0.489519  0.481805  0.601093  0.566216  0.579303  0.583829\n",
       "5        0.589857  0.579372  0.591301  0.588699  0.579648  0.587477  0.575362  0.572810  0.596054  0.582649  0.605135  0.600610  0.617736  0.595590  0.600340  0.600606  0.584933  0.530430  0.525287  0.471380  0.525449  0.621253  0.617410  0.611497\n",
       "6        0.601876  0.593348  0.596458  0.568506  0.583244  0.603535  0.578875  0.587093  0.571291  0.571025  0.574888  0.569406  0.577237  0.569763  0.564665  0.531979  0.539546  0.497727  0.486318  0.438283  0.484899  0.552291  0.556310  0.557841"
      ]
     },
     "execution_count": 315,
     "metadata": {},
     "output_type": "execute_result"
    }
   ],
   "source": [
    "# 열람률: has_read 평균\n",
    "read_rate = accounts_userquestionrecord.groupby(['weekday', 'hour'])['has_read'].mean().unstack()\n",
    "read_rate"
   ]
  },
  {
   "cell_type": "code",
   "execution_count": 316,
   "id": "ee43d388",
   "metadata": {},
   "outputs": [
    {
     "data": {
      "text/html": [
       "<div>\n",
       "<style scoped>\n",
       "    .dataframe tbody tr th:only-of-type {\n",
       "        vertical-align: middle;\n",
       "    }\n",
       "\n",
       "    .dataframe tbody tr th {\n",
       "        vertical-align: top;\n",
       "    }\n",
       "\n",
       "    .dataframe thead th {\n",
       "        text-align: right;\n",
       "    }\n",
       "</style>\n",
       "<table border=\"1\" class=\"dataframe\">\n",
       "  <thead>\n",
       "    <tr style=\"text-align: right;\">\n",
       "      <th>hour</th>\n",
       "      <th>0</th>\n",
       "      <th>1</th>\n",
       "      <th>2</th>\n",
       "      <th>3</th>\n",
       "      <th>4</th>\n",
       "      <th>5</th>\n",
       "      <th>6</th>\n",
       "      <th>7</th>\n",
       "      <th>8</th>\n",
       "      <th>9</th>\n",
       "      <th>10</th>\n",
       "      <th>11</th>\n",
       "      <th>12</th>\n",
       "      <th>13</th>\n",
       "      <th>14</th>\n",
       "      <th>15</th>\n",
       "      <th>16</th>\n",
       "      <th>17</th>\n",
       "      <th>18</th>\n",
       "      <th>19</th>\n",
       "      <th>20</th>\n",
       "      <th>21</th>\n",
       "      <th>22</th>\n",
       "      <th>23</th>\n",
       "    </tr>\n",
       "    <tr>\n",
       "      <th>weekday</th>\n",
       "      <th></th>\n",
       "      <th></th>\n",
       "      <th></th>\n",
       "      <th></th>\n",
       "      <th></th>\n",
       "      <th></th>\n",
       "      <th></th>\n",
       "      <th></th>\n",
       "      <th></th>\n",
       "      <th></th>\n",
       "      <th></th>\n",
       "      <th></th>\n",
       "      <th></th>\n",
       "      <th></th>\n",
       "      <th></th>\n",
       "      <th></th>\n",
       "      <th></th>\n",
       "      <th></th>\n",
       "      <th></th>\n",
       "      <th></th>\n",
       "      <th></th>\n",
       "      <th></th>\n",
       "      <th></th>\n",
       "      <th></th>\n",
       "    </tr>\n",
       "  </thead>\n",
       "  <tbody>\n",
       "    <tr>\n",
       "      <th>0</th>\n",
       "      <td>0.087565</td>\n",
       "      <td>0.087335</td>\n",
       "      <td>0.091821</td>\n",
       "      <td>0.086396</td>\n",
       "      <td>0.089726</td>\n",
       "      <td>0.088222</td>\n",
       "      <td>0.086356</td>\n",
       "      <td>0.093127</td>\n",
       "      <td>0.092551</td>\n",
       "      <td>0.098310</td>\n",
       "      <td>0.091307</td>\n",
       "      <td>0.099732</td>\n",
       "      <td>0.100123</td>\n",
       "      <td>0.094412</td>\n",
       "      <td>0.092272</td>\n",
       "      <td>0.093143</td>\n",
       "      <td>0.078418</td>\n",
       "      <td>0.068993</td>\n",
       "      <td>0.062910</td>\n",
       "      <td>0.082873</td>\n",
       "      <td>0.095436</td>\n",
       "      <td>0.084434</td>\n",
       "      <td>0.083771</td>\n",
       "      <td>0.082122</td>\n",
       "    </tr>\n",
       "    <tr>\n",
       "      <th>1</th>\n",
       "      <td>0.086136</td>\n",
       "      <td>0.087530</td>\n",
       "      <td>0.082692</td>\n",
       "      <td>0.078358</td>\n",
       "      <td>0.073445</td>\n",
       "      <td>0.074675</td>\n",
       "      <td>0.078683</td>\n",
       "      <td>0.094675</td>\n",
       "      <td>0.102802</td>\n",
       "      <td>0.097151</td>\n",
       "      <td>0.101508</td>\n",
       "      <td>0.104538</td>\n",
       "      <td>0.101118</td>\n",
       "      <td>0.101929</td>\n",
       "      <td>0.102248</td>\n",
       "      <td>0.095286</td>\n",
       "      <td>0.076337</td>\n",
       "      <td>0.088439</td>\n",
       "      <td>0.075353</td>\n",
       "      <td>0.075676</td>\n",
       "      <td>0.088415</td>\n",
       "      <td>0.088382</td>\n",
       "      <td>0.089465</td>\n",
       "      <td>0.085413</td>\n",
       "    </tr>\n",
       "    <tr>\n",
       "      <th>2</th>\n",
       "      <td>0.076641</td>\n",
       "      <td>0.086378</td>\n",
       "      <td>0.086203</td>\n",
       "      <td>0.083144</td>\n",
       "      <td>0.070920</td>\n",
       "      <td>0.074098</td>\n",
       "      <td>0.091776</td>\n",
       "      <td>0.088799</td>\n",
       "      <td>0.097886</td>\n",
       "      <td>0.093740</td>\n",
       "      <td>0.090173</td>\n",
       "      <td>0.096503</td>\n",
       "      <td>0.094991</td>\n",
       "      <td>0.094880</td>\n",
       "      <td>0.083707</td>\n",
       "      <td>0.079505</td>\n",
       "      <td>0.061466</td>\n",
       "      <td>0.067881</td>\n",
       "      <td>0.045723</td>\n",
       "      <td>0.090090</td>\n",
       "      <td>0.076167</td>\n",
       "      <td>0.059948</td>\n",
       "      <td>0.080904</td>\n",
       "      <td>0.076969</td>\n",
       "    </tr>\n",
       "    <tr>\n",
       "      <th>3</th>\n",
       "      <td>0.070825</td>\n",
       "      <td>0.066756</td>\n",
       "      <td>0.081111</td>\n",
       "      <td>0.066649</td>\n",
       "      <td>0.056528</td>\n",
       "      <td>0.067363</td>\n",
       "      <td>0.104690</td>\n",
       "      <td>0.093148</td>\n",
       "      <td>0.090749</td>\n",
       "      <td>0.097969</td>\n",
       "      <td>0.088999</td>\n",
       "      <td>0.083816</td>\n",
       "      <td>0.098743</td>\n",
       "      <td>0.100791</td>\n",
       "      <td>0.103948</td>\n",
       "      <td>0.106164</td>\n",
       "      <td>0.093835</td>\n",
       "      <td>0.075141</td>\n",
       "      <td>0.086572</td>\n",
       "      <td>0.068657</td>\n",
       "      <td>0.102564</td>\n",
       "      <td>0.103535</td>\n",
       "      <td>0.106449</td>\n",
       "      <td>0.103999</td>\n",
       "    </tr>\n",
       "    <tr>\n",
       "      <th>4</th>\n",
       "      <td>0.091492</td>\n",
       "      <td>0.084669</td>\n",
       "      <td>0.076264</td>\n",
       "      <td>0.081605</td>\n",
       "      <td>0.091365</td>\n",
       "      <td>0.087590</td>\n",
       "      <td>0.100301</td>\n",
       "      <td>0.109656</td>\n",
       "      <td>0.095974</td>\n",
       "      <td>0.084865</td>\n",
       "      <td>0.093021</td>\n",
       "      <td>0.104547</td>\n",
       "      <td>0.094103</td>\n",
       "      <td>0.092198</td>\n",
       "      <td>0.088473</td>\n",
       "      <td>0.081623</td>\n",
       "      <td>0.070975</td>\n",
       "      <td>0.056342</td>\n",
       "      <td>0.057953</td>\n",
       "      <td>0.065502</td>\n",
       "      <td>0.073770</td>\n",
       "      <td>0.075676</td>\n",
       "      <td>0.081123</td>\n",
       "      <td>0.084899</td>\n",
       "    </tr>\n",
       "    <tr>\n",
       "      <th>5</th>\n",
       "      <td>0.086857</td>\n",
       "      <td>0.083674</td>\n",
       "      <td>0.092702</td>\n",
       "      <td>0.092792</td>\n",
       "      <td>0.091244</td>\n",
       "      <td>0.095547</td>\n",
       "      <td>0.090926</td>\n",
       "      <td>0.096730</td>\n",
       "      <td>0.101982</td>\n",
       "      <td>0.102999</td>\n",
       "      <td>0.094982</td>\n",
       "      <td>0.104816</td>\n",
       "      <td>0.101790</td>\n",
       "      <td>0.097653</td>\n",
       "      <td>0.106483</td>\n",
       "      <td>0.097577</td>\n",
       "      <td>0.096833</td>\n",
       "      <td>0.079065</td>\n",
       "      <td>0.070115</td>\n",
       "      <td>0.069024</td>\n",
       "      <td>0.070359</td>\n",
       "      <td>0.070845</td>\n",
       "      <td>0.102414</td>\n",
       "      <td>0.090909</td>\n",
       "    </tr>\n",
       "    <tr>\n",
       "      <th>6</th>\n",
       "      <td>0.097835</td>\n",
       "      <td>0.096858</td>\n",
       "      <td>0.096314</td>\n",
       "      <td>0.091195</td>\n",
       "      <td>0.086339</td>\n",
       "      <td>0.098077</td>\n",
       "      <td>0.093787</td>\n",
       "      <td>0.092634</td>\n",
       "      <td>0.101269</td>\n",
       "      <td>0.096806</td>\n",
       "      <td>0.099538</td>\n",
       "      <td>0.096106</td>\n",
       "      <td>0.103078</td>\n",
       "      <td>0.099580</td>\n",
       "      <td>0.091431</td>\n",
       "      <td>0.089760</td>\n",
       "      <td>0.082416</td>\n",
       "      <td>0.059109</td>\n",
       "      <td>0.067164</td>\n",
       "      <td>0.041145</td>\n",
       "      <td>0.078859</td>\n",
       "      <td>0.066980</td>\n",
       "      <td>0.073897</td>\n",
       "      <td>0.083074</td>\n",
       "    </tr>\n",
       "  </tbody>\n",
       "</table>\n",
       "</div>"
      ],
      "text/plain": [
       "hour           0         1         2         3         4         5         6         7         8         9         10        11        12        13        14        15        16        17        18        19        20        21        22        23\n",
       "weekday                                                                                                                                                                                                                                                \n",
       "0        0.087565  0.087335  0.091821  0.086396  0.089726  0.088222  0.086356  0.093127  0.092551  0.098310  0.091307  0.099732  0.100123  0.094412  0.092272  0.093143  0.078418  0.068993  0.062910  0.082873  0.095436  0.084434  0.083771  0.082122\n",
       "1        0.086136  0.087530  0.082692  0.078358  0.073445  0.074675  0.078683  0.094675  0.102802  0.097151  0.101508  0.104538  0.101118  0.101929  0.102248  0.095286  0.076337  0.088439  0.075353  0.075676  0.088415  0.088382  0.089465  0.085413\n",
       "2        0.076641  0.086378  0.086203  0.083144  0.070920  0.074098  0.091776  0.088799  0.097886  0.093740  0.090173  0.096503  0.094991  0.094880  0.083707  0.079505  0.061466  0.067881  0.045723  0.090090  0.076167  0.059948  0.080904  0.076969\n",
       "3        0.070825  0.066756  0.081111  0.066649  0.056528  0.067363  0.104690  0.093148  0.090749  0.097969  0.088999  0.083816  0.098743  0.100791  0.103948  0.106164  0.093835  0.075141  0.086572  0.068657  0.102564  0.103535  0.106449  0.103999\n",
       "4        0.091492  0.084669  0.076264  0.081605  0.091365  0.087590  0.100301  0.109656  0.095974  0.084865  0.093021  0.104547  0.094103  0.092198  0.088473  0.081623  0.070975  0.056342  0.057953  0.065502  0.073770  0.075676  0.081123  0.084899\n",
       "5        0.086857  0.083674  0.092702  0.092792  0.091244  0.095547  0.090926  0.096730  0.101982  0.102999  0.094982  0.104816  0.101790  0.097653  0.106483  0.097577  0.096833  0.079065  0.070115  0.069024  0.070359  0.070845  0.102414  0.090909\n",
       "6        0.097835  0.096858  0.096314  0.091195  0.086339  0.098077  0.093787  0.092634  0.101269  0.096806  0.099538  0.096106  0.103078  0.099580  0.091431  0.089760  0.082416  0.059109  0.067164  0.041145  0.078859  0.066980  0.073897  0.083074"
      ]
     },
     "execution_count": 316,
     "metadata": {},
     "output_type": "execute_result"
    }
   ],
   "source": [
    "# 응답 여부 컬럼\n",
    "accounts_userquestionrecord['is_answered'] = accounts_userquestionrecord['answer_status'] == 'A'\n",
    "\n",
    "# 응답률: is_answered 평균\n",
    "answer_rate = accounts_userquestionrecord.groupby(['weekday', 'hour'])['is_answered'].mean().unstack()\n",
    "\n",
    "answer_rate"
   ]
  },
  {
   "cell_type": "code",
   "execution_count": 317,
   "id": "b12130db",
   "metadata": {},
   "outputs": [
    {
     "name": "stdout",
     "output_type": "stream",
     "text": [
      "   user_id    last_activity_at\n",
      "0   838023 2023-05-04 07:26:25\n",
      "1   838466 2023-09-18 12:48:28\n",
      "2   838642 2023-04-29 03:00:56\n",
      "3   839357 2023-05-26 07:18:10\n",
      "4   840293 2023-05-15 09:35:08\n"
     ]
    }
   ],
   "source": [
    "last_active = accounts_userquestionrecord.groupby('user_id')['created_at'].max().reset_index()\n",
    "last_active.columns = ['user_id', 'last_activity_at']\n",
    "\n",
    "print(last_active.head())\n"
   ]
  },
  {
   "cell_type": "code",
   "execution_count": 318,
   "id": "54ca90af",
   "metadata": {},
   "outputs": [
    {
     "data": {
      "text/plain": [
       "4849"
      ]
     },
     "execution_count": 318,
     "metadata": {},
     "output_type": "execute_result"
    }
   ],
   "source": [
    "len(last_active)"
   ]
  },
  {
   "cell_type": "code",
   "execution_count": 319,
   "id": "42b1554a",
   "metadata": {},
   "outputs": [
    {
     "data": {
      "text/plain": [
       "4849"
      ]
     },
     "execution_count": 319,
     "metadata": {},
     "output_type": "execute_result"
    }
   ],
   "source": [
    "accounts_userquestionrecord.user_id.nunique()"
   ]
  },
  {
   "cell_type": "code",
   "execution_count": 320,
   "id": "0af6551f",
   "metadata": {},
   "outputs": [
    {
     "data": {
      "image/png": "[encoded data removed]",
      "text/plain": [
       "<Figure size 1000x500 with 1 Axes>"
      ]
     },
     "metadata": {},
     "output_type": "display_data"
    }
   ],
   "source": [
    "# 연-월(YYYY-MM) 단위로 변환\n",
    "last_active['year_month'] = last_active['last_activity_at'].dt.to_period('M').astype(str)\n",
    "\n",
    "# 연-월별 user 수 집계\n",
    "monthly_last_active = last_active['year_month'].value_counts().sort_index()\n",
    "\n",
    "plt.figure(figsize=(10, 5))\n",
    "monthly_last_active.plot(kind='bar', color='steelblue')\n",
    "plt.title('last user activities')\n",
    "plt.xlabel('Y-M')\n",
    "plt.ylabel('users')\n",
    "plt.xticks(rotation=45)\n",
    "plt.tight_layout()\n",
    "plt.show()\n"
   ]
  },
  {
   "cell_type": "code",
   "execution_count": 321,
   "id": "0a4c6892",
   "metadata": {},
   "outputs": [
    {
     "data": {
      "text/plain": [
       "year_month\n",
       "2023-04      10\n",
       "2023-05    2769\n",
       "2023-06    1428\n",
       "2023-07     270\n",
       "2023-08     111\n",
       "2023-09     143\n",
       "2023-10      39\n",
       "2023-11      14\n",
       "2023-12      19\n",
       "2024-01      16\n",
       "2024-02       7\n",
       "2024-03      13\n",
       "2024-04       4\n",
       "2024-05       6\n",
       "Name: count, dtype: int64"
      ]
     },
     "execution_count": 321,
     "metadata": {},
     "output_type": "execute_result"
    }
   ],
   "source": [
    "monthly_last_active"
   ]
  },
  {
   "cell_type": "code",
   "execution_count": 322,
   "id": "7b12a41e",
   "metadata": {},
   "outputs": [
    {
     "data": {
      "image/png": "[encoded data removed]",
      "text/plain": [
       "<Figure size 1000x500 with 1 Axes>"
      ]
     },
     "metadata": {},
     "output_type": "display_data"
    }
   ],
   "source": [
    "accounts_userquestionrecord# 연-월 컬럼 생성\n",
    "accounts_userquestionrecord['year_month'] = accounts_userquestionrecord['created_at'].dt.to_period('M').astype(str)\n",
    "\n",
    "# 월별 신고 총합 계산\n",
    "monthly_reports = accounts_userquestionrecord.groupby('year_month')['report_count'].sum()\n",
    "\n",
    "plt.figure(figsize=(10, 5))\n",
    "monthly_reports.plot(kind='bar', color='crimson')\n",
    "plt.title('report_counts')\n",
    "plt.xlabel('Y-M')\n",
    "plt.ylabel('report counts')\n",
    "plt.xticks(rotation=45)\n",
    "plt.tight_layout()\n",
    "plt.show()"
   ]
  },
  {
   "cell_type": "code",
   "execution_count": 323,
   "id": "f4a019c0",
   "metadata": {},
   "outputs": [
    {
     "data": {
      "text/plain": [
       "report_count\n",
       "0     1217389\n",
       "1         147\n",
       "2          15\n",
       "3           3\n",
       "5           1\n",
       "4           1\n",
       "6           1\n",
       "14          1\n",
       "Name: count, dtype: int64"
      ]
     },
     "execution_count": 323,
     "metadata": {},
     "output_type": "execute_result"
    }
   ],
   "source": [
    "accounts_userquestionrecord.report_count.value_counts()"
   ]
  },
  {
   "cell_type": "code",
   "execution_count": 324,
   "id": "82fcabe4",
   "metadata": {},
   "outputs": [
    {
     "data": {
      "text/plain": [
       "year_month\n",
       "2023-04      0\n",
       "2023-05    213\n",
       "2023-06      2\n",
       "2023-07      0\n",
       "2023-08      0\n",
       "2023-09      0\n",
       "2023-10      0\n",
       "2023-11      0\n",
       "2023-12      0\n",
       "2024-01      0\n",
       "2024-02      0\n",
       "2024-03      0\n",
       "2024-04      0\n",
       "2024-05      0\n",
       "Name: report_count, dtype: int64"
      ]
     },
     "execution_count": 324,
     "metadata": {},
     "output_type": "execute_result"
    }
   ],
   "source": [
    "monthly_reports"
   ]
  },
  {
   "cell_type": "markdown",
   "id": "99e9de85",
   "metadata": {},
   "source": [
    "### 탈퇴"
   ]
  },
  {
   "cell_type": "code",
   "execution_count": 325,
   "id": "1312b438",
   "metadata": {},
   "outputs": [
    {
     "data": {
      "text/html": [
       "<div>\n",
       "<style scoped>\n",
       "    .dataframe tbody tr th:only-of-type {\n",
       "        vertical-align: middle;\n",
       "    }\n",
       "\n",
       "    .dataframe tbody tr th {\n",
       "        vertical-align: top;\n",
       "    }\n",
       "\n",
       "    .dataframe thead th {\n",
       "        text-align: right;\n",
       "    }\n",
       "</style>\n",
       "<table border=\"1\" class=\"dataframe\">\n",
       "  <thead>\n",
       "    <tr style=\"text-align: right;\">\n",
       "      <th></th>\n",
       "      <th>id</th>\n",
       "      <th>reason</th>\n",
       "      <th>created_at</th>\n",
       "    </tr>\n",
       "  </thead>\n",
       "  <tbody>\n",
       "    <tr>\n",
       "      <th>0</th>\n",
       "      <td>42</td>\n",
       "      <td>재밌는 질문이 없어서</td>\n",
       "      <td>2023-03-29 13:22:12</td>\n",
       "    </tr>\n",
       "    <tr>\n",
       "      <th>1</th>\n",
       "      <td>43</td>\n",
       "      <td>함께 할 친구가 없어서</td>\n",
       "      <td>2023-03-29 13:24:59</td>\n",
       "    </tr>\n",
       "    <tr>\n",
       "      <th>2</th>\n",
       "      <td>44</td>\n",
       "      <td>함께 할 친구가 없어서</td>\n",
       "      <td>2023-03-29 13:53:32</td>\n",
       "    </tr>\n",
       "    <tr>\n",
       "      <th>3</th>\n",
       "      <td>45</td>\n",
       "      <td>함께 할 친구가 없어서</td>\n",
       "      <td>2023-03-29 13:54:03</td>\n",
       "    </tr>\n",
       "    <tr>\n",
       "      <th>4</th>\n",
       "      <td>46</td>\n",
       "      <td>재밌는 질문이 없어서</td>\n",
       "      <td>2023-03-30 00:31:19</td>\n",
       "    </tr>\n",
       "  </tbody>\n",
       "</table>\n",
       "</div>"
      ],
      "text/plain": [
       "   id        reason          created_at\n",
       "0  42   재밌는 질문이 없어서 2023-03-29 13:22:12\n",
       "1  43  함께 할 친구가 없어서 2023-03-29 13:24:59\n",
       "2  44  함께 할 친구가 없어서 2023-03-29 13:53:32\n",
       "3  45  함께 할 친구가 없어서 2023-03-29 13:54:03\n",
       "4  46   재밌는 질문이 없어서 2023-03-30 00:31:19"
      ]
     },
     "execution_count": 325,
     "metadata": {},
     "output_type": "execute_result"
    }
   ],
   "source": [
    "# accounts_userwithdraw\n",
    "accounts_userwithdraw = \"gs://codeit-project/votes/accounts_userwithdraw.parquet\" \n",
    "\n",
    "# GCP 키 경로\n",
    "key_path = \"config/key.json\"\n",
    "\n",
    "# 데이터 불러오기\n",
    "accounts_userwithdraw = pd.read_parquet(accounts_userwithdraw, storage_options={\"token\": key_path})\n",
    "\n",
    "# 확인\n",
    "accounts_userwithdraw.head()"
   ]
  },
  {
   "cell_type": "code",
   "execution_count": 326,
   "id": "1fceb8fe",
   "metadata": {},
   "outputs": [
    {
     "data": {
      "text/plain": [
       "70764"
      ]
     },
     "execution_count": 326,
     "metadata": {},
     "output_type": "execute_result"
    }
   ],
   "source": [
    "len(accounts_userwithdraw)"
   ]
  },
  {
   "cell_type": "code",
   "execution_count": 327,
   "id": "4e1eda71",
   "metadata": {},
   "outputs": [
    {
     "data": {
      "image/png": "[encoded data removed]",
      "text/plain": [
       "<Figure size 1000x500 with 1 Axes>"
      ]
     },
     "metadata": {},
     "output_type": "display_data"
    }
   ],
   "source": [
    "# 연-월 컬럼 생성\n",
    "accounts_userwithdraw['year_month'] = accounts_userwithdraw['created_at'].dt.to_period('M').astype(str)\n",
    "\n",
    "# 월별 탈퇴자 수 집계\n",
    "monthly_withdraw_count = accounts_userwithdraw['year_month'].value_counts().sort_index()\n",
    "\n",
    "# 시각화\n",
    "plt.figure(figsize=(10, 5))\n",
    "monthly_withdraw_count.plot(kind='bar', color='tomato')\n",
    "plt.title('withdrawn users')\n",
    "plt.xlabel('Y-M')\n",
    "plt.ylabel('withdrawn users')\n",
    "plt.xticks(rotation=45)\n",
    "plt.tight_layout()\n",
    "plt.show()"
   ]
  },
  {
   "cell_type": "code",
   "execution_count": 328,
   "id": "0a53107f",
   "metadata": {},
   "outputs": [
    {
     "data": {
      "text/plain": [
       "year_month\n",
       "2023-03       17\n",
       "2023-04     2397\n",
       "2023-05    44845\n",
       "2023-06     9642\n",
       "2023-07     4811\n",
       "2023-08     2310\n",
       "2023-09     2450\n",
       "2023-10     1164\n",
       "2023-11      837\n",
       "2023-12      693\n",
       "2024-01      697\n",
       "2024-02      319\n",
       "2024-03      250\n",
       "2024-04      240\n",
       "2024-05       92\n",
       "Name: count, dtype: int64"
      ]
     },
     "execution_count": 328,
     "metadata": {},
     "output_type": "execute_result"
    }
   ],
   "source": [
    "monthly_withdraw_count"
   ]
  },
  {
   "cell_type": "markdown",
   "id": "1fcc0636",
   "metadata": {},
   "source": [
    "# "
   ]
  }
 ],
 "metadata": {
  "kernelspec": {
   "display_name": "Python 3 (ipykernel)",
   "language": "python",
   "name": "python3"
  },
  "language_info": {
   "codemirror_mode": {
    "name": "ipython",
    "version": 3
   },
   "file_extension": ".py",
   "mimetype": "text/x-python",
   "name": "python",
   "nbconvert_exporter": "python",
   "pygments_lexer": "ipython3",
   "version": "3.11.12"
  }
 },
 "nbformat": 4,
 "nbformat_minor": 5
}
