{
 "cells": [
  {
   "cell_type": "code",
   "execution_count": 1,
   "id": "be1219a5",
   "metadata": {},
   "outputs": [],
   "source": [
    "import matplotlib.pyplot as plt\n",
    "import matplotlib.font_manager as fm\n",
    "import pandas as pd\n",
    "import seaborn as sns\n",
    "\n",
    "\n",
    "\n",
    "# 폰트 경로를 직접 지정\n",
    "font_path = '/usr/share/fonts/truetype/nanum/NanumGothic.ttf'\n",
    "fontprop = fm.FontProperties(fname=font_path)"
   ]
  },
  {
   "cell_type": "code",
   "execution_count": 1,
   "id": "adff2efc",
   "metadata": {},
   "outputs": [
    {
     "ename": "",
     "evalue": "",
     "output_type": "error",
     "traceback": [
      "\u001b[1;31mThe Kernel crashed while executing code in the current cell or a previous cell. \n",
      "\u001b[1;31mPlease review the code in the cell(s) to identify a possible cause of the failure. \n",
      "\u001b[1;31mClick <a href='https://aka.ms/vscodeJupyterKernelCrash'>here</a> for more info. \n",
      "\u001b[1;31mView Jupyter <a href='command:jupyter.viewOutput'>log</a> for further details."
     ]
    },
    {
     "ename": "",
     "evalue": "",
     "output_type": "error",
     "traceback": [
      "\u001b[1;31mCanceled future for execute_request message before replies were done"
     ]
    },
    {
     "ename": "",
     "evalue": "",
     "output_type": "error",
     "traceback": [
      "\u001b[1;31mCanceled future for execute_request message before replies were done. \n",
      "\u001b[1;31mView Jupyter <a href='command:jupyter.viewOutput'>log</a> for further details."
     ]
    }
   ],
   "source": [
    "import pandas as pd\n",
    "\n",
    "# GCS 파일 경로\n",
    "gcs_path = 'gs://hq-project/2023-05-18-006.json'\n",
    "# 예시: gs://codeit-project/hackle/hackle_events.parquet\n",
    "\n",
    "# GCP 키 경로\n",
    "key_path = \"config/key.json\"\n",
    "\n",
    "# 데이터 불러오기\n",
    "df = pd.read_json(gcs_path, storage_options={\"token\": key_path})\n",
    "# path_timelinereport = \"gs://hq-project/votes/accounts_timelinereport.parquet\"\n",
    "# 확인\n",
    "df.head()\n"
   ]
  },
  {
   "cell_type": "code",
   "execution_count": null,
   "id": "ffb4ef5c",
   "metadata": {},
   "outputs": [],
   "source": [
    "# 주요 정보 추출\n",
    "df_simple = df.copy()\n",
    "\n",
    "# 딕셔너리 → Series로 분해 (중요한 컬럼만)\n",
    "df_simple['language'] = df_simple['hackle_properties'].apply(lambda x: x.get('language'))\n",
    "df_simple['devicemodel'] = df_simple['hackle_properties'].apply(lambda x: x.get('devicemodel'))\n",
    "df_simple['sessionid'] = df_simple['event_properties'].apply(lambda x: x.get('sessionid'))\n",
    "\n",
    "\n",
    "# 1. UTC 기준으로 파싱\n",
    "df_simple['event_datetime'] = pd.to_datetime(df_simple['Asia/Seoul'], utc=True)\n",
    "\n",
    "# 2. 한국시간(Asia/Seoul)으로 타임존 변환\n",
    "df_simple['event_datetime'] = df_simple['event_datetime'].dt.tz_convert('Asia/Seoul')\n",
    "df_simple['event_datetime'] = df_simple['event_datetime'].dt.strftime('%Y-%m-%d %H:%M:%S')\n",
    "\n",
    "# 최종 확인용 컬럼만 선택\n",
    "df_simple = df_simple[['event_datetime','session_id','device_id', 'event_key', 'devicemodel', 'language']]"
   ]
  }
 ],
 "metadata": {
  "kernelspec": {
   "display_name": "Python 3 (ipykernel)",
   "language": "python",
   "name": "python3"
  },
  "language_info": {
   "codemirror_mode": {
    "name": "ipython",
    "version": 3
   },
   "file_extension": ".py",
   "mimetype": "text/x-python",
   "name": "python",
   "nbconvert_exporter": "python",
   "pygments_lexer": "ipython3",
   "version": "3.11.12"
  }
 },
 "nbformat": 4,
 "nbformat_minor": 5
}
